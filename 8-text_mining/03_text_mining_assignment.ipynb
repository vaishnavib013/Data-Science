{
 "cells": [
  {
   "cell_type": "code",
   "execution_count": 13,
   "id": "7b952d1e-d5a0-489e-b1c0-fadf6f62de12",
   "metadata": {},
   "outputs": [],
   "source": [
    "from bs4 import BeautifulSoup as bs\n",
    "import requests"
   ]
  },
  {
   "cell_type": "code",
   "execution_count": 14,
   "id": "f4f61c2a-d880-4a37-b25d-1f1713cfe042",
   "metadata": {},
   "outputs": [],
   "source": [
    "url=\"https://www.imdb.com/title/tt6455162/reviews/?ref_=tt_urv\"\n"
   ]
  },
  {
   "cell_type": "code",
   "execution_count": 16,
   "id": "a311b048-e2d4-4eb2-9a92-f51db8350a58",
   "metadata": {},
   "outputs": [
    {
     "data": {
      "text/plain": [
       "<Response [403]>"
      ]
     },
     "execution_count": 16,
     "metadata": {},
     "output_type": "execute_result"
    }
   ],
   "source": [
    "page = requests.get(url)\n",
    "page#if 200 then we gets the peromission as granted"
   ]
  },
  {
   "cell_type": "code",
   "execution_count": 20,
   "id": "307249e6-c085-4102-b4ac-f55a0682d44c",
   "metadata": {},
   "outputs": [
    {
     "name": "stdout",
     "output_type": "stream",
     "text": [
      "<html>\n",
      " <head>\n",
      "  <title>\n",
      "   403 Forbidden\n",
      "  </title>\n",
      " </head>\n",
      " <body>\n",
      "  <center>\n",
      "   <h1>\n",
      "    403 Forbidden\n",
      "   </h1>\n",
      "  </center>\n",
      " </body>\n",
      "</html>\n",
      "\n"
     ]
    }
   ],
   "source": [
    "soup =bs(page.content,'html.parser')\n",
    "print(soup.prettify())"
   ]
  },
  {
   "cell_type": "code",
   "execution_count": 26,
   "id": "f6cb0c7d-df66-431d-86fe-670eec9e36c5",
   "metadata": {},
   "outputs": [
    {
     "name": "stdout",
     "output_type": "stream",
     "text": [
      "[]\n"
     ]
    },
    {
     "data": {
      "text/plain": [
       "0"
      ]
     },
     "execution_count": 26,
     "metadata": {},
     "output_type": "execute_result"
    }
   ],
   "source": [
    "title1=soup.find_all(\"span\",class_=\"sc-e1c225f3-7 hwFAtr\")\n",
    "print(title1)\n",
    "\n",
    "title=soup.find_all('a',class_=\"title\")\n",
    "title\n",
    "len(title)"
   ]
  },
  {
   "cell_type": "code",
   "execution_count": 27,
   "id": "e6503c41-7a70-40c6-bb62-8edebd7d8d8b",
   "metadata": {},
   "outputs": [
    {
     "data": {
      "text/plain": [
       "0"
      ]
     },
     "execution_count": 27,
     "metadata": {},
     "output_type": "execute_result"
    }
   ],
   "source": [
    "review_title=[]\n",
    "for i in range(0,len(title)):\n",
    "    review_title.append(title[i].get_text())\n",
    "review_title\n",
    "len(review_title)"
   ]
  },
  {
   "cell_type": "code",
   "execution_count": 25,
   "id": "d7b873f0-f676-4ac7-925d-53ea5d6017fb",
   "metadata": {},
   "outputs": [
    {
     "name": "stdout",
     "output_type": "stream",
     "text": [
      "[]\n"
     ]
    },
    {
     "data": {
      "text/plain": [
       "0"
      ]
     },
     "execution_count": 25,
     "metadata": {},
     "output_type": "execute_result"
    }
   ],
   "source": [
    "review_title[:]=[title.strip('\\n') for title in review_title]\n",
    "print(review_title)\n",
    "len(review_title)"
   ]
  },
  {
   "cell_type": "code",
   "execution_count": 28,
   "id": "3cedba25-3d18-49dc-a0e5-52e78195c7d5",
   "metadata": {},
   "outputs": [
    {
     "data": {
      "text/plain": [
       "0"
      ]
     },
     "execution_count": 28,
     "metadata": {},
     "output_type": "execute_result"
    }
   ],
   "source": [
    "review_title[:]=[title.strip('\\n') for title in review_title]\n",
    "review_title\n",
    "len(review_title)\n"
   ]
  },
  {
   "cell_type": "code",
   "execution_count": 29,
   "id": "abd55553-5e32-420c-bb36-4d3739698c23",
   "metadata": {},
   "outputs": [
    {
     "data": {
      "text/plain": [
       "[]"
      ]
     },
     "execution_count": 29,
     "metadata": {},
     "output_type": "execute_result"
    }
   ],
   "source": [
    "rating=soup.find_all('span',class_='point-scale')\n",
    "rating"
   ]
  },
  {
   "cell_type": "code",
   "execution_count": 30,
   "id": "b768003a-09dd-43a8-862d-c2bacd35ab98",
   "metadata": {},
   "outputs": [
    {
     "data": {
      "text/plain": [
       "[]"
      ]
     },
     "execution_count": 30,
     "metadata": {},
     "output_type": "execute_result"
    }
   ],
   "source": [
    "rate=[]\n",
    "for i in range(0,len(rating)):\n",
    "    rate.append(rating[i].get_text())\n",
    "rate"
   ]
  },
  {
   "cell_type": "code",
   "execution_count": 31,
   "id": "d264d87b-3fdb-44d8-a947-3941d14890a8",
   "metadata": {},
   "outputs": [
    {
     "data": {
      "text/plain": [
       "0"
      ]
     },
     "execution_count": 31,
     "metadata": {},
     "output_type": "execute_result"
    }
   ],
   "source": [
    "rate[:]=[r.strip('/') for r in rate]\n",
    "rate\n",
    "len(rate)"
   ]
  },
  {
   "cell_type": "code",
   "execution_count": 32,
   "id": "12786ca0-9561-46ec-b6c0-4ee97389f1b2",
   "metadata": {},
   "outputs": [],
   "source": [
    "review=soup.find_all('div',class_='text')\n",
    "review\n",
    "review_body=[]"
   ]
  },
  {
   "cell_type": "code",
   "execution_count": 33,
   "id": "9ccff5e6-6a6c-454b-b4c6-b8865336ac6d",
   "metadata": {},
   "outputs": [
    {
     "data": {
      "text/plain": [
       "0"
      ]
     },
     "execution_count": 33,
     "metadata": {},
     "output_type": "execute_result"
    }
   ],
   "source": [
    "for i in range(0,len(review)):\n",
    "    review_body.append(review[i].get_text())\n",
    "review_body\n",
    "len(review_body)"
   ]
  },
  {
   "cell_type": "code",
   "execution_count": 34,
   "id": "ebb19f5a-e0b1-46cd-9678-1a4577980d30",
   "metadata": {},
   "outputs": [
    {
     "data": {
      "text/html": [
       "<div>\n",
       "<style scoped>\n",
       "    .dataframe tbody tr th:only-of-type {\n",
       "        vertical-align: middle;\n",
       "    }\n",
       "\n",
       "    .dataframe tbody tr th {\n",
       "        vertical-align: top;\n",
       "    }\n",
       "\n",
       "    .dataframe thead th {\n",
       "        text-align: right;\n",
       "    }\n",
       "</style>\n",
       "<table border=\"1\" class=\"dataframe\">\n",
       "  <thead>\n",
       "    <tr style=\"text-align: right;\">\n",
       "      <th></th>\n",
       "      <th>Review_Title</th>\n",
       "      <th>Rate</th>\n",
       "      <th>Review</th>\n",
       "    </tr>\n",
       "  </thead>\n",
       "  <tbody>\n",
       "  </tbody>\n",
       "</table>\n",
       "</div>"
      ],
      "text/plain": [
       "Empty DataFrame\n",
       "Columns: [Review_Title, Rate, Review]\n",
       "Index: []"
      ]
     },
     "execution_count": 34,
     "metadata": {},
     "output_type": "execute_result"
    }
   ],
   "source": [
    "import pandas as pd\n",
    "df=pd.DataFrame()\n",
    "df['Review_Title']=review_title\n",
    "df['Rate']=rate\n",
    "df['Review']=review_body\n",
    "df"
   ]
  },
  {
   "cell_type": "code",
   "execution_count": 35,
   "id": "602f8b35-f61b-453c-b39b-2aa6626ecf47",
   "metadata": {},
   "outputs": [],
   "source": [
    "df.to_csv('C:/8-text_mining/GodFather_reviews.csv')\n"
   ]
  },
  {
   "cell_type": "code",
   "execution_count": 36,
   "id": "7f681bdc-8202-491b-b691-652eebfb6a81",
   "metadata": {},
   "outputs": [
    {
     "data": {
      "text/plain": [
       "1.0"
      ]
     },
     "execution_count": 36,
     "metadata": {},
     "output_type": "execute_result"
    }
   ],
   "source": [
    "#sentiment analysis\n",
    "import pandas as pd\n",
    "from textblob import TextBlob\n",
    "sent=\"This is very excellent garden\"\n",
    "pol=TextBlob(sent).sentiment.polarity\n",
    "pol"
   ]
  },
  {
   "cell_type": "code",
   "execution_count": 38,
   "id": "73ee68c4-ff07-4eee-b192-266f78de99a3",
   "metadata": {},
   "outputs": [
    {
     "data": {
      "text/plain": [
       "Series([], Name: polarity, dtype: float64)"
      ]
     },
     "execution_count": 38,
     "metadata": {},
     "output_type": "execute_result"
    }
   ],
   "source": [
    "\n",
    "df['polarity']=df['Review'].apply(lambda x:TextBlob(str(x)).sentiment.polarity)\n",
    "df['polarity']"
   ]
  },
  {
   "cell_type": "code",
   "execution_count": null,
   "id": "5256a3c7-3d02-4a07-a3b9-e57c2eaeb97a",
   "metadata": {},
   "outputs": [],
   "source": []
  }
 ],
 "metadata": {
  "kernelspec": {
   "display_name": "Python 3 (ipykernel)",
   "language": "python",
   "name": "python3"
  },
  "language_info": {
   "codemirror_mode": {
    "name": "ipython",
    "version": 3
   },
   "file_extension": ".py",
   "mimetype": "text/x-python",
   "name": "python",
   "nbconvert_exporter": "python",
   "pygments_lexer": "ipython3",
   "version": "3.11.7"
  }
 },
 "nbformat": 4,
 "nbformat_minor": 5
}
