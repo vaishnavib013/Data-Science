{
 "cells": [
  {
   "cell_type": "code",
   "execution_count": 1,
   "id": "a24a0b6b-32d6-470f-af2e-ab675a2204db",
   "metadata": {},
   "outputs": [],
   "source": [
    "#pip install -U spacy(preferrable use this)\n",
    "#conda install -c conda-forge spacy"
   ]
  },
  {
   "cell_type": "code",
   "execution_count": null,
   "id": "6b4f6920-050f-4828-83f6-5ecfe2b263d0",
   "metadata": {},
   "outputs": [],
   "source": [
    "#https://spacy"
   ]
  }
 ],
 "metadata": {
  "kernelspec": {
   "display_name": "Python 3 (ipykernel)",
   "language": "python",
   "name": "python3"
  },
  "language_info": {
   "codemirror_mode": {
    "name": "ipython",
    "version": 3
   },
   "file_extension": ".py",
   "mimetype": "text/x-python",
   "name": "python",
   "nbconvert_exporter": "python",
   "pygments_lexer": "ipython3",
   "version": "3.11.7"
  }
 },
 "nbformat": 4,
 "nbformat_minor": 5
}
