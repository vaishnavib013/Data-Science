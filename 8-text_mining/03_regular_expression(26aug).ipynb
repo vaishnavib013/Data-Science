{
 "cells": [
  {
   "cell_type": "code",
   "execution_count": 34,
   "id": "e662ea60-27fb-48c1-957f-cc4b3979d25d",
   "metadata": {},
   "outputs": [],
   "source": [
    "text=\"The agent's phone number is 408-555-1234.Call soon!\""
   ]
  },
  {
   "cell_type": "markdown",
   "id": "d392d13e-e162-472c-9f78-11294d8f7a4b",
   "metadata": {},
   "source": [
    "we will start by searching the string \"phone\" is inside the string present or not"
   ]
  },
  {
   "cell_type": "code",
   "execution_count": 35,
   "id": "c189e0ff-d999-40bd-8221-badbfb73c71b",
   "metadata": {},
   "outputs": [
    {
     "data": {
      "text/plain": [
       "True"
      ]
     },
     "execution_count": 35,
     "metadata": {},
     "output_type": "execute_result"
    }
   ],
   "source": [
    "'phone' in text"
   ]
  },
  {
   "cell_type": "code",
   "execution_count": 36,
   "id": "9c106650-5ffe-4ff6-bf29-772c92a67936",
   "metadata": {},
   "outputs": [],
   "source": [
    "import re"
   ]
  },
  {
   "cell_type": "code",
   "execution_count": 37,
   "id": "98367eb5-2068-41ec-89e9-cf1738b62528",
   "metadata": {},
   "outputs": [],
   "source": [
    "pattern='phone'"
   ]
  },
  {
   "cell_type": "code",
   "execution_count": 38,
   "id": "7bb89c81-2940-409a-90ef-8b09c63e62de",
   "metadata": {},
   "outputs": [
    {
     "data": {
      "text/plain": [
       "<re.Match object; span=(12, 17), match='phone'>"
      ]
     },
     "execution_count": 38,
     "metadata": {},
     "output_type": "execute_result"
    }
   ],
   "source": [
    "re.search(pattern,text)#here we get the span of word phone ie at which index it started and which index it ended that is the span"
   ]
  },
  {
   "cell_type": "markdown",
   "id": "625b7771-6267-499b-b091-c39e12f4155d",
   "metadata": {},
   "source": [
    "re.search(),will take the pattern,scan the pattern and returns a match object.If no pattern is found ,a None is returned \n",
    "lets take a closer look at match the object"
   ]
  },
  {
   "cell_type": "code",
   "execution_count": 39,
   "id": "0d3bc1f4-5bf4-46c7-a897-1c9c09eabf88",
   "metadata": {},
   "outputs": [],
   "source": [
    "pattern=\"NOT IN TEXT\"#if any pattern is not present in the given text then it wont return error it will simply not give the output"
   ]
  },
  {
   "cell_type": "code",
   "execution_count": 40,
   "id": "70facd18-eca5-4d95-83e2-01b5685d1cbb",
   "metadata": {},
   "outputs": [],
   "source": [
    "re.search(pattern,text)"
   ]
  },
  {
   "cell_type": "code",
   "execution_count": 41,
   "id": "2abc9a52-20e9-472a-86ef-b0445a47373e",
   "metadata": {},
   "outputs": [],
   "source": [
    "pattern='phone'"
   ]
  },
  {
   "cell_type": "code",
   "execution_count": 42,
   "id": "75e63230-9583-48fd-93d0-7225d8efec89",
   "metadata": {},
   "outputs": [],
   "source": [
    "match=re.search(pattern,text)"
   ]
  },
  {
   "cell_type": "code",
   "execution_count": 43,
   "id": "1277c8e9-4c83-4e19-8707-49f40d0cf3f0",
   "metadata": {},
   "outputs": [
    {
     "data": {
      "text/plain": [
       "(12, 17)"
      ]
     },
     "execution_count": 43,
     "metadata": {},
     "output_type": "execute_result"
    }
   ],
   "source": [
    "match.span()"
   ]
  },
  {
   "cell_type": "code",
   "execution_count": 46,
   "id": "44c8684c-76e6-4b1d-bfdf-de74ec02aba6",
   "metadata": {},
   "outputs": [
    {
     "data": {
      "text/plain": [
       "12"
      ]
     },
     "execution_count": 46,
     "metadata": {},
     "output_type": "execute_result"
    }
   ],
   "source": [
    "match.start()#it returns the start of the span"
   ]
  },
  {
   "cell_type": "code",
   "execution_count": 47,
   "id": "5f4ae841-198a-437b-b7d7-36261f64c699",
   "metadata": {},
   "outputs": [
    {
     "data": {
      "text/plain": [
       "17"
      ]
     },
     "execution_count": 47,
     "metadata": {},
     "output_type": "execute_result"
    }
   ],
   "source": [
    "match.end()#it returns the end of matches"
   ]
  },
  {
   "cell_type": "code",
   "execution_count": 51,
   "id": "743a056a-ba74-4210-b97f-5d92bf912181",
   "metadata": {},
   "outputs": [],
   "source": [
    "text=\"my phone is a new phone\""
   ]
  },
  {
   "cell_type": "code",
   "execution_count": 52,
   "id": "2c8168d4-4f2d-4695-97b0-cb591ae63358",
   "metadata": {},
   "outputs": [],
   "source": [
    "match=re.search(pattern,text)"
   ]
  },
  {
   "cell_type": "code",
   "execution_count": 53,
   "id": "8cae8bfb-67a9-4700-8a85-d5409464ae57",
   "metadata": {},
   "outputs": [
    {
     "data": {
      "text/plain": [
       "(3, 8)"
      ]
     },
     "execution_count": 53,
     "metadata": {},
     "output_type": "execute_result"
    }
   ],
   "source": [
    "match.span()#it givens 1st instance only"
   ]
  },
  {
   "cell_type": "code",
   "execution_count": 54,
   "id": "12d518c2-3be8-43d8-94c9-574e32c97816",
   "metadata": {},
   "outputs": [],
   "source": [
    "#to get all the instances we used findall\n",
    "matches=re.findall(pattern,text)"
   ]
  },
  {
   "cell_type": "code",
   "execution_count": 55,
   "id": "d0e52474-117f-4142-a560-7ee4a60ba554",
   "metadata": {},
   "outputs": [
    {
     "data": {
      "text/plain": [
       "['phone', 'phone']"
      ]
     },
     "execution_count": 55,
     "metadata": {},
     "output_type": "execute_result"
    }
   ],
   "source": [
    "matches"
   ]
  },
  {
   "cell_type": "code",
   "execution_count": 56,
   "id": "28184269-5c0c-421a-b2a9-53b94df7ceea",
   "metadata": {},
   "outputs": [
    {
     "data": {
      "text/plain": [
       "2"
      ]
     },
     "execution_count": 56,
     "metadata": {},
     "output_type": "execute_result"
    }
   ],
   "source": [
    "len(matches)#it returns how many elements are there which matches the pattern"
   ]
  },
  {
   "cell_type": "code",
   "execution_count": 57,
   "id": "31bf5ddc-c867-455e-91d5-4b2cfffd1044",
   "metadata": {},
   "outputs": [],
   "source": [
    "#to get the actual match object use the iterator:"
   ]
  },
  {
   "cell_type": "code",
   "execution_count": 59,
   "id": "e19d6ed0-2361-41b8-98cd-1881d5b9f083",
   "metadata": {},
   "outputs": [
    {
     "name": "stdout",
     "output_type": "stream",
     "text": [
      "(3, 8)\n",
      "(18, 23)\n"
     ]
    }
   ],
   "source": [
    "for match in re.finditer(\"phone\",text):\n",
    "    print(match.span())\n",
    "    #so this will return the span of both the matches "
   ]
  },
  {
   "cell_type": "code",
   "execution_count": 61,
   "id": "1ead83fb-cbc2-4fbf-8814-cd645bb11264",
   "metadata": {},
   "outputs": [
    {
     "data": {
      "text/plain": [
       "'phone'"
      ]
     },
     "execution_count": 61,
     "metadata": {},
     "output_type": "execute_result"
    }
   ],
   "source": [
    "match.group()#it returns the mode of the match variable ie whichever word have occured maximum times it will return that word"
   ]
  },
  {
   "cell_type": "code",
   "execution_count": 62,
   "id": "2476f749-7e1f-4e34-8d92-e93990ad7df6",
   "metadata": {},
   "outputs": [],
   "source": [
    "text=\"My telephone number is 408-555-1234\""
   ]
  },
  {
   "cell_type": "code",
   "execution_count": 64,
   "id": "338b5efa-e225-4e17-a0c6-cce086d7f4e9",
   "metadata": {},
   "outputs": [],
   "source": [
    "phone=re.search(r'\\d\\d\\d-\\d\\d\\d-\\d\\d\\d\\d',text)"
   ]
  },
  {
   "cell_type": "code",
   "execution_count": 65,
   "id": "29547e51-c1c2-4d9f-b6bc-f3c63cb9adee",
   "metadata": {},
   "outputs": [
    {
     "data": {
      "text/plain": [
       "<re.Match object; span=(23, 35), match='408-555-1234'>"
      ]
     },
     "execution_count": 65,
     "metadata": {},
     "output_type": "execute_result"
    }
   ],
   "source": [
    "phone"
   ]
  },
  {
   "cell_type": "code",
   "execution_count": 66,
   "id": "dad23d74-3ca1-418b-ab70-1b4dcee0db40",
   "metadata": {},
   "outputs": [
    {
     "data": {
      "text/plain": [
       "'408-555-1234'"
      ]
     },
     "execution_count": 66,
     "metadata": {},
     "output_type": "execute_result"
    }
   ],
   "source": [
    "phone.group()"
   ]
  },
  {
   "cell_type": "code",
   "execution_count": 67,
   "id": "ae1cc5bc-3190-4511-9188-4867c37a5d04",
   "metadata": {},
   "outputs": [
    {
     "data": {
      "text/plain": [
       "<re.Match object; span=(23, 35), match='408-555-1234'>"
      ]
     },
     "execution_count": 67,
     "metadata": {},
     "output_type": "execute_result"
    }
   ],
   "source": [
    "re.search(r'\\d{3}-\\d{3}-\\d{4}',text)"
   ]
  },
  {
   "cell_type": "code",
   "execution_count": 68,
   "id": "79d3d6e5-a288-4358-9fd4-5475c3327d2c",
   "metadata": {},
   "outputs": [],
   "source": [
    "phone_pattern=re.compile(r'(\\d{3})-(\\d{3})-(\\d{4})')"
   ]
  },
  {
   "cell_type": "code",
   "execution_count": 70,
   "id": "89786f15-e9df-4e9c-9c3f-6bab2eddfc56",
   "metadata": {},
   "outputs": [],
   "source": [
    "result=re.search(phone_pattern,text)"
   ]
  },
  {
   "cell_type": "code",
   "execution_count": 74,
   "id": "b1943fef-ae8a-4e1d-b86d-fb1f0f55ceaf",
   "metadata": {},
   "outputs": [
    {
     "data": {
      "text/plain": [
       "'408-555-1234'"
      ]
     },
     "execution_count": 74,
     "metadata": {},
     "output_type": "execute_result"
    }
   ],
   "source": [
    "result.group()#so using the group we will get the output grouping them"
   ]
  },
  {
   "cell_type": "code",
   "execution_count": 77,
   "id": "a76d8d15-9e31-4fe0-b552-54fc124dc319",
   "metadata": {},
   "outputs": [
    {
     "data": {
      "text/plain": [
       "'408'"
      ]
     },
     "execution_count": 77,
     "metadata": {},
     "output_type": "execute_result"
    }
   ],
   "source": [
    "result.group(1)#so it will only return the 1st part of the phonenumber as we grouped them so 1st position will be only returned"
   ]
  },
  {
   "cell_type": "code",
   "execution_count": 78,
   "id": "f8405a66-0625-4996-8087-fc10553c87d7",
   "metadata": {},
   "outputs": [
    {
     "data": {
      "text/plain": [
       "<re.Match object; span=(23, 35), match='408-555-1234'>"
      ]
     },
     "execution_count": 78,
     "metadata": {},
     "output_type": "execute_result"
    }
   ],
   "source": [
    "result"
   ]
  },
  {
   "cell_type": "code",
   "execution_count": 79,
   "id": "093ef800-396d-4970-a8d7-9d465fde1445",
   "metadata": {},
   "outputs": [
    {
     "data": {
      "text/plain": [
       "'555'"
      ]
     },
     "execution_count": 79,
     "metadata": {},
     "output_type": "execute_result"
    }
   ],
   "source": [
    "result.group(2)"
   ]
  },
  {
   "cell_type": "code",
   "execution_count": 80,
   "id": "ebca2eee-b511-47b2-89e5-e4d277efa512",
   "metadata": {},
   "outputs": [
    {
     "data": {
      "text/plain": [
       "'1234'"
      ]
     },
     "execution_count": 80,
     "metadata": {},
     "output_type": "execute_result"
    }
   ],
   "source": [
    "result.group(3)"
   ]
  },
  {
   "cell_type": "code",
   "execution_count": 81,
   "id": "241cba85-6453-4f2e-ac50-cd72ec600395",
   "metadata": {},
   "outputs": [],
   "source": [
    "#OR operator \"|\" use the pipe operator to have an or statement .for eg:"
   ]
  },
  {
   "cell_type": "code",
   "execution_count": 84,
   "id": "b3411967-1939-432d-a5b3-920757841f4a",
   "metadata": {},
   "outputs": [
    {
     "data": {
      "text/plain": [
       "<re.Match object; span=(5, 8), match='man'>"
      ]
     },
     "execution_count": 84,
     "metadata": {},
     "output_type": "execute_result"
    }
   ],
   "source": [
    "re.search(r\"man|women\",\"This man was there\")"
   ]
  },
  {
   "cell_type": "code",
   "execution_count": 85,
   "id": "c4b9fb7e-0acb-4b05-81b5-ef8534afd7ff",
   "metadata": {},
   "outputs": [
    {
     "data": {
      "text/plain": [
       "<re.Match object; span=(5, 10), match='women'>"
      ]
     },
     "execution_count": 85,
     "metadata": {},
     "output_type": "execute_result"
    }
   ],
   "source": [
    "re.search(r\"man|women\",\"This women was there\")"
   ]
  },
  {
   "cell_type": "markdown",
   "id": "f7e92caa-4e33-4ce3-89b7-b29ed2ad575b",
   "metadata": {},
   "source": [
    "THe wildcard character use a wildcard as a placment that will matxh any character placed there .You can use a simple period."
   ]
  },
  {
   "cell_type": "code",
   "execution_count": 88,
   "id": "aad40b8d-f717-4932-b1a8-b4c0435da737",
   "metadata": {},
   "outputs": [
    {
     "data": {
      "text/plain": [
       "['cat', 'hat', 'sat']"
      ]
     },
     "execution_count": 88,
     "metadata": {},
     "output_type": "execute_result"
    }
   ],
   "source": [
    "re.findall(r\".at\",\"The cat in the hat sat here\")#so here \" . \"is used to get 1 character having at before letter"
   ]
  },
  {
   "cell_type": "code",
   "execution_count": 87,
   "id": "b7bea4e5-a69f-42b4-8db8-19074c51263a",
   "metadata": {},
   "outputs": [
    {
     "data": {
      "text/plain": [
       "['bat', 'lat']"
      ]
     },
     "execution_count": 87,
     "metadata": {},
     "output_type": "execute_result"
    }
   ],
   "source": [
    "re.findall(r\".at\",\"The bat went splat\")"
   ]
  },
  {
   "cell_type": "markdown",
   "id": "ab0b817f-4f7c-4450-bc09-1ddb8b05a1fc",
   "metadata": {},
   "source": [
    "notice how we only matched the 1st 3 letters ,that is because we need a . for each wiildcard letter,or use the quantifiers described above to set its own rules"
   ]
  },
  {
   "cell_type": "code",
   "execution_count": 90,
   "id": "0e63697b-17d1-4350-8683-055be3c1684e",
   "metadata": {},
   "outputs": [
    {
     "data": {
      "text/plain": [
       "['e bat', 'splat']"
      ]
     },
     "execution_count": 90,
     "metadata": {},
     "output_type": "execute_result"
    }
   ],
   "source": [
    "re.findall(r\"...at\",\"The bat went splat\")"
   ]
  },
  {
   "cell_type": "code",
   "execution_count": 91,
   "id": "e0a890a7-5bff-4ff4-9a6f-5864790b375c",
   "metadata": {},
   "outputs": [
    {
     "data": {
      "text/plain": [
       "['bat', 'splat']"
      ]
     },
     "execution_count": 91,
     "metadata": {},
     "output_type": "execute_result"
    }
   ],
   "source": [
    "#to remove the whitespace between \"e bat\" use \\S+\n",
    "re.findall(r\"\\S+at\",\"The bat went splat\")"
   ]
  },
  {
   "cell_type": "code",
   "execution_count": null,
   "id": "01b192e2-e05d-41f8-b079-5de897dae663",
   "metadata": {},
   "outputs": [],
   "source": []
  }
 ],
 "metadata": {
  "kernelspec": {
   "display_name": "Python 3 (ipykernel)",
   "language": "python",
   "name": "python3"
  },
  "language_info": {
   "codemirror_mode": {
    "name": "ipython",
    "version": 3
   },
   "file_extension": ".py",
   "mimetype": "text/x-python",
   "name": "python",
   "nbconvert_exporter": "python",
   "pygments_lexer": "ipython3",
   "version": "3.11.7"
  }
 },
 "nbformat": 4,
 "nbformat_minor": 5
}
