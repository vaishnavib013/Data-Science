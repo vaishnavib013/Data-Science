{
 "cells": [
  {
   "cell_type": "code",
   "execution_count": 4,
   "id": "f2a2afb7-eb27-4f50-8128-2b54c6cfc862",
   "metadata": {},
   "outputs": [
    {
     "name": "stdout",
     "output_type": "stream",
     "text": [
      "His name is fred.\n",
      "His name is fred.\n"
     ]
    }
   ],
   "source": [
    "#file handling :as we need to extract to data from the audio video using this we will do that\n",
    "name=\"fred\"\n",
    "#using the old .format() method:\n",
    "print('His name is {var}.'.format(var=name))\n",
    "\n",
    "#using f-strings:\n",
    "print(f'His name is {name}.')"
   ]
  },
  {
   "cell_type": "markdown",
   "id": "94fd51d6-c374-42c7-875d-bf7d75540601",
   "metadata": {},
   "source": [
    "pass !r to get the string presentation"
   ]
  },
  {
   "cell_type": "code",
   "execution_count": 3,
   "id": "12232345-3e69-4d36-b70d-359ab15d5076",
   "metadata": {},
   "outputs": [
    {
     "name": "stdout",
     "output_type": "stream",
     "text": [
      "His name is 'fred'\n"
     ]
    }
   ],
   "source": [
    "print(f'His name is {name!r}')"
   ]
  },
  {
   "cell_type": "markdown",
   "id": "8f2a2ab6-4fb9-4cb5-952d-6d94aac894f1",
   "metadata": {},
   "source": [
    "Be careful not to let quotation marks in the replacement fields conflict with the quoting used in the outer string:"
   ]
  },
  {
   "cell_type": "code",
   "execution_count": 8,
   "id": "7c6c2b25-df15-44d7-881b-1c2453fa209b",
   "metadata": {},
   "outputs": [
    {
     "ename": "SyntaxError",
     "evalue": "f-string: unmatched '[' (1531699681.py, line 2)",
     "output_type": "error",
     "traceback": [
      "\u001b[1;36m  Cell \u001b[1;32mIn[8], line 2\u001b[1;36m\u001b[0m\n\u001b[1;33m    print(f'Address :{d['a']} Main street')\u001b[0m\n\u001b[1;37m                         ^\u001b[0m\n\u001b[1;31mSyntaxError\u001b[0m\u001b[1;31m:\u001b[0m f-string: unmatched '['\n"
     ]
    }
   ],
   "source": [
    "d={'a':123,'b':456}\n",
    "print(f'Address :{d['a']} Main street')\n",
    "#it is going to give error bcoz there double quotes should be there at outer side"
   ]
  },
  {
   "cell_type": "code",
   "execution_count": 9,
   "id": "caec6709-4994-48ec-9e0c-932165e6d289",
   "metadata": {},
   "outputs": [
    {
     "name": "stdout",
     "output_type": "stream",
     "text": [
      "Address :123 Main street\n"
     ]
    }
   ],
   "source": [
    "#instead,use different quotayion marks:\n",
    "\n",
    "d={'a':123,'b':456}\n",
    "print(f\"Address :{d['a']} Main street\")"
   ]
  },
  {
   "cell_type": "markdown",
   "id": "6b603afa-b457-4685-b37b-880da0043e2f",
   "metadata": {},
   "source": [
    "# Minimum Widths,Alignment and Padding\n",
    "You can pass arguments "
   ]
  },
  {
   "cell_type": "code",
   "execution_count": 1,
   "id": "a2ff2f14-e89f-455a-ba66-c1c1c2c8d4e1",
   "metadata": {},
   "outputs": [
    {
     "name": "stdout",
     "output_type": "stream",
     "text": [
      "Author     Topic    Pages  \n",
      "Twain      Rafting      601\n",
      "Feynman    Physics       95\n",
      "Hamilton   Mythology     144\n"
     ]
    }
   ],
   "source": [
    "library=[('Author','Topic','Pages'),\n",
    "         ('Twain','Rafting',601),\n",
    "         ('Feynman','Physics',95),\n",
    "         ('Hamilton','Mythology',144)]\n",
    "for book in library:\n",
    "    print(f'{book[0]:{10}} {book[1]:{8}} {book[2]:{7}}')\n",
    "    #book[0]:{10} is for the word index starting from 0 to max 10 will be the length of the book1 "
   ]
  },
  {
   "cell_type": "markdown",
   "id": "6bbc0e2f-78be-4175-a673-2a63a4ef9ce9",
   "metadata": {},
   "source": [
    "to set the alignment ,use the character < for left-align ,^ for center,> for right.\n",
    "To set padding ,precede the alignment character with the padding character(- and . are the common choices)"
   ]
  },
  {
   "cell_type": "code",
   "execution_count": 12,
   "id": "bac1d1a5-22fe-4542-9ef9-7e335d4afdc9",
   "metadata": {},
   "outputs": [
    {
     "name": "stdout",
     "output_type": "stream",
     "text": [
      "Author     Topic    ..Pages\n",
      "Twain      Rafting  ....601\n",
      "Feynman    Physics  .....95\n",
      "Hamilton   Mythology ....144\n"
     ]
    }
   ],
   "source": [
    "library=[('Author','Topic','Pages'),\n",
    "         ('Twain','Rafting',601),\n",
    "         ('Feynman','Physics',95),\n",
    "         ('Hamilton','Mythology',144)]\n",
    "for book in library:\n",
    "    print(f'{book[0]:{10}} {book[1]:{8}} {book[2]:.>{7}}')\n",
    "    "
   ]
  },
  {
   "cell_type": "code",
   "execution_count": 8,
   "id": "01f26da0-2604-4ffe-a4c0-b44590c20294",
   "metadata": {},
   "outputs": [
    {
     "name": "stdout",
     "output_type": "stream",
     "text": [
      "August 22, 2024\n"
     ]
    }
   ],
   "source": [
    "#Date Formating\n",
    "from datetime import datetime\n",
    "today=datetime(year=2024 ,month=8,day=22)\n",
    "print(f'{today:%B %d, %Y}')"
   ]
  },
  {
   "cell_type": "code",
   "execution_count": 9,
   "id": "61524c79-3985-41ae-b9f3-bdba12bfbdbb",
   "metadata": {},
   "outputs": [
    {
     "name": "stdout",
     "output_type": "stream",
     "text": [
      "August 22 2024\n"
     ]
    }
   ],
   "source": [
    "from datetime import datetime\n",
    "today=datetime(year=2024 ,month=8,day=22)\n",
    "print(f'{today:%B %d %Y}')"
   ]
  },
  {
   "cell_type": "code",
   "execution_count": 2,
   "id": "f12c88e6-ba5b-4eb1-9bb9-f098176def59",
   "metadata": {},
   "outputs": [
    {
     "data": {
      "text/plain": [
       "'C:\\\\8-text_mining\\\\text_mining'"
      ]
     },
     "execution_count": 2,
     "metadata": {},
     "output_type": "execute_result"
    }
   ],
   "source": [
    "pwd#this is the working directing "
   ]
  },
  {
   "cell_type": "code",
   "execution_count": 3,
   "id": "3b633918-8661-42bb-bebd-455dd6f2b4c8",
   "metadata": {},
   "outputs": [
    {
     "name": "stdout",
     "output_type": "stream",
     "text": [
      "Writing test.txt\n"
     ]
    }
   ],
   "source": [
    "%%writefile test.txt\n",
    "Hello,this is a quick test file.\n",
    "This is the second line of the file"
   ]
  },
  {
   "cell_type": "code",
   "execution_count": null,
   "id": "2d9f65e5-4210-4a20-ba5d-ab969109a378",
   "metadata": {},
   "outputs": [],
   "source": [
    "#open the test.txt file we created earlier\n",
    "my_file="
   ]
  }
 ],
 "metadata": {
  "kernelspec": {
   "display_name": "Python 3 (ipykernel)",
   "language": "python",
   "name": "python3"
  },
  "language_info": {
   "codemirror_mode": {
    "name": "ipython",
    "version": 3
   },
   "file_extension": ".py",
   "mimetype": "text/x-python",
   "name": "python",
   "nbconvert_exporter": "python",
   "pygments_lexer": "ipython3",
   "version": "3.11.7"
  }
 },
 "nbformat": 4,
 "nbformat_minor": 5
}
