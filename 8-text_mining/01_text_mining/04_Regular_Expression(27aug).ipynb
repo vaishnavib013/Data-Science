{
 "cells": [
  {
   "cell_type": "code",
   "execution_count": 1,
   "id": "0ef0e2f3-556e-41f2-b0a7-ed628ccfe3e4",
   "metadata": {},
   "outputs": [],
   "source": [
    "import re"
   ]
  },
  {
   "cell_type": "code",
   "execution_count": 2,
   "id": "51d8e676-5346-4570-8b17-a9b56f36327f",
   "metadata": {},
   "outputs": [
    {
     "data": {
      "text/plain": [
       "['2']"
      ]
     },
     "execution_count": 2,
     "metadata": {},
     "output_type": "execute_result"
    }
   ],
   "source": [
    "#ends with a number\n",
    "re.findall(r'\\d$','THis ends with a number 2')"
   ]
  },
  {
   "cell_type": "code",
   "execution_count": 4,
   "id": "ca26b7e7-3cab-49a5-9449-ae0cb8206d49",
   "metadata": {},
   "outputs": [
    {
     "data": {
      "text/plain": [
       "['1']"
      ]
     },
     "execution_count": 4,
     "metadata": {},
     "output_type": "execute_result"
    }
   ],
   "source": [
    "#starts with a number\n",
    "re.findall(r'^\\d','1 is the loneliest number.')"
   ]
  },
  {
   "cell_type": "code",
   "execution_count": 5,
   "id": "2d26b1ec-b93f-4003-acce-f2f38696743c",
   "metadata": {},
   "outputs": [
    {
     "data": {
      "text/plain": [
       "['1']"
      ]
     },
     "execution_count": 5,
     "metadata": {},
     "output_type": "execute_result"
    }
   ],
   "source": [
    "re.findall(r'^\\d','12345 is the loneliest number.')"
   ]
  },
  {
   "cell_type": "code",
   "execution_count": 6,
   "id": "e925055c-8c96-489a-ba3d-727fc9bea4dd",
   "metadata": {},
   "outputs": [
    {
     "data": {
      "text/plain": [
       "['6']"
      ]
     },
     "execution_count": 6,
     "metadata": {},
     "output_type": "execute_result"
    }
   ],
   "source": [
    "re.findall(r'\\d$','1234 THis ends with a number 23456')"
   ]
  },
  {
   "cell_type": "markdown",
   "id": "f26699f2-51c1-47ce-a51f-60c33ad618b4",
   "metadata": {},
   "source": [
    "exclude to exclude characters ,we cna  use the ^symbol in conjucntion with a set of brackets [ ] ,anything inside the brackets is excluded"
   ]
  },
  {
   "cell_type": "code",
   "execution_count": 7,
   "id": "64cfca8d-c904-403e-a2fa-41e5fe96f2e0",
   "metadata": {},
   "outputs": [],
   "source": [
    "phrase=\"there are 3 numbers 34 inside 5 this sentence\""
   ]
  },
  {
   "cell_type": "code",
   "execution_count": 11,
   "id": "dc5e0c63-fee6-4403-a738-f98ec32d668b",
   "metadata": {},
   "outputs": [],
   "source": [
    "text=re.findall(r'[^\\d]',phrase)"
   ]
  },
  {
   "cell_type": "code",
   "execution_count": 12,
   "id": "b0a4592a-3184-4e58-91f0-386c9e34ca24",
   "metadata": {},
   "outputs": [
    {
     "data": {
      "text/plain": [
       "['t',\n",
       " 'h',\n",
       " 'e',\n",
       " 'r',\n",
       " 'e',\n",
       " ' ',\n",
       " 'a',\n",
       " 'r',\n",
       " 'e',\n",
       " ' ',\n",
       " ' ',\n",
       " 'n',\n",
       " 'u',\n",
       " 'm',\n",
       " 'b',\n",
       " 'e',\n",
       " 'r',\n",
       " 's',\n",
       " ' ',\n",
       " ' ',\n",
       " 'i',\n",
       " 'n',\n",
       " 's',\n",
       " 'i',\n",
       " 'd',\n",
       " 'e',\n",
       " ' ',\n",
       " ' ',\n",
       " 't',\n",
       " 'h',\n",
       " 'i',\n",
       " 's',\n",
       " ' ',\n",
       " 's',\n",
       " 'e',\n",
       " 'n',\n",
       " 't',\n",
       " 'e',\n",
       " 'n',\n",
       " 'c',\n",
       " 'e']"
      ]
     },
     "execution_count": 12,
     "metadata": {},
     "output_type": "execute_result"
    }
   ],
   "source": [
    "text"
   ]
  },
  {
   "cell_type": "markdown",
   "id": "1703bb5b-f304-4326-aaf8-a10993be5d89",
   "metadata": {},
   "source": [
    "to get the words back together use a sign \"+\""
   ]
  },
  {
   "cell_type": "code",
   "execution_count": 14,
   "id": "be9308dd-0fd0-4b68-a9a8-22abd5d77411",
   "metadata": {},
   "outputs": [
    {
     "data": {
      "text/plain": [
       "['there are ', ' numbers ', ' inside ', ' this sentence']"
      ]
     },
     "execution_count": 14,
     "metadata": {},
     "output_type": "execute_result"
    }
   ],
   "source": [
    "re.findall(r'[^\\d]+',phrase)"
   ]
  },
  {
   "cell_type": "code",
   "execution_count": 17,
   "id": "8de55cd2-5977-4b01-bb31-d68b3095ca87",
   "metadata": {},
   "outputs": [],
   "source": [
    "test_phrase='This is a string!But it has punctuation .How can we remove it?'"
   ]
  },
  {
   "cell_type": "code",
   "execution_count": 19,
   "id": "5ba8743d-0e5f-43cb-9e73-502a84cb2065",
   "metadata": {},
   "outputs": [
    {
     "data": {
      "text/plain": [
       "['This',\n",
       " 'is',\n",
       " 'a',\n",
       " 'string!But',\n",
       " 'it',\n",
       " 'has',\n",
       " 'punctuation',\n",
       " 'How',\n",
       " 'can',\n",
       " 'we',\n",
       " 'remove',\n",
       " 'it']"
      ]
     },
     "execution_count": 19,
     "metadata": {},
     "output_type": "execute_result"
    }
   ],
   "source": [
    "re.findall('[^.? ]+',test_phrase)#here if you space then it will return us in horizontal form "
   ]
  },
  {
   "cell_type": "code",
   "execution_count": 20,
   "id": "df11b381-c471-4d60-a958-81be278c78a0",
   "metadata": {},
   "outputs": [
    {
     "data": {
      "text/plain": [
       "['This is a string!But it has punctuation ', 'How can we remove it']"
      ]
     },
     "execution_count": 20,
     "metadata": {},
     "output_type": "execute_result"
    }
   ],
   "source": [
    "re.findall('[^.?]+',test_phrase)#here if we do not give the space then it will return in vertical form"
   ]
  },
  {
   "cell_type": "code",
   "execution_count": 22,
   "id": "8798a866-9b5b-42aa-888d-25e31a00b37e",
   "metadata": {},
   "outputs": [],
   "source": [
    "clean=' '.join(re.findall('[^|.? ]+',test_phrase))"
   ]
  },
  {
   "cell_type": "code",
   "execution_count": 23,
   "id": "b23ef117-1731-4101-a1df-1b65e87eaad2",
   "metadata": {},
   "outputs": [
    {
     "data": {
      "text/plain": [
       "'This is a string!But it has punctuation How can we remove it'"
      ]
     },
     "execution_count": 23,
     "metadata": {},
     "output_type": "execute_result"
    }
   ],
   "source": [
    "clean"
   ]
  },
  {
   "cell_type": "code",
   "execution_count": 25,
   "id": "bf8dbe0b-afa1-4bb8-b7c5-92d85273f10f",
   "metadata": {},
   "outputs": [],
   "source": [
    "#find words that start with cat and end with one of this options:'fish','nap','claw'\n",
    "text='Hello,would you like some catfish?'\n",
    "texttwo=\"Hello,would you like to take a catnap?\"\n",
    "textthree=\"Hello,have yiu seen this caterpillar?\""
   ]
  },
  {
   "cell_type": "code",
   "execution_count": 26,
   "id": "049d7f4d-e7db-49af-a587-dc583e2e158c",
   "metadata": {},
   "outputs": [
    {
     "data": {
      "text/plain": [
       "<re.Match object; span=(26, 33), match='catfish'>"
      ]
     },
     "execution_count": 26,
     "metadata": {},
     "output_type": "execute_result"
    }
   ],
   "source": [
    "re.search(r'cat(fish|nap|claw)',text)"
   ]
  },
  {
   "cell_type": "code",
   "execution_count": 27,
   "id": "d2286a77-78fb-4f93-bc95-f795e81c2424",
   "metadata": {},
   "outputs": [
    {
     "data": {
      "text/plain": [
       "<re.Match object; span=(31, 37), match='catnap'>"
      ]
     },
     "execution_count": 27,
     "metadata": {},
     "output_type": "execute_result"
    }
   ],
   "source": [
    "re.search(r'cat(fish|nap|claw)',texttwo)"
   ]
  },
  {
   "cell_type": "code",
   "execution_count": 29,
   "id": "958efaaf-97c1-4302-9635-ed11b9ccfc87",
   "metadata": {},
   "outputs": [],
   "source": [
    "#none returned here\n",
    "re.search(r'cat(fish|nap|claw)',textthree)"
   ]
  },
  {
   "cell_type": "code",
   "execution_count": null,
   "id": "3bce04a7-2732-495d-8e1b-cdc5bddf895d",
   "metadata": {},
   "outputs": [],
   "source": []
  }
 ],
 "metadata": {
  "kernelspec": {
   "display_name": "Python 3 (ipykernel)",
   "language": "python",
   "name": "python3"
  },
  "language_info": {
   "codemirror_mode": {
    "name": "ipython",
    "version": 3
   },
   "file_extension": ".py",
   "mimetype": "text/x-python",
   "name": "python",
   "nbconvert_exporter": "python",
   "pygments_lexer": "ipython3",
   "version": "3.11.7"
  }
 },
 "nbformat": 4,
 "nbformat_minor": 5
}
