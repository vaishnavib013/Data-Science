{
 "cells": [
  {
   "cell_type": "code",
   "execution_count": 1,
   "id": "a77ed54a-4a53-4f5c-82a5-f5f95f832678",
   "metadata": {},
   "outputs": [
    {
     "data": {
      "text/plain": [
       "'C:\\\\8-text_mining'"
      ]
     },
     "execution_count": 1,
     "metadata": {},
     "output_type": "execute_result"
    }
   ],
   "source": [
    "pwd"
   ]
  },
  {
   "cell_type": "code",
   "execution_count": 2,
   "id": "86fbf2f0-7ddc-4df1-a8cb-c1b39daf24b5",
   "metadata": {},
   "outputs": [
    {
     "name": "stdout",
     "output_type": "stream",
     "text": [
      "Writing test.txt\n"
     ]
    }
   ],
   "source": [
    "%%writefile test.txt\n",
    "Hello,this is a quick test file.\n",
    "This is the second line of the file"
   ]
  },
  {
   "cell_type": "code",
   "execution_count": 3,
   "id": "01986717-ad10-4372-9880-f65df9e3fdbf",
   "metadata": {},
   "outputs": [],
   "source": [
    "#open the test.txt file we created earlier\n",
    "my_file=open('test.txt')"
   ]
  },
  {
   "cell_type": "markdown",
   "id": "68807225-98c3-442f-af23-7244fc6a314b",
   "metadata": {},
   "source": [
    "my_file is now an open file object held in memory.we'll perform some reading and writing exercises and then we have to close the file to free up memory\n",
    ".read() and .seek()"
   ]
  },
  {
   "cell_type": "code",
   "execution_count": 5,
   "id": "f5ad019d-771e-44b0-bc14-f4674e0ecfe4",
   "metadata": {},
   "outputs": [
    {
     "data": {
      "text/plain": [
       "'Hello,this is a quick test file.\\nThis is the second line of the file\\n'"
      ]
     },
     "execution_count": 5,
     "metadata": {},
     "output_type": "execute_result"
    }
   ],
   "source": [
    "#we can now read the file\n",
    "my_file.read()"
   ]
  },
  {
   "cell_type": "code",
   "execution_count": 7,
   "id": "6b01c69d-a45c-4265-bccf-6585512b7c48",
   "metadata": {},
   "outputs": [
    {
     "data": {
      "text/plain": [
       "''"
      ]
     },
     "execution_count": 7,
     "metadata": {},
     "output_type": "execute_result"
    }
   ],
   "source": [
    "#but what happens if we try to read it again?\n",
    "my_file.read()\n",
    "#this gives us empty file "
   ]
  },
  {
   "cell_type": "markdown",
   "id": "b29462f2-a535-4903-8429-2069e41591b3",
   "metadata": {},
   "source": [
    "this happens because you can imagine the reading the\"cursor\" is at the end of the file after having read it.so there is nothing left to head.We can set the cursor like this"
   ]
  },
  {
   "cell_type": "code",
   "execution_count": 8,
   "id": "f94e8b32-a404-4f52-8d4a-83754ea6a01c",
   "metadata": {},
   "outputs": [
    {
     "data": {
      "text/plain": [
       "0"
      ]
     },
     "execution_count": 8,
     "metadata": {},
     "output_type": "execute_result"
    }
   ],
   "source": [
    "#seek to the start of file(index 0)\n",
    "my_file.seek(0)"
   ]
  },
  {
   "cell_type": "code",
   "execution_count": 9,
   "id": "b91783ec-fa8c-4473-b948-c3ac70d74e0d",
   "metadata": {},
   "outputs": [
    {
     "data": {
      "text/plain": [
       "'Hello,this is a quick test file.\\nThis is the second line of the file\\n'"
      ]
     },
     "execution_count": 9,
     "metadata": {},
     "output_type": "execute_result"
    }
   ],
   "source": [
    "#now read the file again\n",
    "my_file.read()"
   ]
  },
  {
   "cell_type": "code",
   "execution_count": 10,
   "id": "2303db6f-84dd-4114-b6fe-532f4d5892a3",
   "metadata": {},
   "outputs": [
    {
     "data": {
      "text/plain": [
       "['Hello,this is a quick test file.\\n', 'This is the second line of the file\\n']"
      ]
     },
     "execution_count": 10,
     "metadata": {},
     "output_type": "execute_result"
    }
   ],
   "source": [
    "#readlines returns a list of the lines in the file\n",
    "my_file.seek(0)\n",
    "my_file.readlines()"
   ]
  },
  {
   "cell_type": "code",
   "execution_count": 11,
   "id": "57974674-835a-40c4-bf58-dfd7c1c180e9",
   "metadata": {},
   "outputs": [],
   "source": [
    "#when you have finished using a file ,it is always good practice to close it.\n",
    "my_file.close()"
   ]
  },
  {
   "cell_type": "markdown",
   "id": "f995a18e-f58b-4fd0-b2f0-c47febf81778",
   "metadata": {},
   "source": [
    "# Writing to a file\n",
    "by default,the open() function will allow us to read the file.We need to pass the argument 'w' to write over the file.for eg"
   ]
  },
  {
   "cell_type": "code",
   "execution_count": 16,
   "id": "ff529be4-42ed-42b1-ac6c-4dc3d413cf7d",
   "metadata": {},
   "outputs": [],
   "source": [
    "#add the second argument to the function ,'w' which stands for write.\n",
    "#passing 'w+' lets us read and write to the file\n",
    "my_file=open('test.txt','w+')#thus allows us to edit or write to the file"
   ]
  },
  {
   "cell_type": "code",
   "execution_count": 17,
   "id": "1f3bd596-0e3c-4e9b-be11-7b88cf87e975",
   "metadata": {},
   "outputs": [
    {
     "data": {
      "text/plain": [
       "24"
      ]
     },
     "execution_count": 17,
     "metadata": {},
     "output_type": "execute_result"
    }
   ],
   "source": [
    "#wroting to the file\n",
    "my_file.write('This is a new first line')"
   ]
  },
  {
   "cell_type": "code",
   "execution_count": 18,
   "id": "d7b6b736-1c2e-4a58-a79c-b167f268d2b3",
   "metadata": {},
   "outputs": [
    {
     "data": {
      "text/plain": [
       "'This is a new first line'"
      ]
     },
     "execution_count": 18,
     "metadata": {},
     "output_type": "execute_result"
    }
   ],
   "source": [
    "#read the file\n",
    "my_file.seek(0)\n",
    "my_file.read()"
   ]
  },
  {
   "cell_type": "markdown",
   "id": "a7ff56dc-ebdc-4baf-a5db-bfa5f2ed844a",
   "metadata": {},
   "source": [
    "# Appending to a file\n",
    "Passing the argument 'a' opens the file and puts the pointer at the end ,so anything written is appended.Like 'w+' 'a+' lets us read and write to a file.\n",
    "if the file does not exist ,one will be created"
   ]
  },
  {
   "cell_type": "code",
   "execution_count": 20,
   "id": "0b0efa56-28d9-4c52-ae2d-ea06e2758343",
   "metadata": {},
   "outputs": [
    {
     "data": {
      "text/plain": [
       "24"
      ]
     },
     "execution_count": 20,
     "metadata": {},
     "output_type": "execute_result"
    }
   ],
   "source": [
    "my_file=open('test.txt','a+')\n",
    "my_file.write('\\nThis line is being appended to test.txt')\n",
    "my_file.write('\\nAnd Another line there.')"
   ]
  },
  {
   "cell_type": "code",
   "execution_count": 21,
   "id": "c01fdede-a4b0-42b5-91cd-2066101f9153",
   "metadata": {},
   "outputs": [
    {
     "name": "stdout",
     "output_type": "stream",
     "text": [
      "This is a new first line\n",
      "This line is being appended to test.txt\n",
      "And Another line there.\n"
     ]
    }
   ],
   "source": [
    "my_file.seek(0)\n",
    "print(my_file.read())"
   ]
  },
  {
   "cell_type": "code",
   "execution_count": 22,
   "id": "35fec869-55a0-41bc-a5ed-7816267a6d34",
   "metadata": {},
   "outputs": [],
   "source": [
    "my_file.close()"
   ]
  },
  {
   "cell_type": "code",
   "execution_count": 23,
   "id": "51c27b1f-941a-4d5e-b5c6-59dd6d22c2a2",
   "metadata": {},
   "outputs": [],
   "source": [
    "#here install pyPDF@ for reading and wrting in the file"
   ]
  },
  {
   "cell_type": "code",
   "execution_count": 25,
   "id": "d40fe281-1375-4710-9276-3009a2ca8b3f",
   "metadata": {},
   "outputs": [],
   "source": [
    "#note the capitalization\n",
    "import PyPDF2"
   ]
  },
  {
   "cell_type": "code",
   "execution_count": 26,
   "id": "a07c7c19-2f80-4347-b9d0-266b61024bef",
   "metadata": {},
   "outputs": [],
   "source": [
    "#reading the pdfs"
   ]
  },
  {
   "cell_type": "code",
   "execution_count": 44,
   "id": "557c2d9a-48c7-44e6-a1a7-605c30f79e1f",
   "metadata": {},
   "outputs": [],
   "source": [
    "#notice we read it as a binary with 'rb'\n",
    "f=open('US_Declaration.pdf','rb')\n",
    "#open will create the instance of that file to call the primary memory"
   ]
  },
  {
   "cell_type": "code",
   "execution_count": 45,
   "id": "0603ba51-4dbe-449b-8b66-7d326afcdfec",
   "metadata": {},
   "outputs": [],
   "source": [
    "pdf_reader=PyPDF2.PdfReader(f)"
   ]
  },
  {
   "cell_type": "code",
   "execution_count": 46,
   "id": "9230497e-e05a-4aec-9730-3b3138117681",
   "metadata": {},
   "outputs": [],
   "source": [
    "page_one=pdf_reader.pages[0]"
   ]
  },
  {
   "cell_type": "code",
   "execution_count": 47,
   "id": "ebbb4728-1f66-4f6a-8b5d-4a5258ae3008",
   "metadata": {},
   "outputs": [],
   "source": [
    "#we can extract the text:"
   ]
  },
  {
   "cell_type": "code",
   "execution_count": 48,
   "id": "aee2dbbf-208c-432e-9256-0ad0c70d209e",
   "metadata": {},
   "outputs": [],
   "source": [
    "page_one_text=page_one.extract_text()"
   ]
  },
  {
   "cell_type": "code",
   "execution_count": 49,
   "id": "b1a72f97-c690-46fc-a85e-c7b16092a0d6",
   "metadata": {},
   "outputs": [
    {
     "data": {
      "text/plain": [
       "\"Declaration of Independence\\nIN CONGRESS, July 4, 1776.  \\nThe unanimous Declaration of the thirteen united States of America,  \\nWhen in the Course of human events, it becomes necessary for one people to dissolve thepolitical bands which have connected them with another, and to assume among the powers of theearth, the separate and equal station to which the Laws of Nature and of Nature's God entitlethem, a decent respect to the opinions of mankind requires that they should declare the causeswhich impel them to the separation. We hold these truths to be self-evident, that all men are created equal, that they are endowed bytheir Creator with certain unalienable Rights, that among these are Life, Liberty and the pursuit\\nof Happiness.— \\x14That to secure these rights, Governments are instituted among Men, derivingtheir just powers from the consent of the governed,—  \\x14That whenever any Form of Government\\nbecomes destructive of these ends, it is the Right of the People to alter or to abolish it, and to\\ninstitute new Government, laying its foundation on such principles and organizing its powers in\\nsuch form, as to them shall seem most likely to effect their Safety and Happiness. Prudence,indeed, will dictate that Governments long established should not be changed for light andtransient causes; and accordingly all experience hath shewn, that mankind are more disposed to\\nsuffer, while evils are sufferable, than to right themselves by abolishing the forms to which theyare accustomed. But when a long train of abuses and usurpations, pursuing invariably the same\\nObject evinces a design to reduce them under absolute Despotism, it is their right, it is their duty,\\nto throw off such Government, and to provide new Guards for their future securit y.— \\x14Such has\\nbeen the patient sufferance of these Colonies; and such is now the necessity which constrainsthem to alter their former Systems of Government. The history of the present King of GreatBritain is a history of repeated injuries and usurpations, all having in direct object the\\nestablishment of an absolute Tyranny over these States. To prove this, let Facts be submitted to a\\ncandid world. \\nHe has refused his Assent to Laws, the most wholesome and necessary for the\\npublic good.He has forbidden his Governors to pass Laws of immediate and pressingimportance, unless suspended in their operation till his Assent should be obtained;and when so suspended, he has utterly neglected to attend to them.He has refused to pass other Laws for the accommodation of large districts of\\npeople, unless those people would relinquish the right of Representation in theLegislature, a right inestimable to them and formidable to tyrants only. He has called together legislative bodies at places unusual, uncomfortable, and distantfrom the depository of their public Records, for the sole purpose of fatiguing them into\\ncompliance with his measures.\""
      ]
     },
     "execution_count": 49,
     "metadata": {},
     "output_type": "execute_result"
    }
   ],
   "source": [
    "page_one_text"
   ]
  },
  {
   "cell_type": "code",
   "execution_count": 42,
   "id": "82fb1274-4545-4bbf-8b92-777b53049534",
   "metadata": {},
   "outputs": [
    {
     "data": {
      "text/plain": [
       "'\\\\\\x10Đ\\x10\\n\\x98\\x8f\\x91ȡ\\x9aȡ\\x85ȯ\\x03\\x93ȡ\\x9d\\n\\x93ȡ\\x8fȯ\\x9dȡ_\\x80ȡ\\x85ȯ\\n\\x94×\\x8fȡ\\n\\x9eȡ\\x9cȡ\\x03\\x11\\x03\\x80Ȩ\\x9bȯ\\x87\\n\\x9d\\x99\\nͧ\\x9bȲ\\x82\\nj\\x9c\\x81\\x94ğ\\x03ĐȲ\\x10\\n\\x98\\x8f\\x91ȡ\\x9aȡ\\x85\\nʜȯ\\x03\\n\\x86ȡ\\x99ȡͬ\\x85ğ\\nC\\nD\\nE\\nF\\nG\\nH\\nI\\nJ\\nK\\n1\\n\\x9dȲ\\x91\\x93ȡ\\x03\\x87\\x82\\x88ȡ\\x94\\n\\x80Ǚç\\x8e\\x9aȡ\\x9d\\x03\\n\\x87\\x82\\x88ȡ\\x94\\n\\x83\\x10Đ\\x10\\x03\\n0\\n\\x03\\x92ȡ\\x98Ȫ\\x9aȣ\\x03\\n\\x98¡ȡ\\x9aȡçĚ\\n\\x98Ǖ\\x10\\x94Ȫ\\x10\\x03\\x92ȡ\\x98Ȫ\\x9aȣ\\n\\x8fȡ\\x10\\x03\\x80Ȫ\\x94\\x9a\\x82ȡ\\x9d\\nǔ\\x87\\x10\\x03\\\\¡\\x98\\x91\\x93\\x82\\x9a\\n\\x92ȡ\\x98Ȫ\\x9aȣ\\x03\\n423601\\nSHRI SHARDA \\nENGLISH \\nMEDIUM \\nSCHOOL \\nKOPARGAON \\n52\\nèğȢ\\n (Deleted)\\nY\\n2\\nĤ\\x97ȡ\\x80\\x9a\\x03]\\x97ȡ\\x9cȯ\\nĤ\\x97ȡ\\x80\\x9a\\x03]\\x97ȡ\\x9cȯ\\n\\x83\\x10Đ\\x10\\x03\\n00\\n\\x03\\x98\\x92Ȣ\\x03\\x98\\x92Ȣ\\n\\x98Ǖ\\x10\\x94Ȫ\\x10\\x03\\x80Ȫ\\x94\\x9a\\x82ȡ\\x9d\\n\\x8fȡ\\x10\\x03\\x80Ȫ\\x94\\x9a\\x82ȡ\\x9d\\nǔ\\x87\\x10\\x03\\\\¡\\x98\\x91\\x93\\x82\\x9a\\n\\x80Ȫ\\x94\\x9a\\x82ȡ\\x9d\\x03\\nĒȡ\\x98Ȣ\\x8e\\x0b\\x03\\n423601\\nRADAHBAI KALE \\nVIDYA \\nKOLPEWADI\\n54\\n\\x94Ǖ\\nY\\n3\\nĤ\\x80ȡ\\x9e\\x03]\\x97ȡ\\x9cȯ\\n\\x87\\x82Û\\x93ȡ\\x90\\x03\\n]\\x97ȡ\\x9bȯ\\n\\x83\\x10Đ\\x10\\x03\\n0\\n\\x03\\x98\\x8dȣ\\x03\\x96Ǖ\\x03\\x98\\x8dȣ\\x03\\x96Ǖ\\n\\x98Ǖ\\x10\\x94Ȫ\\x10\\x03\\x80Ȫ\\x94\\x9a\\x82ȡ\\x9d\\n\\x8fȡ\\x10\\x03\\x80Ȫ\\x94\\x9a\\x82ȡ\\x9d\\nǔ\\x87\\x10\\x03\\\\¡\\x98\\x91\\x93\\x82\\x9a\\n\\x80Ȫ\\x94\\x9a\\x82ȡȲ\\x9d\\x03\\nf\\x98\\x03È\\x9b\\x0b\\x03\\n423601\\nNEW ENGLISH \\nSCHOOL, \\nKANKURI \\n53\\n\\x94Ǖ\\nY\\n4\\n\\x96ȡ\\x96ȡ\\xa0ȡ¡ȯ\\x96\\x03\\n]\\x97ȡ\\x9cȯ\\n\\\\Ö\\x8eȡ\\xa0ȡ¡ȯ\\x96\\x03\\n]\\x97ȡ\\x9cȯ\\n\\x83\\x10Đ\\x10\\x03\\n00\\n\\x03\\x98\\x92Ȣ\\x03\\x98\\x92Ȣ\\n\\x98Ǖ\\x10\\x94Ȫ\\x10\\x03\\x80Ȫ\\x94\\x9a\\x82ȡ\\x9d\\n\\x8fȡ\\x10\\x03\\x80Ȫ\\x94\\x9a\\x82ȡ\\x9d\\nǔ\\x87\\x10\\x03\\\\¡\\x98\\x91\\x93\\x82\\x9a\\n\\x80Ȫ\\x94\\x9a\\x82ȡ\\x9d\\x03\\nĒȡ\\x98Ȣ\\x8e\\x0b\\x03\\n423601\\nJAGDAMBA \\nSCHOOL \\nBABULGAON\\n39\\n\\x94Ǖ\\n00\\nY\\n5\\n\\xa0ͪ\\x9d\\x8fȡ\\x03]\\x97ȡ\\x9cȯ\\n\\x9aȡ\\x87\\x03ͪ\\x9d\\x9e\\x03\\n]\\x97ȡ\\x9cȯ\\n\\x83\\x10Đ\\x10\\x03\\n00\\n\\x03\\x98\\x92Ȣ\\x03\\n\\x80Ȫ\\x94\\x9a\\x82ȡ\\x9d\\n\\x98Ǖ\\x10\\x94Ȫ\\x10\\x03\\x80Ȫ\\x94\\x9a\\x82ȡ\\x9d\\n\\x8fȡ\\x10\\x03\\x80Ȫ\\x94\\x9a\\x82ȡ\\x9d\\nǔ\\x87\\x10\\x03\\\\¡\\x98\\x91\\x93\\x82\\x9a\\n\\x80Ȫ\\x94\\x9a\\x82ȡ\\x9d\\x03\\nĒȡ\\x98Ȣ\\x8e\\x0b\\x03\\n423601\\nSANJIVANI \\nENGLISH \\nSCHOOL\\n37\\nèğȢ\\nY\\nPage No.: \\n1 of 405\\n\\x98¡ȡ\\x9aȡçĚ\\x03\\x9aȡÏ\\x99\\x03ͪ\\x9d\\x92ȡ\\x93\\x03\\x94ǐ\\x9a\\x9f\\x91\\x03\\x98\\x8f\\x91ȡ\\x9a\\x03\\x99ȡ\\x91ȣ\\x03\\x0f\\x03\\nDBDF\\n\\x93ȡͧ\\x9e\\x80\\x03ͪ\\x9d\\x97ȡ\\x82\\x03ͧ\\x9e¢\\x80\\x03\\x98\\x8f\\x91ȡ\\x9a\\x03\\xa0Ȳ\\x83\\nBI\\x0fBH\\x0fDBDF\\x03\\n\\x94\\x99ɍ\\x8f\\x03\\x8f\\x99ȡ\\x9a\\x03\\x80\\x9aÖ\\x99ȡ\\x8f\\x03]\\x9bȯ\\x9bȣ\\x03\\x98\\x8f\\x91ȡ\\x9a\\x03\\x99ȡ\\x91ȣ\\n\\\\ȲǓ\\x8f\\x98\\x03\\x98\\x8f\\x91ȡ\\x9a\\x03\\x99ȡ\\x91ȣ\\nĤȡǾ\\x94\\x03\\x98\\x8f\\x91ȡ\\x9a\\x03\\x99ȡ\\x91ȣ\\x03\\r\\x03\\x94Ǖ\\x9a\\x9d\\x8eȢ\\x03\\nC\\x0b\\x03\\r\\x03\\n\\x94Ǖ\\x9a\\x9d\\x8eȢ\\x03\\nD\\nǔ\\x87ãé\\x99ȡ\\x85ȯ\\x03\\x93ȡ\\x9d\\x1c\\x03\\x03\\\\¡\\x98\\x91\\x93\\x82\\x9a\\n\\x97ȡ\\x82\\x03Đ\\x98ȡȲ\\x80\\x1c\\x03\\x03\\x16\\x1b\\n\\\\¡[\\x8fȡ\\x03Ǒ\\x91\\x93ȡȲ\\x80\\x03\\x1c\\x03\\nBC\\x0fCC\\x0fDBDE\\n\\\\ȲǓ\\x8f\\x98\\x03\\x98\\x8f\\x91ȡ\\x9a\\x03\\x99ȡ\\x91ȣ\\x03Ĥͧ\\xa0ƨȢ\\x85ȡ\\nǑ\\x91\\x93ȡȲ\\x80\\x03\\x1c\\x03\\nEB\\x0fCD\\x0fDBDE\\n'"
      ]
     },
     "execution_count": 42,
     "metadata": {},
     "output_type": "execute_result"
    }
   ],
   "source": [
    "f=open(\"C:\\8-text_mining\\Kopargaon_voting.pdf\",'rb')\n",
    "pdf_reader=PyPDF2.PdfReader(f)\n",
    "page_one=pdf_reader.pages[0]\n",
    "page_one_text=page_one.extract_text()\n",
    "page_one_text\n",
    "#it is the image format so it gives the results \n",
    "#as the data can not be extracted from the image content we need to apply specific techniques for it"
   ]
  },
  {
   "cell_type": "code",
   "execution_count": 43,
   "id": "48aec223-6c00-475f-9f54-764cd958c503",
   "metadata": {},
   "outputs": [],
   "source": [
    "f.close()"
   ]
  },
  {
   "cell_type": "code",
   "execution_count": null,
   "id": "232a7286-ff46-4e2d-9850-6a0cb6286de1",
   "metadata": {},
   "outputs": [],
   "source": []
  }
 ],
 "metadata": {
  "kernelspec": {
   "display_name": "Python 3 (ipykernel)",
   "language": "python",
   "name": "python3"
  },
  "language_info": {
   "codemirror_mode": {
    "name": "ipython",
    "version": 3
   },
   "file_extension": ".py",
   "mimetype": "text/x-python",
   "name": "python",
   "nbconvert_exporter": "python",
   "pygments_lexer": "ipython3",
   "version": "3.11.7"
  }
 },
 "nbformat": 4,
 "nbformat_minor": 5
}
