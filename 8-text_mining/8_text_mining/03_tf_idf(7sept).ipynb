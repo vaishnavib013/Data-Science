{
 "cells": [
  {
   "cell_type": "code",
   "execution_count": 1,
   "id": "7e900b6b-61ca-4c1c-8664-ed8ecac33dc1",
   "metadata": {},
   "outputs": [],
   "source": [
    "from sklearn.feature_extraction.text import TfidfVectorizer\n",
    "\n",
    "corpus=[\n",
    "    \"Thor eating loki is eating pizza ,ironman ate pizza already\",\n",
    "    \"Apple is announcing new iphone tomorrow\",\n",
    "    \"Tesla is announcing new model-3 tomorrow\",\n",
    "    \"Google is announcing new pixel-6 tomorrow\",\n",
    "    \"Microsoft is announcing new surface tomorrow\",\n",
    "    \"Amazon us announcing new eco-dot tomorrow\",\n",
    "    \"I am eating biryani and you are eating grapes\"\n",
    "]"
   ]
  },
  {
   "cell_type": "code",
   "execution_count": 3,
   "id": "8e7ec007-d12b-4fb8-9bd7-8db719cca07e",
   "metadata": {},
   "outputs": [],
   "source": [
    "#lets create the vectorizer and fit the corpus and transform them accordingly\n",
    "v=TfidfVectorizer()\n",
    "v.fit(corpus)\n",
    "transform_output=v.transform(corpus)"
   ]
  },
  {
   "cell_type": "code",
   "execution_count": 4,
   "id": "b24d9382-80a1-49da-bb1f-4a740b88a341",
   "metadata": {},
   "outputs": [
    {
     "name": "stdout",
     "output_type": "stream",
     "text": [
      "{'thor': 25, 'eating': 10, 'loki': 17, 'is': 16, 'pizza': 22, 'ironman': 15, 'ate': 7, 'already': 0, 'apple': 5, 'announcing': 4, 'new': 20, 'iphone': 14, 'tomorrow': 26, 'tesla': 24, 'model': 19, 'google': 12, 'pixel': 21, 'microsoft': 18, 'surface': 23, 'amazon': 2, 'us': 27, 'eco': 11, 'dot': 9, 'am': 1, 'biryani': 8, 'and': 3, 'you': 28, 'are': 6, 'grapes': 13}\n"
     ]
    }
   ],
   "source": [
    "#lets print the vocabulary\n",
    "\n",
    "print(v.vocabulary_)"
   ]
  },
  {
   "cell_type": "code",
   "execution_count": 6,
   "id": "5e595000-4bd5-4235-a500-0b51a7008c16",
   "metadata": {},
   "outputs": [
    {
     "name": "stdout",
     "output_type": "stream",
     "text": [
      "already:2.386294361119891\n",
      "am:2.386294361119891\n",
      "amazon:2.386294361119891\n",
      "and:2.386294361119891\n",
      "announcing:1.2876820724517808\n",
      "apple:2.386294361119891\n",
      "are:2.386294361119891\n",
      "ate:2.386294361119891\n",
      "biryani:2.386294361119891\n",
      "dot:2.386294361119891\n",
      "eating:1.9808292530117262\n",
      "eco:2.386294361119891\n",
      "google:2.386294361119891\n",
      "grapes:2.386294361119891\n",
      "iphone:2.386294361119891\n",
      "ironman:2.386294361119891\n",
      "is:1.2876820724517808\n",
      "loki:2.386294361119891\n",
      "microsoft:2.386294361119891\n",
      "model:2.386294361119891\n",
      "new:1.2876820724517808\n",
      "pixel:2.386294361119891\n",
      "pizza:2.386294361119891\n",
      "surface:2.386294361119891\n",
      "tesla:2.386294361119891\n",
      "thor:2.386294361119891\n",
      "tomorrow:1.2876820724517808\n",
      "us:2.386294361119891\n",
      "you:2.386294361119891\n"
     ]
    }
   ],
   "source": [
    "#lets print the idf of each words\n",
    "#idf is going to give the weightage to all the words \n",
    "all_feature_names=v.get_feature_names_out()\n",
    "\n",
    "for word in all_feature_names:\n",
    "\n",
    "    #lets get the index in the vocabulary\n",
    "    indx=v.vocabulary_.get(word)\n",
    "\n",
    "    #get the score\n",
    "    idf_score=v.idf_[indx]\n",
    "\n",
    "    print(f\"{word}:{idf_score}\")\n",
    "\n",
    "#here we will be balancing the words weight which are\n"
   ]
  },
  {
   "cell_type": "code",
   "execution_count": 7,
   "id": "5565d907-d556-4a9a-a421-84e2a8c58729",
   "metadata": {},
   "outputs": [],
   "source": [
    "#get the dataset from kaggle\n"
   ]
  },
  {
   "cell_type": "code",
   "execution_count": 9,
   "id": "34c0e9c6-7ed1-44a4-8792-6e5729f1ac1f",
   "metadata": {},
   "outputs": [
    {
     "name": "stdout",
     "output_type": "stream",
     "text": [
      "(24000, 2)\n"
     ]
    },
    {
     "data": {
      "text/html": [
       "<div>\n",
       "<style scoped>\n",
       "    .dataframe tbody tr th:only-of-type {\n",
       "        vertical-align: middle;\n",
       "    }\n",
       "\n",
       "    .dataframe tbody tr th {\n",
       "        vertical-align: top;\n",
       "    }\n",
       "\n",
       "    .dataframe thead th {\n",
       "        text-align: right;\n",
       "    }\n",
       "</style>\n",
       "<table border=\"1\" class=\"dataframe\">\n",
       "  <thead>\n",
       "    <tr style=\"text-align: right;\">\n",
       "      <th></th>\n",
       "      <th>Text</th>\n",
       "      <th>label</th>\n",
       "    </tr>\n",
       "  </thead>\n",
       "  <tbody>\n",
       "    <tr>\n",
       "      <th>0</th>\n",
       "      <td>Urban Ladder Eisner Low Back Study-Office Comp...</td>\n",
       "      <td>Household</td>\n",
       "    </tr>\n",
       "    <tr>\n",
       "      <th>1</th>\n",
       "      <td>Contrast living Wooden Decorative Box,Painted ...</td>\n",
       "      <td>Household</td>\n",
       "    </tr>\n",
       "    <tr>\n",
       "      <th>2</th>\n",
       "      <td>IO Crest SY-PCI40010 PCI RAID Host Controller ...</td>\n",
       "      <td>Electronics</td>\n",
       "    </tr>\n",
       "    <tr>\n",
       "      <th>3</th>\n",
       "      <td>ISAKAA Baby Socks from Just Born to 8 Years- P...</td>\n",
       "      <td>Clothing &amp; Accessories</td>\n",
       "    </tr>\n",
       "    <tr>\n",
       "      <th>4</th>\n",
       "      <td>Indira Designer Women's Art Mysore Silk Saree ...</td>\n",
       "      <td>Clothing &amp; Accessories</td>\n",
       "    </tr>\n",
       "  </tbody>\n",
       "</table>\n",
       "</div>"
      ],
      "text/plain": [
       "                                                Text                   label\n",
       "0  Urban Ladder Eisner Low Back Study-Office Comp...               Household\n",
       "1  Contrast living Wooden Decorative Box,Painted ...               Household\n",
       "2  IO Crest SY-PCI40010 PCI RAID Host Controller ...             Electronics\n",
       "3  ISAKAA Baby Socks from Just Born to 8 Years- P...  Clothing & Accessories\n",
       "4  Indira Designer Women's Art Mysore Silk Saree ...  Clothing & Accessories"
      ]
     },
     "execution_count": 9,
     "metadata": {},
     "output_type": "execute_result"
    }
   ],
   "source": [
    "import pandas as pd\n",
    "\n",
    "#read the data into a pandas dataframe\n",
    "df=pd.read_csv(\"Ecommerce_data.csv\")\n",
    "print(df.shape)\n",
    "df.head(5)"
   ]
  },
  {
   "cell_type": "code",
   "execution_count": 10,
   "id": "e4c5f9a0-ae1a-44c2-8e67-b0a30e3fb8c5",
   "metadata": {},
   "outputs": [
    {
     "data": {
      "text/plain": [
       "'V.V.V.imp'"
      ]
     },
     "execution_count": 10,
     "metadata": {},
     "output_type": "execute_result"
    }
   ],
   "source": [
    "\"\"\"V.V.V.imp\"\"\"\n",
    "#to check the data is balance or imbalance data we always check for .value_counts()\n",
    "#it is important to check for classification specially otherwise it wont give appropriate results"
   ]
  },
  {
   "cell_type": "code",
   "execution_count": 11,
   "id": "3fbd1871-e98e-453c-9c81-117ba97a2332",
   "metadata": {},
   "outputs": [
    {
     "data": {
      "text/plain": [
       "label\n",
       "Household                 6000\n",
       "Electronics               6000\n",
       "Clothing & Accessories    6000\n",
       "Books                     6000\n",
       "Name: count, dtype: int64"
      ]
     },
     "execution_count": 11,
     "metadata": {},
     "output_type": "execute_result"
    }
   ],
   "source": [
    "df['label'].value_counts()"
   ]
  },
  {
   "cell_type": "markdown",
   "id": "65958e9e-1242-4c44-8a1e-d806bc0ce1b6",
   "metadata": {},
   "source": [
    "from the above ,we can see that almost all the labels are occurred equal number of times and perfectly balanced .There is no problem of class imbalance and hence no need to apply any balancing techniques like undersampling ,oversampling,etc "
   ]
  },
  {
   "cell_type": "code",
   "execution_count": 23,
   "id": "d8b241d1-78f3-4c0a-a53f-46c504c46d6b",
   "metadata": {},
   "outputs": [
    {
     "data": {
      "text/html": [
       "<div>\n",
       "<style scoped>\n",
       "    .dataframe tbody tr th:only-of-type {\n",
       "        vertical-align: middle;\n",
       "    }\n",
       "\n",
       "    .dataframe tbody tr th {\n",
       "        vertical-align: top;\n",
       "    }\n",
       "\n",
       "    .dataframe thead th {\n",
       "        text-align: right;\n",
       "    }\n",
       "</style>\n",
       "<table border=\"1\" class=\"dataframe\">\n",
       "  <thead>\n",
       "    <tr style=\"text-align: right;\">\n",
       "      <th></th>\n",
       "      <th>Text</th>\n",
       "      <th>label</th>\n",
       "      <th>label_num</th>\n",
       "    </tr>\n",
       "  </thead>\n",
       "  <tbody>\n",
       "    <tr>\n",
       "      <th>0</th>\n",
       "      <td>Urban Ladder Eisner Low Back Study-Office Comp...</td>\n",
       "      <td>Household</td>\n",
       "      <td>0</td>\n",
       "    </tr>\n",
       "    <tr>\n",
       "      <th>1</th>\n",
       "      <td>Contrast living Wooden Decorative Box,Painted ...</td>\n",
       "      <td>Household</td>\n",
       "      <td>0</td>\n",
       "    </tr>\n",
       "    <tr>\n",
       "      <th>2</th>\n",
       "      <td>IO Crest SY-PCI40010 PCI RAID Host Controller ...</td>\n",
       "      <td>Electronics</td>\n",
       "      <td>2</td>\n",
       "    </tr>\n",
       "    <tr>\n",
       "      <th>3</th>\n",
       "      <td>ISAKAA Baby Socks from Just Born to 8 Years- P...</td>\n",
       "      <td>Clothing &amp; Accessories</td>\n",
       "      <td>3</td>\n",
       "    </tr>\n",
       "    <tr>\n",
       "      <th>4</th>\n",
       "      <td>Indira Designer Women's Art Mysore Silk Saree ...</td>\n",
       "      <td>Clothing &amp; Accessories</td>\n",
       "      <td>3</td>\n",
       "    </tr>\n",
       "  </tbody>\n",
       "</table>\n",
       "</div>"
      ],
      "text/plain": [
       "                                                Text                   label  \\\n",
       "0  Urban Ladder Eisner Low Back Study-Office Comp...               Household   \n",
       "1  Contrast living Wooden Decorative Box,Painted ...               Household   \n",
       "2  IO Crest SY-PCI40010 PCI RAID Host Controller ...             Electronics   \n",
       "3  ISAKAA Baby Socks from Just Born to 8 Years- P...  Clothing & Accessories   \n",
       "4  Indira Designer Women's Art Mysore Silk Saree ...  Clothing & Accessories   \n",
       "\n",
       "   label_num  \n",
       "0          0  \n",
       "1          0  \n",
       "2          2  \n",
       "3          3  \n",
       "4          3  "
      ]
     },
     "execution_count": 23,
     "metadata": {},
     "output_type": "execute_result"
    }
   ],
   "source": [
    "#add the new coulumn which gives a unique number to each of these labels\n",
    "\n",
    "df['label_num']=df['label'].map({\n",
    "    'Household':0,\n",
    "    'Books':1,\n",
    "    'Electronics':2,\n",
    "    'Clothing & Accessories':3\n",
    "})\n",
    "#checking the results\n",
    "df.head(5)\n",
    "\n",
    "\"\"\"df['label_num']= df['label'].map({\n",
    "    'Household':0,\n",
    "    'Boooks':1,\n",
    "    'Electronics':2,\n",
    "    'Clothing & Accessories':3\n",
    "})\n",
    "#checking the result\n",
    "df['label_num'] = df['label_num'].fillna(-1).astype(int)\n",
    "df.head(5)\n",
    "\n",
    "\n",
    "if it gives us error then use this code becoz it was giving us the value in float so we used it .so to change that\n",
    "label_num coluumn to the numeric integer type  \"\"\"\n",
    "#checking the results\n",
    "df.head(5)"
   ]
  },
  {
   "cell_type": "markdown",
   "id": "8ee5b636-9d56-4354-a0cc-1577a4d3e229",
   "metadata": {},
   "source": [
    "# Train test split\n",
    "build a model with original text(no preprocessing)"
   ]
  },
  {
   "cell_type": "code",
   "execution_count": 22,
   "id": "844e42fd-4cea-416f-abc0-7edd6fe6a296",
   "metadata": {},
   "outputs": [],
   "source": [
    "from sklearn.model_selection import train_test_split\n",
    "\n",
    "X_train,X_test,y_train,y_test=train_test_split(\n",
    "    df.Text,\n",
    "    df.label_num,\n",
    "    test_size=0.2,#20% samples will go to test dataset\n",
    "    random_state=2022,\n",
    "    stratify=df.label_num\n",
    ")\n",
    "\n",
    "#stratify is for sampling technique to take samples randomly so that it can give us accurate result \n",
    "#for all types of data\n",
    "    "
   ]
  },
  {
   "cell_type": "code",
   "execution_count": 18,
   "id": "b7e757dd-8faf-4157-9795-c430ca2555aa",
   "metadata": {},
   "outputs": [
    {
     "name": "stdout",
     "output_type": "stream",
     "text": [
      "Shape of X_train: (19200,)\n",
      "Shape of X_test: (4800,)\n"
     ]
    }
   ],
   "source": [
    "print(\"Shape of X_train:\",X_train.shape)\n",
    "print(\"Shape of X_test:\",X_test.shape)"
   ]
  },
  {
   "cell_type": "code",
   "execution_count": 19,
   "id": "2d6d436e-13f4-44f5-a165-9990085be0ae",
   "metadata": {},
   "outputs": [
    {
     "data": {
      "text/plain": [
       "15820    IRIS Furniture Children Deluxe Spiderman Toddl...\n",
       "23224    Godox CB-09 Hard Carrying Storage Suitcase Car...\n",
       "4638     Ugreen All in 1 USB 3.0 Card Reader USB Memory...\n",
       "15245    Spread Spain Metallic Gold Bar Trolley/Kitchen...\n",
       "5378     Chromozome Men's Calf Socks (Pack of 3) (SX-3 ...\n",
       "Name: Text, dtype: object"
      ]
     },
     "execution_count": 19,
     "metadata": {},
     "output_type": "execute_result"
    }
   ],
   "source": [
    "X_train.head()"
   ]
  },
  {
   "cell_type": "code",
   "execution_count": 20,
   "id": "9f0cd84b-f486-4973-9430-3bcab348c6f7",
   "metadata": {},
   "outputs": [
    {
     "data": {
      "text/plain": [
       "20706    Lal Haveli Designer Handmade Patchwork Decorat...\n",
       "19166    GOTOTOP Classical Retro Cotton & PU Leather Ne...\n",
       "15209    FabSeasons Camouflage Polyester Multi Function...\n",
       "2462     Indian Superfoods: Change the Way You Eat Revi...\n",
       "6621     Milton Marvel Insulated Steel Casseroles, Juni...\n",
       "Name: Text, dtype: object"
      ]
     },
     "execution_count": 20,
     "metadata": {},
     "output_type": "execute_result"
    }
   ],
   "source": [
    "X_test.head()"
   ]
  },
  {
   "cell_type": "code",
   "execution_count": 24,
   "id": "8d82d2a8-9431-4b90-abfa-6dd5002cde3f",
   "metadata": {},
   "outputs": [
    {
     "data": {
      "text/plain": [
       "Text\n",
       "Diverse Men's Formal Shirt Diverse is a western wear value brand for men. Our range consists of basic and updated basic apparel across both formal and casual wear. We offer the right blend of quality, style and value aimed to delight our customers.                                                                                                                                                                                                                                                                                                                                                                                                                                                                                                                                                                                                                                                                                           19\n",
       "The Power of Your Subconscious Mind: Unlock Your Master Key to Success About the Author Joseph Murphy was a Divine Science minister and author. Murphy was born in Ireland, the son of a private boy's school headmaster and raised a Roman Catholic. He studied for the priesthood and joined the Jesuits. In his twenties an experience with healing prayer led him to leave the Jesuits and move to the United States. Murphy has given lectures and written books for audiences all over the world. In his lectures he points out how real people can radically improve their lives by applying specific aspects of his concepts.                                                                                                                                                                                                                                                                                                              15\n",
       "Littly Front Open Kids Thermal Top & Pyjama Set for Baby Boys & Baby Girls, Pack of 3 (Dark Colors) Stock up your little ones wardrobe with Littly Baby Thermal Set to give your kid an extra warm layer this winter. This set of Littly full sleeve thermal vest and legging are made from soft fabric which will keep your little one warm and cozy. The high quality fabric provides extra comfort and the front open thermal vest ensures fuss free dressing. Littly Baby Thermal Set comes in multiple colors and multiple sizes. Note: Actual product may slightly vary in terms of color /design and will be shipped based on availability.                                                                                                                                                                                                                                                                                                 15\n",
       "SanDisk Ultra A1 16GB Class 10 Ultra microSD UHS-I Card with Adapter (SDSQUAR-016G-GN6MA) Size name:16 GB   The SanDisk ultra microSDXC UHS-I card is perfect for recording and watching full HD video                                                                                                                                                                                                                                                                                                                                                                                                                                                                                                                                                                                                                                                                                                                                             13\n",
       "SanDisk 64GB Class 10 microSDXC Memory Card with Adapter (SDSQUAR-064G-GN6MA) Size name:64 GB   Capacity: 64GB;SanDisk Ultra microSDXC and microSDHC cards are fast for better pictures, app performance, and Full HD video.1 Ideal for Android smartphones and tablets, these A1-rated cards load apps faster for a better smartphone experience.3 With up to 256GB* capacity, you have the capacity to take more pictures and Full HD video and capture life at its fullest. Built to perform in harsh conditions, SanDisk Ultra microSD cards are waterproof, temperature proof, shockproof, and X-ray proof.2 The microSD card is also rated Class 10 for Full HD video recording performance and a 10-year limited warranty4.                                                                                                                                                                                                                 12\n",
       "                                                                                                                                                                                                                                                                                                                                                                                                                                                                                                                                                                                                                                                                                                                                                                                                                                                                                                                                                   ..\n",
       "SAF 'Floral' Framed Painting (Wood, 30 inch x 10 inch, Special Effect UV Print Textured, SAO297) Painting made up in synthetic frame with UV textured print which gives multi effects and attracts towards it. This is an special series of paintings which makes your wall very beautiful and gives a royal touch (A perfect gift for your special ones).                                                                                                                                                                                                                                                                                                                                                                                                                                                                                                                                                                                          1\n",
       "Santosha Decor Solid Sheesham Wood Nesting Tables/End Table/Bedside Table/Set of 3 Stool Set/Kids Study Table - Living Room Table Santosha Decor Sheesham wood nested tables set of 3 in wooden Straight lines and minimalist style of this collection is inspired by the urban Indian who likes to live in style. Dual tone light finish blends beautifully in modern homes. Your friends will love to have their personal serving tables to keep their drinks and snacks. Hand crafted from richly grained, solid Sheesham hardwood, our compact nest of tables features soft, smooth curves that grace a traditional design with a very unusual, contemporary air. Naturally neat and space-efficient, this is our most popular arrangement, presenting three occasional tables that simply slide away into the space of one neat showpiece. Offering remarkable value, the nest of tables arrives fully assembled, ready to use and admire.     1\n",
       "HITSAN INCORPORATION cable connector box terminal block compact universal home lighting cable connector for indoor hybrid quick connector 53PCS and D3 Model Number:PCT series; Brand Name:YQMFDG;                                                                                                                                                                                                                                                                                                                                                                                                                                                                                                                                                                                                                                                                                                                                                  1\n",
       "LITTLE BIRDIE-Clay Powder Natural - 2 kg                                                                                                                                                                                                                                                                                                                                                                                                                                                                                                                                                                                                                                                                                                                                                                                                                                                                                                            1\n",
       "AdINFINITUM 300GSM Marvel Superhero Printed Paper Poster, 9x13 Inches(Multicolour, 84) - Set of 8 SHOW YOUR SUPERHERO LOVE. Perfect colors, Creative design, digitally printed high quality 300 gsm paper posters for your home, office. Funny, inspiring and lovable designs to choose from. Make your walls look eye catching and creative with our large collection of posters. WE BELIEVE IN QUALITY AND PROVIDE OUR CUSTOMERS THE SAME                                                                                                                                                                                                                                                                                                                                                                                                                                                                                                         1\n",
       "Name: count, Length: 12158, dtype: int64"
      ]
     },
     "execution_count": 24,
     "metadata": {},
     "output_type": "execute_result"
    }
   ],
   "source": [
    "X_train.value_counts()"
   ]
  },
  {
   "cell_type": "code",
   "execution_count": 25,
   "id": "4370b531-a267-493c-86e1-821f28701ab5",
   "metadata": {},
   "outputs": [
    {
     "data": {
      "text/plain": [
       "15820    0\n",
       "23224    2\n",
       "4638     2\n",
       "15245    0\n",
       "5378     3\n",
       "Name: label_num, dtype: int64"
      ]
     },
     "execution_count": 25,
     "metadata": {},
     "output_type": "execute_result"
    }
   ],
   "source": [
    "y_train.head()"
   ]
  },
  {
   "cell_type": "code",
   "execution_count": 26,
   "id": "9623072d-c890-42ec-9fc1-30633eac7817",
   "metadata": {},
   "outputs": [
    {
     "data": {
      "text/plain": [
       "label_num\n",
       "0    4800\n",
       "2    4800\n",
       "3    4800\n",
       "1    4800\n",
       "Name: count, dtype: int64"
      ]
     },
     "execution_count": 26,
     "metadata": {},
     "output_type": "execute_result"
    }
   ],
   "source": [
    "y_train.value_counts()"
   ]
  },
  {
   "cell_type": "code",
   "execution_count": 31,
   "id": "959ef8fb-d340-4e4c-803b-250c97ea3d56",
   "metadata": {},
   "outputs": [
    {
     "name": "stdout",
     "output_type": "stream",
     "text": [
      "              precision    recall  f1-score   support\n",
      "\n",
      "           0       0.95      0.96      0.95      1200\n",
      "           1       0.97      0.95      0.96      1200\n",
      "           2       0.97      0.97      0.97      1200\n",
      "           3       0.97      0.98      0.97      1200\n",
      "\n",
      "    accuracy                           0.96      4800\n",
      "   macro avg       0.96      0.96      0.96      4800\n",
      "weighted avg       0.96      0.96      0.96      4800\n",
      "\n"
     ]
    }
   ],
   "source": [
    "\"\"\"V.V.V.IMPortant for interview \"\"\"\n",
    "from sklearn.neighbors import KNeighborsClassifier\n",
    "from sklearn.pipeline import Pipeline\n",
    "from sklearn.metrics import classification_report\n",
    "\n",
    "#1.create a pipeline object\n",
    "clf=Pipeline([\n",
    "    ('vectorizer_tfidf',TfidfVectorizer()),\n",
    "    ('KNN',KNeighborsClassifier())\n",
    "])\n",
    "\n",
    "#2.fit with X_train y_train'\n",
    "clf.fit(X_train,y_train)\n",
    "\n",
    "#3.get the predictions fo X_test and score it in y_pred\n",
    "y_pred=clf.predict(X_test)\n",
    "\n",
    "#print the classification report\n",
    "print(classification_report(y_test,y_pred))"
   ]
  },
  {
   "cell_type": "code",
   "execution_count": 32,
   "id": "c0a30143-640e-48ed-8101-44b2dfca711f",
   "metadata": {},
   "outputs": [
    {
     "data": {
      "text/plain": [
       "20706    Lal Haveli Designer Handmade Patchwork Decorat...\n",
       "19166    GOTOTOP Classical Retro Cotton & PU Leather Ne...\n",
       "15209    FabSeasons Camouflage Polyester Multi Function...\n",
       "2462     Indian Superfoods: Change the Way You Eat Revi...\n",
       "6621     Milton Marvel Insulated Steel Casseroles, Juni...\n",
       "Name: Text, dtype: object"
      ]
     },
     "execution_count": 32,
     "metadata": {},
     "output_type": "execute_result"
    }
   ],
   "source": [
    "X_test[:5]"
   ]
  },
  {
   "cell_type": "code",
   "execution_count": 33,
   "id": "d76f4298-26ff-4ab8-953d-992ab2957123",
   "metadata": {},
   "outputs": [
    {
     "data": {
      "text/plain": [
       "20706    0\n",
       "19166    2\n",
       "15209    3\n",
       "2462     1\n",
       "6621     3\n",
       "Name: label_num, dtype: int64"
      ]
     },
     "execution_count": 33,
     "metadata": {},
     "output_type": "execute_result"
    }
   ],
   "source": [
    "y_test[:5]"
   ]
  },
  {
   "cell_type": "code",
   "execution_count": 35,
   "id": "1ba16c33-9d77-4116-8596-4ab9a7857adb",
   "metadata": {},
   "outputs": [
    {
     "data": {
      "text/plain": [
       "array([0, 2, 3, 1, 0], dtype=int64)"
      ]
     },
     "execution_count": 35,
     "metadata": {},
     "output_type": "execute_result"
    }
   ],
   "source": [
    "y_pred[:5]"
   ]
  },
  {
   "cell_type": "code",
   "execution_count": null,
   "id": "cdf421c3-c16d-4fea-9f2e-7d3b453352a2",
   "metadata": {},
   "outputs": [],
   "source": []
  }
 ],
 "metadata": {
  "kernelspec": {
   "display_name": "Python 3 (ipykernel)",
   "language": "python",
   "name": "python3"
  },
  "language_info": {
   "codemirror_mode": {
    "name": "ipython",
    "version": 3
   },
   "file_extension": ".py",
   "mimetype": "text/x-python",
   "name": "python",
   "nbconvert_exporter": "python",
   "pygments_lexer": "ipython3",
   "version": "3.11.7"
  }
 },
 "nbformat": 4,
 "nbformat_minor": 5
}
