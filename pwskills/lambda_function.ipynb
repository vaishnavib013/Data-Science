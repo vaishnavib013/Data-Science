{
 "cells": [
  {
   "cell_type": "code",
   "execution_count": 19,
   "id": "41dc1ce3-0b7a-404e-8232-b62a11cacbc1",
   "metadata": {},
   "outputs": [],
   "source": [
    "#lambda function:\n",
    "\"\"\"this are one line function\n",
    "\n",
    "it is also called as anonmyous function because we have not defined the name of \n",
    "this function and we simply writes it operations by writing the inputs and then it \n",
    "return value\n",
    "\n",
    "this is the function without name\n",
    "\"\"\"\n",
    "n=3\n",
    "p=2"
   ]
  },
  {
   "cell_type": "code",
   "execution_count": 4,
   "id": "19cfcf99-537e-450a-9302-0e5c4a033988",
   "metadata": {},
   "outputs": [],
   "source": [
    "def test(n,p):\n",
    "    return n**p"
   ]
  },
  {
   "cell_type": "code",
   "execution_count": 5,
   "id": "686fd593-c21a-4fd3-a7d8-22ec15e55619",
   "metadata": {},
   "outputs": [
    {
     "data": {
      "text/plain": [
       "9"
      ]
     },
     "execution_count": 5,
     "metadata": {},
     "output_type": "execute_result"
    }
   ],
   "source": [
    "test(3,2)"
   ]
  },
  {
   "cell_type": "code",
   "execution_count": 6,
   "id": "4ffa10a1-49ff-4186-ad5f-26133c216dcb",
   "metadata": {},
   "outputs": [
    {
     "data": {
      "text/plain": [
       "<function __main__.<lambda>(n, p)>"
      ]
     },
     "execution_count": 6,
     "metadata": {},
     "output_type": "execute_result"
    }
   ],
   "source": [
    "lambda n,p:n**p#here lambda function is created"
   ]
  },
  {
   "cell_type": "markdown",
   "id": "9b9ed85d-deb0-4be6-966f-85d7fd023659",
   "metadata": {},
   "source": [
    "here this is the lambda function.                                                         \n",
    "\n",
    "here we have initialized this function as lambda as in normal function we initialized it by the keyword def.                                                                 \n",
    "then we gave the number of the inputs like here are inputs were n and p                   \n",
    "then whatever our expression or whatever we want to return will be written after writing the colon                                                                            \n",
    "here we have written :                                                                  \n",
    "then  our reutrn value n**p   \n",
    "\n",
    "now whatever it is given in the output that tells us that this function has become the lambda function.\n",
    "\n",
    "but we have not stored it in any of the variable so we will store it in any of thr variable and then we will call that variable by passing the parameters whatever we want to give the values in it"
   ]
  },
  {
   "cell_type": "code",
   "execution_count": 7,
   "id": "c5eea19d-294a-4676-9f31-cf8110b1a7d4",
   "metadata": {},
   "outputs": [
    {
     "data": {
      "text/plain": [
       "9"
      ]
     },
     "execution_count": 7,
     "metadata": {},
     "output_type": "execute_result"
    }
   ],
   "source": [
    "a=lambda n,p:n**p\n",
    "a(3,2)"
   ]
  },
  {
   "cell_type": "markdown",
   "id": "551a2084-4e5c-4c32-bb0f-12a136989327",
   "metadata": {},
   "source": [
    "here this a becomes the named entity\n",
    "so whenever we wants to call this function we will call this a"
   ]
  },
  {
   "cell_type": "code",
   "execution_count": 12,
   "id": "11799d2c-9fd2-4e8d-9608-690aea23ab10",
   "metadata": {},
   "outputs": [
    {
     "data": {
      "text/plain": [
       "9"
      ]
     },
     "execution_count": 12,
     "metadata": {},
     "output_type": "execute_result"
    }
   ],
   "source": [
    "#to create the function for addition using the lambda function\n",
    "add=lambda a,b : a+b\n",
    "add(4,5)"
   ]
  },
  {
   "cell_type": "code",
   "execution_count": 11,
   "id": "7f45caf6-0c8d-4e99-9686-23637f036681",
   "metadata": {},
   "outputs": [
    {
     "data": {
      "text/plain": [
       "30"
      ]
     },
     "execution_count": 11,
     "metadata": {},
     "output_type": "execute_result"
    }
   ],
   "source": [
    "add(10,20)"
   ]
  },
  {
   "cell_type": "code",
   "execution_count": 14,
   "id": "beeae126-25d5-482f-8dff-d76c083d99e2",
   "metadata": {},
   "outputs": [
    {
     "data": {
      "text/plain": [
       "113.0"
      ]
     },
     "execution_count": 14,
     "metadata": {},
     "output_type": "execute_result"
    }
   ],
   "source": [
    "#celsius_to_farhenite\n",
    "c_to_f=lambda c:(9/5)*c+32\n",
    "c_to_f(45)"
   ]
  },
  {
   "cell_type": "code",
   "execution_count": 16,
   "id": "9bf49dbd-32d0-4123-b392-714a33f9bb6f",
   "metadata": {},
   "outputs": [
    {
     "data": {
      "text/plain": [
       "7"
      ]
     },
     "execution_count": 16,
     "metadata": {},
     "output_type": "execute_result"
    }
   ],
   "source": [
    "#conditions with lambda function ie if else with lambda\n",
    "#finding maximum number\n",
    "finding_max=lambda x,y:x if x>y else y\n",
    "finding_max(5,7)"
   ]
  },
  {
   "cell_type": "code",
   "execution_count": 18,
   "id": "5b57a7b5-f164-4f37-8fb1-007737ef4f51",
   "metadata": {},
   "outputs": [
    {
     "data": {
      "text/plain": [
       "8"
      ]
     },
     "execution_count": 18,
     "metadata": {},
     "output_type": "execute_result"
    }
   ],
   "source": [
    "s=\"pwskills\"\n",
    "#write lambda function that returns the string's length\n",
    "len_string=lambda s:len(s)\n",
    "len_string(s)"
   ]
  },
  {
   "cell_type": "code",
   "execution_count": null,
   "id": "12803510-4fbe-4f06-9222-be40fa208696",
   "metadata": {},
   "outputs": [],
   "source": []
  }
 ],
 "metadata": {
  "kernelspec": {
   "display_name": "Python 3 (ipykernel)",
   "language": "python",
   "name": "python3"
  },
  "language_info": {
   "codemirror_mode": {
    "name": "ipython",
    "version": 3
   },
   "file_extension": ".py",
   "mimetype": "text/x-python",
   "name": "python",
   "nbconvert_exporter": "python",
   "pygments_lexer": "ipython3",
   "version": "3.11.7"
  }
 },
 "nbformat": 4,
 "nbformat_minor": 5
}
