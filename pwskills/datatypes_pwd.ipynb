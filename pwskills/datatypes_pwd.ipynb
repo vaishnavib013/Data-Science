{
 "cells": [
  {
   "cell_type": "code",
   "execution_count": 1,
   "id": "2943b93e-d7d0-4489-b8d5-45c615d063bb",
   "metadata": {},
   "outputs": [
    {
     "name": "stdout",
     "output_type": "stream",
     "text": [
      "hello world\n"
     ]
    }
   ],
   "source": [
    "print(\"hello world\")"
   ]
  },
  {
   "cell_type": "code",
   "execution_count": 1,
   "id": "0ec5d5fb-4dac-445c-b051-91f85265c086",
   "metadata": {},
   "outputs": [
    {
     "data": {
      "text/plain": [
       "[1, 12.345, 'sudh', True, (5+7j), 45, 345.876]"
      ]
     },
     "execution_count": 1,
     "metadata": {},
     "output_type": "execute_result"
    }
   ],
   "source": [
    "l=[1,12.345,'sudh',True,5+7j,45,345.876]\n",
    "l"
   ]
  },
  {
   "cell_type": "code",
   "execution_count": 2,
   "id": "e361dedc-40cb-4a53-a6fc-15e00c76c42e",
   "metadata": {},
   "outputs": [
    {
     "data": {
      "text/plain": [
       "[345.876, 45, (5+7j), True, 'sudh', 12.345, 1]"
      ]
     },
     "execution_count": 2,
     "metadata": {},
     "output_type": "execute_result"
    }
   ],
   "source": [
    "l[::-1]"
   ]
  },
  {
   "cell_type": "code",
   "execution_count": 23,
   "id": "2385f390-6fcf-4cd6-996e-592f565f0748",
   "metadata": {},
   "outputs": [],
   "source": [
    "s='pwdskills'"
   ]
  },
  {
   "cell_type": "code",
   "execution_count": 24,
   "id": "0c7bd840-0422-4ccc-b5d3-58540787383b",
   "metadata": {},
   "outputs": [
    {
     "data": {
      "text/plain": [
       "'pwdskills'"
      ]
     },
     "execution_count": 24,
     "metadata": {},
     "output_type": "execute_result"
    }
   ],
   "source": [
    "s"
   ]
  },
  {
   "cell_type": "code",
   "execution_count": 5,
   "id": "0b757f41-f58b-495e-afe4-393722e13b98",
   "metadata": {},
   "outputs": [
    {
     "ename": "TypeError",
     "evalue": "can only concatenate list (not \"str\") to list",
     "output_type": "error",
     "traceback": [
      "\u001b[1;31m---------------------------------------------------------------------------\u001b[0m",
      "\u001b[1;31mTypeError\u001b[0m                                 Traceback (most recent call last)",
      "Cell \u001b[1;32mIn[5], line 1\u001b[0m\n\u001b[1;32m----> 1\u001b[0m l\u001b[38;5;241m+\u001b[39ms\n",
      "\u001b[1;31mTypeError\u001b[0m: can only concatenate list (not \"str\") to list"
     ]
    }
   ],
   "source": [
    "l+s#it will give the error as 2 diiferent datatypes cannot be concatinated"
   ]
  },
  {
   "cell_type": "code",
   "execution_count": 7,
   "id": "98828465-fdd7-4def-a4ad-82bb63ff02d0",
   "metadata": {},
   "outputs": [
    {
     "data": {
      "text/plain": [
       "['p', 'w', 'd', 's', 'k', 'i', 'l', 'l', 's']"
      ]
     },
     "execution_count": 7,
     "metadata": {},
     "output_type": "execute_result"
    }
   ],
   "source": [
    "\"\"\"as there is \"list()\" function in python throgh which we can convert the the given\n",
    "string into the list datatype.but it will separate/breakout all the alphabets in that word\n",
    "and treat each of them as a individual element.\"\"\"\n",
    "list(s)#converting the string datatype into the list datatype\n"
   ]
  },
  {
   "cell_type": "code",
   "execution_count": 8,
   "id": "99bdb6bf-dd71-4afe-b7ab-5c386d9e6263",
   "metadata": {},
   "outputs": [
    {
     "data": {
      "text/plain": [
       "['p',\n",
       " 'w',\n",
       " 'd',\n",
       " 's',\n",
       " 'k',\n",
       " 'i',\n",
       " 'l',\n",
       " 'l',\n",
       " 's',\n",
       " 1,\n",
       " 12.345,\n",
       " 'sudh',\n",
       " True,\n",
       " (5+7j),\n",
       " 45,\n",
       " 345.876]"
      ]
     },
     "execution_count": 8,
     "metadata": {},
     "output_type": "execute_result"
    }
   ],
   "source": [
    "list(s)+l"
   ]
  },
  {
   "cell_type": "code",
   "execution_count": 29,
   "id": "5fad0f15-dc3f-4c66-9493-d6a92a610958",
   "metadata": {},
   "outputs": [
    {
     "data": {
      "text/plain": [
       "[1, 12.345, 'sudh', True, (5+7j), 45, 345.876]"
      ]
     },
     "execution_count": 29,
     "metadata": {},
     "output_type": "execute_result"
    }
   ],
   "source": [
    "l"
   ]
  },
  {
   "cell_type": "code",
   "execution_count": 10,
   "id": "e447dc00-3d0b-4a9b-95a3-f2f535e74978",
   "metadata": {},
   "outputs": [
    {
     "data": {
      "text/plain": [
       "'su'"
      ]
     },
     "execution_count": 10,
     "metadata": {},
     "output_type": "execute_result"
    }
   ],
   "source": [
    "l[2][:2]"
   ]
  },
  {
   "cell_type": "code",
   "execution_count": 11,
   "id": "22cd56ef-4f6c-4add-996a-e3ff3574c735",
   "metadata": {},
   "outputs": [
    {
     "ename": "TypeError",
     "evalue": "'bool' object is not subscriptable",
     "output_type": "error",
     "traceback": [
      "\u001b[1;31m---------------------------------------------------------------------------\u001b[0m",
      "\u001b[1;31mTypeError\u001b[0m                                 Traceback (most recent call last)",
      "Cell \u001b[1;32mIn[11], line 1\u001b[0m\n\u001b[1;32m----> 1\u001b[0m l[\u001b[38;5;241m3\u001b[39m][\u001b[38;5;241m-\u001b[39m\u001b[38;5;241m1\u001b[39m:\u001b[38;5;241m-\u001b[39m\u001b[38;5;241m3\u001b[39m]\n",
      "\u001b[1;31mTypeError\u001b[0m: 'bool' object is not subscriptable"
     ]
    }
   ],
   "source": [
    "l[3][-1:-3]"
   ]
  },
  {
   "cell_type": "code",
   "execution_count": 12,
   "id": "4422c913-d4a8-40a4-8112-175f95da041c",
   "metadata": {},
   "outputs": [
    {
     "data": {
      "text/plain": [
       "'True'"
      ]
     },
     "execution_count": 12,
     "metadata": {},
     "output_type": "execute_result"
    }
   ],
   "source": [
    "str(l[3])"
   ]
  },
  {
   "cell_type": "code",
   "execution_count": 22,
   "id": "ea1cf267-f67e-441f-ad0c-3f03df091eea",
   "metadata": {},
   "outputs": [
    {
     "data": {
      "text/plain": [
       "'Tr'"
      ]
     },
     "execution_count": 22,
     "metadata": {},
     "output_type": "execute_result"
    }
   ],
   "source": [
    "str(l[3])[:2:1]"
   ]
  },
  {
   "cell_type": "code",
   "execution_count": 30,
   "id": "85fc1e42-757d-48c1-b752-26acf47fef45",
   "metadata": {},
   "outputs": [
    {
     "ename": "TypeError",
     "evalue": "can only concatenate list (not \"int\") to list",
     "output_type": "error",
     "traceback": [
      "\u001b[1;31m---------------------------------------------------------------------------\u001b[0m",
      "\u001b[1;31mTypeError\u001b[0m                                 Traceback (most recent call last)",
      "Cell \u001b[1;32mIn[30], line 1\u001b[0m\n\u001b[1;32m----> 1\u001b[0m l\u001b[38;5;241m+\u001b[39m\u001b[38;5;241m5\u001b[39m\n",
      "\u001b[1;31mTypeError\u001b[0m: can only concatenate list (not \"int\") to list"
     ]
    }
   ],
   "source": [
    "l+5"
   ]
  },
  {
   "cell_type": "code",
   "execution_count": 28,
   "id": "e9c5f3e0-04ab-44f5-b022-b8c0470d3f65",
   "metadata": {},
   "outputs": [],
   "source": [
    "l1=[3,4,5]"
   ]
  },
  {
   "cell_type": "code",
   "execution_count": 32,
   "id": "ebf8a088-649c-431a-a898-ff8f3393482e",
   "metadata": {},
   "outputs": [
    {
     "data": {
      "text/plain": [
       "[1, 12.345, 'sudh', True, (5+7j), 45, 345.876, 3, 4, 5]"
      ]
     },
     "execution_count": 32,
     "metadata": {},
     "output_type": "execute_result"
    }
   ],
   "source": [
    "l+l1#list is being concatinated with the list only not different datatype "
   ]
  },
  {
   "cell_type": "code",
   "execution_count": 33,
   "id": "588d173e-a446-4e1d-9bce-935afa30f3f6",
   "metadata": {},
   "outputs": [
    {
     "data": {
      "text/plain": [
       "[3, 4, 5, 3, 4, 5, 3, 4, 5]"
      ]
     },
     "execution_count": 33,
     "metadata": {},
     "output_type": "execute_result"
    }
   ],
   "source": [
    "l1*3#the list will be displayed 3 times in one list ie the values will be repeated 3 times "
   ]
  },
  {
   "cell_type": "code",
   "execution_count": 37,
   "id": "41937b61-5a66-4afb-b937-be6d972d536a",
   "metadata": {},
   "outputs": [
    {
     "data": {
      "text/plain": [
       "[1, 12.345, 'sudh', True, (5+7j), 45, 345.876]"
      ]
     },
     "execution_count": 37,
     "metadata": {},
     "output_type": "execute_result"
    }
   ],
   "source": [
    "l"
   ]
  },
  {
   "cell_type": "code",
   "execution_count": 38,
   "id": "6b4bb48a-151c-4469-8ba5-2008432a5346",
   "metadata": {},
   "outputs": [
    {
     "data": {
      "text/plain": [
       "7"
      ]
     },
     "execution_count": 38,
     "metadata": {},
     "output_type": "execute_result"
    }
   ],
   "source": [
    "len(l)"
   ]
  },
  {
   "cell_type": "code",
   "execution_count": 35,
   "id": "62da4269-2cba-4794-825a-349e9b7f9148",
   "metadata": {},
   "outputs": [
    {
     "data": {
      "text/plain": [
       "[1, 12.345, 'sudh', True, (5+7j), 45, 345.876]"
      ]
     },
     "execution_count": 35,
     "metadata": {},
     "output_type": "execute_result"
    }
   ],
   "source": [
    "l=[1,12.345,'sudh',True,5+7j,45,345.876]\n",
    "l"
   ]
  },
  {
   "cell_type": "code",
   "execution_count": 19,
   "id": "3a362b26-c077-40fa-95ed-d0381431d175",
   "metadata": {},
   "outputs": [],
   "source": [
    "l.append(5)#we have appended the element 5 from backside of the list"
   ]
  },
  {
   "cell_type": "code",
   "execution_count": 20,
   "id": "05aaf379-cb15-4202-9078-5285279e8881",
   "metadata": {},
   "outputs": [
    {
     "data": {
      "text/plain": [
       "[1, 12.345, 'sudh', True, (5+7j), 45, 345.876, 5]"
      ]
     },
     "execution_count": 20,
     "metadata": {},
     "output_type": "execute_result"
    }
   ],
   "source": [
    "l#now you can be able to see the changes in the original list ,element 5 is got added"
   ]
  },
  {
   "cell_type": "code",
   "execution_count": 2,
   "id": "890e74b8-d493-4f4d-b2f8-06142fd913e2",
   "metadata": {},
   "outputs": [
    {
     "data": {
      "text/plain": [
       "'append() can take one argument only at a time.NO multiple elements are \\nallowed in the paraments or the arguments.instead we can declare another list and mention \\nthe multiple elements in that list and pass that list in the append ().so that list1 will\\nget appended in list at th end'"
      ]
     },
     "execution_count": 2,
     "metadata": {},
     "output_type": "execute_result"
    }
   ],
   "source": [
    "l.append('name')\n",
    "\"\"\"append() can take one argument only at a time.NO multiple elements are \n",
    "allowed in the paraments or the arguments.instead we can declare another list and mention \n",
    "the multiple elements in that list and pass that list in the append ().so that list1 will\n",
    "get appended in list at th end\"\"\"\n"
   ]
  },
  {
   "cell_type": "code",
   "execution_count": 3,
   "id": "1a54d972-e12e-40cc-afa7-1382600339b2",
   "metadata": {},
   "outputs": [
    {
     "data": {
      "text/plain": [
       "[1, 12.345, 'sudh', True, (5+7j), 45, 345.876, 'name']"
      ]
     },
     "execution_count": 3,
     "metadata": {},
     "output_type": "execute_result"
    }
   ],
   "source": [
    "l"
   ]
  },
  {
   "cell_type": "code",
   "execution_count": 25,
   "id": "3de105fa-753a-4f7f-b79c-9b13200b90a0",
   "metadata": {},
   "outputs": [],
   "source": [
    "l.append(s)"
   ]
  },
  {
   "cell_type": "code",
   "execution_count": 26,
   "id": "6a8ae067-6a82-44b4-9299-ee0739b79ea8",
   "metadata": {},
   "outputs": [
    {
     "data": {
      "text/plain": [
       "[1, 12.345, 'sudh', True, (5+7j), 45, 345.876, 5, 'pwdskills']"
      ]
     },
     "execution_count": 26,
     "metadata": {},
     "output_type": "execute_result"
    }
   ],
   "source": [
    "l"
   ]
  },
  {
   "cell_type": "code",
   "execution_count": 33,
   "id": "3f3b98e8-24d1-4c73-8eff-caac58abdf3a",
   "metadata": {},
   "outputs": [
    {
     "data": {
      "text/plain": [
       "[3, 4, 5]"
      ]
     },
     "execution_count": 33,
     "metadata": {},
     "output_type": "execute_result"
    }
   ],
   "source": [
    "l1=[3,4,5]\n",
    "l1"
   ]
  },
  {
   "cell_type": "code",
   "execution_count": 6,
   "id": "caeff71f-8759-4b56-8321-f7e6b54605f4",
   "metadata": {},
   "outputs": [
    {
     "data": {
      "text/plain": [
       "[1, 12.345, 'sudh', True, (5+7j), 45, 345.876, 'name', 3, 4, 5]"
      ]
     },
     "execution_count": 6,
     "metadata": {},
     "output_type": "execute_result"
    }
   ],
   "source": [
    "l+l1"
   ]
  },
  {
   "cell_type": "code",
   "execution_count": 15,
   "id": "1abdd599-26e2-4ab8-a4ae-4cf2dbc55fe2",
   "metadata": {},
   "outputs": [],
   "source": [
    "l.append(l1)#here the list as it is will be included not only the elemets but also the list"
   ]
  },
  {
   "cell_type": "code",
   "execution_count": 16,
   "id": "4e303d5b-9224-4b96-ab42-db9d09077d63",
   "metadata": {},
   "outputs": [
    {
     "data": {
      "text/plain": [
       "[1, 12.345, 'sudh', True, (5+7j), 45, 345.876, 5, [3, 4, 5]]"
      ]
     },
     "execution_count": 16,
     "metadata": {},
     "output_type": "execute_result"
    }
   ],
   "source": [
    "l"
   ]
  },
  {
   "cell_type": "code",
   "execution_count": 17,
   "id": "2a69d22f-c1f1-4f22-9f03-2cddc02136cc",
   "metadata": {},
   "outputs": [
    {
     "data": {
      "text/plain": [
       "4"
      ]
     },
     "execution_count": 17,
     "metadata": {},
     "output_type": "execute_result"
    }
   ],
   "source": [
    "l[-1][1]#to extract the 2nd element of the list inside the list...so,1st choose the list\n",
    "        #then the position of the list inside the list thwn which element to be extracted"
   ]
  },
  {
   "cell_type": "code",
   "execution_count": 13,
   "id": "eead795f-ff9d-4109-88e7-35bfb9770513",
   "metadata": {},
   "outputs": [
    {
     "data": {
      "text/plain": [
       "[1, 12.345, 'sudh', True, (5+7j), 45, 345.876]"
      ]
     },
     "execution_count": 13,
     "metadata": {},
     "output_type": "execute_result"
    }
   ],
   "source": [
    "l=[1,12.345,'sudh',True,5+7j,45,345.876]\n",
    "l"
   ]
  },
  {
   "cell_type": "code",
   "execution_count": 14,
   "id": "e1c18d01-7717-41eb-afe8-3ca1b8cb9238",
   "metadata": {},
   "outputs": [
    {
     "data": {
      "text/plain": [
       "[1, 12.345, 'sudh', True, (5+7j), 45, 345.876, 5]"
      ]
     },
     "execution_count": 14,
     "metadata": {},
     "output_type": "execute_result"
    }
   ],
   "source": [
    "#to append the element at the last we will use the append ()\n",
    "l.append(5)\n",
    "l"
   ]
  },
  {
   "cell_type": "code",
   "execution_count": 21,
   "id": "dfe1415e-a01d-4c39-813e-9971971c21b6",
   "metadata": {},
   "outputs": [
    {
     "ename": "AttributeError",
     "evalue": "'list' object has no attribute 'extendI'",
     "output_type": "error",
     "traceback": [
      "\u001b[1;31m---------------------------------------------------------------------------\u001b[0m",
      "\u001b[1;31mAttributeError\u001b[0m                            Traceback (most recent call last)",
      "Cell \u001b[1;32mIn[21], line 2\u001b[0m\n\u001b[0;32m      1\u001b[0m \u001b[38;5;66;03m#extend()\u001b[39;00m\n\u001b[1;32m----> 2\u001b[0m l\u001b[38;5;241m.\u001b[39mextendI(\u001b[38;5;241m4\u001b[39m)\n",
      "\u001b[1;31mAttributeError\u001b[0m: 'list' object has no attribute 'extendI'"
     ]
    }
   ],
   "source": [
    "#extend()\n",
    "l.extendI(4)\n",
    "#it will give an error \n",
    "#bcoz integer cannot be broken into individual variable"
   ]
  },
  {
   "cell_type": "code",
   "execution_count": 22,
   "id": "01ce9c57-da65-4663-a83f-c558ec7240db",
   "metadata": {},
   "outputs": [
    {
     "data": {
      "text/plain": [
       "'extend is use to break the iterables and then append them to the list..\\nfor eg.,in this eg we can see that sudh is added at the end of the list by breaking \\nthem as an individual letters like \"s,u,d,h\" so here integers cannot be added as it\\ncannot be broken into iterables or individuals,so only string type of data are \\nallowed.'"
      ]
     },
     "execution_count": 22,
     "metadata": {},
     "output_type": "execute_result"
    }
   ],
   "source": [
    "l.extend(\"sudh\")\n",
    "#extend():\n",
    "\"\"\"extend is use to break the iterables and then append them to the list..\n",
    "for eg.,in this eg we can see that sudh is added at the end of the list by breaking \n",
    "them as an individual letters like \"s,u,d,h\" so here integers cannot be added as it\n",
    "cannot be broken into iterables or individuals,so only string type of data are \n",
    "allowed.\"\"\""
   ]
  },
  {
   "cell_type": "code",
   "execution_count": 23,
   "id": "35555043-2f0f-475d-8c1c-78013eae60e4",
   "metadata": {},
   "outputs": [
    {
     "data": {
      "text/plain": [
       "[1,\n",
       " 12.345,\n",
       " 'sudh',\n",
       " True,\n",
       " (5+7j),\n",
       " 45,\n",
       " 345.876,\n",
       " 5,\n",
       " [3, 4, 5],\n",
       " 's',\n",
       " 'u',\n",
       " 'd',\n",
       " 'h',\n",
       " 's',\n",
       " 'u',\n",
       " 'd',\n",
       " 'h']"
      ]
     },
     "execution_count": 23,
     "metadata": {},
     "output_type": "execute_result"
    }
   ],
   "source": [
    "l"
   ]
  },
  {
   "cell_type": "code",
   "execution_count": 24,
   "id": "dd2882c9-d775-463d-9955-fd5c2afac19a",
   "metadata": {},
   "outputs": [
    {
     "data": {
      "text/plain": [
       "[1,\n",
       " 12.345,\n",
       " 'sudh',\n",
       " True,\n",
       " (5+7j),\n",
       " 45,\n",
       " 345.876,\n",
       " 5,\n",
       " [3, 4, 5],\n",
       " 's',\n",
       " 'u',\n",
       " 'd',\n",
       " 'h',\n",
       " 's',\n",
       " 'u',\n",
       " 'd',\n",
       " 'h',\n",
       " 3,\n",
       " 4,\n",
       " 5]"
      ]
     },
     "execution_count": 24,
     "metadata": {},
     "output_type": "execute_result"
    }
   ],
   "source": [
    "l.extend([3,4,5])\n",
    "l\n",
    "#here when we add the list1 into list then it breaks the elements then add to the list"
   ]
  },
  {
   "cell_type": "code",
   "execution_count": 55,
   "id": "e8c1dc78-6ecd-49d7-abba-67b1324a0365",
   "metadata": {},
   "outputs": [
    {
     "data": {
      "text/plain": [
       "[1,\n",
       " 12.345,\n",
       " 'sudh',\n",
       " True,\n",
       " (5+7j),\n",
       " 45,\n",
       " 345.876,\n",
       " 5,\n",
       " [3, 'sudh', 'sudh', 4, 5],\n",
       " 's',\n",
       " 'u',\n",
       " 'd',\n",
       " 'h',\n",
       " 's',\n",
       " 'u',\n",
       " 'd',\n",
       " 'h',\n",
       " 3,\n",
       " 4,\n",
       " 5,\n",
       " 3,\n",
       " 4,\n",
       " 5,\n",
       " 3,\n",
       " 4,\n",
       " 5,\n",
       " 3,\n",
       " 4,\n",
       " 5,\n",
       " 3]"
      ]
     },
     "execution_count": 55,
     "metadata": {},
     "output_type": "execute_result"
    }
   ],
   "source": [
    "l.extend(l1)\n",
    "l\n",
    "#here when we add the list1 into list then it breaks the elements then add to the list"
   ]
  },
  {
   "cell_type": "code",
   "execution_count": 34,
   "id": "9c20e2a7-177f-493f-bed0-8aeba264c69d",
   "metadata": {},
   "outputs": [
    {
     "data": {
      "text/plain": [
       "[3, 4, 5]"
      ]
     },
     "execution_count": 34,
     "metadata": {},
     "output_type": "execute_result"
    }
   ],
   "source": [
    "l1"
   ]
  },
  {
   "cell_type": "code",
   "execution_count": 36,
   "id": "37dad70e-bbc1-455c-a83b-d0cce447c996",
   "metadata": {},
   "outputs": [
    {
     "data": {
      "text/plain": [
       "'insert() is used to insert the elements wherever we want in the list.\\nit accepts 2 parameters strictly i.e.(1st argument is location or te position at \\nwhich we want to insert the elements,2nd parameter is the elements or list which we \\nwant to insert'"
      ]
     },
     "execution_count": 36,
     "metadata": {},
     "output_type": "execute_result"
    }
   ],
   "source": [
    "#insert()\n",
    "l1.insert(1,\"sudh\")\n",
    "l1\n",
    "\"\"\"insert() is used to insert the elements wherever we want in the list.\n",
    "it accepts 2 parameters strictly i.e.(1st argument is location or te position at \n",
    "which we want to insert the elements,2nd parameter is the elements or list which we \n",
    "want to insert\"\"\""
   ]
  },
  {
   "cell_type": "code",
   "execution_count": 45,
   "id": "251d886e-0b7e-4135-9137-f1236d66a138",
   "metadata": {},
   "outputs": [
    {
     "data": {
      "text/plain": [
       "'here the 45 will be inserted as the -1 position ie in place of 5 and that \\nelement 5 will be pushed front...ie after the element 45 it will appear as 5.'"
      ]
     },
     "execution_count": 45,
     "metadata": {},
     "output_type": "execute_result"
    }
   ],
   "source": [
    "l1.insert(-1,45)\n",
    "l1\n",
    "#o/p:[3, 'sudh', 'sudh', 4, 45, 5]\n",
    "\"\"\"here the 45 will be inserted as the -1 position ie in place of 5 and that \n",
    "element 5 will be pushed front...ie after the element 45 it will appear as 5.\"\"\""
   ]
  },
  {
   "cell_type": "code",
   "execution_count": 46,
   "id": "188156e2-29f9-4688-8b26-e23188464f4e",
   "metadata": {},
   "outputs": [
    {
     "data": {
      "text/plain": [
       "[3, 4, 45, 45, 5]"
      ]
     },
     "execution_count": 46,
     "metadata": {},
     "output_type": "execute_result"
    }
   ],
   "source": [
    "l1"
   ]
  },
  {
   "cell_type": "code",
   "execution_count": 56,
   "id": "1bd10e7d-f836-4dc5-9b7b-b77fe53c57d9",
   "metadata": {},
   "outputs": [
    {
     "data": {
      "text/plain": [
       "'here pop() is used to delete the elements from the list.\\nit accepts 1 parameter for location.\\nby default it deletes the last element if position is not mentioned.\\nit doesnt delete the element if we pass the integer in pop().it will delete the \\nelement that is present at that position\\nif that position element is not available in the list then it will give an ERROR'"
      ]
     },
     "execution_count": 56,
     "metadata": {},
     "output_type": "execute_result"
    }
   ],
   "source": [
    "#pop():\n",
    "l1.pop()\n",
    "l1\n",
    "\"\"\"here pop() is used to delete the elements from the list.\n",
    "it accepts 1 parameter for location.\n",
    "by default it deletes the last element if position is not mentioned.\n",
    "it doesnt delete the element if we pass the integer in pop().it will delete the \n",
    "element that is present at that position\n",
    "if that position element is not available in the list then it will give an ERROR\"\"\"\n"
   ]
  },
  {
   "cell_type": "code",
   "execution_count": 54,
   "id": "d82c7a9e-3763-4825-b037-f856b1ca7eac",
   "metadata": {},
   "outputs": [
    {
     "data": {
      "text/plain": [
       "[3]"
      ]
     },
     "execution_count": 54,
     "metadata": {},
     "output_type": "execute_result"
    }
   ],
   "source": [
    "l1"
   ]
  },
  {
   "cell_type": "code",
   "execution_count": 52,
   "id": "0339f8c7-dfaf-49a5-92d2-120eb142b1b2",
   "metadata": {},
   "outputs": [
    {
     "ename": "IndexError",
     "evalue": "pop index out of range",
     "output_type": "error",
     "traceback": [
      "\u001b[1;31m---------------------------------------------------------------------------\u001b[0m",
      "\u001b[1;31mIndexError\u001b[0m                                Traceback (most recent call last)",
      "Cell \u001b[1;32mIn[52], line 1\u001b[0m\n\u001b[1;32m----> 1\u001b[0m l1\u001b[38;5;241m.\u001b[39mpop(\u001b[38;5;241m3\u001b[39m)\n\u001b[0;32m      2\u001b[0m l1\n",
      "\u001b[1;31mIndexError\u001b[0m: pop index out of range"
     ]
    }
   ],
   "source": [
    "l1.pop(3)\n",
    "l1"
   ]
  },
  {
   "cell_type": "code",
   "execution_count": 71,
   "id": "4cfe102c-498b-49b8-ac30-fbad15716885",
   "metadata": {},
   "outputs": [
    {
     "data": {
      "text/plain": [
       "[3, 4, 5]"
      ]
     },
     "execution_count": 71,
     "metadata": {},
     "output_type": "execute_result"
    }
   ],
   "source": [
    "\n",
    "l1=[3,4,5]\n",
    "l1"
   ]
  },
  {
   "cell_type": "code",
   "execution_count": 72,
   "id": "ca448fed-ff58-448e-991b-2bf4ec669216",
   "metadata": {},
   "outputs": [
    {
     "data": {
      "text/plain": [
       "[3, 5]"
      ]
     },
     "execution_count": 72,
     "metadata": {},
     "output_type": "execute_result"
    }
   ],
   "source": [
    "#remove():\n",
    "l1.remove(4)\n",
    "l1\n",
    "#at a time,only 1 element could be removed.\n",
    "#it removes the first occurrence of value\n",
    "#list.remove() takes exactly one argument ie it takes the element as the parameter.\n",
    "#here as the parameter location is not passed."
   ]
  },
  {
   "cell_type": "code",
   "execution_count": 73,
   "id": "f412390f-f73f-4b4e-8c2f-89499116d129",
   "metadata": {},
   "outputs": [
    {
     "data": {
      "text/plain": [
       "[45, 'sudh', [2, 3, 4], 4]"
      ]
     },
     "execution_count": 73,
     "metadata": {},
     "output_type": "execute_result"
    }
   ],
   "source": [
    "l1=[45,'sudh',[2,3,4],4]\n",
    "l1"
   ]
  },
  {
   "cell_type": "code",
   "execution_count": 74,
   "id": "5e807b78-3b61-4229-8e83-118afe26c7a6",
   "metadata": {},
   "outputs": [
    {
     "data": {
      "text/plain": [
       "[45, 'sudh', [2, 4], 4]"
      ]
     },
     "execution_count": 74,
     "metadata": {},
     "output_type": "execute_result"
    }
   ],
   "source": [
    "\"\"\"if list inside list is given and we want to delete the element 3 from the inner \n",
    "list using remove() then we will do indexing like from l1 at postion 2 remove the \n",
    "element 3 from the inner list.so,l1[2].remove(3)\"\"\"\n",
    "l1[2].remove(3)\n",
    "l1"
   ]
  },
  {
   "cell_type": "code",
   "execution_count": 76,
   "id": "733ceb11-b61f-4ee9-976b-1080bec88089",
   "metadata": {},
   "outputs": [
    {
     "ename": "AttributeError",
     "evalue": "'str' object has no attribute 'remove'",
     "output_type": "error",
     "traceback": [
      "\u001b[1;31m---------------------------------------------------------------------------\u001b[0m",
      "\u001b[1;31mAttributeError\u001b[0m                            Traceback (most recent call last)",
      "Cell \u001b[1;32mIn[76], line 2\u001b[0m\n\u001b[0;32m      1\u001b[0m \u001b[38;5;66;03m#to remove the element dh from the list using remove()\u001b[39;00m\n\u001b[1;32m----> 2\u001b[0m l1[\u001b[38;5;241m1\u001b[39m]\u001b[38;5;241m.\u001b[39mremove(dh)\n\u001b[0;32m      3\u001b[0m l1\n",
      "\u001b[1;31mAttributeError\u001b[0m: 'str' object has no attribute 'remove'"
     ]
    }
   ],
   "source": [
    "#to remove the element dh from the list using remove()\n",
    "l1[1].remove(dh)\n",
    "l1"
   ]
  },
  {
   "cell_type": "code",
   "execution_count": 77,
   "id": "ef1198a2-0c0e-4021-a109-d21fe7979540",
   "metadata": {},
   "outputs": [],
   "source": [
    "l1.append(4)"
   ]
  },
  {
   "cell_type": "code",
   "execution_count": 78,
   "id": "3b250a53-3f58-4c96-bd74-014db01e6b36",
   "metadata": {},
   "outputs": [
    {
     "data": {
      "text/plain": [
       "[45, 'sudh', [2, 4], 4, 4]"
      ]
     },
     "execution_count": 78,
     "metadata": {},
     "output_type": "execute_result"
    }
   ],
   "source": [
    "l1"
   ]
  },
  {
   "cell_type": "code",
   "execution_count": 80,
   "id": "f9333cb0-0870-4e6e-9fcd-e4f70ab2d624",
   "metadata": {},
   "outputs": [
    {
     "data": {
      "text/plain": [
       "[45, 'sudh', [2, 4]]"
      ]
     },
     "execution_count": 80,
     "metadata": {},
     "output_type": "execute_result"
    }
   ],
   "source": [
    "l1.remove(4)\n",
    "l1\n",
    "#here from the dupicates ony the 1st occurred element will be deleted"
   ]
  },
  {
   "cell_type": "code",
   "execution_count": 92,
   "id": "fb05ba4d-c55d-429f-b20a-569023de4564",
   "metadata": {},
   "outputs": [
    {
     "name": "stdout",
     "output_type": "stream",
     "text": [
      "[45, 'sudh', [2, 4]]\n",
      "[[2, 4], 'sudh', 45]\n"
     ]
    }
   ],
   "source": [
    "print(l1[::-1])\n",
    "print(l1)\n",
    "#it will reverse the list temporarily.it wont affect/change/reverse the original list"
   ]
  },
  {
   "cell_type": "code",
   "execution_count": 89,
   "id": "8d4f6f54-7bdc-4f80-84a2-da9c7cf07b57",
   "metadata": {},
   "outputs": [
    {
     "data": {
      "text/plain": [
       "[[2, 4], 'sudh', 45]"
      ]
     },
     "execution_count": 89,
     "metadata": {},
     "output_type": "execute_result"
    }
   ],
   "source": [
    "l1.reverse()\n",
    "l1\n",
    "#by using reverse() we can makel3 changes into original list."
   ]
  },
  {
   "cell_type": "code",
   "execution_count": 95,
   "id": "a0170330-a6b7-45c9-ab51-c7fa17283f6f",
   "metadata": {},
   "outputs": [
    {
     "data": {
      "text/plain": [
       "[[2, 4], 'sudh', 45]"
      ]
     },
     "execution_count": 95,
     "metadata": {},
     "output_type": "execute_result"
    }
   ],
   "source": [
    "l1"
   ]
  },
  {
   "cell_type": "code",
   "execution_count": 105,
   "id": "19095be4-6879-4ec8-9d43-bcb600467109",
   "metadata": {},
   "outputs": [
    {
     "data": {
      "text/plain": [
       "[2, 3, 6, 12, 22, 33, 44, 77, 89, 100]"
      ]
     },
     "execution_count": 105,
     "metadata": {},
     "output_type": "execute_result"
    }
   ],
   "source": [
    "#sort():\n",
    "\"\"\"sort() is used to sort the list in ascending order.mix list of integer and string \n",
    "cannot be sorted.\n",
    "list can be sorted if contains only string or only integer ie same datatype\"\"\"\n",
    "l2=[2,6,3,77,89,44,33,22,12,100]\n",
    "l2.sort()\n",
    "l2\n"
   ]
  },
  {
   "cell_type": "markdown",
   "id": "aaf0beaf-be95-4ddd-91cf-3c065d9fcc54",
   "metadata": {},
   "source": [
    "l1.sort()\n",
    "l1"
   ]
  },
  {
   "cell_type": "code",
   "execution_count": 103,
   "id": "1bbbcf00-cec7-403c-89a9-4e19bd5697ad",
   "metadata": {},
   "outputs": [
    {
     "ename": "TypeError",
     "evalue": "'<' not supported between instances of 'str' and 'list'",
     "output_type": "error",
     "traceback": [
      "\u001b[1;31m---------------------------------------------------------------------------\u001b[0m",
      "\u001b[1;31mTypeError\u001b[0m                                 Traceback (most recent call last)",
      "Cell \u001b[1;32mIn[103], line 1\u001b[0m\n\u001b[1;32m----> 1\u001b[0m l1\u001b[38;5;241m.\u001b[39msort()\n",
      "\u001b[1;31mTypeError\u001b[0m: '<' not supported between instances of 'str' and 'list'"
     ]
    }
   ],
   "source": [
    "l1.sort()#as integer and string were were there so it cant be sorted.it gives error"
   ]
  },
  {
   "cell_type": "code",
   "execution_count": 3,
   "id": "9804972e-d779-44b8-81cb-d0e0b56a6472",
   "metadata": {},
   "outputs": [
    {
     "data": {
      "text/plain": [
       "['acs', 'brgs', 'casf', 'jyujf', 'yreg']"
      ]
     },
     "execution_count": 3,
     "metadata": {},
     "output_type": "execute_result"
    }
   ],
   "source": [
    "l3=[\"acs\",\"jyujf\",\"brgs\",\"yreg\",\"casf\"]\n",
    "l3.sort()\n",
    "l3"
   ]
  },
  {
   "cell_type": "code",
   "execution_count": 5,
   "id": "6f95ef3f-b783-466c-818f-de20e128c12f",
   "metadata": {},
   "outputs": [
    {
     "data": {
      "text/plain": [
       "['yreg', 'jyujf', 'casf', 'brgs', 'acs']"
      ]
     },
     "execution_count": 5,
     "metadata": {},
     "output_type": "execute_result"
    }
   ],
   "source": [
    "#descending ordered list\n",
    "l3.sort(reverse=True)\n",
    "l3"
   ]
  },
  {
   "cell_type": "code",
   "execution_count": 27,
   "id": "2813b063-258c-4cbb-a181-8cedebc05638",
   "metadata": {},
   "outputs": [
    {
     "data": {
      "text/plain": [
       "['sudh', 'pwskills', 'kumar', 'datascience']"
      ]
     },
     "execution_count": 27,
     "metadata": {},
     "output_type": "execute_result"
    }
   ],
   "source": [
    "l4=['sudh','pwskills','kumar','datascience']\n",
    "l4"
   ]
  },
  {
   "cell_type": "code",
   "execution_count": 10,
   "id": "6fe34026-5d65-4ad7-bc27-01fc44089f00",
   "metadata": {},
   "outputs": [
    {
     "data": {
      "text/plain": [
       "0"
      ]
     },
     "execution_count": 10,
     "metadata": {},
     "output_type": "execute_result"
    }
   ],
   "source": [
    "#index():\n",
    "\"\"\"index() returns the location or position at which it is present.\n",
    "if repeated elements are there then it will return the first occurred elements \n",
    "position ie the idex of that element.\n",
    "\"\"\"\n",
    "l4.index('sudh')"
   ]
  },
  {
   "cell_type": "code",
   "execution_count": 14,
   "id": "79d11ef0-7d4f-436a-81fb-9f0894406f3b",
   "metadata": {},
   "outputs": [
    {
     "data": {
      "text/plain": [
       "1"
      ]
     },
     "execution_count": 14,
     "metadata": {},
     "output_type": "execute_result"
    }
   ],
   "source": [
    "#count():\n",
    "#it will count the total number of occurence of the particular element in the list.\n",
    "l4.count('sudh')\n",
    "#sudh element has occurred 1 time in the list."
   ]
  },
  {
   "cell_type": "code",
   "execution_count": 4,
   "id": "3916c668-d8c2-4ea8-9377-7486e1866644",
   "metadata": {},
   "outputs": [
    {
     "ename": "TypeError",
     "evalue": "'str' object does not support item assignment",
     "output_type": "error",
     "traceback": [
      "\u001b[1;31m---------------------------------------------------------------------------\u001b[0m",
      "\u001b[1;31mTypeError\u001b[0m                                 Traceback (most recent call last)",
      "Cell \u001b[1;32mIn[4], line 2\u001b[0m\n\u001b[0;32m      1\u001b[0m s\u001b[38;5;241m=\u001b[39m\u001b[38;5;124m'\u001b[39m\u001b[38;5;124msudh\u001b[39m\u001b[38;5;124m'\u001b[39m\u001b[38;5;66;03m#here,if we want to replace the letter \"s\" with \"a\"\u001b[39;00m\n\u001b[1;32m----> 2\u001b[0m s[\u001b[38;5;241m0\u001b[39m]\u001b[38;5;241m=\u001b[39m\u001b[38;5;124m'\u001b[39m\u001b[38;5;124ma\u001b[39m\u001b[38;5;124m'\u001b[39m\n",
      "\u001b[1;31mTypeError\u001b[0m: 'str' object does not support item assignment"
     ]
    }
   ],
   "source": [
    "s='sudh'#here,if we want to replace the letter \"s\" with \"a\"\n",
    "s[0]='a'#it will give error so as \"  'str' object does not support item assignment \"\n",
    "#this is because strings are immutable."
   ]
  },
  {
   "cell_type": "code",
   "execution_count": 5,
   "id": "003a6069-1e26-4e80-b085-589d6f757f28",
   "metadata": {},
   "outputs": [
    {
     "data": {
      "text/plain": [
       "[30, 4, 5, 6]"
      ]
     },
     "execution_count": 5,
     "metadata": {},
     "output_type": "execute_result"
    }
   ],
   "source": [
    "l5=[3,4,5,6]#here, replace the 3 with the number 30 then it wont give the error\n",
    "l5[0]=30#this is because it is mutable(integer is mutable)\n",
    "l5"
   ]
  },
  {
   "cell_type": "code",
   "execution_count": 14,
   "id": "b46e5a9d-2a48-4c1f-a269-deeb057d8c85",
   "metadata": {},
   "outputs": [
    {
     "data": {
      "text/plain": [
       "'audh'"
      ]
     },
     "execution_count": 14,
     "metadata": {},
     "output_type": "execute_result"
    }
   ],
   "source": [
    "#so,for strings there is the function available ie replace() which will replace string\n",
    "s='sudh'\n",
    "s.replace('s','a')\n",
    "#using this functions it will be only temporarily replace it.original string wont be \n",
    "#affected"
   ]
  },
  {
   "cell_type": "code",
   "execution_count": 15,
   "id": "1aeb250d-c945-4c34-9ed7-2578ef047e58",
   "metadata": {},
   "outputs": [
    {
     "data": {
      "text/plain": [
       "'sudh'"
      ]
     },
     "execution_count": 15,
     "metadata": {},
     "output_type": "execute_result"
    }
   ],
   "source": [
    "s"
   ]
  },
  {
   "cell_type": "code",
   "execution_count": 2,
   "id": "d69b5ebd-fae4-4705-8a6a-6c4d89cb7829",
   "metadata": {},
   "outputs": [
    {
     "data": {
      "text/plain": [
       "(2, 3, 4, 5, 'sudh', 45.56, False, (45+457j), [3, 4, 5])"
      ]
     },
     "execution_count": 2,
     "metadata": {},
     "output_type": "execute_result"
    }
   ],
   "source": [
    "#tuples\n",
    "\"\"\"defined in \"()\".IT  is a collection of variety of dattatype elements.\n",
    "it is immutable\"\"\"\n",
    "##declare tuple\n",
    "t=(2,3,4,5,\"sudh\",45.56,False,45+457j,[3,4,5])\n",
    "t\n"
   ]
  },
  {
   "cell_type": "code",
   "execution_count": 3,
   "id": "a691a0d6-9375-4419-b816-1c617ae701b1",
   "metadata": {},
   "outputs": [
    {
     "name": "stdout",
     "output_type": "stream",
     "text": [
      "<class 'tuple'>\n",
      "9\n"
     ]
    }
   ],
   "source": [
    "print(type(t))\n",
    "print(len(t))\n",
    "#<class 'tuple'>\n",
    "#9"
   ]
  },
  {
   "cell_type": "code",
   "execution_count": 4,
   "id": "71081c2a-a4fa-4b7f-a700-50737d8807a8",
   "metadata": {},
   "outputs": [
    {
     "data": {
      "text/plain": [
       "2"
      ]
     },
     "execution_count": 4,
     "metadata": {},
     "output_type": "execute_result"
    }
   ],
   "source": [
    "t[0]#access 1st element"
   ]
  },
  {
   "cell_type": "code",
   "execution_count": 5,
   "id": "a61c3147-5152-4f60-bbbe-d9003b7e65de",
   "metadata": {},
   "outputs": [
    {
     "data": {
      "text/plain": [
       "[3, 4, 5]"
      ]
     },
     "execution_count": 5,
     "metadata": {},
     "output_type": "execute_result"
    }
   ],
   "source": [
    "t[-1]#access last eleemnt of the tuple"
   ]
  },
  {
   "cell_type": "code",
   "execution_count": 6,
   "id": "06998262-934e-4a87-8e86-576a85fa7cf9",
   "metadata": {},
   "outputs": [
    {
     "data": {
      "text/plain": [
       "([3, 4, 5], (45+457j), False, 45.56, 'sudh', 5, 4, 3, 2)"
      ]
     },
     "execution_count": 6,
     "metadata": {},
     "output_type": "execute_result"
    }
   ],
   "source": [
    "t[::-1]#reverse the tuple"
   ]
  },
  {
   "cell_type": "code",
   "execution_count": 32,
   "id": "09794949-6aaa-4b2e-95b0-1342b7112238",
   "metadata": {},
   "outputs": [
    {
     "data": {
      "text/plain": [
       "['sudh', 'pwskills', 'kumar', 'datascience']"
      ]
     },
     "execution_count": 32,
     "metadata": {},
     "output_type": "execute_result"
    }
   ],
   "source": [
    "l4=['sudh','pwskills','kumar','datascience']\n",
    "l4#list is mutable as l4[0] is changed"
   ]
  },
  {
   "cell_type": "code",
   "execution_count": 34,
   "id": "634850e7-22c0-46ab-81e4-ed20226909c6",
   "metadata": {},
   "outputs": [
    {
     "data": {
      "text/plain": [
       "[23465, 'pwskills', 'kumar', 'datascience']"
      ]
     },
     "execution_count": 34,
     "metadata": {},
     "output_type": "execute_result"
    }
   ],
   "source": [
    "l4[0]=23465\n",
    "l4"
   ]
  },
  {
   "cell_type": "markdown",
   "id": "19b208d4-3e5a-4aa8-ba3b-4946b046423b",
   "metadata": {},
   "source": [
    "#### "
   ]
  },
  {
   "cell_type": "code",
   "execution_count": 7,
   "id": "f80f3316-76ff-4a39-ac1d-20bf34eabd41",
   "metadata": {},
   "outputs": [
    {
     "ename": "TypeError",
     "evalue": "'tuple' object does not support item assignment",
     "output_type": "error",
     "traceback": [
      "\u001b[1;31m---------------------------------------------------------------------------\u001b[0m",
      "\u001b[1;31mTypeError\u001b[0m                                 Traceback (most recent call last)",
      "Cell \u001b[1;32mIn[7], line 1\u001b[0m\n\u001b[1;32m----> 1\u001b[0m t[\u001b[38;5;241m0\u001b[39m]\u001b[38;5;241m=\u001b[39m\u001b[38;5;124m'\u001b[39m\u001b[38;5;124maudh\u001b[39m\u001b[38;5;124m'\u001b[39m\n",
      "\u001b[1;31mTypeError\u001b[0m: 'tuple' object does not support item assignment"
     ]
    }
   ],
   "source": [
    "t[0]='audh'\n",
    "#tuples are immutable as the t[0] index is not changed"
   ]
  },
  {
   "cell_type": "code",
   "execution_count": 8,
   "id": "2acbe374-8925-4f70-81b4-3c36b09ac5d3",
   "metadata": {},
   "outputs": [
    {
     "data": {
      "text/plain": [
       "(2, 3, 4, 5, 'sudh', 45.56, False, (45+457j), [3, 4, 5])"
      ]
     },
     "execution_count": 8,
     "metadata": {},
     "output_type": "execute_result"
    }
   ],
   "source": [
    "t"
   ]
  },
  {
   "cell_type": "code",
   "execution_count": 11,
   "id": "e73ae12d-c099-4a88-b30f-d221370cdcfb",
   "metadata": {},
   "outputs": [
    {
     "data": {
      "text/plain": [
       "1"
      ]
     },
     "execution_count": 11,
     "metadata": {},
     "output_type": "execute_result"
    }
   ],
   "source": [
    "t.count(4)#it will count the number of occurance of the particular item"
   ]
  },
  {
   "cell_type": "code",
   "execution_count": 13,
   "id": "72c531c5-0b68-4753-b455-c0193011eed0",
   "metadata": {},
   "outputs": [
    {
     "data": {
      "text/plain": [
       "6"
      ]
     },
     "execution_count": 13,
     "metadata": {},
     "output_type": "execute_result"
    }
   ],
   "source": [
    "t.index(False)#you need to pass the item to be searched in the tuple.It will return index"
   ]
  },
  {
   "cell_type": "code",
   "execution_count": 14,
   "id": "9f443f28-5253-434e-aa9c-518a40c267f9",
   "metadata": {},
   "outputs": [
    {
     "data": {
      "text/plain": [
       "2"
      ]
     },
     "execution_count": 14,
     "metadata": {},
     "output_type": "execute_result"
    }
   ],
   "source": [
    "t.index(4)"
   ]
  },
  {
   "cell_type": "code",
   "execution_count": 16,
   "id": "c36184f0-939e-418d-ae88-1bd2659e3c60",
   "metadata": {},
   "outputs": [
    {
     "data": {
      "text/plain": [
       "dict"
      ]
     },
     "execution_count": 16,
     "metadata": {},
     "output_type": "execute_result"
    }
   ],
   "source": [
    "s1={}\n",
    "type(s1)"
   ]
  },
  {
   "cell_type": "code",
   "execution_count": 59,
   "id": "5f76f727-4d26-4ea8-8c34-1c516df6c79d",
   "metadata": {},
   "outputs": [
    {
     "data": {
      "text/plain": [
       "set"
      ]
     },
     "execution_count": 59,
     "metadata": {},
     "output_type": "execute_result"
    }
   ],
   "source": [
    "s2={2,3,4,5,6}\n",
    "type(s2)\n"
   ]
  },
  {
   "cell_type": "code",
   "execution_count": 35,
   "id": "4b6c05b2-91a4-4696-99c0-ac69e3ef4615",
   "metadata": {},
   "outputs": [
    {
     "ename": "TypeError",
     "evalue": "unhashable type: 'list'",
     "output_type": "error",
     "traceback": [
      "\u001b[1;31m---------------------------------------------------------------------------\u001b[0m",
      "\u001b[1;31mTypeError\u001b[0m                                 Traceback (most recent call last)",
      "Cell \u001b[1;32mIn[35], line 4\u001b[0m\n\u001b[0;32m      1\u001b[0m \u001b[38;5;124;03m\"\"\"set\"\"\"\u001b[39;00m\n\u001b[0;32m      2\u001b[0m \u001b[38;5;66;03m#set is also the collection of unordered elements which takes only the unique values\u001b[39;00m\n\u001b[0;32m      3\u001b[0m \u001b[38;5;66;03m#set never get the data in an order\u001b[39;00m\n\u001b[1;32m----> 4\u001b[0m s3\u001b[38;5;241m=\u001b[39m{\u001b[38;5;241m123\u001b[39m,\u001b[38;5;241m456\u001b[39m,\u001b[38;5;241m456\u001b[39m,\u001b[38;5;124m\"\u001b[39m\u001b[38;5;124msudh\u001b[39m\u001b[38;5;124m\"\u001b[39m,\u001b[38;5;241m45\u001b[39m\u001b[38;5;241m+\u001b[39m\u001b[38;5;241m45\u001b[39mj,\u001b[38;5;241m34.465\u001b[39m,[\u001b[38;5;241m2\u001b[39m,\u001b[38;5;241m3\u001b[39m,\u001b[38;5;241m4\u001b[39m]}\n",
      "\u001b[1;31mTypeError\u001b[0m: unhashable type: 'list'"
     ]
    }
   ],
   "source": [
    "\"\"\"set\"\"\"\n",
    "\"\"\"set is also the collection of unordered elements which takes only the unique values\n",
    "#set never get the data arrange in an order\n",
    "#as we were able to slice or remove or add the elements at the positions,in set it is \n",
    "it is not possible bcoz the elements are not in ordered form so we cannot get \n",
    "subscript element from the set\"\"\"\n",
    "s3={123,456,456,\"sudh\",45+45j,34.465,[2,3,4]}\n",
    "#set doesnot accept the list. It will give the error.bcoz list is mutuable."
   ]
  },
  {
   "cell_type": "code",
   "execution_count": 60,
   "id": "8bee078f-726a-47e1-8d3d-4478e84bf064",
   "metadata": {},
   "outputs": [],
   "source": [
    "s3={123,456,456,\"sudh\",45+45j,34.465,(2,3,4)}\n",
    "#set accepts the immutabke data, but not the mutable data are allowed like list.\n",
    "#it accepts tuple bcoz tuple is immutable\n",
    "#set removes the duplicates.ie it gives the unique values."
   ]
  },
  {
   "cell_type": "code",
   "execution_count": 26,
   "id": "2788bfec-8fa6-4754-99cd-94fffab682ca",
   "metadata": {},
   "outputs": [
    {
     "data": {
      "text/plain": [
       "{1, 2, 3, 4, 5, 6}"
      ]
     },
     "execution_count": 26,
     "metadata": {},
     "output_type": "execute_result"
    }
   ],
   "source": [
    "s4={2,3,4,5,6,2,2,3,4,5,6,1,2,3,4,5,6,1,2,2,3}\n",
    "s4\n",
    "\n",
    "#so,if we will print the above set then it will return only the unique values.\n",
    "#it will not return the repeated values.so set gives us the unique values.\n"
   ]
  },
  {
   "cell_type": "code",
   "execution_count": 29,
   "id": "4902525f-61fc-4e9a-b05b-a51a84f7cd2a",
   "metadata": {},
   "outputs": [
    {
     "data": {
      "text/plain": [
       "{1, 2, 3, 4, 5, 6, 'Sudh', 'sudh'}"
      ]
     },
     "execution_count": 29,
     "metadata": {},
     "output_type": "execute_result"
    }
   ],
   "source": [
    "\"\"\"As python is CASE SENSITIVE LANGUAGE it considers the uppercase and lowercase words\n",
    "as different words\"\"\"\n",
    "s4={2,3,4,5,6,2,2,3,4,5,6,1,2,3,4,5,6,1,2,2,3,\"Sudh\",\"sudh\"}\n",
    "s4#so both the sudh will be considered as unique values"
   ]
  },
  {
   "cell_type": "code",
   "execution_count": 34,
   "id": "e1c0dad0-98c1-48d6-bd3e-01019b1fb2e2",
   "metadata": {},
   "outputs": [
    {
     "name": "stdout",
     "output_type": "stream",
     "text": [
      "[2, 3, 4, 5, 6, 2, 2, 3, 4, 5, 6, 1, 2, 3, 4, 5, 6, 1, 2, 2, 3, 'Sudh', 'sudh']\n",
      "{1, 2, 3, 4, 5, 6, 'Sudh', 'sudh'}\n",
      "[2, 3, 4, 5, 6, 2, 2, 3, 4, 5, 6, 1, 2, 3, 4, 5, 6, 1, 2, 2, 3, 'Sudh', 'sudh']\n",
      "{1, 2, 3, 4, 5, 6, 'Sudh', 'sudh'}\n",
      "[1, 2, 3, 4, 5, 6, 'Sudh', 'sudh']\n"
     ]
    }
   ],
   "source": [
    "\"\"\"#in python there is set() available.\n",
    "so same elements are present in list and if we want only the unique elements then\n",
    "by using the set() we can get all the unique values \"\"\"\n",
    "l6=[2,3,4,5,6,2,2,3,4,5,6,1,2,3,4,5,6,1,2,2,3,\"Sudh\",\"sudh\"]\n",
    "print(l6)#here we get the list as it is as list doesnt return the unique values.\n",
    "print(set(l6))#if we use the set(),we get all the unique values,without repeatition.\n",
    "print(l6)#but original list wont be affected if we do not update the list again\n",
    "l6=set(l6)#if we update the list by filtering it be set() taking only unique items.\n",
    "print(l6)#lets print the updated  list which we will get in the form of set{}\n",
    "l6=list(set(l6))#here we will convert back into the list form\n",
    "print(l6)"
   ]
  },
  {
   "cell_type": "code",
   "execution_count": 56,
   "id": "79c4f40e-54c0-4ce4-96bf-616604578369",
   "metadata": {},
   "outputs": [
    {
     "data": {
      "text/plain": [
       "{12, 2, 23, 234, 342, 45, 456, 567, 789, 'abc'}"
      ]
     },
     "execution_count": 56,
     "metadata": {},
     "output_type": "execute_result"
    }
   ],
   "source": [
    "s5={234,45,23,12,567,45,2,789,234,\"abc\",456,342,23}\n",
    "s5#elements are in unordered form."
   ]
  },
  {
   "cell_type": "code",
   "execution_count": 45,
   "id": "97087be2-fb44-4b4d-b4d1-c8eacc85c973",
   "metadata": {},
   "outputs": [
    {
     "ename": "TypeError",
     "evalue": "'set' object is not subscriptable",
     "output_type": "error",
     "traceback": [
      "\u001b[1;31m---------------------------------------------------------------------------\u001b[0m",
      "\u001b[1;31mTypeError\u001b[0m                                 Traceback (most recent call last)",
      "Cell \u001b[1;32mIn[45], line 1\u001b[0m\n\u001b[1;32m----> 1\u001b[0m s5[\u001b[38;5;241m0\u001b[39m]\u001b[38;5;66;03m#TypeError: 'set' object is not subscriptable\u001b[39;00m\n\u001b[0;32m      2\u001b[0m \u001b[38;5;124;03m\"\"\"as elements are in unorderd form so at we cannot extract pop ,remove,or add the elements\u001b[39;00m\n\u001b[0;32m      3\u001b[0m \u001b[38;5;124;03mat the particular position\u001b[39;00m\n\u001b[0;32m      4\u001b[0m \u001b[38;5;124;03mbut yes we can add,pop,remove randomly at any position \"\"\"\u001b[39;00m\n",
      "\u001b[1;31mTypeError\u001b[0m: 'set' object is not subscriptable"
     ]
    }
   ],
   "source": [
    "s5[0]#TypeError: 'set' object is not subscriptable\n",
    "\"\"\"as elements are in unorderd form so at we cannot extract pop ,remove,or add the elements\n",
    "at the particular position\n",
    "but yes we can add,pop,remove randomly at any position \"\"\""
   ]
  },
  {
   "cell_type": "code",
   "execution_count": 42,
   "id": "22c5fe56-deee-4823-ab93-832b5bdabe37",
   "metadata": {},
   "outputs": [
    {
     "ename": "TypeError",
     "evalue": "'set' object is not subscriptable",
     "output_type": "error",
     "traceback": [
      "\u001b[1;31m---------------------------------------------------------------------------\u001b[0m",
      "\u001b[1;31mTypeError\u001b[0m                                 Traceback (most recent call last)",
      "Cell \u001b[1;32mIn[42], line 1\u001b[0m\n\u001b[1;32m----> 1\u001b[0m s5[::\u001b[38;5;241m-\u001b[39m\u001b[38;5;241m1\u001b[39m]\n",
      "\u001b[1;31mTypeError\u001b[0m: 'set' object is not subscriptable"
     ]
    }
   ],
   "source": [
    "s5[::-1]#slicing can alsobe not peroformed"
   ]
  },
  {
   "cell_type": "code",
   "execution_count": 50,
   "id": "7aa53079-2235-461d-ac0d-c6d88f4c68fa",
   "metadata": {},
   "outputs": [
    {
     "data": {
      "text/plain": [
       "{12, 2, 23, 342, 4, 45, 456, 567, 789, 'abc'}"
      ]
     },
     "execution_count": 50,
     "metadata": {},
     "output_type": "execute_result"
    }
   ],
   "source": [
    "s5.add(4)\n",
    "s5#if 4elemnet is not available in the set as it take only the unique value \n",
    "#then it will just add in the set 4 item at any of the position "
   ]
  },
  {
   "cell_type": "code",
   "execution_count": 57,
   "id": "518a3f26-aad4-417e-9ce4-9ef75904fdd6",
   "metadata": {},
   "outputs": [
    {
     "data": {
      "text/plain": [
       "{12, 23, 234, 342, 45, 456, 567, 789, 'abc'}"
      ]
     },
     "execution_count": 57,
     "metadata": {},
     "output_type": "execute_result"
    }
   ],
   "source": [
    "s5.remove(2)\n",
    "s5#it will remove the element 2"
   ]
  },
  {
   "cell_type": "code",
   "execution_count": null,
   "id": "f47f5249-47cf-40bd-8573-e83b15d0fea4",
   "metadata": {},
   "outputs": [],
   "source": []
  }
 ],
 "metadata": {
  "kernelspec": {
   "display_name": "Python 3 (ipykernel)",
   "language": "python",
   "name": "python3"
  },
  "language_info": {
   "codemirror_mode": {
    "name": "ipython",
    "version": 3
   },
   "file_extension": ".py",
   "mimetype": "text/x-python",
   "name": "python",
   "nbconvert_exporter": "python",
   "pygments_lexer": "ipython3",
   "version": "3.11.7"
  }
 },
 "nbformat": 4,
 "nbformat_minor": 5
}
