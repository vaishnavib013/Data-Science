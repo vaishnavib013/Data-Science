{
 "cells": [
  {
   "cell_type": "code",
   "execution_count": 2,
   "id": "bb256c0f-99f0-44d2-9480-fb528e8aa757",
   "metadata": {},
   "outputs": [
    {
     "name": "stdout",
     "output_type": "stream",
     "text": [
      "1 <class 'int'>\n",
      "2 <class 'int'>\n",
      "3 <class 'int'>\n",
      "4 <class 'int'>\n",
      "5 <class 'int'>\n"
     ]
    }
   ],
   "source": [
    "l=[1,2,3,4,5]\n",
    "for i in l:\n",
    "    print(i,type(i))"
   ]
  },
  {
   "cell_type": "code",
   "execution_count": 4,
   "id": "034aa2fb-9072-42bd-b1df-136c833ba404",
   "metadata": {},
   "outputs": [
    {
     "name": "stdout",
     "output_type": "stream",
     "text": [
      "sudh\n",
      "kumar\n",
      "krish\n",
      "naik\n"
     ]
    }
   ],
   "source": [
    "l1=[\"sudh\",\"kumar\",\"krish\",\"naik\"]\n",
    "for i in l1:\n",
    "    print(i)"
   ]
  },
  {
   "cell_type": "code",
   "execution_count": 81,
   "id": "3e8a8027-6c22-452d-b4ff-576c97e17a22",
   "metadata": {},
   "outputs": [
    {
     "name": "stdout",
     "output_type": "stream",
     "text": [
      "sudh\n",
      "kumar\n",
      "krish\n",
      "naik\n",
      "if for loop is able to complete itself then only else will execute\n"
     ]
    }
   ],
   "source": [
    "\"\"\"for with else: the for part will be completed successfully then only the else part \n",
    "will be printed otherwise else part will not be executed\n",
    "\"\"\"\n",
    "for i in l1:\n",
    "    print(i)\n",
    "else:\n",
    "    print(\"if for loop is able to complete itself then only else will execute\")"
   ]
  },
  {
   "cell_type": "code",
   "execution_count": 9,
   "id": "d0578997-b962-4792-bd73-6e88e7fd4f38",
   "metadata": {},
   "outputs": [
    {
     "name": "stdout",
     "output_type": "stream",
     "text": [
      "sudh\n"
     ]
    }
   ],
   "source": [
    "\"\"\"break: the for loop will get terminated if we use the break .upto the part ,\n",
    "before the break whatever statements ill be there that will be executed if the break \n",
    "encountered then it exists the loop there istself and comes out of the loop\"\"\"\n",
    "for i in l1:\n",
    "    if i==\"kumar\":\n",
    "        break\n",
    "    print(i)"
   ]
  },
  {
   "cell_type": "code",
   "execution_count": 10,
   "id": "388a883d-e8cb-477a-a510-387bad390a91",
   "metadata": {},
   "outputs": [
    {
     "name": "stdout",
     "output_type": "stream",
     "text": [
      "sudh\n"
     ]
    }
   ],
   "source": [
    "\"\"\"if for loop is executed with the else condition then and for is not executed \n",
    "completely as in the below code there we break if the condition has matched then we \n",
    "terminated the for loop so for loop has not executed completely so the else condition\n",
    "will not be executed\"\"\"\n",
    "\n",
    "for i in l1:\n",
    "    if i==\"kumar\":\n",
    "        break\n",
    "    print(i)\n",
    "else:\n",
    "    print(\"execute this if for loo[ is able to complete itself\")"
   ]
  },
  {
   "cell_type": "code",
   "execution_count": 17,
   "id": "83d6031c-40c8-4980-8df0-0d112e558814",
   "metadata": {},
   "outputs": [
    {
     "name": "stdout",
     "output_type": "stream",
     "text": [
      "sudh\n",
      "kumar\n",
      "krish\n"
     ]
    }
   ],
   "source": [
    "#for loop with else condition using break\n",
    "for i in l1:\n",
    "    if i==\"naik\":\n",
    "        break\n",
    "    print(i)\n",
    "else:\n",
    "    print(\"execute this if for loop is able to complete itself\")"
   ]
  },
  {
   "cell_type": "code",
   "execution_count": 15,
   "id": "e03766f5-edd6-46d8-adef-1eeeaefbf45c",
   "metadata": {},
   "outputs": [
    {
     "name": "stdout",
     "output_type": "stream",
     "text": [
      "sudh\n",
      "krish\n",
      "naik\n"
     ]
    }
   ],
   "source": [
    "#continue:\n",
    "\"\"\" in the loop,if continue is used when the condition matches then it just skips \n",
    "that part and further it executed completely\n",
    "when it encounters the continue then it skies the further statements and go to the \n",
    "for loop back and value is incremented ie the previous value is skiped and \n",
    "further code is being executed\"\"\"\n",
    "\n",
    "for i in l1:\n",
    "    if i==\"kumar\":\n",
    "        continue\n",
    "    print(i)"
   ]
  },
  {
   "cell_type": "code",
   "execution_count": 20,
   "id": "b36d6499-9a8b-4a46-ab5b-26aadce7f79e",
   "metadata": {},
   "outputs": [
    {
     "name": "stdout",
     "output_type": "stream",
     "text": [
      "sudh\n",
      "krish\n",
      "naik\n",
      "execute this if for loop is able to complete itself\n"
     ]
    }
   ],
   "source": [
    "#for loop with else using break:\n",
    "\"\"\"in case of for with else and continue ,continue is going to excute the whole code \n",
    "just it is going to skip the part where the condition has matched ,so there is no \n",
    "break in the for loop thats why the else condtion is also executed\"\"\"\n",
    "for i in l1:\n",
    "    if i==\"kumar\":\n",
    "        continue\n",
    "    print(i)\n",
    "else:\n",
    "    print(\"execute this if for loop is able to complete itself\")"
   ]
  },
  {
   "cell_type": "code",
   "execution_count": 27,
   "id": "c8fbbfac-cd44-444c-8b06-ce5066c08b67",
   "metadata": {},
   "outputs": [
    {
     "data": {
      "text/plain": [
       "range(0, 5)"
      ]
     },
     "execution_count": 27,
     "metadata": {},
     "output_type": "execute_result"
    }
   ],
   "source": [
    "#range():by the indexing it generateds the results\n",
    "\"\"\"range () is the generator function,it helps in generating the data,generating the \n",
    "range,so it going to generate the data upto the number 5 in the below case incliuding \n",
    "5\"\"\"\n",
    "range(5)"
   ]
  },
  {
   "cell_type": "code",
   "execution_count": 23,
   "id": "6c8e3332-090d-4d55-919b-ce0f57b5351f",
   "metadata": {},
   "outputs": [
    {
     "data": {
      "text/plain": [
       "[0, 1, 2, 3, 4]"
      ]
     },
     "execution_count": 23,
     "metadata": {},
     "output_type": "execute_result"
    }
   ],
   "source": [
    "list(range(5))#excluding 5 as it starts from 0 bydefault so it considers upto 4"
   ]
  },
  {
   "cell_type": "code",
   "execution_count": 24,
   "id": "ec0bd8a5-c874-424d-89ad-895938d96c82",
   "metadata": {},
   "outputs": [
    {
     "data": {
      "text/plain": [
       "[0, 1, 2, 3, 4]"
      ]
     },
     "execution_count": 24,
     "metadata": {},
     "output_type": "execute_result"
    }
   ],
   "source": [
    "list(range(0,5,1))\n",
    "#start=0 ,end-1=5,jump =1"
   ]
  },
  {
   "cell_type": "code",
   "execution_count": 25,
   "id": "54c60b78-5bb3-4137-aed9-923fb2fa0995",
   "metadata": {},
   "outputs": [
    {
     "data": {
      "text/plain": [
       "[0, 2, 4, 6, 8, 10, 12, 14, 16, 18]"
      ]
     },
     "execution_count": 25,
     "metadata": {},
     "output_type": "execute_result"
    }
   ],
   "source": [
    "#data for even numbers\n",
    "list(range(0,20,2))"
   ]
  },
  {
   "cell_type": "code",
   "execution_count": 26,
   "id": "cae02fff-0866-4efa-aa40-01b89d9461a6",
   "metadata": {},
   "outputs": [
    {
     "data": {
      "text/plain": [
       "[-10, -9, -8, -7, -6, -5, -4, -3, -2, -1]"
      ]
     },
     "execution_count": 26,
     "metadata": {},
     "output_type": "execute_result"
    }
   ],
   "source": [
    "list(range(-10,0))"
   ]
  },
  {
   "cell_type": "code",
   "execution_count": 36,
   "id": "8686e8f4-30c5-41bf-94ea-84a381d62f18",
   "metadata": {},
   "outputs": [
    {
     "name": "stdout",
     "output_type": "stream",
     "text": [
      "['sudh', 'kumar', 'krish', 'naik']\n",
      "4\n",
      "[0, 1, 2, 3]\n"
     ]
    }
   ],
   "source": [
    "print(l1)\n",
    "print(len(l1))\n",
    "print(list(range(len(l1))))"
   ]
  },
  {
   "cell_type": "code",
   "execution_count": 33,
   "id": "b3e759da-6cdc-44a8-a15e-6f83c3c39ae1",
   "metadata": {},
   "outputs": [
    {
     "name": "stdout",
     "output_type": "stream",
     "text": [
      "sudh\n",
      "kumar\n",
      "krish\n",
      "naik\n"
     ]
    }
   ],
   "source": [
    "#to reverse the list using the for loop\n",
    "#we will use the len() to start the for loop from the last element \n",
    "for i in range(len(l1)):\n",
    "    print(l1[i])\n",
    "    "
   ]
  },
  {
   "cell_type": "code",
   "execution_count": 34,
   "id": "96929ec9-67e5-42f1-bddf-53ef6729feac",
   "metadata": {},
   "outputs": [
    {
     "name": "stdout",
     "output_type": "stream",
     "text": [
      "4\n",
      "[4, 3, 2, 1]\n"
     ]
    }
   ],
   "source": [
    "print(len(l1))\n",
    "print(list(range(len(l1),0,-1)))#start=-1/4 , end =0, jump=-1 ...in reverse order "
   ]
  },
  {
   "cell_type": "code",
   "execution_count": 39,
   "id": "a2007792-4052-4807-8212-91f40c521c9a",
   "metadata": {},
   "outputs": [
    {
     "name": "stdout",
     "output_type": "stream",
     "text": [
      "naik\n",
      "krish\n",
      "kumar\n"
     ]
    }
   ],
   "source": [
    "for i in range(len(l1)-1,0,-1):\n",
    "    print(l1[i])"
   ]
  },
  {
   "cell_type": "code",
   "execution_count": 75,
   "id": "68ffda08-a4a3-4fdb-b634-8e66950f6d63",
   "metadata": {},
   "outputs": [
    {
     "name": "stdout",
     "output_type": "stream",
     "text": [
      "naik\n",
      "krish\n",
      "kumar\n",
      "sudh\n"
     ]
    }
   ],
   "source": [
    "for i in range(len(l1)-1,-1,-1):\n",
    "    print(l1[i])#to print the list elements in the reverse order"
   ]
  },
  {
   "cell_type": "code",
   "execution_count": 76,
   "id": "6ecb9a70-cbbf-4012-aa2d-a9b130ced227",
   "metadata": {},
   "outputs": [
    {
     "name": "stdout",
     "output_type": "stream",
     "text": [
      "23\n",
      "45\n",
      "6\n",
      "67\n",
      "87\n",
      "9\n",
      "8\n"
     ]
    }
   ],
   "source": [
    "l2=[23,5,45,56,6,67,67,78,87,8998,9,9,8]\n",
    "l2\n",
    "#give the data only of even indexes\n",
    "for i in range(0,len(l2),2):\n",
    "    print(l2[i])"
   ]
  },
  {
   "cell_type": "code",
   "execution_count": 74,
   "id": "4f81c0a6-1296-4335-9275-1babe5f605d1",
   "metadata": {},
   "outputs": [
    {
     "name": "stdout",
     "output_type": "stream",
     "text": [
      "[1, 2, 3, 4, 5, 6, 7]\n"
     ]
    },
    {
     "data": {
      "text/plain": [
       "28"
      ]
     },
     "execution_count": 74,
     "metadata": {},
     "output_type": "execute_result"
    }
   ],
   "source": [
    "#give the sum of data \n",
    "l=[1,2,3,4,5,6,7]\n",
    "print(l)\n",
    "sum(l)#sum() returns sum of all the elements from the list"
   ]
  },
  {
   "cell_type": "code",
   "execution_count": 73,
   "id": "d447b5ec-ecd6-49ae-8626-2f961adee628",
   "metadata": {},
   "outputs": [
    {
     "name": "stdout",
     "output_type": "stream",
     "text": [
      "28\n"
     ]
    }
   ],
   "source": [
    "result=0#sum of all the elements using the for loop\n",
    "for i in l:\n",
    "    result+=i\n",
    "print(result)"
   ]
  },
  {
   "cell_type": "code",
   "execution_count": 55,
   "id": "e5b5e29b-b78b-4c37-9479-8303254b3897",
   "metadata": {},
   "outputs": [
    {
     "data": {
      "text/plain": [
       "(1, 2, 3, 4, 5)"
      ]
     },
     "execution_count": 55,
     "metadata": {},
     "output_type": "execute_result"
    }
   ],
   "source": [
    "t=(1,2,3,4,5)\n",
    "t"
   ]
  },
  {
   "cell_type": "code",
   "execution_count": 72,
   "id": "e27d03b9-e7fe-4a40-9a4e-9185d9d1d8dc",
   "metadata": {},
   "outputs": [
    {
     "name": "stdout",
     "output_type": "stream",
     "text": [
      "1\n",
      "2\n",
      "3\n",
      "4\n",
      "5\n"
     ]
    }
   ],
   "source": [
    "for i in (t):#to get the elements from the tuple using for loop\n",
    "   print(i) "
   ]
  },
  {
   "cell_type": "code",
   "execution_count": 71,
   "id": "f997a7aa-bcdc-472a-9470-206aedb06ab6",
   "metadata": {},
   "outputs": [
    {
     "name": "stdout",
     "output_type": "stream",
     "text": [
      "15\n"
     ]
    }
   ],
   "source": [
    "result=0#sum of all elements from the tuple t\n",
    "for i in t:\n",
    "    result+=i\n",
    "print(result)"
   ]
  },
  {
   "cell_type": "code",
   "execution_count": 70,
   "id": "2743516d-edbb-4018-ba90-5ffe2adcdf4d",
   "metadata": {},
   "outputs": [],
   "source": [
    "s={1,2,3,4,5,\"sudh\",\"pwskills\"}#to get the elements from the set"
   ]
  },
  {
   "cell_type": "code",
   "execution_count": 61,
   "id": "440e759c-f038-4ae4-8f81-fd33e92fcf2c",
   "metadata": {},
   "outputs": [
    {
     "name": "stdout",
     "output_type": "stream",
     "text": [
      "1\n",
      "2\n",
      "3\n",
      "4\n",
      "5\n",
      "sudh\n",
      "pwskills\n"
     ]
    }
   ],
   "source": [
    "for i in s:\n",
    "    print(i)"
   ]
  },
  {
   "cell_type": "code",
   "execution_count": 69,
   "id": "a0b39e08-c0dc-46b6-9201-77d8409d692c",
   "metadata": {},
   "outputs": [
    {
     "name": "stdout",
     "output_type": "stream",
     "text": [
      "p\n",
      "w\n",
      "s\n",
      "k\n",
      "i\n",
      "l\n",
      "l\n",
      "s\n"
     ]
    }
   ],
   "source": [
    "s1=\"pwskills\"#to get all the elements from the string\n",
    "for i in s1:\n",
    "    print(i)"
   ]
  },
  {
   "cell_type": "code",
   "execution_count": 65,
   "id": "c70be5a8-612c-452d-934e-327914f5315e",
   "metadata": {},
   "outputs": [
    {
     "data": {
      "text/plain": [
       "{'name': 'sudh',\n",
       " 'class': 'datascience',\n",
       " 'topic': ['python', 'stats', 'ml', 'dl', 'cv', 'nlp', 'resume', 'interview']}"
      ]
     },
     "execution_count": 65,
     "metadata": {},
     "output_type": "execute_result"
    }
   ],
   "source": [
    "d={\"name\":\"sudh\",\"class\":\"datascience\",\n",
    "\"topic\":[\"python\",\"stats\",\"ml\",\"dl\",\"cv\",\"nlp\",\"resume\",\"interview\"]}\n",
    "d"
   ]
  },
  {
   "cell_type": "code",
   "execution_count": 67,
   "id": "094f356b-48bf-4461-8830-a0a659b463b9",
   "metadata": {},
   "outputs": [
    {
     "name": "stdout",
     "output_type": "stream",
     "text": [
      "sudh\n",
      "datascience\n",
      "['python', 'stats', 'ml', 'dl', 'cv', 'nlp', 'resume', 'interview']\n"
     ]
    }
   ],
   "source": [
    "for i in d.keys():\n",
    "    print(d[i]) #so here d will be the dictname and i is elements from d.keys "
   ]
  },
  {
   "cell_type": "code",
   "execution_count": 77,
   "id": "6915400e-d32a-4ed8-931c-45ab1b623fb8",
   "metadata": {},
   "outputs": [
    {
     "data": {
      "text/plain": [
       "dict_values(['sudh', 'datascience', ['python', 'stats', 'ml', 'dl', 'cv', 'nlp', 'resume', 'interview']])"
      ]
     },
     "execution_count": 77,
     "metadata": {},
     "output_type": "execute_result"
    }
   ],
   "source": [
    "d.values()"
   ]
  },
  {
   "cell_type": "code",
   "execution_count": 79,
   "id": "b4f5e26b-c86f-424b-9f84-8c0b6bfe1db9",
   "metadata": {},
   "outputs": [
    {
     "name": "stdout",
     "output_type": "stream",
     "text": [
      "sudh\n",
      "datascience\n",
      "['python', 'stats', 'ml', 'dl', 'cv', 'nlp', 'resume', 'interview']\n"
     ]
    }
   ],
   "source": [
    "for i in d.values():\n",
    "    print(i)"
   ]
  },
  {
   "cell_type": "code",
   "execution_count": 80,
   "id": "ff1a8f61-d446-4b8c-bfbc-71a9eea1f4e4",
   "metadata": {},
   "outputs": [
    {
     "name": "stdout",
     "output_type": "stream",
     "text": [
      "('name', 'sudh')\n",
      "('class', 'datascience')\n",
      "('topic', ['python', 'stats', 'ml', 'dl', 'cv', 'nlp', 'resume', 'interview'])\n"
     ]
    }
   ],
   "source": [
    "for i in d.items():\n",
    "    print(i)"
   ]
  },
  {
   "cell_type": "code",
   "execution_count": null,
   "id": "0a2b631b-7f36-40d1-bd9d-ec66cc78c4d3",
   "metadata": {},
   "outputs": [],
   "source": []
  }
 ],
 "metadata": {
  "kernelspec": {
   "display_name": "Python 3 (ipykernel)",
   "language": "python",
   "name": "python3"
  },
  "language_info": {
   "codemirror_mode": {
    "name": "ipython",
    "version": 3
   },
   "file_extension": ".py",
   "mimetype": "text/x-python",
   "name": "python",
   "nbconvert_exporter": "python",
   "pygments_lexer": "ipython3",
   "version": "3.11.7"
  }
 },
 "nbformat": 4,
 "nbformat_minor": 5
}
