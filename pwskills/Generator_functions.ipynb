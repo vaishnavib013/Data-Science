{
 "cells": [
  {
   "cell_type": "code",
   "execution_count": 9,
   "id": "ccdecf29-1908-4160-972c-03dc49fb533f",
   "metadata": {},
   "outputs": [
    {
     "data": {
      "text/plain": [
       "range(0, 10)"
      ]
     },
     "execution_count": 9,
     "metadata": {},
     "output_type": "execute_result"
    }
   ],
   "source": [
    "#Generator Functions\n",
    "\"\"\"if suppose you have write a function  which returns us the list as a result,lets \n",
    "assume you have billons /millions of data/element...so how much big will be the list \n",
    "that much you will require lot of memory to store that data in the main memory.so \n",
    "memory consumption becomes very high so to reduce or optimize the memory consumption \n",
    "we can use this generator function\n",
    "the function which keeps generating the output one by one.\n",
    "the output is not togetherly printed ie it is not stored and gives the result together.\n",
    "we get the output one by  one without holding that into the memory using this genrator\n",
    "function\n",
    "\"\"\"\n",
    "range(10)"
   ]
  },
  {
   "cell_type": "code",
   "execution_count": 16,
   "id": "1677fdcb-34e1-4364-9a3e-b5dd52613e43",
   "metadata": {},
   "outputs": [],
   "source": [
    "#generate the fibonacci series using the generator function\n",
    "def test_fib(n):\n",
    "    a,b=0,1\n",
    "    for i in range(n):\n",
    "        yield a\n",
    "        a,b=b,a+b#here a=b and b=a+B"
   ]
  },
  {
   "cell_type": "code",
   "execution_count": 17,
   "id": "a650f553-602f-4afc-8bc8-64983ad13b0e",
   "metadata": {},
   "outputs": [
    {
     "data": {
      "text/plain": [
       "<generator object test_fib at 0x0000018FF3E7F3D0>"
      ]
     },
     "execution_count": 17,
     "metadata": {},
     "output_type": "execute_result"
    }
   ],
   "source": [
    "test_fib(10)"
   ]
  },
  {
   "cell_type": "code",
   "execution_count": 18,
   "id": "8b622ba6-e491-4261-8562-6e3710f4fd99",
   "metadata": {},
   "outputs": [
    {
     "name": "stdout",
     "output_type": "stream",
     "text": [
      "0\n",
      "1\n",
      "1\n",
      "2\n",
      "3\n",
      "5\n",
      "8\n",
      "13\n",
      "21\n",
      "34\n"
     ]
    }
   ],
   "source": [
    "for i in test_fib(10):\n",
    "    print(i)"
   ]
  },
  {
   "cell_type": "code",
   "execution_count": 4,
   "id": "777e792d-0fa0-4407-aa5d-1f1a230fb026",
   "metadata": {},
   "outputs": [],
   "source": [
    "def test_fib1():\n",
    "    a,b=0,1\n",
    "    while True:\n",
    "        yield a\n",
    "        a,b=b,a+b"
   ]
  },
  {
   "cell_type": "code",
   "execution_count": 28,
   "id": "432c5f87-6db9-4fd4-aa5a-f63c8c218ae8",
   "metadata": {},
   "outputs": [
    {
     "data": {
      "text/plain": [
       "generator"
      ]
     },
     "execution_count": 28,
     "metadata": {},
     "output_type": "execute_result"
    }
   ],
   "source": [
    "fib=test_fib1()\n",
    "type(fib)#so now we have used the yeild in for loop so it has bcome the generator"
   ]
  },
  {
   "cell_type": "code",
   "execution_count": 6,
   "id": "2903d33b-3622-430a-b8be-acb35eba34b1",
   "metadata": {},
   "outputs": [
    {
     "name": "stdout",
     "output_type": "stream",
     "text": [
      "0\n",
      "1\n",
      "1\n",
      "2\n",
      "3\n",
      "5\n",
      "8\n",
      "13\n",
      "21\n",
      "34\n"
     ]
    }
   ],
   "source": [
    "for i in range(10):\n",
    "    print(next(fib))"
   ]
  },
  {
   "cell_type": "code",
   "execution_count": 7,
   "id": "782f8bcd-0f4f-4c75-86f5-50f78e613a0b",
   "metadata": {},
   "outputs": [],
   "source": [
    "s='sudh'"
   ]
  },
  {
   "cell_type": "code",
   "execution_count": 10,
   "id": "df2004f1-224b-40b0-8dd7-13f363050e56",
   "metadata": {},
   "outputs": [
    {
     "name": "stdout",
     "output_type": "stream",
     "text": [
      "s\n",
      "u\n",
      "d\n",
      "h\n"
     ]
    }
   ],
   "source": [
    "for i in s:\n",
    "    print(i)\n",
    "    #next(s)-this gives us error as string cannot be iterator \n",
    "# 'str' object is not an iterator"
   ]
  },
  {
   "cell_type": "code",
   "execution_count": 21,
   "id": "5209a7e7-cb44-4a7f-9e42-538f223294a7",
   "metadata": {},
   "outputs": [],
   "source": [
    "s1=iter(s)#so string is not iterator so we will make it iterator by iter() \n"
   ]
  },
  {
   "cell_type": "code",
   "execution_count": 23,
   "id": "be4cfdc2-b331-4b31-80c6-a23683d3b07e",
   "metadata": {},
   "outputs": [
    {
     "data": {
      "text/plain": [
       "str_ascii_iterator"
      ]
     },
     "execution_count": 23,
     "metadata": {},
     "output_type": "execute_result"
    }
   ],
   "source": [
    "type(s1)"
   ]
  },
  {
   "cell_type": "code",
   "execution_count": 12,
   "id": "4cc223f7-7f9d-4bdb-9a3c-7e1ebceca9a7",
   "metadata": {},
   "outputs": [
    {
     "data": {
      "text/plain": [
       "'s'"
      ]
     },
     "execution_count": 12,
     "metadata": {},
     "output_type": "execute_result"
    }
   ],
   "source": [
    "next(s1)"
   ]
  },
  {
   "cell_type": "code",
   "execution_count": 14,
   "id": "437a2688-bacf-416e-9e32-d6e45501a11d",
   "metadata": {},
   "outputs": [
    {
     "data": {
      "text/plain": [
       "'u'"
      ]
     },
     "execution_count": 14,
     "metadata": {},
     "output_type": "execute_result"
    }
   ],
   "source": [
    "next(s1)"
   ]
  },
  {
   "cell_type": "code",
   "execution_count": 15,
   "id": "3a149c67-6fdd-46e1-808a-502d30b75cea",
   "metadata": {},
   "outputs": [
    {
     "data": {
      "text/plain": [
       "'d'"
      ]
     },
     "execution_count": 15,
     "metadata": {},
     "output_type": "execute_result"
    }
   ],
   "source": [
    "next(s1)"
   ]
  },
  {
   "cell_type": "code",
   "execution_count": 16,
   "id": "24600fed-4bcf-4128-8b2f-d97070a74a23",
   "metadata": {},
   "outputs": [
    {
     "data": {
      "text/plain": [
       "'h'"
      ]
     },
     "execution_count": 16,
     "metadata": {},
     "output_type": "execute_result"
    }
   ],
   "source": [
    "next(s1)"
   ]
  },
  {
   "cell_type": "code",
   "execution_count": 18,
   "id": "b7c62a8d-fe5d-430f-9e0e-537374cb4173",
   "metadata": {},
   "outputs": [
    {
     "ename": "StopIteration",
     "evalue": "",
     "output_type": "error",
     "traceback": [
      "\u001b[1;31m------------------------------------------------------------------------\u001b[0m",
      "\u001b[1;31mStopIteration\u001b[0m                          Traceback (most recent call last)",
      "Cell \u001b[1;32mIn[18], line 1\u001b[0m\n\u001b[1;32m----> 1\u001b[0m \u001b[38;5;28mnext\u001b[39m(s1)\n",
      "\u001b[1;31mStopIteration\u001b[0m: "
     ]
    }
   ],
   "source": [
    "next(s1)"
   ]
  },
  {
   "cell_type": "code",
   "execution_count": 25,
   "id": "4b72043a-c55f-4e6d-a990-31994578edff",
   "metadata": {},
   "outputs": [
    {
     "ename": "TypeError",
     "evalue": "'int' object is not iterable",
     "output_type": "error",
     "traceback": [
      "\u001b[1;31m------------------------------------------------------------------------\u001b[0m",
      "\u001b[1;31mTypeError\u001b[0m                              Traceback (most recent call last)",
      "Cell \u001b[1;32mIn[25], line 2\u001b[0m\n\u001b[0;32m      1\u001b[0m \u001b[38;5;66;03m#iterator cannot pass the values like integer float bcoz it cannot be iterated next-nex\u001b[39;00m\n\u001b[1;32m----> 2\u001b[0m \u001b[38;5;28miter\u001b[39m(\u001b[38;5;241m45\u001b[39m)\n",
      "\u001b[1;31mTypeError\u001b[0m: 'int' object is not iterable"
     ]
    }
   ],
   "source": [
    "#iterator cannot pass the values like integer float bcoz it cannot be iterated next-nex\n",
    "iter(45)"
   ]
  },
  {
   "cell_type": "markdown",
   "id": "5643d05b-4bb2-444a-b2a2-df02d07a0b6a",
   "metadata": {},
   "source": [
    "# conclusion:\n",
    "# generator\n",
    "generator function is creator is by yield keyword\n",
    "generator is keeps on yield,yeild,yield,...like this\n",
    "it will keep us giving /generatoring the element \n",
    "\n",
    "# iterator\n",
    "iterator is which can give us next next value\n",
    "which can extract/fetch the value from the element or from the list or collection of data\n",
    "# iteratable\n",
    "which the we can convert into the iterator like in the above examples we did of string"
   ]
  },
  {
   "cell_type": "code",
   "execution_count": 32,
   "id": "e9f8bc0b-72fd-4b7f-902f-ff56167fc07a",
   "metadata": {},
   "outputs": [],
   "source": [
    "def count_test(n):\n",
    "    count=1\n",
    "    while count<n:\n",
    "        yield count\n",
    "        count=count+1"
   ]
  },
  {
   "cell_type": "code",
   "execution_count": 35,
   "id": "3f91e60e-0a69-4e70-ad90-e61c0d3de6ef",
   "metadata": {},
   "outputs": [
    {
     "name": "stdout",
     "output_type": "stream",
     "text": [
      "<generator object count_test at 0x0000024E55446A80>\n"
     ]
    }
   ],
   "source": [
    "c=count_test(5)\n",
    "print(c)"
   ]
  },
  {
   "cell_type": "code",
   "execution_count": 36,
   "id": "4c47cd28-fbea-4c1a-a05c-2786a4b05c5f",
   "metadata": {},
   "outputs": [
    {
     "name": "stdout",
     "output_type": "stream",
     "text": [
      "1\n",
      "2\n",
      "3\n",
      "4\n"
     ]
    }
   ],
   "source": [
    "for i in c:\n",
    "    print(i)"
   ]
  },
  {
   "cell_type": "code",
   "execution_count": null,
   "id": "aecba0df-b45d-4836-8dbf-a81db31f4a8a",
   "metadata": {},
   "outputs": [],
   "source": []
  }
 ],
 "metadata": {
  "kernelspec": {
   "display_name": "Python 3 (ipykernel)",
   "language": "python",
   "name": "python3"
  },
  "language_info": {
   "codemirror_mode": {
    "name": "ipython",
    "version": 3
   },
   "file_extension": ".py",
   "mimetype": "text/x-python",
   "name": "python",
   "nbconvert_exporter": "python",
   "pygments_lexer": "ipython3",
   "version": "3.11.7"
  }
 },
 "nbformat": 4,
 "nbformat_minor": 5
}
