{
 "cells": [
  {
   "cell_type": "markdown",
   "id": "1b6656df-59da-45d0-bcc5-44084139aeb2",
   "metadata": {},
   "source": [
    "# map function :\n",
    "        it will help in mapping the function\n",
    "        #map():\n",
    "            it will map the function with the iterator as the parameters ie map\n",
    "            function takes two parameters the first parameter is the function and 2nd\n",
    "            parameter as the iterables\n",
    "\n",
    " # reduce function:\n",
    "         it will help to reduce the function\n",
    "         it reduces all the entities and return us a single value like \n",
    "        summation of all the elements in the list\n",
    "        for using the reduce function we need to import it from functiontools library\n",
    "        from functools import reduce\n",
    "        this function also takes 2 parameters 1st parameter is the function and 2nd\n",
    "        parameter is iterable\n",
    "# filter function\n",
    "        it will help to filter the function\n",
    "        so the operations like give me the even numbers or odd numbers or divisible   \n",
    "        by 3 or divisible by 2/4/5 from the list that time we use this filter function\n",
    "        this filter () takes 2 parameters 1 is the function and 2nd is the iterable "
   ]
  },
  {
   "cell_type": "code",
   "execution_count": 1,
   "id": "39cf258b-fcd9-49b8-9456-cd95c67fdcd7",
   "metadata": {},
   "outputs": [],
   "source": [
    "l=[2,3,4,5,6]"
   ]
  },
  {
   "cell_type": "code",
   "execution_count": 2,
   "id": "f4b679c4-5761-4b56-a6af-d8922b948726",
   "metadata": {},
   "outputs": [
    {
     "data": {
      "text/plain": [
       "[4, 9, 16, 25, 36]"
      ]
     },
     "execution_count": 2,
     "metadata": {},
     "output_type": "execute_result"
    }
   ],
   "source": [
    "#perform operation on each element of the list \n",
    "def test(l):\n",
    "    l1=[]\n",
    "    for i in l:\n",
    "        l1.append(i**2)\n",
    "    return l1\n",
    "\n",
    "test(l)\n",
    "    "
   ]
  },
  {
   "cell_type": "code",
   "execution_count": 3,
   "id": "2335162f-1a6d-4813-b044-a6e4af7029ad",
   "metadata": {},
   "outputs": [],
   "source": [
    "def sq(x):\n",
    "    return x**2"
   ]
  },
  {
   "cell_type": "code",
   "execution_count": 4,
   "id": "d0a32cea-45b5-41dd-b10f-2ea103d67cbf",
   "metadata": {},
   "outputs": [
    {
     "data": {
      "text/plain": [
       "<map at 0x2c2f94c33d0>"
      ]
     },
     "execution_count": 4,
     "metadata": {},
     "output_type": "execute_result"
    }
   ],
   "source": [
    "\n",
    "#supose we have the above list and we have to square all the elements present in it\n",
    "#so we will map the function of square with all the elements of the list.\n",
    "#so basically map will map the function to the iterators\n",
    "\"\"\"so by using the external function we have returned the square of all elements of \n",
    "the list\"\"\"\n",
    "map(sq,l)"
   ]
  },
  {
   "cell_type": "code",
   "execution_count": 5,
   "id": "bdd1aecd-0aaa-4fd4-b8c0-7fcd59a5edf8",
   "metadata": {},
   "outputs": [
    {
     "data": {
      "text/plain": [
       "[4, 9, 16, 25, 36]"
      ]
     },
     "execution_count": 5,
     "metadata": {},
     "output_type": "execute_result"
    }
   ],
   "source": [
    "list(map(sq,l))\n",
    "#so if we wrap up the function into the list we gets the result in the form of list"
   ]
  },
  {
   "cell_type": "code",
   "execution_count": 6,
   "id": "350e9e06-5221-43bd-bc4a-77d7d17364b7",
   "metadata": {},
   "outputs": [
    {
     "data": {
      "text/plain": [
       "[4, 9, 16, 25, 36]"
      ]
     },
     "execution_count": 6,
     "metadata": {},
     "output_type": "execute_result"
    }
   ],
   "source": [
    "#so by using lambda function with the map function we can return the same output\n",
    "\n",
    "\"\"\"we have used the same thing here also ie in map function 1st parameter is the operation\n",
    "or function and 2nd parameter is the list that will be iterator\"\"\" \n",
    "list(map(lambda x:x**2,l))\n",
    "#within one line we gets the same result instead of using the big defination of a function"
   ]
  },
  {
   "cell_type": "code",
   "execution_count": 7,
   "id": "35a57496-7691-4765-b899-c07d2fb2f7c6",
   "metadata": {},
   "outputs": [
    {
     "data": {
      "text/plain": [
       "[7, 9, 11, 13, 15]"
      ]
     },
     "execution_count": 7,
     "metadata": {},
     "output_type": "execute_result"
    }
   ],
   "source": [
    "#we have 2 list using which we want add the the 1st position of element from both the list\n",
    "#similarly get the same list and return in another new list all those values of the result\n",
    "l1=[1,2,3,4,5]\n",
    "l2=[6,7,8,9,10]\n",
    "list(map(lambda x,y:x+y ,l1,l2))"
   ]
  },
  {
   "cell_type": "code",
   "execution_count": 8,
   "id": "97706e59-2556-441c-9a72-224db31b5feb",
   "metadata": {},
   "outputs": [],
   "source": [
    "def add(x,y):\n",
    "    return x+y\n",
    "    "
   ]
  },
  {
   "cell_type": "code",
   "execution_count": 15,
   "id": "914c187b-406d-4005-a222-55d61132de71",
   "metadata": {},
   "outputs": [
    {
     "data": {
      "text/plain": [
       "[7, 9, 11, 13, 15]"
      ]
     },
     "execution_count": 15,
     "metadata": {},
     "output_type": "execute_result"
    }
   ],
   "source": [
    "list(map(add,l1,l2))"
   ]
  },
  {
   "cell_type": "code",
   "execution_count": 24,
   "id": "bec12b48-db78-4c6f-abda-0a1e6ff27108",
   "metadata": {},
   "outputs": [],
   "source": [
    "#make the given string into the uppercase\n",
    "s=\"pwskills\"\n",
    "def uppercase(s):\n",
    "   return s.upper()\n"
   ]
  },
  {
   "cell_type": "code",
   "execution_count": 25,
   "id": "2f85a705-0657-4fbe-b6d3-41a6a4068e8b",
   "metadata": {},
   "outputs": [
    {
     "data": {
      "text/plain": [
       "'PWSKILLS'"
      ]
     },
     "execution_count": 25,
     "metadata": {},
     "output_type": "execute_result"
    }
   ],
   "source": [
    "uppercase(s)"
   ]
  },
  {
   "cell_type": "code",
   "execution_count": 23,
   "id": "1589a2aa-ac40-453d-aa7e-4060d063764f",
   "metadata": {},
   "outputs": [
    {
     "data": {
      "text/plain": [
       "['P', 'W', 'S', 'K', 'I', 'L', 'L', 'S']"
      ]
     },
     "execution_count": 23,
     "metadata": {},
     "output_type": "execute_result"
    }
   ],
   "source": [
    "list(map(lambda x:x.upper(),s))\n"
   ]
  },
  {
   "cell_type": "code",
   "execution_count": 9,
   "id": "5d9088c6-54c6-4726-b659-6d4bc177ace7",
   "metadata": {},
   "outputs": [],
   "source": [
    "#reduce function:it reduces all the entities and return us a single value like \n",
    "#summation of all the elements in the list\n",
    "from functools import reduce\n",
    "l=[1,2,3,4,5]"
   ]
  },
  {
   "cell_type": "code",
   "execution_count": 11,
   "id": "9c809126-c0e5-420c-a775-c446d87c480d",
   "metadata": {},
   "outputs": [
    {
     "data": {
      "text/plain": [
       "15"
      ]
     },
     "execution_count": 11,
     "metadata": {},
     "output_type": "execute_result"
    }
   ],
   "source": [
    "\n",
    "\"\"\"reduce(lambda x,y,:x+y , l) this will give error becoz at last z remains alone \n",
    "ie x and y will eb ther ebut z value will not be there to add in that so z is not\n",
    "considered\"\"\"\n",
    "reduce(lambda x,y,:x+y , l)"
   ]
  },
  {
   "cell_type": "code",
   "execution_count": 18,
   "id": "fdd26eed-21fe-4c75-ba09-78f5a14aa6d2",
   "metadata": {},
   "outputs": [
    {
     "ename": "TypeError",
     "evalue": "reduce() of empty iterable with no initial value",
     "output_type": "error",
     "traceback": [
      "\u001b[1;31m------------------------------------------------------------------------\u001b[0m",
      "\u001b[1;31mTypeError\u001b[0m                              Traceback (most recent call last)",
      "Cell \u001b[1;32mIn[18], line 5\u001b[0m\n\u001b[0;32m      1\u001b[0m \u001b[38;5;124;03m\"\"\"so whenever you are using rduce function note that more than 2 parameters \u001b[39;00m\n\u001b[0;32m      2\u001b[0m \u001b[38;5;124;03mcan not be inserted in it\u001b[39;00m\n\u001b[0;32m      3\u001b[0m \u001b[38;5;124;03m#this gives error,there should be atleast 1 element present in that empty list \u001b[39;00m\n\u001b[0;32m      4\u001b[0m \u001b[38;5;124;03m#so that it will not give error \"\"\"\u001b[39;00m\n\u001b[1;32m----> 5\u001b[0m reduce(\u001b[38;5;28;01mlambda\u001b[39;00m x,y,:x\u001b[38;5;241m+\u001b[39my , [])\n",
      "\u001b[1;31mTypeError\u001b[0m: reduce() of empty iterable with no initial value"
     ]
    }
   ],
   "source": [
    "\n",
    "\"\"\"so whenever you are using rduce function note that more than 2 parameters \n",
    "can not be inserted in it\n",
    "#this gives error,there should be atleast 1 element present in that empty list \n",
    "#so that it will not give error \"\"\"\n",
    "reduce(lambda x,y,:x+y , [])"
   ]
  },
  {
   "cell_type": "code",
   "execution_count": 19,
   "id": "a87bba8e-91d7-4b74-ad92-a7b6dc3c14ed",
   "metadata": {},
   "outputs": [
    {
     "data": {
      "text/plain": [
       "1"
      ]
     },
     "execution_count": 19,
     "metadata": {},
     "output_type": "execute_result"
    }
   ],
   "source": [
    "reduce(lambda x,y,:x+y ,[1])\n",
    "#see here atleast one value should be there in the list "
   ]
  },
  {
   "cell_type": "code",
   "execution_count": 20,
   "id": "81dedde6-9e30-41b3-b93a-00860df1de7e",
   "metadata": {},
   "outputs": [
    {
     "data": {
      "text/plain": [
       "120"
      ]
     },
     "execution_count": 20,
     "metadata": {},
     "output_type": "execute_result"
    }
   ],
   "source": [
    "#multiply all the elements in the list and give one value\n",
    "reduce(lambda x,y:x*y , l)"
   ]
  },
  {
   "cell_type": "code",
   "execution_count": 22,
   "id": "42909108-c888-4f52-a0f9-578b3f405d8f",
   "metadata": {},
   "outputs": [
    {
     "data": {
      "text/plain": [
       "5"
      ]
     },
     "execution_count": 22,
     "metadata": {},
     "output_type": "execute_result"
    }
   ],
   "source": [
    "#to get one maximum number from the list\n",
    "reduce(lambda x,y:x if x>y else y ,l)"
   ]
  },
  {
   "cell_type": "code",
   "execution_count": 25,
   "id": "5b301547-5d8e-4439-8a20-7797feeca4dd",
   "metadata": {},
   "outputs": [
    {
     "data": {
      "text/plain": [
       "[1, 2, 3, 4, 5]"
      ]
     },
     "execution_count": 25,
     "metadata": {},
     "output_type": "execute_result"
    }
   ],
   "source": [
    "#filter function\n",
    "l\n",
    "#so the operations like give me the even numbers or odd numbers or divisible by 3 or \n",
    "#divisible by 2/4/5 from the list that time we use this filter function\n",
    "#this filter () takes 2 parameters 1 is the function and 2nd is the iterable "
   ]
  },
  {
   "cell_type": "code",
   "execution_count": 28,
   "id": "f554dcd9-677b-46cf-9ca0-52cd17768ee4",
   "metadata": {},
   "outputs": [
    {
     "data": {
      "text/plain": [
       "[2, 4]"
      ]
     },
     "execution_count": 28,
     "metadata": {},
     "output_type": "execute_result"
    }
   ],
   "source": [
    "#even numbers from the list\n",
    "list(filter(lambda x:x%2==0,l))"
   ]
  },
  {
   "cell_type": "code",
   "execution_count": 29,
   "id": "807f814f-bcbc-4dbc-8e8c-a59b22dadca4",
   "metadata": {},
   "outputs": [
    {
     "data": {
      "text/plain": [
       "[1, 3, 5]"
      ]
     },
     "execution_count": 29,
     "metadata": {},
     "output_type": "execute_result"
    }
   ],
   "source": [
    "#odd numbers from the list\n",
    "list(filter(lambda x:x%2!=0,l))"
   ]
  },
  {
   "cell_type": "code",
   "execution_count": 32,
   "id": "7fcb5712-a464-42af-83d3-d9b553a5f5bb",
   "metadata": {},
   "outputs": [
    {
     "data": {
      "text/plain": [
       "[-3, -1, -5]"
      ]
     },
     "execution_count": 32,
     "metadata": {},
     "output_type": "execute_result"
    }
   ],
   "source": [
    "l1=[-3,4,5,6,7,8,-1,-5]\n",
    "#return only the negative nuumbers from the list\n",
    "list(filter(lambda x:x<0,l1))"
   ]
  },
  {
   "cell_type": "code",
   "execution_count": 33,
   "id": "2ea3520b-69e3-4122-95a4-245c3e4e8bbd",
   "metadata": {},
   "outputs": [
    {
     "data": {
      "text/plain": [
       "[4, 5, 6, 7, 8]"
      ]
     },
     "execution_count": 33,
     "metadata": {},
     "output_type": "execute_result"
    }
   ],
   "source": [
    "#to return all the positive numbers from the list\n",
    "list(filter(lambda x:x>0,l1))"
   ]
  },
  {
   "cell_type": "code",
   "execution_count": 34,
   "id": "a96a419b-0eb1-4860-9fdc-9f033497c00e",
   "metadata": {},
   "outputs": [],
   "source": [
    "l2=[\"sudh\",\"pwskills\",\"kumar\",\"bangalore\",\"krish\"]\n",
    "#filter out the strings whose length is greater than 6"
   ]
  },
  {
   "cell_type": "code",
   "execution_count": 35,
   "id": "6c360d8c-3d40-4f1b-bb1c-2eb729beddd0",
   "metadata": {},
   "outputs": [
    {
     "data": {
      "text/plain": [
       "['pwskills', 'bangalore']"
      ]
     },
     "execution_count": 35,
     "metadata": {},
     "output_type": "execute_result"
    }
   ],
   "source": [
    "list(filter(lambda x:len(x)>=6 ,l2))"
   ]
  },
  {
   "cell_type": "code",
   "execution_count": 36,
   "id": "bfa13e8f-b73c-407c-a191-f98e5eec5340",
   "metadata": {},
   "outputs": [
    {
     "data": {
      "text/plain": [
       "['sudh', 'kumar', 'krish']"
      ]
     },
     "execution_count": 36,
     "metadata": {},
     "output_type": "execute_result"
    }
   ],
   "source": [
    "list(filter(lambda x:len(x)<=6 ,l2))\n",
    "#filter out the strings from the list whose length is smaller than 6"
   ]
  },
  {
   "cell_type": "code",
   "execution_count": null,
   "id": "49295323-2f3c-4346-85db-f1f01e03b9dc",
   "metadata": {},
   "outputs": [],
   "source": []
  }
 ],
 "metadata": {
  "kernelspec": {
   "display_name": "Python 3 (ipykernel)",
   "language": "python",
   "name": "python3"
  },
  "language_info": {
   "codemirror_mode": {
    "name": "ipython",
    "version": 3
   },
   "file_extension": ".py",
   "mimetype": "text/x-python",
   "name": "python",
   "nbconvert_exporter": "python",
   "pygments_lexer": "ipython3",
   "version": "3.11.7"
  }
 },
 "nbformat": 4,
 "nbformat_minor": 5
}
