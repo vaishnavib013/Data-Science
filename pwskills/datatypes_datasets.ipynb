{
 "cells": [
  {
   "cell_type": "code",
   "execution_count": 1,
   "id": "a6172134-a9df-43f7-aa9b-ef6c82865bc9",
   "metadata": {},
   "outputs": [],
   "source": [
    "#datasets and datatypes\n",
    "#datatype-lists"
   ]
  },
  {
   "cell_type": "code",
   "execution_count": 2,
   "id": "6137cbaa-3435-476d-bc8a-58a82a51fe71",
   "metadata": {},
   "outputs": [
    {
     "name": "stdout",
     "output_type": "stream",
     "text": [
      "hello world\n"
     ]
    }
   ],
   "source": [
    "print(\"hello world\")"
   ]
  },
  {
   "cell_type": "code",
   "execution_count": 2,
   "id": "cb0e98c6-29bb-4b2a-8648-e2f544b7bd2c",
   "metadata": {
    "scrolled": true
   },
   "outputs": [],
   "source": [
    "#the basic datatype is called primitive datatype which are already defined in the system\n",
    "#list-list is a collection of different typs of data like string ,integer,float,boolean"
   ]
  },
  {
   "cell_type": "code",
   "execution_count": 3,
   "id": "0b9a519c-76bf-4860-9e08-ce8c4e93280f",
   "metadata": {},
   "outputs": [],
   "source": [
    "l=[1,23,\"sudh\",True,5+7J,345.789]"
   ]
  },
  {
   "cell_type": "code",
   "execution_count": 5,
   "id": "655dc757-52f7-4725-bdf2-70937c350630",
   "metadata": {},
   "outputs": [
    {
     "name": "stdout",
     "output_type": "stream",
     "text": [
      "<class 'list'>\n"
     ]
    }
   ],
   "source": [
    "print(type(l))"
   ]
  },
  {
   "cell_type": "code",
   "execution_count": 7,
   "id": "e6b20c41-fb3b-4f34-b716-77fb2f2abce8",
   "metadata": {},
   "outputs": [
    {
     "name": "stdout",
     "output_type": "stream",
     "text": [
      "[1, 23, 'sudh', True, (5+7j), 345.789]\n"
     ]
    }
   ],
   "source": [
    "print(l[:])"
   ]
  },
  {
   "cell_type": "code",
   "execution_count": 8,
   "id": "63651988-33be-4a5d-a37f-5aa3ae9d28e2",
   "metadata": {},
   "outputs": [
    {
     "data": {
      "text/plain": [
       "[1, 23, 'sudh', True, (5+7j), 345.789]"
      ]
     },
     "execution_count": 8,
     "metadata": {},
     "output_type": "execute_result"
    }
   ],
   "source": [
    "l"
   ]
  },
  {
   "cell_type": "code",
   "execution_count": 9,
   "id": "2d973009-be3c-4049-ae6d-ea82b17b0d57",
   "metadata": {},
   "outputs": [
    {
     "data": {
      "text/plain": [
       "list"
      ]
     },
     "execution_count": 9,
     "metadata": {},
     "output_type": "execute_result"
    }
   ],
   "source": [
    "type(l)"
   ]
  },
  {
   "cell_type": "code",
   "execution_count": 10,
   "id": "6f7c0d33-9dff-46ff-90bd-0ef3bade541a",
   "metadata": {},
   "outputs": [
    {
     "data": {
      "text/plain": [
       "1"
      ]
     },
     "execution_count": 10,
     "metadata": {},
     "output_type": "execute_result"
    }
   ],
   "source": [
    "l[0]"
   ]
  },
  {
   "cell_type": "code",
   "execution_count": 12,
   "id": "01ed521a-3864-44cc-b8e8-394f41acf649",
   "metadata": {},
   "outputs": [
    {
     "ename": "IndexError",
     "evalue": "list index out of range",
     "output_type": "error",
     "traceback": [
      "\u001b[1;31m---------------------------------------------------------------------------\u001b[0m",
      "\u001b[1;31mIndexError\u001b[0m                                Traceback (most recent call last)",
      "Cell \u001b[1;32mIn[12], line 1\u001b[0m\n\u001b[1;32m----> 1\u001b[0m l[\u001b[38;5;241m-\u001b[39m\u001b[38;5;241m90\u001b[39m]\n",
      "\u001b[1;31mIndexError\u001b[0m: list index out of range"
     ]
    }
   ],
   "source": [
    "l[-90]"
   ]
  },
  {
   "cell_type": "code",
   "execution_count": 13,
   "id": "6d8789ad-c2de-42c9-8d67-c121bf5ed809",
   "metadata": {},
   "outputs": [
    {
     "data": {
      "text/plain": [
       "[1, 23, 'sudh', True, (5+7j)]"
      ]
     },
     "execution_count": 13,
     "metadata": {},
     "output_type": "execute_result"
    }
   ],
   "source": [
    "l[:-1]"
   ]
  },
  {
   "cell_type": "code",
   "execution_count": 14,
   "id": "e2d31175-d3a8-4adb-a542-67da3b1abc14",
   "metadata": {},
   "outputs": [
    {
     "data": {
      "text/plain": [
       "[345.789, (5+7j), True, 'sudh', 23, 1]"
      ]
     },
     "execution_count": 14,
     "metadata": {},
     "output_type": "execute_result"
    }
   ],
   "source": [
    "l[::-1]"
   ]
  },
  {
   "cell_type": "code",
   "execution_count": 15,
   "id": "d16275e7-2c43-42f1-9a78-b19a4c0621a0",
   "metadata": {},
   "outputs": [
    {
     "data": {
      "text/plain": [
       "str"
      ]
     },
     "execution_count": 15,
     "metadata": {},
     "output_type": "execute_result"
    }
   ],
   "source": [
    "type(l[2])"
   ]
  },
  {
   "cell_type": "code",
   "execution_count": 16,
   "id": "f5116e86-c67f-489c-8845-501616d97342",
   "metadata": {},
   "outputs": [
    {
     "data": {
      "text/plain": [
       "[1, 23, 'sudh']"
      ]
     },
     "execution_count": 16,
     "metadata": {},
     "output_type": "execute_result"
    }
   ],
   "source": [
    "l[:3]"
   ]
  },
  {
   "cell_type": "code",
   "execution_count": 18,
   "id": "1591f0e9-49e7-4dd9-bdfc-0d8252d02b63",
   "metadata": {},
   "outputs": [
    {
     "name": "stdout",
     "output_type": "stream",
     "text": [
      "<class 'str'>\n"
     ]
    }
   ],
   "source": [
    "print(type(l[2]))"
   ]
  },
  {
   "cell_type": "code",
   "execution_count": 19,
   "id": "49f3c827-1ff0-4065-ad05-5854ebb7c789",
   "metadata": {},
   "outputs": [
    {
     "data": {
      "text/plain": [
       "345.789"
      ]
     },
     "execution_count": 19,
     "metadata": {},
     "output_type": "execute_result"
    }
   ],
   "source": [
    "l[-1]"
   ]
  },
  {
   "cell_type": "code",
   "execution_count": 20,
   "id": "93953b01-39bb-4793-84bc-242bba11550d",
   "metadata": {},
   "outputs": [
    {
     "data": {
      "text/plain": [
       "[1, 'sudh', (5+7j)]"
      ]
     },
     "execution_count": 20,
     "metadata": {},
     "output_type": "execute_result"
    }
   ],
   "source": [
    "l[::2]"
   ]
  },
  {
   "cell_type": "code",
   "execution_count": null,
   "id": "aaa22292-fbcb-4a69-9c65-ad6be89b3d8a",
   "metadata": {},
   "outputs": [],
   "source": []
  }
 ],
 "metadata": {
  "kernelspec": {
   "display_name": "Python 3 (ipykernel)",
   "language": "python",
   "name": "python3"
  },
  "language_info": {
   "codemirror_mode": {
    "name": "ipython",
    "version": 3
   },
   "file_extension": ".py",
   "mimetype": "text/x-python",
   "name": "python",
   "nbconvert_exporter": "python",
   "pygments_lexer": "ipython3",
   "version": "3.11.7"
  }
 },
 "nbformat": 4,
 "nbformat_minor": 5
}
