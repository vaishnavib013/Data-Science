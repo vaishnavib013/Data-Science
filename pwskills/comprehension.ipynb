{
 "cells": [
  {
   "cell_type": "code",
   "execution_count": 5,
   "id": "a287b2e4-fd7f-4c95-939d-3c9c4869d0b6",
   "metadata": {},
   "outputs": [
    {
     "name": "stdout",
     "output_type": "stream",
     "text": [
      "[1, 4, 9, 16, 2025, 36]\n"
     ]
    }
   ],
   "source": [
    "#COMPREHENSION:\n",
    "\"\"\"list comprehension:\n",
    "suppose we want to square each number and append them to another list\n",
    "\"\"\"\n",
    "l=[1,2,3,4,45,6]\n",
    "l1=[]\n",
    "for i in l:\n",
    "    l1.append(i*i)#here we did (number X number) ie (5 X 5) \n",
    "print(l1)"
   ]
  },
  {
   "cell_type": "code",
   "execution_count": 7,
   "id": "526df598-599a-47da-9bc1-f888c890141b",
   "metadata": {},
   "outputs": [
    {
     "name": "stdout",
     "output_type": "stream",
     "text": [
      "[1, 2, 3, 4, 45, 6]\n",
      "[1, 4, 9, 16, 2025, 36]\n"
     ]
    }
   ],
   "source": [
    "l=[1,2,3,4,45,6]\n",
    "l1=[]\n",
    "for i in l:\n",
    "    l1.append(i**2)#here we did (number ^ 2) ie (5 ^2) \n",
    "print(l)\n",
    "print(l1)"
   ]
  },
  {
   "cell_type": "code",
   "execution_count": 29,
   "id": "79b3cb60-c354-4be4-9ad4-b4e41032ab56",
   "metadata": {},
   "outputs": [
    {
     "data": {
      "text/plain": [
       "[1, 4, 9, 16, 2025, 36]"
      ]
     },
     "execution_count": 29,
     "metadata": {},
     "output_type": "execute_result"
    }
   ],
   "source": [
    "#list comprehension\n",
    "#list comprehension and tuple comprehension will be same\n",
    "[i**2 for i in l]"
   ]
  },
  {
   "cell_type": "code",
   "execution_count": 9,
   "id": "552f570f-4768-4c50-a8c5-34c84278d26d",
   "metadata": {},
   "outputs": [
    {
     "name": "stdout",
     "output_type": "stream",
     "text": [
      "[1, 4, 9, 16, 2025, 36]\n"
     ]
    }
   ],
   "source": [
    "l2=[i**2 for i in l]\n",
    "print(l2)"
   ]
  },
  {
   "cell_type": "code",
   "execution_count": 11,
   "id": "8d0b768d-94a8-4c92-a2a5-2811b76670e2",
   "metadata": {},
   "outputs": [
    {
     "data": {
      "text/plain": [
       "[2, 4, 6]"
      ]
     },
     "execution_count": 11,
     "metadata": {},
     "output_type": "execute_result"
    }
   ],
   "source": [
    "#we will extract only the even numbers from this list\n",
    "l=[1,2,3,4,45,6]\n",
    "[i for i in l if i%2==0]"
   ]
  },
  {
   "cell_type": "code",
   "execution_count": 12,
   "id": "f81991fd-2427-4b37-9618-4e4eb79e0ba0",
   "metadata": {},
   "outputs": [
    {
     "data": {
      "text/plain": [
       "[1, 3, 45]"
      ]
     },
     "execution_count": 12,
     "metadata": {},
     "output_type": "execute_result"
    }
   ],
   "source": [
    "#we will extract only the odd numbers from this list\n",
    "[i for i in l if i%2!=0 ]"
   ]
  },
  {
   "cell_type": "code",
   "execution_count": 14,
   "id": "fd868e42-f2e1-4a7c-8f22-2d42d50b2ee8",
   "metadata": {},
   "outputs": [
    {
     "data": {
      "text/plain": [
       "['SUDH', 'PWSKILLS', 'KUMAR', 'DATASCIENCE MASTERS']"
      ]
     },
     "execution_count": 14,
     "metadata": {},
     "output_type": "execute_result"
    }
   ],
   "source": [
    "l1=[\"sudh\",\"pwskills\",\"kumar\",\"datascience masters\"]\n",
    "#convert this whole list in the uppercase\n",
    "[i.upper() for i in l1]"
   ]
  },
  {
   "cell_type": "code",
   "execution_count": 21,
   "id": "0c1d7214-af46-49e5-af89-732d1ac6ce04",
   "metadata": {},
   "outputs": [
    {
     "data": {
      "text/plain": [
       "<generator object <genexpr> at 0x000001EC7F644D40>"
      ]
     },
     "execution_count": 21,
     "metadata": {},
     "output_type": "execute_result"
    }
   ],
   "source": [
    "#tuple comprehension:it genrates the object and then in for or list u can convert and apply\n",
    "(i**2 for i in l )#this will create the generator object\n",
    "#we need to convert this into the list"
   ]
  },
  {
   "cell_type": "code",
   "execution_count": 24,
   "id": "4d4ebb60-e5b4-44a4-8bb1-b83a4447a083",
   "metadata": {},
   "outputs": [
    {
     "data": {
      "text/plain": [
       "[1, 4, 9, 16, 2025, 36]"
      ]
     },
     "execution_count": 24,
     "metadata": {},
     "output_type": "execute_result"
    }
   ],
   "source": [
    "#square all the numebers present in this list\n",
    "list(i**2 for i in l )"
   ]
  },
  {
   "cell_type": "code",
   "execution_count": 25,
   "id": "77d425b8-0d7c-4cc4-987a-28e6dd533595",
   "metadata": {},
   "outputs": [
    {
     "data": {
      "text/plain": [
       "{'key1': 1, 'key2': 2, 'key3': 3, 'key4': 4}"
      ]
     },
     "execution_count": 25,
     "metadata": {},
     "output_type": "execute_result"
    }
   ],
   "source": [
    "#Dictionary Comprehension\n",
    "#square all the numebers present in the values of this dictionary\n",
    "d={\"key1\":1,\"key2\":2,\"key3\":3,\"key4\":4}\n",
    "d"
   ]
  },
  {
   "cell_type": "code",
   "execution_count": 28,
   "id": "0b6a7304-da2c-4cd5-b4b2-aa677cdd3993",
   "metadata": {},
   "outputs": [
    {
     "data": {
      "text/plain": [
       "{'key1': 1, 'key2': 4, 'key3': 9, 'key4': 16}"
      ]
     },
     "execution_count": 28,
     "metadata": {},
     "output_type": "execute_result"
    }
   ],
   "source": [
    "{k:v**2 for k,v in d.items()}"
   ]
  },
  {
   "cell_type": "code",
   "execution_count": 27,
   "id": "ff5d5373-186a-4459-8d09-5fbb78b7175b",
   "metadata": {},
   "outputs": [
    {
     "data": {
      "text/plain": [
       "dict_items([('key1', 1), ('key2', 2), ('key3', 3), ('key4', 4)])"
      ]
     },
     "execution_count": 27,
     "metadata": {},
     "output_type": "execute_result"
    }
   ],
   "source": [
    "d.items()"
   ]
  },
  {
   "cell_type": "code",
   "execution_count": 30,
   "id": "c9ac253f-1fdd-4f39-acd6-1930938770db",
   "metadata": {},
   "outputs": [
    {
     "data": {
      "text/plain": [
       "{'key2': 2, 'key3': 3, 'key4': 4}"
      ]
     },
     "execution_count": 30,
     "metadata": {},
     "output_type": "execute_result"
    }
   ],
   "source": [
    "{k:v for k,v in d.items() if v>1}"
   ]
  },
  {
   "cell_type": "code",
   "execution_count": null,
   "id": "e2e5e7a5-502e-4a75-9618-f4237850c806",
   "metadata": {},
   "outputs": [],
   "source": []
  }
 ],
 "metadata": {
  "kernelspec": {
   "display_name": "Python 3 (ipykernel)",
   "language": "python",
   "name": "python3"
  },
  "language_info": {
   "codemirror_mode": {
    "name": "ipython",
    "version": 3
   },
   "file_extension": ".py",
   "mimetype": "text/x-python",
   "name": "python",
   "nbconvert_exporter": "python",
   "pygments_lexer": "ipython3",
   "version": "3.11.7"
  }
 },
 "nbformat": 4,
 "nbformat_minor": 5
}
