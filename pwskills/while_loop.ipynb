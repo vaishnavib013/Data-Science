{
 "cells": [
  {
   "cell_type": "code",
   "execution_count": 3,
   "id": "7420fe44-2122-4288-8d01-ca97d6ebeabc",
   "metadata": {},
   "outputs": [
    {
     "name": "stdout",
     "output_type": "stream",
     "text": [
      "1\n",
      "2\n",
      "3\n",
      "4\n",
      "5\n",
      "6\n",
      "7\n",
      "8\n",
      "9\n",
      "10\n"
     ]
    }
   ],
   "source": [
    "#while loop:\n",
    "\"\"\"\n",
    "while loop is used for iterating block of statement untill the condition becomes false.\n",
    "Difference between for loop and while is that while checks the condition first ,if \n",
    "that condition becomes true then it enters inside that block.\n",
    "and for loop never checks the condition first \"\"\"\n",
    "a=1\n",
    "\"\"\"see in the below example it is given that upto the condtion is true it will \n",
    "execute the block inside that while loop ie upto the condition that a<=10 is true\n",
    "it print a as a was declared as 1.but once the condition is false ie when the value\n",
    "incrementing becomes 11 then executes the condition of while loop then it exits the \n",
    "while loop\n",
    "\"\"\"\n",
    "while a<=10:\n",
    "    print(a)\n",
    "    a=a+1"
   ]
  },
  {
   "cell_type": "code",
   "execution_count": 8,
   "id": "c2642d95-cd28-4dc2-be7e-6ad541064c91",
   "metadata": {},
   "outputs": [
    {
     "name": "stdin",
     "output_type": "stream",
     "text": [
      "enter your limit 5\n"
     ]
    },
    {
     "name": "stdout",
     "output_type": "stream",
     "text": [
      "15\n"
     ]
    }
   ],
   "source": [
    "#sum up the number till some point\n",
    "n=int(input('enter your limit'))\n",
    "starting_point=0\n",
    "counter=1\n",
    "while counter<=n:\n",
    "    starting_point=starting_point+counter\n",
    "    counter=counter+1\n",
    "print(starting_point)"
   ]
  },
  {
   "cell_type": "code",
   "execution_count": 21,
   "id": "8bf72908-bb33-402d-93d2-358b0bdccf57",
   "metadata": {},
   "outputs": [
    {
     "name": "stdin",
     "output_type": "stream",
     "text": [
      "enter number 5\n"
     ]
    },
    {
     "name": "stdout",
     "output_type": "stream",
     "text": [
      "The factorial of  5 is  120\n"
     ]
    }
   ],
   "source": [
    "#to find the factorial of any number(byown)\n",
    "n=int(input(\"enter number\"))\n",
    "starting_number=1\n",
    "counter=1\n",
    "while counter<=n:\n",
    "    starting_number=starting_number*counter\n",
    "    counter=counter+1\n",
    "print(\"The factorial of \",n,\"is \",starting_number)\n",
    "#1*2*3*4*5=120"
   ]
  },
  {
   "cell_type": "code",
   "execution_count": 13,
   "id": "2622be64-9def-4369-8527-378011f09c51",
   "metadata": {},
   "outputs": [
    {
     "name": "stdin",
     "output_type": "stream",
     "text": [
      "enter your number 5\n"
     ]
    },
    {
     "name": "stdout",
     "output_type": "stream",
     "text": [
      "120\n"
     ]
    }
   ],
   "source": [
    "#to find the factorial of any number\n",
    "number=int(input(\"enter your number\"))\n",
    "factorial = 1\n",
    "while number>0:\n",
    "    factorial=factorial*number\n",
    "    number=number-1\n",
    "print(factorial)\n",
    "#5*4*3*2*1=120"
   ]
  },
  {
   "cell_type": "code",
   "execution_count": 23,
   "id": "f73221c0-08af-4e8a-ada3-a9e0d32f6ca7",
   "metadata": {},
   "outputs": [
    {
     "name": "stdin",
     "output_type": "stream",
     "text": [
      "enter your number of element you are looking for 10\n"
     ]
    },
    {
     "name": "stdout",
     "output_type": "stream",
     "text": [
      "0\n",
      "1\n",
      "1\n",
      "2\n",
      "3\n",
      "5\n",
      "8\n",
      "13\n",
      "21\n",
      "34\n"
     ]
    }
   ],
   "source": [
    "#fibonacci series:the number should be the sum of the previous two numbers(byown)\n",
    "number=int(input(\"enter your number of element you are looking for\"))\n",
    "a,b=0,1\n",
    "counter = 0\n",
    "while counter<number:\n",
    "    print(a)\n",
    "    a=a+b\n",
    "    c=a\n",
    "    a=b\n",
    "    b=c\n",
    "    counter+=1\n",
    "#0+1=1 ,1+1=2,1+2=3,2+3=5,3+5=8,5+8=13,8+13=21,13+21=34"
   ]
  },
  {
   "cell_type": "code",
   "execution_count": 24,
   "id": "adac8a8b-575e-4e8e-865f-590cab2cd314",
   "metadata": {},
   "outputs": [
    {
     "name": "stdin",
     "output_type": "stream",
     "text": [
      "enter your number of element you are looking for 10\n"
     ]
    },
    {
     "name": "stdout",
     "output_type": "stream",
     "text": [
      "0\n",
      "1\n",
      "1\n",
      "2\n",
      "3\n",
      "5\n",
      "8\n",
      "13\n",
      "21\n",
      "34\n"
     ]
    }
   ],
   "source": [
    "#fibonacci series:\n",
    "number=int(input(\"enter your number of element you are looking for\"))\n",
    "a,b=0,1\n",
    "counter = 0\n",
    "while counter<number:\n",
    "    print(a)\n",
    "    c=a+b\n",
    "    a=b\n",
    "    b=c\n",
    "    counter+=1\n",
    "#0+1=1 ,1+1=2,1+2=3,2+3=5,3+5=8,5+8=13,8+13=21,13+21=34"
   ]
  },
  {
   "cell_type": "code",
   "execution_count": 30,
   "id": "c971ad66-3b00-4c2d-b741-98938c3c6d4b",
   "metadata": {},
   "outputs": [
    {
     "name": "stdin",
     "output_type": "stream",
     "text": [
      "enter your number 10\n"
     ]
    },
    {
     "name": "stdout",
     "output_type": "stream",
     "text": [
      "0\n",
      "1\n",
      "1\n",
      "2\n",
      "3\n",
      "5\n",
      "8\n",
      "13\n",
      "21\n",
      "34\n"
     ]
    }
   ],
   "source": [
    "#fibonacci series using for loop\n",
    "number=int(input(\"enter your number\"))\n",
    "a,b=0,1\n",
    "for i in range(a,number):\n",
    "    print(a)\n",
    "    c=a+b\n",
    "    a=b\n",
    "    b=c"
   ]
  },
  {
   "cell_type": "code",
   "execution_count": 31,
   "id": "221e1dd7-e22a-48ed-8d85-0c4b804e5a36",
   "metadata": {},
   "outputs": [
    {
     "name": "stdin",
     "output_type": "stream",
     "text": [
      "enter your number 10\n"
     ]
    },
    {
     "name": "stdout",
     "output_type": "stream",
     "text": [
      "0\n",
      "1\n",
      "1\n",
      "2\n",
      "3\n",
      "5\n",
      "8\n",
      "13\n",
      "21\n",
      "34\n"
     ]
    }
   ],
   "source": [
    "#fibonacci series using for loop\n",
    "number=int(input(\"enter your number\"))\n",
    "a,b=0,1\n",
    "for i in range(number):\n",
    "    print(a)\n",
    "    c=a+b\n",
    "    a=b\n",
    "    b=c"
   ]
  },
  {
   "cell_type": "code",
   "execution_count": 38,
   "id": "3a429a6b-2b9e-43c6-8755-75e1f7114471",
   "metadata": {},
   "outputs": [
    {
     "data": {
      "text/plain": [
       "'sudh'"
      ]
     },
     "execution_count": 38,
     "metadata": {},
     "output_type": "execute_result"
    }
   ],
   "source": [
    "#reverse this string\n",
    "s=\"sudh\"\n",
    "s"
   ]
  },
  {
   "cell_type": "code",
   "execution_count": 46,
   "id": "bc9db11f-34da-40c5-83c2-aa5c8f475741",
   "metadata": {},
   "outputs": [
    {
     "data": {
      "text/plain": [
       "'hdus'"
      ]
     },
     "execution_count": 46,
     "metadata": {},
     "output_type": "execute_result"
    }
   ],
   "source": [
    "s[::-1]\n",
    "#len(s)=4"
   ]
  },
  {
   "cell_type": "code",
   "execution_count": 42,
   "id": "53597885-1a69-47fc-a46f-4df9029fdccf",
   "metadata": {},
   "outputs": [
    {
     "name": "stdin",
     "output_type": "stream",
     "text": [
      "enter you string for reversal sudh\n"
     ]
    },
    {
     "name": "stdout",
     "output_type": "stream",
     "text": [
      "4\n"
     ]
    }
   ],
   "source": [
    "word=input(\"enter you string for reversal\")\n",
    "print(len(word))"
   ]
  },
  {
   "cell_type": "code",
   "execution_count": 61,
   "id": "f983ea44-0b3b-4a28-b305-064ceeaa28da",
   "metadata": {},
   "outputs": [
    {
     "name": "stdin",
     "output_type": "stream",
     "text": [
      "enter you string for reversal vaishnavi\n"
     ]
    },
    {
     "name": "stdout",
     "output_type": "stream",
     "text": [
      "9\n",
      "ivanhsiav\n"
     ]
    }
   ],
   "source": [
    "#reverse the string while loop\n",
    "word=input(\"enter you string for reversal\")\n",
    "print(len(word))\n",
    "reverse=\"\"\n",
    "length=len(word)\n",
    "while length>0:\n",
    "    reverse=reverse+word[length-1]\n",
    "    length=length-1\n",
    "print(reverse)\n",
    "    "
   ]
  },
  {
   "cell_type": "code",
   "execution_count": 73,
   "id": "97ed730d-bf3c-40d0-9739-684cd92886fe",
   "metadata": {},
   "outputs": [
    {
     "name": "stdin",
     "output_type": "stream",
     "text": [
      "enter you string for reversal sudh\n"
     ]
    },
    {
     "name": "stdout",
     "output_type": "stream",
     "text": [
      "4\n",
      "hdus\n"
     ]
    }
   ],
   "source": [
    "#reverse thr string using for loop\n",
    "word=input(\"enter you string for reversal\")\n",
    "print(len(word))\n",
    "reverse=\"\"\n",
    "length=len(word)\n",
    "for i in range(length-1,-1,-1):\n",
    "    reverse=reverse+word[i]\n",
    "print(reverse)"
   ]
  },
  {
   "cell_type": "code",
   "execution_count": 59,
   "id": "2a695241-437c-4c03-865b-1adc30843472",
   "metadata": {},
   "outputs": [
    {
     "name": "stdout",
     "output_type": "stream",
     "text": [
      "hdus"
     ]
    }
   ],
   "source": [
    "#print string using the for loop in reverse order (by own) \n",
    "#reverse this string\n",
    "s=\"sudh\"\n",
    "s\n",
    "for i in range(len(s)-1,-1,-1):\n",
    "    print(s[i],end=\"\")"
   ]
  },
  {
   "cell_type": "code",
   "execution_count": 76,
   "id": "cbd34317-7243-4ebc-9bb4-85ec61ab9d18",
   "metadata": {},
   "outputs": [
    {
     "name": "stdin",
     "output_type": "stream",
     "text": [
      "enter you string for reversal vaishnavi\n"
     ]
    },
    {
     "name": "stdout",
     "output_type": "stream",
     "text": [
      "9\n",
      "ivanhsiav"
     ]
    }
   ],
   "source": [
    "#print the string in the reverse order(by own) using while loop\n",
    "word=input(\"enter you string for reversal\")\n",
    "length=len(word)\n",
    "print(length)\n",
    "while length>0:\n",
    "    print(word[length-1],end=\"\")\n",
    "    length=length-1\n",
    "    "
   ]
  },
  {
   "cell_type": "code",
   "execution_count": 79,
   "id": "06391537-62e6-4b50-ad50-041fa5714362",
   "metadata": {},
   "outputs": [
    {
     "name": "stdin",
     "output_type": "stream",
     "text": [
      "enter the number 5\n"
     ]
    },
    {
     "name": "stdout",
     "output_type": "stream",
     "text": [
      "5 X 1 = 5\n",
      "5 X 2 = 10\n",
      "5 X 3 = 15\n",
      "5 X 4 = 20\n",
      "5 X 5 = 25\n",
      "5 X 6 = 30\n",
      "5 X 7 = 35\n",
      "5 X 8 = 40\n",
      "5 X 9 = 45\n",
      "5 X 10 = 50\n"
     ]
    }
   ],
   "source": [
    "#print the table of numbers using for loop\n",
    "number=int(input('enter the number'))\n",
    "for i in range(1,11):\n",
    "    print(number,\"X\",i,\"=\",number*i)\n",
    "    "
   ]
  },
  {
   "cell_type": "code",
   "execution_count": 80,
   "id": "505017ae-4019-44e4-8674-9fba98815c23",
   "metadata": {},
   "outputs": [
    {
     "name": "stdin",
     "output_type": "stream",
     "text": [
      "enter the number 10\n"
     ]
    },
    {
     "name": "stdout",
     "output_type": "stream",
     "text": [
      "Table of number 10 is\n",
      "10\n",
      "20\n",
      "30\n",
      "40\n",
      "50\n",
      "60\n",
      "70\n",
      "80\n",
      "90\n",
      "100\n"
     ]
    }
   ],
   "source": [
    "#print the table of numbers using for loop\n",
    "number=int(input('enter the number'))\n",
    "print(\"Table of number\",number,\"is\")\n",
    "for i in range(1,11):\n",
    "    print(number*i)\n",
    "    "
   ]
  },
  {
   "cell_type": "code",
   "execution_count": 82,
   "id": "05bb5a76-b885-49e0-89cc-8d704f91df6d",
   "metadata": {},
   "outputs": [
    {
     "name": "stdin",
     "output_type": "stream",
     "text": [
      "enter the number 5\n"
     ]
    },
    {
     "name": "stdout",
     "output_type": "stream",
     "text": [
      "5 X 1 = 5\n",
      "5 X 2 = 10\n",
      "5 X 3 = 15\n",
      "5 X 4 = 20\n",
      "5 X 5 = 25\n",
      "5 X 6 = 30\n",
      "5 X 7 = 35\n",
      "5 X 8 = 40\n",
      "5 X 9 = 45\n",
      "5 X 10 = 50\n"
     ]
    }
   ],
   "source": [
    "#print the table of the number using while loop\n",
    "number=int(input(\"enter the number\"))\n",
    "n=1\n",
    "while n<=10:\n",
    "    print(number,\"X\",n,\"=\",number*n)\n",
    "    n+=1"
   ]
  },
  {
   "cell_type": "code",
   "execution_count": 86,
   "id": "adb70fa0-c980-4ce0-a8c9-152ad34f3e8a",
   "metadata": {},
   "outputs": [
    {
     "name": "stdout",
     "output_type": "stream",
     "text": [
      "1\n",
      "2\n",
      "3\n",
      "4\n",
      "this will be executed once your while loop is successfully executed\n"
     ]
    }
   ],
   "source": [
    "n=5\n",
    "i=1\n",
    "while i<n:\n",
    "    print(i)\n",
    "    i=i+1\n",
    "else:\n",
    "    print(\"this will be executed once your while loop is successfully executed\")"
   ]
  },
  {
   "cell_type": "code",
   "execution_count": 87,
   "id": "7d8d53e1-5fa2-4c3d-90c8-19d786c14689",
   "metadata": {},
   "outputs": [
    {
     "name": "stdout",
     "output_type": "stream",
     "text": [
      "1\n",
      "2\n",
      "3\n"
     ]
    }
   ],
   "source": [
    "n=5\n",
    "i=1\n",
    "while i<n:\n",
    "    print(i)\n",
    "    if i==3:\n",
    "        break\n",
    "    i=i+1\n",
    "else:\n",
    "    print(\"this will be executed once your while loop is successfully executed\")"
   ]
  }
 ],
 "metadata": {
  "kernelspec": {
   "display_name": "Python 3 (ipykernel)",
   "language": "python",
   "name": "python3"
  },
  "language_info": {
   "codemirror_mode": {
    "name": "ipython",
    "version": 3
   },
   "file_extension": ".py",
   "mimetype": "text/x-python",
   "name": "python",
   "nbconvert_exporter": "python",
   "pygments_lexer": "ipython3",
   "version": "3.11.7"
  }
 },
 "nbformat": 4,
 "nbformat_minor": 5
}
