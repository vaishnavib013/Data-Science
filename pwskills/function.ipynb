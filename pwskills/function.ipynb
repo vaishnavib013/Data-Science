{
 "cells": [
  {
   "cell_type": "code",
   "execution_count": 3,
   "id": "62a09732-5ae2-4e5d-9348-45e2ef371a29",
   "metadata": {},
   "outputs": [
    {
     "name": "stdout",
     "output_type": "stream",
     "text": [
      "this is my print\n"
     ]
    }
   ],
   "source": [
    "#functions:the given below are the inbuilt functions in python \n",
    "#this functions are also defined by someone previously...we are just using them \n",
    "#print fucntions:\n",
    "print(\"this is my print\")"
   ]
  },
  {
   "cell_type": "code",
   "execution_count": 4,
   "id": "2d8c54de-b0ee-4b10-8255-1d72d09afd30",
   "metadata": {},
   "outputs": [
    {
     "data": {
      "text/plain": [
       "7"
      ]
     },
     "execution_count": 4,
     "metadata": {},
     "output_type": "execute_result"
    }
   ],
   "source": [
    "#len():\n",
    "l=[1,2,3,4,66,6,7]\n",
    "len(l)"
   ]
  },
  {
   "cell_type": "code",
   "execution_count": 5,
   "id": "f9349aef-144b-4c8b-8818-5a087278a207",
   "metadata": {},
   "outputs": [
    {
     "data": {
      "text/plain": [
       "list"
      ]
     },
     "execution_count": 5,
     "metadata": {},
     "output_type": "execute_result"
    }
   ],
   "source": [
    "type(l)"
   ]
  },
  {
   "cell_type": "code",
   "execution_count": 6,
   "id": "91120237-5c28-4363-b5ed-dd6a6b22dbf2",
   "metadata": {},
   "outputs": [],
   "source": [
    "#we will develop  our own functions\n",
    "#def-defination of the function na dthen its name,we need to define the functions\n",
    "#we can also define the functions as empty by given pass in it1\n",
    "def test():\n",
    "    pass"
   ]
  },
  {
   "cell_type": "code",
   "execution_count": 7,
   "id": "7032f2b7-cfdd-47c7-b4d2-fb123df3bba5",
   "metadata": {},
   "outputs": [
    {
     "name": "stdout",
     "output_type": "stream",
     "text": [
      "this is my very very first function\n"
     ]
    }
   ],
   "source": [
    "def test():\n",
    "    print(\"this is my very very first function\")\n",
    "    #here you have just created the function ...you need to call it to increase its reusability\n",
    "test()"
   ]
  },
  {
   "cell_type": "code",
   "execution_count": 8,
   "id": "5afb8a4a-363c-4acf-b677-c2ff74838fd8",
   "metadata": {},
   "outputs": [
    {
     "name": "stdout",
     "output_type": "stream",
     "text": [
      "this is my very very first function\n"
     ]
    },
    {
     "ename": "TypeError",
     "evalue": "unsupported operand type(s) for +: 'NoneType' and 'str'",
     "output_type": "error",
     "traceback": [
      "\u001b[1;31m---------------------------------------------------------------------------\u001b[0m",
      "\u001b[1;31mTypeError\u001b[0m                                 Traceback (most recent call last)",
      "Cell \u001b[1;32mIn[8], line 2\u001b[0m\n\u001b[0;32m      1\u001b[0m \u001b[38;5;66;03m#string and nonetype cannot be concatinated ie print statement and a string cant concatinate\u001b[39;00m\n\u001b[1;32m----> 2\u001b[0m test()\u001b[38;5;241m+\u001b[39m\u001b[38;5;124m\"\u001b[39m\u001b[38;5;124msudh\u001b[39m\u001b[38;5;124m\"\u001b[39m\n",
      "\u001b[1;31mTypeError\u001b[0m: unsupported operand type(s) for +: 'NoneType' and 'str'"
     ]
    }
   ],
   "source": [
    "#string and nonetype cannot be concatinated ie print statement and a string cant concatinate\n",
    "test()+\"sudh\""
   ]
  },
  {
   "cell_type": "code",
   "execution_count": 9,
   "id": "e5ac34b0-e936-4ab1-abfd-aa8fa787cbc1",
   "metadata": {},
   "outputs": [],
   "source": [
    "def test1():\n",
    "    return \"this is my very first return\"\n",
    "    #by using return we will return as it is whatever we want to return\n",
    "    #so it will return this string"
   ]
  },
  {
   "cell_type": "code",
   "execution_count": 10,
   "id": "a9d28c9e-ad7b-4beb-9b12-b54852df4904",
   "metadata": {},
   "outputs": [
    {
     "data": {
      "text/plain": [
       "'this is my very first return'"
      ]
     },
     "execution_count": 10,
     "metadata": {},
     "output_type": "execute_result"
    }
   ],
   "source": [
    "test1()"
   ]
  },
  {
   "cell_type": "code",
   "execution_count": 11,
   "id": "65cd4f49-e8c6-488b-a273-86c9b8585a40",
   "metadata": {},
   "outputs": [
    {
     "data": {
      "text/plain": [
       "'this is my very first returnsudh'"
      ]
     },
     "execution_count": 11,
     "metadata": {},
     "output_type": "execute_result"
    }
   ],
   "source": [
    "test1()+\"sudh\"#so now it can return the string+string concatinate"
   ]
  },
  {
   "cell_type": "code",
   "execution_count": 12,
   "id": "73936f22-36ae-4e19-92fb-e764b3b3e709",
   "metadata": {},
   "outputs": [],
   "source": [
    "def test3():\n",
    "    return \"sudh\",23,345.56,[1,2,3,4]\n",
    "    #so multiple datatypes can be returned using the return we can ALSO HOLD IT IN different different variables"
   ]
  },
  {
   "cell_type": "code",
   "execution_count": 13,
   "id": "6d674326-8f42-4e46-900c-7fa0ec8b0888",
   "metadata": {},
   "outputs": [
    {
     "data": {
      "text/plain": [
       "('sudh', 23, 345.56, [1, 2, 3, 4])"
      ]
     },
     "execution_count": 13,
     "metadata": {},
     "output_type": "execute_result"
    }
   ],
   "source": [
    "test3()#so it will all the values from the return in tuples form "
   ]
  },
  {
   "cell_type": "code",
   "execution_count": 14,
   "id": "00e39949-76b8-4c75-90ed-d900f6317474",
   "metadata": {},
   "outputs": [],
   "source": [
    "a,b,c,d=test3()\n",
    " #so multiple datatypes can be returned using the return we can ALSO HOLD IT IN different different variables"
   ]
  },
  {
   "cell_type": "code",
   "execution_count": 15,
   "id": "674b9b85-2a9f-4ffa-a02a-8468757236e8",
   "metadata": {},
   "outputs": [
    {
     "data": {
      "text/plain": [
       "'sudh'"
      ]
     },
     "execution_count": 15,
     "metadata": {},
     "output_type": "execute_result"
    }
   ],
   "source": [
    "a"
   ]
  },
  {
   "cell_type": "code",
   "execution_count": 16,
   "id": "99e06136-25d7-4453-95f7-ae6c85ab39db",
   "metadata": {},
   "outputs": [
    {
     "data": {
      "text/plain": [
       "23"
      ]
     },
     "execution_count": 16,
     "metadata": {},
     "output_type": "execute_result"
    }
   ],
   "source": [
    "b"
   ]
  },
  {
   "cell_type": "code",
   "execution_count": 17,
   "id": "7787df87-9d1d-40e3-9e5e-0da3ebdb14bb",
   "metadata": {},
   "outputs": [
    {
     "data": {
      "text/plain": [
       "345.56"
      ]
     },
     "execution_count": 17,
     "metadata": {},
     "output_type": "execute_result"
    }
   ],
   "source": [
    "c"
   ]
  },
  {
   "cell_type": "code",
   "execution_count": 18,
   "id": "ae46c0c2-f737-44ac-b7b1-0a9ed8077915",
   "metadata": {},
   "outputs": [
    {
     "data": {
      "text/plain": [
       "[1, 2, 3, 4]"
      ]
     },
     "execution_count": 18,
     "metadata": {},
     "output_type": "execute_result"
    }
   ],
   "source": [
    "d"
   ]
  },
  {
   "cell_type": "code",
   "execution_count": 19,
   "id": "84daeb3b-42ca-43db-9088-a5580a901e88",
   "metadata": {},
   "outputs": [],
   "source": [
    "def test4():\n",
    "    a=5+6/7\n",
    "    return a"
   ]
  },
  {
   "cell_type": "code",
   "execution_count": 20,
   "id": "3b0dabe6-3908-4652-9370-68f6f9222ca1",
   "metadata": {},
   "outputs": [
    {
     "data": {
      "text/plain": [
       "5.857142857142857"
      ]
     },
     "execution_count": 20,
     "metadata": {},
     "output_type": "execute_result"
    }
   ],
   "source": [
    "test4()"
   ]
  },
  {
   "cell_type": "code",
   "execution_count": 21,
   "id": "c8496670-bbbc-4362-a5db-74f339be403b",
   "metadata": {},
   "outputs": [],
   "source": [
    "def test5(a,b,c):#here we will pass the arguments and the take the values from user\n",
    "    d=a+b/c\n",
    "    return d\n",
    "    "
   ]
  },
  {
   "cell_type": "code",
   "execution_count": 22,
   "id": "647ab673-2d33-4ef5-8cad-db5b8deded67",
   "metadata": {},
   "outputs": [
    {
     "data": {
      "text/plain": [
       "5.25"
      ]
     },
     "execution_count": 22,
     "metadata": {},
     "output_type": "execute_result"
    }
   ],
   "source": [
    "test5(5,2,8)#so while calling the functions we need to pass the arguments"
   ]
  },
  {
   "cell_type": "code",
   "execution_count": 23,
   "id": "95f35ea9-d6f2-49e7-aff4-8d5621660d87",
   "metadata": {},
   "outputs": [
    {
     "data": {
      "text/plain": [
       "9"
      ]
     },
     "execution_count": 23,
     "metadata": {},
     "output_type": "execute_result"
    }
   ],
   "source": [
    "def test6(a,b):\n",
    "    return a+b\n",
    "test6(4,5)\n"
   ]
  },
  {
   "cell_type": "code",
   "execution_count": 24,
   "id": "6cf5b61f-3af2-476a-95cd-63908b087443",
   "metadata": {},
   "outputs": [
    {
     "data": {
      "text/plain": [
       "'sudhkumar'"
      ]
     },
     "execution_count": 24,
     "metadata": {},
     "output_type": "execute_result"
    }
   ],
   "source": [
    "test6(\"sudh\",\"kumar\")#it will concatinate the list and give us the results"
   ]
  },
  {
   "cell_type": "code",
   "execution_count": 25,
   "id": "2a072b77-cc35-43e7-a00b-0b77341ac3e8",
   "metadata": {},
   "outputs": [
    {
     "data": {
      "text/plain": [
       "[1, 3, 5, 6, 6, 7, 8, 56, 87]"
      ]
     },
     "execution_count": 25,
     "metadata": {},
     "output_type": "execute_result"
    }
   ],
   "source": [
    "test6([1,3,5,6],[6,7,8,56,87])#it will concatinate the list and give us the results"
   ]
  },
  {
   "cell_type": "code",
   "execution_count": 26,
   "id": "6bde4751-e26a-4371-999a-c107395406eb",
   "metadata": {},
   "outputs": [
    {
     "data": {
      "text/plain": [
       "[1, 2, 3, 4, 66, 6, 7]"
      ]
     },
     "execution_count": 26,
     "metadata": {},
     "output_type": "execute_result"
    }
   ],
   "source": [
    "l1=[]\n",
    "for i in l:\n",
    "    if type(i)==int or type(i)==float:\n",
    "        l1.append(i)\n",
    "l1"
   ]
  },
  {
   "cell_type": "code",
   "execution_count": 27,
   "id": "304e924b-01d0-4f34-8042-0cafb653675d",
   "metadata": {},
   "outputs": [],
   "source": [
    "def test7(l):\n",
    "    l1=[]\n",
    "    for i in l:\n",
    "        if type(i)==int or type(i)==float:\n",
    "            l1.append(i)\n",
    "    return l1"
   ]
  },
  {
   "cell_type": "code",
   "execution_count": 28,
   "id": "5ce48832-247a-4d25-ab58-eab43b8776c5",
   "metadata": {},
   "outputs": [
    {
     "data": {
      "text/plain": [
       "[1, 2, 3, 4, 66, 6, 7]"
      ]
     },
     "execution_count": 28,
     "metadata": {},
     "output_type": "execute_result"
    }
   ],
   "source": [
    "test7(l)"
   ]
  },
  {
   "cell_type": "code",
   "execution_count": 5,
   "id": "c0b6b522-0e4c-49f9-ab40-46a8e03078eb",
   "metadata": {},
   "outputs": [
    {
     "data": {
      "text/plain": [
       "[1, 2, 3, 4, 'sudh', 'kumar', [66, 6, 7]]"
      ]
     },
     "execution_count": 5,
     "metadata": {},
     "output_type": "execute_result"
    }
   ],
   "source": [
    "l=[1, 2, 3, 4,\"sudh\",\"kumar\",[ 66, 6, 7]]\n",
    "l"
   ]
  },
  {
   "cell_type": "code",
   "execution_count": 6,
   "id": "7c522cc8-1968-4c8f-95dd-de800b430a86",
   "metadata": {},
   "outputs": [],
   "source": [
    "def test8(a):\n",
    "    l=[]\n",
    "    for i in a:\n",
    "        if type(i)==list:\n",
    "            for j in i:\n",
    "                l.append(j)\n",
    "        else:\n",
    "            if type(i)==int or type(i)==float:\n",
    "                l.append(i)\n",
    "    return l"
   ]
  },
  {
   "cell_type": "code",
   "execution_count": 7,
   "id": "209b2f65-959a-48de-9aea-b6ab869e4cab",
   "metadata": {},
   "outputs": [
    {
     "data": {
      "text/plain": [
       "[1, 2, 3, 4, 66, 6, 7]"
      ]
     },
     "execution_count": 7,
     "metadata": {},
     "output_type": "execute_result"
    }
   ],
   "source": [
    "test8(l)"
   ]
  },
  {
   "cell_type": "code",
   "execution_count": 8,
   "id": "7a0a6175-fe19-4416-a7f6-0e332ecb2d47",
   "metadata": {},
   "outputs": [
    {
     "data": {
      "text/plain": [
       "[1, 2, 3, 4, 'sudh', 'kumar', [66, 6, 7]]"
      ]
     },
     "execution_count": 8,
     "metadata": {},
     "output_type": "execute_result"
    }
   ],
   "source": [
    "l"
   ]
  },
  {
   "cell_type": "code",
   "execution_count": 9,
   "id": "1d3c4576-4ae3-4b81-b266-189b4dfc490f",
   "metadata": {},
   "outputs": [],
   "source": [
    "def test9(a):\n",
    "    \"\"\"this is the function to extract the data or number from the list.this is docstring\"\"\"\n",
    "    l=[]\n",
    "    for i in a:\n",
    "        if type(i)==list:\n",
    "            for j in i:\n",
    "                l.append(j)\n",
    "        else:\n",
    "            if type(i)==int or type(i)==float:\n",
    "                l.append(i)\n",
    "    return l"
   ]
  },
  {
   "cell_type": "code",
   "execution_count": 13,
   "id": "18c27081-0428-449a-90fb-f463ed0e5bb8",
   "metadata": {},
   "outputs": [
    {
     "ename": "TypeError",
     "evalue": "test9() missing 1 required positional argument: 'a'",
     "output_type": "error",
     "traceback": [
      "\u001b[1;31m------------------------------------------------------------------------\u001b[0m",
      "\u001b[1;31mTypeError\u001b[0m                              Traceback (most recent call last)",
      "Cell \u001b[1;32mIn[13], line 1\u001b[0m\n\u001b[1;32m----> 1\u001b[0m test9()\n",
      "\u001b[1;31mTypeError\u001b[0m: test9() missing 1 required positional argument: 'a'"
     ]
    }
   ],
   "source": [
    "test9()#here we need to pass the argument "
   ]
  },
  {
   "cell_type": "code",
   "execution_count": 14,
   "id": "1c0f7785-2a20-4756-9a1b-d3dbc328e1d7",
   "metadata": {},
   "outputs": [],
   "source": [
    "def test10(a,b):\n",
    "    return a+b"
   ]
  },
  {
   "cell_type": "code",
   "execution_count": 15,
   "id": "d031a623-e9d2-4491-aeea-86a537b28f3f",
   "metadata": {},
   "outputs": [],
   "source": [
    "#to pass n number of parameters\n",
    "#args\n",
    "\"\"\"*here with args will allw us to pass mnay arguments ie whatever the user want to\n",
    "pass the arguments user can pass for that *args to be used\n",
    "here args is not the the keyword instead of it w can use anyotherword also but need\n",
    "to give the * with it\n",
    "\n",
    "we take here args just for our convention that args are the arguments\"\"\"\n",
    "def test11(*args):\n",
    "    return args"
   ]
  },
  {
   "cell_type": "code",
   "execution_count": 16,
   "id": "20fbb151-2565-4511-bbb0-d6d25b463509",
   "metadata": {},
   "outputs": [
    {
     "data": {
      "text/plain": [
       "tuple"
      ]
     },
     "execution_count": 16,
     "metadata": {},
     "output_type": "execute_result"
    }
   ],
   "source": [
    "type(test11())"
   ]
  },
  {
   "cell_type": "code",
   "execution_count": 17,
   "id": "f4e8e984-03a7-4f7d-97c9-dc29088288e7",
   "metadata": {},
   "outputs": [
    {
     "data": {
      "text/plain": [
       "(1, 2, 3)"
      ]
     },
     "execution_count": 17,
     "metadata": {},
     "output_type": "execute_result"
    }
   ],
   "source": [
    "test11(1,2,3)"
   ]
  },
  {
   "cell_type": "code",
   "execution_count": 18,
   "id": "758481c2-69b6-4915-be7a-9bc0dd65e4c8",
   "metadata": {},
   "outputs": [
    {
     "data": {
      "text/plain": [
       "(1, 2, 3, 4, 'sudh', 'kumar', [1, 2, 3, 4])"
      ]
     },
     "execution_count": 18,
     "metadata": {},
     "output_type": "execute_result"
    }
   ],
   "source": [
    "test11(1,2,3,4,\"sudh\",\"kumar\",[1,2,3,4])"
   ]
  },
  {
   "cell_type": "code",
   "execution_count": 19,
   "id": "fc2de820-be4d-4000-889d-a1ae29c81c94",
   "metadata": {},
   "outputs": [],
   "source": [
    "def test12(*sudh):\n",
    "    return sudh"
   ]
  },
  {
   "cell_type": "code",
   "execution_count": 20,
   "id": "36a08cc5-d421-4263-8a99-f5448b268e28",
   "metadata": {},
   "outputs": [
    {
     "data": {
      "text/plain": [
       "(1, 23, 'sdfs')"
      ]
     },
     "execution_count": 20,
     "metadata": {},
     "output_type": "execute_result"
    }
   ],
   "source": [
    "test12(1,23,\"sdfs\")"
   ]
  },
  {
   "cell_type": "code",
   "execution_count": 21,
   "id": "aa11eae4-0bfc-4c58-b95c-d66707e150b9",
   "metadata": {},
   "outputs": [],
   "source": [
    "def test13(*args,a):\n",
    "    return *args,a"
   ]
  },
  {
   "cell_type": "code",
   "execution_count": 22,
   "id": "512adfc6-7a67-46d7-b266-9c210bd51a11",
   "metadata": {},
   "outputs": [
    {
     "ename": "TypeError",
     "evalue": "test13() missing 1 required keyword-only argument: 'a'",
     "output_type": "error",
     "traceback": [
      "\u001b[1;31m------------------------------------------------------------------------\u001b[0m",
      "\u001b[1;31mTypeError\u001b[0m                              Traceback (most recent call last)",
      "Cell \u001b[1;32mIn[22], line 1\u001b[0m\n\u001b[1;32m----> 1\u001b[0m test13(\u001b[38;5;241m1\u001b[39m,\u001b[38;5;241m2\u001b[39m,\u001b[38;5;241m3\u001b[39m,\u001b[38;5;241m4\u001b[39m)\n",
      "\u001b[1;31mTypeError\u001b[0m: test13() missing 1 required keyword-only argument: 'a'"
     ]
    }
   ],
   "source": [
    "test13(1,2,3,4)\n",
    "#so in such cases it gives error as it gets confusion for which argument \n",
    "#we are passing the value"
   ]
  },
  {
   "cell_type": "code",
   "execution_count": 23,
   "id": "ae64290b-1c7c-47d9-9170-3329ec13887a",
   "metadata": {},
   "outputs": [
    {
     "data": {
      "text/plain": [
       "(1, 2, 3, 4, 5, 23)"
      ]
     },
     "execution_count": 23,
     "metadata": {},
     "output_type": "execute_result"
    }
   ],
   "source": [
    "#so for above such cases we will separately define that variable and assign it value\n",
    "test13(1,2,3,4,5,a=23)"
   ]
  },
  {
   "cell_type": "code",
   "execution_count": 27,
   "id": "9db08f00-a369-40f8-848a-b97015ebd517",
   "metadata": {},
   "outputs": [
    {
     "data": {
      "text/plain": [
       "(23, 1, 3, 4)"
      ]
     },
     "execution_count": 27,
     "metadata": {},
     "output_type": "execute_result"
    }
   ],
   "source": [
    "def test14(c,d,a=23,b=1):\n",
    "    return a,b,c,d\n",
    "test14(3,4)"
   ]
  },
  {
   "cell_type": "code",
   "execution_count": 28,
   "id": "e90d8c36-3deb-466e-92bb-2414f47b215c",
   "metadata": {},
   "outputs": [
    {
     "data": {
      "text/plain": [
       "(234, 1, 2, 5)"
      ]
     },
     "execution_count": 28,
     "metadata": {},
     "output_type": "execute_result"
    }
   ],
   "source": [
    "#we can also change that a and b values\n",
    "test14(2,5,a=234)"
   ]
  },
  {
   "cell_type": "code",
   "execution_count": 30,
   "id": "81e44555-f7e3-40b8-bb3a-f3f65ebc5a18",
   "metadata": {},
   "outputs": [],
   "source": [
    "#**kwargs-keyvalues arguments\n",
    "#if the user want multiple values in the form of keyvalue,so for that **kwargs is there\n",
    "def test15(**kwargs):\n",
    "    return kwargs\n",
    "    "
   ]
  },
  {
   "cell_type": "code",
   "execution_count": 32,
   "id": "d2de1c5c-cda8-4e76-9fc5-d58f02cfc901",
   "metadata": {},
   "outputs": [
    {
     "data": {
      "text/plain": [
       "{}"
      ]
     },
     "execution_count": 32,
     "metadata": {},
     "output_type": "execute_result"
    }
   ],
   "source": [
    "test15()#it returns us the dictionary"
   ]
  },
  {
   "cell_type": "code",
   "execution_count": 33,
   "id": "381c760c-4de8-4591-9ecd-ed4252ab7e21",
   "metadata": {},
   "outputs": [
    {
     "data": {
      "text/plain": [
       "dict"
      ]
     },
     "execution_count": 33,
     "metadata": {},
     "output_type": "execute_result"
    }
   ],
   "source": [
    "type(test15())"
   ]
  },
  {
   "cell_type": "code",
   "execution_count": 34,
   "id": "a6f28c4d-5907-46a5-8878-a77ee6def523",
   "metadata": {},
   "outputs": [
    {
     "data": {
      "text/plain": [
       "{'a': [1, 3, 2, 4], 'b': 'sudh', 'c': 23.45}"
      ]
     },
     "execution_count": 34,
     "metadata": {},
     "output_type": "execute_result"
    }
   ],
   "source": [
    "test15(a=[1,3,2,4],b=\"sudh\",c=23.45)#n number of arguments can be passed here"
   ]
  },
  {
   "cell_type": "code",
   "execution_count": null,
   "id": "b9bbd18d-dd65-4fe6-9599-61a7b2612b72",
   "metadata": {},
   "outputs": [],
   "source": []
  }
 ],
 "metadata": {
  "kernelspec": {
   "display_name": "Python 3 (ipykernel)",
   "language": "python",
   "name": "python3"
  },
  "language_info": {
   "codemirror_mode": {
    "name": "ipython",
    "version": 3
   },
   "file_extension": ".py",
   "mimetype": "text/x-python",
   "name": "python",
   "nbconvert_exporter": "python",
   "pygments_lexer": "ipython3",
   "version": "3.11.7"
  }
 },
 "nbformat": 4,
 "nbformat_minor": 5
}
