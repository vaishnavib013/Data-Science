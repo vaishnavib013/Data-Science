{
 "cells": [
  {
   "cell_type": "code",
   "execution_count": 8,
   "id": "bd3bf501-4271-4ae7-84c4-6fa7cadacb7f",
   "metadata": {},
   "outputs": [
    {
     "data": {
      "text/plain": [
       "dict"
      ]
     },
     "execution_count": 8,
     "metadata": {},
     "output_type": "execute_result"
    }
   ],
   "source": [
    "d={}\n",
    "type(d)\n",
    "#if {} curly braces are empty then python will take it as the type dictionary"
   ]
  },
  {
   "cell_type": "code",
   "execution_count": 9,
   "id": "fa902ba1-c9d5-4462-9fd3-1100d53bc61b",
   "metadata": {},
   "outputs": [
    {
     "data": {
      "text/plain": [
       "set"
      ]
     },
     "execution_count": 9,
     "metadata": {},
     "output_type": "execute_result"
    }
   ],
   "source": [
    "d={1}\n",
    "type(d)\n",
    "#if {}-this curly brace has some linear elements then it will give us the type as set"
   ]
  },
  {
   "cell_type": "code",
   "execution_count": 10,
   "id": "b3fe4d6b-3e13-438b-9e49-e07b795d4b0a",
   "metadata": {},
   "outputs": [
    {
     "data": {
      "text/plain": [
       "dict"
      ]
     },
     "execution_count": 10,
     "metadata": {},
     "output_type": "execute_result"
    }
   ],
   "source": [
    "d={'rollno':3}\n",
    "type(d)\n",
    "#{}-if curlybraces contain the key:value pair then pyhton gives its type as dictionary"
   ]
  },
  {
   "cell_type": "code",
   "execution_count": 15,
   "id": "be26e432-ea38-4766-8f0d-6dd96d138f4f",
   "metadata": {},
   "outputs": [
    {
     "data": {
      "text/plain": [
       "{'key': 'sudh'}"
      ]
     },
     "execution_count": 15,
     "metadata": {},
     "output_type": "execute_result"
    }
   ],
   "source": [
    "#dictionary:It contains the key-value pair\n",
    "#similar like are english dictionary \"word\" : \"its meaning\"\n",
    "d1={\"key\":\"sudh\"}\n",
    "d1"
   ]
  },
  {
   "cell_type": "code",
   "execution_count": 16,
   "id": "e9a36a86-0b54-4031-bd7c-54323b85400a",
   "metadata": {},
   "outputs": [
    {
     "data": {
      "text/plain": [
       "{'name': 'vaishnavi', 'email': 'abc@gmail.com', 'number': 3344634}"
      ]
     },
     "execution_count": 16,
     "metadata": {},
     "output_type": "execute_result"
    }
   ],
   "source": [
    "#stor][ing multiple key:value pair\n",
    "d2={\"name\":\"vaishnavi\",\"email\":\"abc@gmail.com\" , \"number\" : 3344634}\n",
    "d2"
   ]
  },
  {
   "cell_type": "code",
   "execution_count": 3,
   "id": "ba2a0836-8f6f-4361-b944-4a455b92cdeb",
   "metadata": {},
   "outputs": [
    {
     "name": "stdout",
     "output_type": "stream",
     "text": [
      "{234: 'sudh'}\n",
      "{234: 'sudh', '_abc': 'kumar'}\n",
      "{234: 'sudh', '_abc': 'kumar', True: 223425}\n"
     ]
    },
    {
     "data": {
      "text/plain": [
       "'this shows us that all the types of data are allowed as a key but starting from \\nspecial character is not allowed it gives  error'"
      ]
     },
     "execution_count": 3,
     "metadata": {},
     "output_type": "execute_result"
    }
   ],
   "source": [
    "#keys as integer is valid \n",
    "d3={234:\"sudh\"}\n",
    "print(d3)\n",
    "#but special symbols are not valid it gives invalid syntax\n",
    "\"\"\"d3={234:\"sudh\", @ada: \"kumar\"}\n",
    "d3\n",
    "#if we take the _abc then also it gives error due to invalid syntax\n",
    "d3={234:\"sudh\" , _abc:\"kumar\"}\n",
    "d3\"\"\"\n",
    "#if we take _abc into \"_abc\" then it does not gives error bcoz it takes it as string\n",
    "d3={234:\"sudh\" , \"_abc\" :\"kumar\"}\n",
    "print(d3)\n",
    "#if we take the key as boolean  value ie True/False then it is valid syntax\n",
    "d3={234:\"sudh\" , \"_abc\" :\"kumar\",True:223425}\n",
    "print(d3)\n",
    "\"\"\"this shows us that all the types of data are allowed as a key but starting from \n",
    "special character is not allowed it gives  error\"\"\""
   ]
  },
  {
   "cell_type": "code",
   "execution_count": 4,
   "id": "93a3b94e-a6e7-4f2e-a4c7-bfc4e03a0b0f",
   "metadata": {},
   "outputs": [
    {
     "name": "stdout",
     "output_type": "stream",
     "text": [
      "sudh\n",
      "223425\n",
      "223425\n"
     ]
    }
   ],
   "source": [
    "#to access the value we wont be able to use the same concept indexing but for dictionary\n",
    "#there is another thing ie we will be accessing it with the hep of the name of the key\n",
    "print(d3[234])\n",
    "print(d3[True])\n",
    "\"\"\"so there is no indexing if we do searching for index 1 then it gives us the result\n",
    "of True key's value bcoz we all know that True =1 and False=0 so it will be the same\n",
    "\"\"\"\n",
    "print(d3[1])"
   ]
  },
  {
   "cell_type": "code",
   "execution_count": 8,
   "id": "e00e6aeb-0963-4628-a289-87586fbbd2cb",
   "metadata": {},
   "outputs": [
    {
     "data": {
      "text/plain": [
       "'sudhanshu'"
      ]
     },
     "execution_count": 8,
     "metadata": {},
     "output_type": "execute_result"
    }
   ],
   "source": [
    "\"\"\"in case of dictionary,all the keys should be unique otherwise if keys are having \n",
    "same names then it would result in overwriting ie it will just give last updated\n",
    "value.\n",
    "suppose in the below eg as key having \"name\" is repeated then it will not give the \n",
    "error it will just update the value of name key with the overwritten value ie \n",
    "\"sudhanshu\" 1st value of the name was sudh will not be considered\"\"\"\n",
    "\n",
    "d4={'name':'sudh' , 'mail_id':\"ss@gmail.com\" , \"name\":\"sudhanshu\"}\n",
    "d4['name']"
   ]
  },
  {
   "cell_type": "code",
   "execution_count": 13,
   "id": "0b6f82b2-fe3c-4df5-a41b-e9538131b798",
   "metadata": {},
   "outputs": [
    {
     "data": {
      "text/plain": [
       "{'company': 'pwskills',\n",
       " 'course': ['web dev', 'data science', 'java with dsa system design']}"
      ]
     },
     "execution_count": 13,
     "metadata": {},
     "output_type": "execute_result"
    }
   ],
   "source": [
    "#list inside dictionary for multiple values storing\n",
    "d5={\"company\":'pwskills','course':[\"web dev\",\"data science\",\"java with dsa system design\"]}\n",
    "d5"
   ]
  },
  {
   "cell_type": "code",
   "execution_count": 14,
   "id": "56f124d0-a54b-417c-a52f-f772bab1cd28",
   "metadata": {},
   "outputs": [
    {
     "data": {
      "text/plain": [
       "['web dev', 'data science', 'java with dsa system design']"
      ]
     },
     "execution_count": 14,
     "metadata": {},
     "output_type": "execute_result"
    }
   ],
   "source": [
    "d5['course']"
   ]
  },
  {
   "cell_type": "code",
   "execution_count": 42,
   "id": "3048a2c2-2334-444b-bb35-c155c845b971",
   "metadata": {},
   "outputs": [
    {
     "data": {
      "text/plain": [
       "{'number': [2, 34, 24, 54, 76, 78],\n",
       " 'assignment': (1, 2, 3, 4, 5, 6),\n",
       " 'launch_date': {12, 14, 28},\n",
       " 'class_time': {'web_dev': 8,\n",
       "  'data_science': 8,\n",
       "  'java with dsa with system design': 7}}"
      ]
     },
     "execution_count": 42,
     "metadata": {},
     "output_type": "execute_result"
    }
   ],
   "source": [
    "#dictionary can store the values in the form of list,tuple,set,also dictionary\n",
    "#dictionary can store the values in the form of list(list inside dictionary)\n",
    "#dictionary can store the values in the form of tuple(tuple inside dictionary)\n",
    "#dictionary can store the values in the form of set(set inside dictionary)\n",
    "#dictionary can store the values in the form of anaother dictionary(dictionary inside dictionary)\n",
    "\n",
    "d6={\"number\":[2,34,24,54,76,78],\"assignment\":(1,2,3,4,5,6),\"launch_date\":{28,12,14},\"class_time\":{\"web_dev\":8,\"data_science\":8,\"java with dsa with system design\":7}}\n",
    "d6"
   ]
  },
  {
   "cell_type": "code",
   "execution_count": 54,
   "id": "73f7b775-7df5-4235-9e59-9412d3b006f2",
   "metadata": {},
   "outputs": [
    {
     "data": {
      "text/plain": [
       "7"
      ]
     },
     "execution_count": 54,
     "metadata": {},
     "output_type": "execute_result"
    }
   ],
   "source": [
    "#if we want to extract \"7\" from it \n",
    "d6['class_time']['java with dsa with system design']"
   ]
  },
  {
   "cell_type": "code",
   "execution_count": 44,
   "id": "8e61baae-f03c-454b-b9dc-447576611ffc",
   "metadata": {},
   "outputs": [
    {
     "data": {
      "text/plain": [
       "{'number': [2, 34, 24, 54, 76, 78],\n",
       " 'assignment': (1, 2, 3, 4, 5, 6),\n",
       " 'launch_date': {12, 14, 28},\n",
       " 'class_time': {'web_dev': 8,\n",
       "  'data_science': 8,\n",
       "  'java with dsa with system design': 7},\n",
       " 'mentor': ['sudhanshu', 'krish', 'anurag']}"
      ]
     },
     "execution_count": 44,
     "metadata": {},
     "output_type": "execute_result"
    }
   ],
   "source": [
    "#to add new key:value pair\n",
    "d6[\"mentor\"]=[\"sudhanshu\",\"krish\",\"anurag\"]\n",
    "d6\n",
    "#if we do not have the key name as mentor already in dictionary then it will add it\n",
    "#if we already have the name mentor key in the dictionary then it will overwrite it"
   ]
  },
  {
   "cell_type": "code",
   "execution_count": 45,
   "id": "191240ff-92da-4775-a492-a44bc21f8822",
   "metadata": {},
   "outputs": [
    {
     "data": {
      "text/plain": [
       "{'assignment': (1, 2, 3, 4, 5, 6),\n",
       " 'launch_date': {12, 14, 28},\n",
       " 'class_time': {'web_dev': 8,\n",
       "  'data_science': 8,\n",
       "  'java with dsa with system design': 7},\n",
       " 'mentor': ['sudhanshu', 'krish', 'anurag']}"
      ]
     },
     "execution_count": 45,
     "metadata": {},
     "output_type": "execute_result"
    }
   ],
   "source": [
    "#to delete the key from the dictionary there is a keyword name \"del\"\n",
    "del d6['number']\n",
    "d6"
   ]
  },
  {
   "cell_type": "code",
   "execution_count": 46,
   "id": "184274c1-c07f-432d-ba7e-c606184589e7",
   "metadata": {},
   "outputs": [
    {
     "data": {
      "text/plain": [
       "dict_keys(['assignment', 'launch_date', 'class_time', 'mentor'])"
      ]
     },
     "execution_count": 46,
     "metadata": {},
     "output_type": "execute_result"
    }
   ],
   "source": [
    "#to check whatever functions can be used on these variable or operations availabale\n",
    "#press \" d6.\" + \"tab\" u will be able to see all the functions we can use on it\n",
    "\n",
    "\n",
    "#to access all the key's names\n",
    "#use key()\n",
    "d6.keys()\n"
   ]
  },
  {
   "cell_type": "code",
   "execution_count": 47,
   "id": "a29c0a57-02af-4d53-b660-4cb40bff6577",
   "metadata": {},
   "outputs": [
    {
     "data": {
      "text/plain": [
       "['assignment', 'launch_date', 'class_time', 'mentor']"
      ]
     },
     "execution_count": 47,
     "metadata": {},
     "output_type": "execute_result"
    }
   ],
   "source": [
    "#to extract only the keys all ,in the form of list \n",
    "list(d6.keys())"
   ]
  },
  {
   "cell_type": "code",
   "execution_count": 48,
   "id": "dac83aaa-3ba6-46a1-9e58-63d4f5093a8c",
   "metadata": {},
   "outputs": [
    {
     "data": {
      "text/plain": [
       "dict_values([(1, 2, 3, 4, 5, 6), {28, 12, 14}, {'web_dev': 8, 'data_science': 8, 'java with dsa with system design': 7}, ['sudhanshu', 'krish', 'anurag']])"
      ]
     },
     "execution_count": 48,
     "metadata": {},
     "output_type": "execute_result"
    }
   ],
   "source": [
    "#to extract all the values from the dictionary\n",
    "#use values()\n",
    "d6.values()"
   ]
  },
  {
   "cell_type": "code",
   "execution_count": 49,
   "id": "b14c2ee0-5d8a-461a-8b34-6151fb601dbd",
   "metadata": {},
   "outputs": [
    {
     "data": {
      "text/plain": [
       "[(1, 2, 3, 4, 5, 6),\n",
       " {12, 14, 28},\n",
       " {'web_dev': 8, 'data_science': 8, 'java with dsa with system design': 7},\n",
       " ['sudhanshu', 'krish', 'anurag']]"
      ]
     },
     "execution_count": 49,
     "metadata": {},
     "output_type": "execute_result"
    }
   ],
   "source": [
    "#to extract only the values all,in the form of list \n",
    "list(d6.values())"
   ]
  },
  {
   "cell_type": "code",
   "execution_count": 50,
   "id": "db0289d0-5055-4b8c-b54e-8110a747d8ea",
   "metadata": {},
   "outputs": [
    {
     "data": {
      "text/plain": [
       "dict_items([('assignment', (1, 2, 3, 4, 5, 6)), ('launch_date', {28, 12, 14}), ('class_time', {'web_dev': 8, 'data_science': 8, 'java with dsa with system design': 7}), ('mentor', ['sudhanshu', 'krish', 'anurag'])])"
      ]
     },
     "execution_count": 50,
     "metadata": {},
     "output_type": "execute_result"
    }
   ],
   "source": [
    "#to get the key:value pair ie both  from the dctionary\n",
    "#use items()\n",
    "d6.items()"
   ]
  },
  {
   "cell_type": "code",
   "execution_count": 51,
   "id": "86316d8f-ba59-4ecc-aba8-74b0149e0d04",
   "metadata": {},
   "outputs": [
    {
     "data": {
      "text/plain": [
       "[('assignment', (1, 2, 3, 4, 5, 6)),\n",
       " ('launch_date', {12, 14, 28}),\n",
       " ('class_time',\n",
       "  {'web_dev': 8, 'data_science': 8, 'java with dsa with system design': 7}),\n",
       " ('mentor', ['sudhanshu', 'krish', 'anurag'])]"
      ]
     },
     "execution_count": 51,
     "metadata": {},
     "output_type": "execute_result"
    }
   ],
   "source": [
    "#to extract all the key,value pair ,in the form of list \n",
    "list(d6.items())\n",
    "#the output will have list having the elements n the form tuples"
   ]
  },
  {
   "cell_type": "code",
   "execution_count": 52,
   "id": "12c8ee33-79ea-488d-8f19-2ab6920564f8",
   "metadata": {},
   "outputs": [
    {
     "data": {
      "text/plain": [
       "'in case of list there we can keep the pop() as empty becasue we were having the \\n1st and last element there.but not in case dictionary as there is no 1st and last \\nelement there and no indexing so will pass the name of the key which we want to pop'"
      ]
     },
     "execution_count": 52,
     "metadata": {},
     "output_type": "execute_result"
    }
   ],
   "source": [
    "#to pop the key from the dictionary\n",
    "#as there is no concept of indexing in dictionary so in pop(),we will pass name of key\n",
    "d6.pop('assignment')\n",
    "d6\n",
    "\"\"\"in case of list there we can keep the pop() as empty becasue we were having the \n",
    "1st and last element there.but not in case dictionary as there is no 1st and last \n",
    "element there and no indexing so will pass the name of the key which we want to pop\"\"\""
   ]
  },
  {
   "cell_type": "code",
   "execution_count": 53,
   "id": "82057b3c-8b50-4078-9048-495dd45ae5a5",
   "metadata": {},
   "outputs": [
    {
     "data": {
      "text/plain": [
       "{'launch_date': {12, 14, 28},\n",
       " 'class_time': {'web_dev': 8,\n",
       "  'data_science': 8,\n",
       "  'java with dsa with system design': 7},\n",
       " 'mentor': ['sudhanshu', 'krish', 'anurag']}"
      ]
     },
     "execution_count": 53,
     "metadata": {},
     "output_type": "execute_result"
    }
   ],
   "source": [
    "d6"
   ]
  },
  {
   "cell_type": "code",
   "execution_count": null,
   "id": "abdce4a1-05c5-4944-8d46-d0987436d287",
   "metadata": {},
   "outputs": [],
   "source": []
  }
 ],
 "metadata": {
  "kernelspec": {
   "display_name": "Python 3 (ipykernel)",
   "language": "python",
   "name": "python3"
  },
  "language_info": {
   "codemirror_mode": {
    "name": "ipython",
    "version": 3
   },
   "file_extension": ".py",
   "mimetype": "text/x-python",
   "name": "python",
   "nbconvert_exporter": "python",
   "pygments_lexer": "ipython3",
   "version": "3.11.7"
  }
 },
 "nbformat": 4,
 "nbformat_minor": 5
}
