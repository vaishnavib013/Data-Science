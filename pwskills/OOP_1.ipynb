{
 "cells": [
  {
   "cell_type": "markdown",
   "id": "cd1b5433-4337-4bcc-a2ff-81301429530f",
   "metadata": {},
   "source": [
    "# \"OOPS stands for object oriented programming system\"\"\n"
   ]
  },
  {
   "cell_type": "code",
   "execution_count": 2,
   "id": "884a6c67-d48b-48d8-a434-68414831d46a",
   "metadata": {},
   "outputs": [
    {
     "name": "stdout",
     "output_type": "stream",
     "text": [
      "<class 'int'>\n",
      "<class 'str'>\n"
     ]
    }
   ],
   "source": [
    "a=1\n",
    "print(type(a))\n",
    "print(type(\"pwskills\"))"
   ]
  },
  {
   "cell_type": "markdown",
   "id": "3a73b13c-72ec-497e-95df-b1d483921155",
   "metadata": {},
   "source": [
    "### what is this class above tells us .int class ,str class,float class,etc"
   ]
  },
  {
   "cell_type": "markdown",
   "id": "0b529294-0bd4-496c-855d-8455ed0705c6",
   "metadata": {},
   "source": [
    "# class: class is the blueprint or template or skeleton\n",
    "or also we can describe it like.... in case of object oriented language class defines us overall about the things\n",
    "for eg:go and sit in that car... if I told this to someone then on the road there are not single car there are many cars in general but when i describes that in blue car then that person would be able to get into which car he has to sit .so here the car is the class becos whatever the appearance it has like it has 4 wheels,seat,seatbelt ,etc are of car and specifically we want to define then all the car differ from color model etc... so the features or appearance in general all the cars have \n",
    "#### that is the class \n",
    "\n",
    "in the above examples if it is a number without decimal then it is in class integer but if we check specific number ie integer class but which number is in which class then we can clearly define it\n",
    "also if string is there collection of characters in \" \" then it is string but about which string i am talking about is not known then that is the class .if we tell the specific string ie in string class which string.... like pwskills then it is in class string \n",
    "\n",
    "###### so class just a classification of real world entity which classify the real world entities\n",
    "\n",
    "\n",
    "# object: it is the instance or object of the class ,it is the real-world entity or an instance also known to be the variable\n",
    "so in the above example a is the object of the class integer "
   ]
  },
  {
   "cell_type": "code",
   "execution_count": 3,
   "id": "38a5540c-e83a-481c-8ed7-1f5c7aa006ec",
   "metadata": {},
   "outputs": [],
   "source": [
    "#how to define the class\n",
    "class test:\n",
    "    pass\n",
    "#using this pass we can create the blank class "
   ]
  },
  {
   "cell_type": "markdown",
   "id": "db1f5192-67bc-42ae-bf78-1b0bd1af99e6",
   "metadata": {},
   "source": [
    "##### so why we are creating the classes in programming languages ,what is the advantage of making the class??\n",
    "\n",
    "answer to this is...\n",
    "if u are preparing a project,so there will be so many modules like frontend will have frontend module backend will have backend module similary we have for cloud connecting,database,to upload the file there be the module for each of them differently.If I start to write a code for this without using any hierarchy so there will be so much unstructured thing and in that case if anyone wants to contribute in it then he can also not any of the changes to it becoz modules are all written anywhere not in structured format.\n",
    "class brings the structure to it.so if frontend module is there then create a frontend module for backend module create backend class and similarly for all others\n",
    "so in this way if we create a class differently and in that if we define all the modules in different different classes .so whoever is contributing in that particular thing while writing a code for them it will be very easy  to get into it and make development in it\n",
    "### so this class or oop makes the coding ability enhanced and reusable.It makes the code more structured.so its makes the classification very easier"
   ]
  },
  {
   "cell_type": "code",
   "execution_count": 1,
   "id": "604e7eab-8614-46be-a5cd-d54851b08f0b",
   "metadata": {},
   "outputs": [
    {
     "data": {
      "text/plain": [
       "__main__.test"
      ]
     },
     "execution_count": 1,
     "metadata": {},
     "output_type": "execute_result"
    }
   ],
   "source": [
    "class test:\n",
    "    pass\n",
    "\n",
    "#create the object of class test\n",
    "a=test()\n",
    "type(a)"
   ]
  },
  {
   "cell_type": "code",
   "execution_count": 2,
   "id": "49b910b6-e5bd-470e-b23f-68e236d5e14b",
   "metadata": {},
   "outputs": [
    {
     "name": "stdout",
     "output_type": "stream",
     "text": [
      "<class '__main__.test'>\n"
     ]
    }
   ],
   "source": [
    "print(type(a))"
   ]
  },
  {
   "cell_type": "code",
   "execution_count": 10,
   "id": "8d9a05d9-23d3-4888-a9df-d4b815f2c5f6",
   "metadata": {},
   "outputs": [],
   "source": [
    "class pwskills:#inside class we can define variables or functions,etc\n",
    "    def welcome_msg(self):\n",
    "        print(\"welcome to pwskills\")"
   ]
  },
  {
   "cell_type": "code",
   "execution_count": 11,
   "id": "716e6fb4-786e-4e8f-82c7-9946b14569ad",
   "metadata": {},
   "outputs": [],
   "source": [
    "rohan=pwskills()\n",
    "#so here rohan become the variable of class pwskills ie the object"
   ]
  },
  {
   "cell_type": "code",
   "execution_count": 12,
   "id": "5cd73672-384e-4fc6-b0a4-58e8657e30cf",
   "metadata": {},
   "outputs": [
    {
     "name": "stdout",
     "output_type": "stream",
     "text": [
      "<class '__main__.pwskills'>\n"
     ]
    }
   ],
   "source": [
    "print(type(rohan))"
   ]
  },
  {
   "cell_type": "code",
   "execution_count": 15,
   "id": "b454893b-6177-43e1-be57-54c699b33181",
   "metadata": {},
   "outputs": [
    {
     "name": "stdout",
     "output_type": "stream",
     "text": [
      "welcome to pwskills\n"
     ]
    }
   ],
   "source": [
    "\"\"\"\n",
    "class pwskills:#inside class we can define variables or functions,etc\n",
    "    def welcome_msg():\n",
    "        print(\"welcome to pwskills\")\n",
    "rohan=pwskills()\n",
    "rohan.welcome_msg()\n",
    "\"\"\"\n",
    "\"\"\"so here it gives error as nothing is passed in it but it gives us\n",
    "#TypeError: pwskills.welcome_msg() takes 0 positional arguments but 1 was given\n",
    "#because whatever methods or functions we pass in the class should be bind to that \n",
    "class so that class would be able to recognise that this method is inside it \n",
    "so for that we need to pass \"self\" keyword so that it would recognise that its\n",
    "that class function\n",
    "so we need to write self as our 1st arbitary argument\"\"\"\n",
    "rohan.welcome_msg()"
   ]
  },
  {
   "cell_type": "markdown",
   "id": "27e5daf8-49d8-4544-a5ce-26131f4019ca",
   "metadata": {},
   "source": [
    "##### so if we want to use the method or function of class ,outside the class for that we will take one variable and call that class as a function and store it in the variable \n",
    "##### then that variable or object will call that function or method using dot \n",
    "##### eg:a is the variable or object created \n",
    "##### a.method_inside_class() will be called by that variable for that we also need to pass the arbitary argument in the method or function of class as self "
   ]
  },
  {
   "cell_type": "code",
   "execution_count": 16,
   "id": "a3434932-b96e-46f8-890e-03e1e849ad3b",
   "metadata": {},
   "outputs": [
    {
     "name": "stdout",
     "output_type": "stream",
     "text": [
      "welcome to pwskills\n"
     ]
    }
   ],
   "source": [
    "gaurav=pwskills()\n",
    "gaurav.welcome_msg()"
   ]
  },
  {
   "cell_type": "code",
   "execution_count": 25,
   "id": "f9a9ad5b-1b04-4d6c-a403-7233e602e391",
   "metadata": {},
   "outputs": [],
   "source": [
    "class pwskills1:\n",
    "    \"\"\"here __init__ is the constructor in the oops\n",
    "    #so here init is used for intialization and it is also the inbuild function.\n",
    "    basically it is used to pass the data inside the class.\n",
    "    init always ask the data to be entered whenever the object is created\n",
    "    \"\"\"\n",
    "    def __init__(self,phone_number,email_id,student_id):\n",
    "        self.phone_number=phone_number\n",
    "        self.email_id=email_id\n",
    "        self.student_id=student_id\n",
    "\n",
    "    def return_student_details(self):\n",
    "        return self.student_id,self.phone_number,self.email_id"
   ]
  },
  {
   "cell_type": "markdown",
   "id": "0affb4ae-8cb0-4773-8815-d25f96419036",
   "metadata": {},
   "source": [
    "so lets understand here about the above code and downside related to this code\n",
    "so you are creating a object rohan so you need to ask the values/data in it because the init is the  inbuilt constructor which always ask for the values/data to be inserted .\n",
    "so the data in rohan \"132425664\" this will go in the constuctior parameter phone_number similarly\n",
    "\"rohan@gmail.com\" this will go as parameters in the constructor email_id\n",
    "\"101\" will go for the parameter student_id \n",
    "this all will go from down mentioned to up mentioned class for the rohan\n",
    "\n",
    "so what does this self.phone_number do?\n",
    "so it tells us that this variable with self belongs to class ie it binds it to the class so that our class should know that such type of variable is also available with it.\n",
    "so whatever the class variables are there we are defining it to our variables which is equal to the phone_number ,email_id and student_id respectively\n",
    "\n",
    "so class will be able to get to know that for \"rohan\" object or instance there are the data defined for it \n",
    "\n",
    "\n",
    " def return_student_student(self):\n",
    " whenever you are writing the function inside the class and you want to access the elements or variables of the class for that you need to use \"self\" self.variable_of_class.it this way only you can access the varaibles of class\n",
    " because self is the pointer or it provides references through class "
   ]
  },
  {
   "cell_type": "code",
   "execution_count": 26,
   "id": "89e82674-0f18-4516-b20c-f0eb6ad235f1",
   "metadata": {},
   "outputs": [
    {
     "ename": "TypeError",
     "evalue": "pwskills1.__init__() missing 3 required positional arguments: 'phone_number', 'email_id', and 'student_id'",
     "output_type": "error",
     "traceback": [
      "\u001b[1;31m------------------------------------------------------------------------\u001b[0m",
      "\u001b[1;31mTypeError\u001b[0m                              Traceback (most recent call last)",
      "Cell \u001b[1;32mIn[26], line 1\u001b[0m\n\u001b[1;32m----> 1\u001b[0m rohan\u001b[38;5;241m=\u001b[39mpwskills1()\n",
      "\u001b[1;31mTypeError\u001b[0m: pwskills1.__init__() missing 3 required positional arguments: 'phone_number', 'email_id', and 'student_id'"
     ]
    }
   ],
   "source": [
    "rohan=pwskills1()"
   ]
  },
  {
   "cell_type": "code",
   "execution_count": 27,
   "id": "4f4eccff-72d9-462b-958e-c7209a607735",
   "metadata": {},
   "outputs": [],
   "source": [
    "rohan=pwskills1(132425664,\"rohan@gmail.com\",101)"
   ]
  },
  {
   "cell_type": "code",
   "execution_count": 28,
   "id": "8ada5aac-f477-452f-bf2c-af2cd30c8092",
   "metadata": {},
   "outputs": [
    {
     "data": {
      "text/plain": [
       "(101, 132425664, 'rohan@gmail.com')"
      ]
     },
     "execution_count": 28,
     "metadata": {},
     "output_type": "execute_result"
    }
   ],
   "source": [
    "rohan.return_student_details()"
   ]
  },
  {
   "cell_type": "code",
   "execution_count": 32,
   "id": "ab23b6b7-3533-4def-80ad-4f5052e7248f",
   "metadata": {},
   "outputs": [
    {
     "data": {
      "text/plain": [
       "132425664"
      ]
     },
     "execution_count": 32,
     "metadata": {},
     "output_type": "execute_result"
    }
   ],
   "source": [
    "rohan.phone_number"
   ]
  },
  {
   "cell_type": "code",
   "execution_count": 33,
   "id": "fc9b998a-7c50-4445-8802-fd132c7a0d21",
   "metadata": {},
   "outputs": [
    {
     "data": {
      "text/plain": [
       "'rohan@gmail.com'"
      ]
     },
     "execution_count": 33,
     "metadata": {},
     "output_type": "execute_result"
    }
   ],
   "source": [
    "rohan.email_id"
   ]
  },
  {
   "cell_type": "code",
   "execution_count": 30,
   "id": "f7226af1-c42f-4e50-894c-206e57c7dbc0",
   "metadata": {},
   "outputs": [],
   "source": [
    "gaurav=pwskills1(1865348237,\"gaurav@gmail.com\",102)"
   ]
  },
  {
   "cell_type": "code",
   "execution_count": 31,
   "id": "b6ffd109-7e31-488e-b102-59642865a83a",
   "metadata": {},
   "outputs": [
    {
     "data": {
      "text/plain": [
       "(102, 1865348237, 'gaurav@gmail.com')"
      ]
     },
     "execution_count": 31,
     "metadata": {},
     "output_type": "execute_result"
    }
   ],
   "source": [
    "gaurav.return_student_details()"
   ]
  },
  {
   "cell_type": "code",
   "execution_count": 38,
   "id": "8416b608-d242-4d76-9c96-8098c56129bd",
   "metadata": {},
   "outputs": [],
   "source": [
    "class pwskills2:\n",
    "    \n",
    "    def __init__(self,phone_number,email_id,student_id):\n",
    "        self.phone_number1=phone_number\n",
    "        self.email_id1=email_id\n",
    "        self.student_id1=student_id\n",
    "\n",
    "    def return_student_details(self):\n",
    "        return self.student_id1,self.phone_number1,self.email_id1"
   ]
  },
  {
   "cell_type": "code",
   "execution_count": 39,
   "id": "4a168797-2338-4ad7-97ca-b4eaa4a4f740",
   "metadata": {},
   "outputs": [],
   "source": [
    "sudh=pwskills2(933495370,\"sudh@gmail.com\",102)"
   ]
  },
  {
   "cell_type": "markdown",
   "id": "8b3aea6c-475d-4edc-8ddb-272f70681858",
   "metadata": {},
   "source": [
    "sudh.phone_number\n",
    "\n",
    "#so here it gives us error becoz class can only recognized the vairables/data with the self.Not our_variable which is assigned to the \"self.class_variable=our_variable\"\n",
    "so if you do phone_number1 instead  of phone_number bcoz that was with the self then it will be recognized by class and we will get the results"
   ]
  },
  {
   "cell_type": "code",
   "execution_count": 40,
   "id": "b7102372-8a2e-4b2b-a65e-92eb5267a9eb",
   "metadata": {},
   "outputs": [
    {
     "data": {
      "text/plain": [
       "933495370"
      ]
     },
     "execution_count": 40,
     "metadata": {},
     "output_type": "execute_result"
    }
   ],
   "source": [
    "sudh.phone_number1"
   ]
  },
  {
   "cell_type": "code",
   "execution_count": 42,
   "id": "e59ab819-89a3-43f7-8869-0c3d2110da6b",
   "metadata": {},
   "outputs": [
    {
     "data": {
      "text/plain": [
       "'sudh@gmail.com'"
      ]
     },
     "execution_count": 42,
     "metadata": {},
     "output_type": "execute_result"
    }
   ],
   "source": [
    "sudh.email_id1"
   ]
  },
  {
   "cell_type": "code",
   "execution_count": 43,
   "id": "16a49ffa-5420-46ee-826e-20232db5451a",
   "metadata": {},
   "outputs": [
    {
     "data": {
      "text/plain": [
       "(102, 933495370, 'sudh@gmail.com')"
      ]
     },
     "execution_count": 43,
     "metadata": {},
     "output_type": "execute_result"
    }
   ],
   "source": [
    "sudh.return_student_details()"
   ]
  },
  {
   "cell_type": "code",
   "execution_count": 45,
   "id": "e3a880b8-7831-421f-88c0-e2337653d20e",
   "metadata": {},
   "outputs": [],
   "source": [
    "#we can also used instead of self anything we can take .self is not reserved keyword\n",
    "class pwskills2:\n",
    "    \n",
    "    def __init__(sudh,phone_number,email_id,student_id):\n",
    "        sudh.phone_number1=phone_number\n",
    "        sudh.email_id1=email_id\n",
    "        sudh.student_id1=student_id\n",
    "\n",
    "    def return_student_details(sudh):\n",
    "        return sudh.student_id1,sudh.phone_number1,sudh.email_id1"
   ]
  },
  {
   "cell_type": "code",
   "execution_count": 46,
   "id": "3479204b-4645-4ce3-90f5-305335266411",
   "metadata": {},
   "outputs": [],
   "source": [
    "rohan=pwskills2(375382,\"rohan@gmail.com\",103)"
   ]
  },
  {
   "cell_type": "code",
   "execution_count": 47,
   "id": "d62f8adc-5966-4363-a198-2c4eb461ee62",
   "metadata": {},
   "outputs": [
    {
     "data": {
      "text/plain": [
       "(103, 375382, 'rohan@gmail.com')"
      ]
     },
     "execution_count": 47,
     "metadata": {},
     "output_type": "execute_result"
    }
   ],
   "source": [
    "rohan.return_student_details()"
   ]
  },
  {
   "cell_type": "code",
   "execution_count": null,
   "id": "8660d00c-bc13-4125-b404-d43757ac0c90",
   "metadata": {},
   "outputs": [],
   "source": []
  }
 ],
 "metadata": {
  "kernelspec": {
   "display_name": "Python 3 (ipykernel)",
   "language": "python",
   "name": "python3"
  },
  "language_info": {
   "codemirror_mode": {
    "name": "ipython",
    "version": 3
   },
   "file_extension": ".py",
   "mimetype": "text/x-python",
   "name": "python",
   "nbconvert_exporter": "python",
   "pygments_lexer": "ipython3",
   "version": "3.11.7"
  }
 },
 "nbformat": 4,
 "nbformat_minor": 5
}
