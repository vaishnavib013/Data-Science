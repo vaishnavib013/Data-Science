{
 "cells": [
  {
   "cell_type": "markdown",
   "id": "d0330e61-fbb7-4845-83db-222a03cc6fe2",
   "metadata": {},
   "source": [
    "# static_method  , instance method  , class method\n",
    "using this static_method ,we dont have to create memory space for all the functions again and again.\n",
    "just we would be making the function static and it wont require to take the parameters again and again\n",
    "#### we use this static function when we require the utility function"
   ]
  },
  {
   "cell_type": "code",
   "execution_count": 18,
   "id": "b4981993-25ae-4585-98fc-c0d796952252",
   "metadata": {},
   "outputs": [],
   "source": [
    "class pwskills:\n",
    "\n",
    "    def students_details(self,name,mail_id,number):\n",
    "        print(name,mail_id,number)"
   ]
  },
  {
   "cell_type": "code",
   "execution_count": 20,
   "id": "be346491-d631-4802-a244-d7d805828246",
   "metadata": {},
   "outputs": [],
   "source": [
    "pw=pwskills()"
   ]
  },
  {
   "cell_type": "code",
   "execution_count": 22,
   "id": "972f0e93-725d-4166-b0b8-f256c3790b07",
   "metadata": {},
   "outputs": [
    {
     "name": "stdout",
     "output_type": "stream",
     "text": [
      "sudh sudh@gmail.com 9774357863\n"
     ]
    }
   ],
   "source": [
    "pw.students_details(\"sudh\",\"sudh@gmail.com\",9774357863)"
   ]
  },
  {
   "cell_type": "code",
   "execution_count": 43,
   "id": "a63039e1-1830-41a2-ab48-84392f2ae8ad",
   "metadata": {},
   "outputs": [],
   "source": [
    "class pwskills1:\n",
    "\n",
    "    def students_details(self,name,mail_id,number):\n",
    "        print(name,mail_id,number)\n",
    "        #for this function we can access it using the object only,as this is associated with the instance and class\n",
    "\n",
    "    @staticmethod\n",
    "    def mentor_class(list_mentor):\n",
    "        print(list_mentor)\n",
    "        #this we dont require to create the object we can access it directly\n",
    "\n",
    "    def mentor(self,mentor_list):\n",
    "        print(mentor_list)\n",
    "        "
   ]
  },
  {
   "cell_type": "code",
   "execution_count": 45,
   "id": "cb242a00-7568-4398-8e1a-a6847a901653",
   "metadata": {},
   "outputs": [
    {
     "name": "stdout",
     "output_type": "stream",
     "text": [
      "['sudh', 'krish']\n"
     ]
    }
   ],
   "source": [
    "pwskills1.mentor_class([\"sudh\",\"krish\"])"
   ]
  },
  {
   "cell_type": "code",
   "execution_count": 47,
   "id": "49203330-f180-4f7c-a893-d7fc9436dd9b",
   "metadata": {},
   "outputs": [],
   "source": [
    "stu1=pwskills1()"
   ]
  },
  {
   "cell_type": "code",
   "execution_count": 49,
   "id": "80c112df-a5a8-4e74-9e56-5a06e27cb5a5",
   "metadata": {},
   "outputs": [],
   "source": [
    "stu2=pwskills1()"
   ]
  },
  {
   "cell_type": "code",
   "execution_count": 51,
   "id": "eb4316d1-4b9a-43c7-9d81-f966aca814c2",
   "metadata": {},
   "outputs": [],
   "source": [
    "stu3=pwskills1()"
   ]
  },
  {
   "cell_type": "markdown",
   "id": "61ebeced-5968-4c43-a509-64ed3235ecb6",
   "metadata": {},
   "source": [
    "#if we have 1 lakh students then students_details() is created 1 lakh times.\n",
    "#lets suppose we want to avoid this .as 1 lakh classes would be there but 1 lakh mentors wont be there."
   ]
  },
  {
   "cell_type": "code",
   "execution_count": 54,
   "id": "c624552e-3f70-4934-be8c-da5c2d670ca7",
   "metadata": {},
   "outputs": [
    {
     "name": "stdout",
     "output_type": "stream",
     "text": [
      "['sudh', 'krish']\n"
     ]
    }
   ],
   "source": [
    "stu1.mentor(['sudh','krish'])"
   ]
  },
  {
   "cell_type": "code",
   "execution_count": 64,
   "id": "ef0dcf27-63c4-4f83-9603-645151afe88e",
   "metadata": {},
   "outputs": [],
   "source": [
    "class pwskills2:\n",
    "\n",
    "    def students_details(self,name,mail_id,number):\n",
    "        print(name,mail_id,number)\n",
    "       \n",
    "    @staticmethod\n",
    "    def mentor_class(list_mentor):\n",
    "        print(list_mentor)\n",
    "\n",
    "    @classmethod\n",
    "    def class_name(cls):\n",
    "        cls.mentor_class([\"sudh\",\"krish\"])\n",
    "\n",
    "    def mentor(self,mentor_list):\n",
    "        print(mentor_list)"
   ]
  },
  {
   "cell_type": "code",
   "execution_count": 66,
   "id": "ea180b54-c3ce-4d42-8341-b27a8f38138f",
   "metadata": {},
   "outputs": [
    {
     "name": "stdout",
     "output_type": "stream",
     "text": [
      "['sudh', 'krish']\n"
     ]
    }
   ],
   "source": [
    "pwskills2.class_name()"
   ]
  },
  {
   "cell_type": "code",
   "execution_count": 72,
   "id": "0be3d4fe-ff27-413f-8444-b04c4af14cbb",
   "metadata": {},
   "outputs": [],
   "source": [
    "class pwskills2:\n",
    "\n",
    "    def students_details(self,name,mail_id,number):\n",
    "        print(name,mail_id,number)\n",
    "\n",
    "    @staticmethod\n",
    "    def mentor_mail_id(mail_id_mentor):\n",
    "        print(mail_id_mentor)\n",
    "       \n",
    "    @staticmethod\n",
    "    def mentor_class(list_mentor):\n",
    "        print(list_mentor)\n",
    "\n",
    "    @classmethod\n",
    "    def class_name(cls):\n",
    "        cls.mentor_class([\"sudh\",\"krish\"])\n",
    "\n",
    "    def mentor(self,mentor_list):\n",
    "        print(mentor_list)"
   ]
  },
  {
   "cell_type": "markdown",
   "id": "cad513bc-24bb-4bde-b700-f5c7d39c54fc",
   "metadata": {},
   "source": [
    "if we want to call a static method inside a static method then "
   ]
  },
  {
   "cell_type": "code",
   "execution_count": 75,
   "id": "d7350e05-9227-4c9e-a4a7-0b54d934ed50",
   "metadata": {},
   "outputs": [],
   "source": [
    "class pwskills2:\n",
    "\n",
    "    def students_details(self,name,mail_id,number):\n",
    "        print(name,mail_id,number)\n",
    "\n",
    "    @staticmethod\n",
    "    def mentor_mail_id(mail_id_mentor):\n",
    "        print(mail_id_mentor)\n",
    "       \n",
    "    @staticmethod\n",
    "    def mentor_class(list_mentor):\n",
    "        pwskills2.mentor_mail_id([\"sudh@gmail.com\",\"krish@gmail.com\"])\n",
    "        print(list_mentor)\n",
    "\n",
    "    @classmethod\n",
    "    def class_name(cls):\n",
    "        cls.mentor_class([\"sudh\",\"krish\"])\n",
    "\n",
    "    def mentor(self,mentor_list):\n",
    "        print(mentor_list)"
   ]
  },
  {
   "cell_type": "code",
   "execution_count": 77,
   "id": "5981abbc-5671-4109-bf20-3eac051f0689",
   "metadata": {},
   "outputs": [
    {
     "name": "stdout",
     "output_type": "stream",
     "text": [
      "['sudh@gmail.com', 'krish@gmail.com']\n",
      "['krish', 'sudh']\n"
     ]
    }
   ],
   "source": [
    "pwskills2.mentor_class([\"krish\",\"sudh\"])"
   ]
  },
  {
   "cell_type": "code",
   "execution_count": 83,
   "id": "81dca1fa-b440-41ec-8a7f-b0553d082830",
   "metadata": {},
   "outputs": [],
   "source": [
    "class pwskills2:\n",
    "\n",
    "    def students_details(self,name,mail_id,number):\n",
    "        print(name,mail_id,number)\n",
    "\n",
    "    @staticmethod\n",
    "    def mentor_mail_id(mail_id_mentor):\n",
    "        print(mail_id_mentor)\n",
    "       \n",
    "    @staticmethod\n",
    "    def mentor_class(list_mentor):\n",
    "        pwskills2.mentor_mail_id([\"sudh@gmail.com\",\"krish@gmail.com\"])\n",
    "        print(list_mentor)\n",
    "\n",
    "    @classmethod\n",
    "    def class_name(cls):\n",
    "        cls.mentor_class([\"sudh\",\"krish\"])\n",
    "\n",
    "    def mentor(self,mentor_list):\n",
    "        print(mentor_list)\n",
    "        self.mentor_class([\"krish\",\"sudh\"])"
   ]
  },
  {
   "cell_type": "code",
   "execution_count": 85,
   "id": "6fc18744-4825-4741-ae23-b723fdce2be5",
   "metadata": {},
   "outputs": [
    {
     "name": "stdout",
     "output_type": "stream",
     "text": [
      "['sudh@gmail.com', 'krish@gmail.com']\n",
      "['sudh', 'krish']\n"
     ]
    }
   ],
   "source": [
    "pwskills2.class_name()"
   ]
  },
  {
   "cell_type": "code",
   "execution_count": 89,
   "id": "536c7b96-d3e0-4815-8b39-746748378486",
   "metadata": {},
   "outputs": [],
   "source": [
    "pw=pwskills2()"
   ]
  },
  {
   "cell_type": "code",
   "execution_count": 91,
   "id": "8f4f2269-e80b-4630-9873-d98afe3052b2",
   "metadata": {},
   "outputs": [
    {
     "name": "stdout",
     "output_type": "stream",
     "text": [
      "['krish', 'sudh']\n",
      "['sudh@gmail.com', 'krish@gmail.com']\n",
      "['krish', 'sudh']\n"
     ]
    }
   ],
   "source": [
    "pw.mentor([\"krish\",\"sudh\"])"
   ]
  },
  {
   "cell_type": "code",
   "execution_count": null,
   "id": "6a318dca-cd57-49af-865e-5f0851b05e31",
   "metadata": {},
   "outputs": [],
   "source": []
  }
 ],
 "metadata": {
  "kernelspec": {
   "display_name": "Python [conda env:base] *",
   "language": "python",
   "name": "conda-base-py"
  },
  "language_info": {
   "codemirror_mode": {
    "name": "ipython",
    "version": 3
   },
   "file_extension": ".py",
   "mimetype": "text/x-python",
   "name": "python",
   "nbconvert_exporter": "python",
   "pygments_lexer": "ipython3",
   "version": "3.12.7"
  }
 },
 "nbformat": 4,
 "nbformat_minor": 5
}
