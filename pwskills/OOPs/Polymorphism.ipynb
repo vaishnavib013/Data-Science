{
 "cells": [
  {
   "cell_type": "markdown",
   "id": "d0ea3ceb-5903-4cae-98fc-0e60a5eae6b7",
   "metadata": {},
   "source": [
    "# Polymorphism\n",
    "### One entity having different different behaviour in different different circumstances .\n",
    "### Multiple behaviour in diffrernt context\n",
    "\n",
    "eg:suppose a person who is father of someone,brother ,husband of someone at the same point of a time.so each person having different roles and responsibilites in different context."
   ]
  },
  {
   "cell_type": "code",
   "execution_count": 1,
   "id": "cd67f2c5-7842-48e1-8837-24ca4d28219e",
   "metadata": {},
   "outputs": [],
   "source": [
    "def test(a,b):\n",
    "    return a+b"
   ]
  },
  {
   "cell_type": "code",
   "execution_count": 4,
   "id": "12dbc63f-a892-49f1-9a13-a42339efc0e6",
   "metadata": {},
   "outputs": [
    {
     "data": {
      "text/plain": [
       "7"
      ]
     },
     "execution_count": 4,
     "metadata": {},
     "output_type": "execute_result"
    }
   ],
   "source": [
    "test(3,4) #in case of integer"
   ]
  },
  {
   "cell_type": "code",
   "execution_count": 5,
   "id": "4f7b5474-da85-48db-8d2f-1159f920c0ee",
   "metadata": {},
   "outputs": [
    {
     "data": {
      "text/plain": [
       "'sudhkumar'"
      ]
     },
     "execution_count": 5,
     "metadata": {},
     "output_type": "execute_result"
    }
   ],
   "source": [
    "test(\"sudh\",\"kumar\") #in case of strings"
   ]
  },
  {
   "cell_type": "markdown",
   "id": "9d8e267c-2c3a-40e2-9fa4-21850fb5bc87",
   "metadata": {},
   "source": [
    "#so here function is same but it is behaving differently in different context\n",
    "#function is not changing ,but for different inputs it is behaving differently"
   ]
  },
  {
   "cell_type": "code",
   "execution_count": 6,
   "id": "ceb65cf9-2959-442e-9e3a-46ed63e35d6c",
   "metadata": {},
   "outputs": [
    {
     "data": {
      "text/plain": [
       "[3, 4, 5, 6, 45, 567, 98]"
      ]
     },
     "execution_count": 6,
     "metadata": {},
     "output_type": "execute_result"
    }
   ],
   "source": [
    "# in case of list it will append the list.\n",
    "test([3,4,5,6],[45,567,98])"
   ]
  },
  {
   "cell_type": "code",
   "execution_count": 7,
   "id": "52a6c47a-6227-402c-bb7d-84d588acce4b",
   "metadata": {},
   "outputs": [],
   "source": [
    "class datascience:\n",
    "    def syllabus(self):\n",
    "        print(\"this is my syllabus for data science masters\")"
   ]
  },
  {
   "cell_type": "code",
   "execution_count": 8,
   "id": "24a68527-3305-4fea-b025-b0defa882f98",
   "metadata": {},
   "outputs": [],
   "source": [
    "class web_dev:\n",
    "    def syllabus(self):\n",
    "        print(\"this is my syllabus for web dev\")"
   ]
  },
  {
   "cell_type": "code",
   "execution_count": 9,
   "id": "9a468c4c-ebd8-4921-8eed-93367a6414c1",
   "metadata": {},
   "outputs": [],
   "source": [
    "def class_parcer(class_obj):\n",
    "    for i in class_obj:\n",
    "        i.syllabus()"
   ]
  },
  {
   "cell_type": "code",
   "execution_count": 11,
   "id": "d41c1dcb-0bb9-4e8c-894a-1a6d9e332f78",
   "metadata": {},
   "outputs": [],
   "source": [
    "datascience=datascience() #LHS:object of the class present at RHS"
   ]
  },
  {
   "cell_type": "code",
   "execution_count": 12,
   "id": "a373a858-b923-4f34-8341-c09d4b22d957",
   "metadata": {},
   "outputs": [],
   "source": [
    "web_dev=web_dev() #LHS:object of the class present at the RHS"
   ]
  },
  {
   "cell_type": "code",
   "execution_count": 14,
   "id": "10510c44-2587-43a4-b851-d0493269ee45",
   "metadata": {},
   "outputs": [],
   "source": [
    "class_obj=[datascience,web_dev] #keeping both the objects in the class_object"
   ]
  },
  {
   "cell_type": "code",
   "execution_count": 16,
   "id": "ae8e8ec3-de81-4392-bc01-ce2dea8354a8",
   "metadata": {},
   "outputs": [
    {
     "name": "stdout",
     "output_type": "stream",
     "text": [
      "this is my syllabus for data science masters\n",
      "this is my syllabus for web dev\n"
     ]
    }
   ],
   "source": [
    "class_parcer(class_obj)"
   ]
  },
  {
   "cell_type": "markdown",
   "id": "a1433ae6-df9d-4a62-a5b6-013a0599ae34",
   "metadata": {},
   "source": [
    "#so this class_parcer function is taking the input as class_oject,where this class_object is having data_science and web_dev objects are passed in it\n",
    "\n",
    "#so this class_object is being parced,so firstly it will parse the datascience.then we are doingthe data_science.syllabus()\n",
    "#so when the first object is passed then it will parce datascience and then it will parce web_dev then it will call the web_dev.syllabus().\n",
    "\n",
    "#we are able to call the syllabus() present in two different classes.\n",
    "#we are calling both the functions from both the classes.\n",
    "#so it is behaving like,when we are calling first class's object then it is giving the content of that class's function's content \n",
    "ie :data_science object was passed furst so it is giving the content of that class having the syllabus function.\n",
    "and then it is calling the second class's function ie the web_Dev class having the syllabus function"
   ]
  },
  {
   "cell_type": "code",
   "execution_count": null,
   "id": "13186890-b858-4935-82b9-8cc04f30e62a",
   "metadata": {},
   "outputs": [],
   "source": []
  }
 ],
 "metadata": {
  "kernelspec": {
   "display_name": "Python 3 (ipykernel)",
   "language": "python",
   "name": "python3"
  },
  "language_info": {
   "codemirror_mode": {
    "name": "ipython",
    "version": 3
   },
   "file_extension": ".py",
   "mimetype": "text/x-python",
   "name": "python",
   "nbconvert_exporter": "python",
   "pygments_lexer": "ipython3",
   "version": "3.11.7"
  }
 },
 "nbformat": 4,
 "nbformat_minor": 5
}
