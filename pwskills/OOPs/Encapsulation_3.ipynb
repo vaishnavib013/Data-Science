{
 "cells": [
  {
   "cell_type": "markdown",
   "id": "599c2f7e-2813-44ed-a722-0093926bcdcc",
   "metadata": {},
   "source": [
    "# ENCAPSULATION:\n",
    "##### BINDING OF DATA MEMEBRS AND MEMBERS FUNCTIONS IN A SINGLE UNIT IE IN A CLASS IS CALLED AS ENCAPSULATION\n",
    "\n",
    "# so whatever data we want to hide from the user will be given as \"__variable\"\n",
    "    #  self.__variable=our_variable"
   ]
  },
  {
   "cell_type": "code",
   "execution_count": 2,
   "id": "d50fadc9-1677-42f8-ac93-6e14dfc4651a",
   "metadata": {},
   "outputs": [],
   "source": [
    "class test:#defined a class\n",
    "\n",
    "    def __init__(self,a,b):#constructor\n",
    "        self.a=a\n",
    "        self.b=b\n",
    "        "
   ]
  },
  {
   "cell_type": "code",
   "execution_count": 3,
   "id": "dc3c9ee0-ee6c-405e-b4d7-0668a52eb06e",
   "metadata": {},
   "outputs": [],
   "source": [
    "t=test(23,24)#created an object t"
   ]
  },
  {
   "cell_type": "code",
   "execution_count": 4,
   "id": "1c4d3079-9bf2-4629-8a2d-6059d90bc61d",
   "metadata": {},
   "outputs": [],
   "source": [
    "t.a=242334#here by clicking the tab button we will get to know that a and b are the variables declared in that class \n",
    "#and we can use them but the user should not able to see what features do this class have.otherwise the user will modify or change it\n",
    "#so for that encapsulation is there "
   ]
  },
  {
   "cell_type": "code",
   "execution_count": 5,
   "id": "325959a2-4803-4c79-8bbf-84b6159b492f",
   "metadata": {},
   "outputs": [
    {
     "data": {
      "text/plain": [
       "242334"
      ]
     },
     "execution_count": 5,
     "metadata": {},
     "output_type": "execute_result"
    }
   ],
   "source": [
    "t.a"
   ]
  },
  {
   "cell_type": "code",
   "execution_count": 7,
   "id": "2e6c91bd-4739-418f-93ae-be8317c7d674",
   "metadata": {},
   "outputs": [],
   "source": [
    "class car:\n",
    "    def __init__(self,year,make,model,speed):\n",
    "        self.__year=year\n",
    "        self.__make=make\n",
    "        self.__model=model\n",
    "        self.__speed=0\n",
    "        #so whatever data we want to hide from the user will be given as \"__variable\"\n",
    "        #self.__variable=our_variable"
   ]
  },
  {
   "cell_type": "code",
   "execution_count": 8,
   "id": "b18c05a1-150f-4f34-a9fc-ac74a2f4e0a6",
   "metadata": {},
   "outputs": [],
   "source": [
    "c=car(2021,\"toyata\",\"innova\",12)"
   ]
  },
  {
   "cell_type": "code",
   "execution_count": 17,
   "id": "d19e77ce-acc7-4e6a-b915-b40b67eddfae",
   "metadata": {},
   "outputs": [
    {
     "data": {
      "text/plain": [
       "2021"
      ]
     },
     "execution_count": 17,
     "metadata": {},
     "output_type": "execute_result"
    }
   ],
   "source": [
    "c._car__year\n",
    "#so to access the the elements inside the class which are hidden we cannot directly do\n",
    "#for that we need to do :\n",
    "    #object._classname__variable"
   ]
  },
  {
   "cell_type": "code",
   "execution_count": 18,
   "id": "9c6f30c4-b8ab-4abf-88c4-0d46d22c2a85",
   "metadata": {},
   "outputs": [
    {
     "data": {
      "text/plain": [
       "0"
      ]
     },
     "execution_count": 18,
     "metadata": {},
     "output_type": "execute_result"
    }
   ],
   "source": [
    "c._car__speed"
   ]
  },
  {
   "cell_type": "code",
   "execution_count": 23,
   "id": "5367897a-2b2b-4509-ac49-13412c6d3021",
   "metadata": {},
   "outputs": [],
   "source": [
    "class car:\n",
    "    def __init__(self,year,make,model,speed):\n",
    "        self.__year=year\n",
    "        self.__make=make\n",
    "        self.__model=model\n",
    "        self.__speed=0\n",
    "\n",
    "    #this function is public but the above variables are private.\n",
    "    def set_speed(self,speed):#it will set the speed \n",
    "        self.__speed=0 if speed<0 else speed\n",
    "\n",
    "\n",
    "    #the below function is also public\n",
    "    #if the user wants to access the new speed ie the set_speed then\n",
    "    def get_speed(self):\n",
    "        return self.__speed\n",
    "        "
   ]
  },
  {
   "cell_type": "code",
   "execution_count": 24,
   "id": "347be83c-1be9-4fdf-a923-96bdb2322af1",
   "metadata": {},
   "outputs": [],
   "source": [
    "c=car(2021,\"toyata\",\"innova\",12)"
   ]
  },
  {
   "cell_type": "code",
   "execution_count": 26,
   "id": "199e87f9-7a58-4f51-bfaf-b4c60fb608b4",
   "metadata": {},
   "outputs": [],
   "source": [
    "c.set_speed(-35464)"
   ]
  },
  {
   "cell_type": "code",
   "execution_count": 27,
   "id": "918071c1-f6f7-4a42-9776-657a355a2355",
   "metadata": {},
   "outputs": [
    {
     "data": {
      "text/plain": [
       "0"
      ]
     },
     "execution_count": 27,
     "metadata": {},
     "output_type": "execute_result"
    }
   ],
   "source": [
    "c.get_speed()"
   ]
  },
  {
   "cell_type": "code",
   "execution_count": 28,
   "id": "71dbb4ff-27e1-43d6-90d5-c6edcf85f670",
   "metadata": {},
   "outputs": [],
   "source": [
    "c.set_speed(875)"
   ]
  },
  {
   "cell_type": "code",
   "execution_count": 29,
   "id": "6661421c-c4c2-4f45-a474-434a68944e65",
   "metadata": {},
   "outputs": [
    {
     "data": {
      "text/plain": [
       "875"
      ]
     },
     "execution_count": 29,
     "metadata": {},
     "output_type": "execute_result"
    }
   ],
   "source": [
    "c.get_speed()"
   ]
  },
  {
   "cell_type": "code",
   "execution_count": 39,
   "id": "e407b840-c348-422b-bed3-bd442e86dfaa",
   "metadata": {},
   "outputs": [],
   "source": [
    "class bank_account:#we will create a class bank\n",
    "    def __init__(self,balance):#a constructor in which we will give our balance\n",
    "        self.__balance=balance\n",
    "\n",
    "    def deposit(self,amount):#if we want to deposit more amount in it \n",
    "        self.__balance=self.__balance+amount\n",
    "\n",
    "    def withdraw(self,amount):#if we want to withdraw the amount from the bank\n",
    "        if self.__balance>=amount:#check first that much amount is present in your balance\n",
    "            self.__balance=self.__balance-amount#if yes then withdraw the amount \n",
    "            return True\n",
    "        else:#otherwise return false\n",
    "            return False\n",
    "\n",
    "    def get_balance(self):#to access the balance we will pass this amount\n",
    "        return self.__balance"
   ]
  },
  {
   "cell_type": "code",
   "execution_count": 40,
   "id": "62c48fed-c3f7-4985-835e-999736c19e28",
   "metadata": {},
   "outputs": [],
   "source": [
    "sudh=bank_account(1000)"
   ]
  },
  {
   "cell_type": "code",
   "execution_count": 41,
   "id": "618b05e9-c5a5-4e6a-9603-8791f558091c",
   "metadata": {},
   "outputs": [
    {
     "data": {
      "text/plain": [
       "1000"
      ]
     },
     "execution_count": 41,
     "metadata": {},
     "output_type": "execute_result"
    }
   ],
   "source": [
    "sudh.get_balance()"
   ]
  },
  {
   "cell_type": "code",
   "execution_count": 42,
   "id": "148ac3f8-117f-468c-b17d-68c302c9bece",
   "metadata": {},
   "outputs": [],
   "source": [
    "sudh.deposit(2000)"
   ]
  },
  {
   "cell_type": "code",
   "execution_count": 43,
   "id": "9597cf7f-eaf9-4b31-b935-ba4cc5675cbd",
   "metadata": {},
   "outputs": [
    {
     "data": {
      "text/plain": [
       "3000"
      ]
     },
     "execution_count": 43,
     "metadata": {},
     "output_type": "execute_result"
    }
   ],
   "source": [
    "sudh.get_balance()"
   ]
  },
  {
   "cell_type": "code",
   "execution_count": 44,
   "id": "63ba6acc-2b66-4b2f-95bf-21e9fb4bb8fc",
   "metadata": {},
   "outputs": [
    {
     "data": {
      "text/plain": [
       "True"
      ]
     },
     "execution_count": 44,
     "metadata": {},
     "output_type": "execute_result"
    }
   ],
   "source": [
    "sudh.withdraw(1000)"
   ]
  },
  {
   "cell_type": "code",
   "execution_count": 45,
   "id": "075df819-68c6-4f9e-928c-e16f735cb3db",
   "metadata": {},
   "outputs": [
    {
     "data": {
      "text/plain": [
       "2000"
      ]
     },
     "execution_count": 45,
     "metadata": {},
     "output_type": "execute_result"
    }
   ],
   "source": [
    "sudh.get_balance()"
   ]
  }
 ],
 "metadata": {
  "kernelspec": {
   "display_name": "Python 3 (ipykernel)",
   "language": "python",
   "name": "python3"
  },
  "language_info": {
   "codemirror_mode": {
    "name": "ipython",
    "version": 3
   },
   "file_extension": ".py",
   "mimetype": "text/x-python",
   "name": "python",
   "nbconvert_exporter": "python",
   "pygments_lexer": "ipython3",
   "version": "3.11.7"
  }
 },
 "nbformat": 4,
 "nbformat_minor": 5
}
