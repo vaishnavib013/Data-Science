{
 "cells": [
  {
   "cell_type": "markdown",
   "id": "d1637c2d-be94-43b5-b0bb-e5414ed386ae",
   "metadata": {},
   "source": [
    "# INHERITANCE\n",
    "child always inherit some properties or behaviour of parents in them\n",
    "### --from the parent class inherit some properties into child class is call inheritance"
   ]
  },
  {
   "cell_type": "code",
   "execution_count": 5,
   "id": "017f842d-808c-434c-856e-d8625ae99f8a",
   "metadata": {},
   "outputs": [],
   "source": [
    "class test:#created a parent class \n",
    "    def test_math(self):\n",
    "        return \"this is my first class\"\n",
    "        "
   ]
  },
  {
   "cell_type": "code",
   "execution_count": 6,
   "id": "fe4ddb9f-fa3d-4746-a2e6-0bdc7c35a2d3",
   "metadata": {},
   "outputs": [],
   "source": [
    "class child_test(test):#crreated a child class\n",
    "    pass"
   ]
  },
  {
   "cell_type": "code",
   "execution_count": 7,
   "id": "ba6f5cb4-fcb1-4bfa-bc54-251b9b0fc7c6",
   "metadata": {},
   "outputs": [],
   "source": [
    "child_test_obj=child_test()"
   ]
  },
  {
   "cell_type": "code",
   "execution_count": 4,
   "id": "6c6442e7-8ea7-4d5d-bb03-3932d116036a",
   "metadata": {},
   "outputs": [
    {
     "data": {
      "text/plain": [
       "'this is my first class'"
      ]
     },
     "execution_count": 4,
     "metadata": {},
     "output_type": "execute_result"
    }
   ],
   "source": [
    "child_test_obj.test_math()"
   ]
  },
  {
   "cell_type": "markdown",
   "id": "123402f0-bd3a-4470-bfea-20f2be91655d",
   "metadata": {},
   "source": [
    "# multilevel inheritance:\n",
    "class3 is inherited from class2 and class2 is inherited from class1"
   ]
  },
  {
   "cell_type": "code",
   "execution_count": 8,
   "id": "80476d72-7bba-43fa-a9c0-b40249d3daf8",
   "metadata": {},
   "outputs": [],
   "source": [
    "class class1:\n",
    "    def test_class1(self):\n",
    "        return\"this is a math from class1\""
   ]
  },
  {
   "cell_type": "code",
   "execution_count": 9,
   "id": "a8c6eabf-f85b-43ea-8643-0349a4f3cb21",
   "metadata": {},
   "outputs": [],
   "source": [
    "class class2(class1):\n",
    "    def test_class2(self):\n",
    "        return \"this is a maths class2\""
   ]
  },
  {
   "cell_type": "code",
   "execution_count": 10,
   "id": "cf55b4f8-80dd-4eb8-a805-b838e26d60df",
   "metadata": {},
   "outputs": [],
   "source": [
    "class class3(class2):\n",
    "    pass"
   ]
  },
  {
   "cell_type": "code",
   "execution_count": 11,
   "id": "3c64bd41-9040-4ed9-b037-74f202a68b7e",
   "metadata": {},
   "outputs": [],
   "source": [
    "obj_class3=class3()"
   ]
  },
  {
   "cell_type": "code",
   "execution_count": 12,
   "id": "263f6b60-7b8a-4cea-bd92-7aec962d4ce0",
   "metadata": {},
   "outputs": [
    {
     "data": {
      "text/plain": [
       "'this is a maths class2'"
      ]
     },
     "execution_count": 12,
     "metadata": {},
     "output_type": "execute_result"
    }
   ],
   "source": [
    "obj_class3.test_class2()"
   ]
  },
  {
   "cell_type": "markdown",
   "id": "997c9866-caf3-4c9d-ada6-3f864f0b24f6",
   "metadata": {},
   "source": [
    "# Multiple Inheritance\n",
    "class3 is inherited from 2 or more parent classes is called multiple inheritance"
   ]
  },
  {
   "cell_type": "code",
   "execution_count": 14,
   "id": "05eaedd9-b20f-4708-94f5-fefec3f4e7c3",
   "metadata": {},
   "outputs": [],
   "source": [
    "class class1:\n",
    "    def test_class1(self):\n",
    "        return\"this is my class1\""
   ]
  },
  {
   "cell_type": "code",
   "execution_count": 15,
   "id": "5982cdd6-7607-4390-a162-af21cdfca78b",
   "metadata": {},
   "outputs": [],
   "source": [
    "class class2:\n",
    "    def test_class2(self):\n",
    "        return \"this is class2\""
   ]
  },
  {
   "cell_type": "code",
   "execution_count": 16,
   "id": "bdc5e645-d749-4d66-92f4-e8f43cf24d3c",
   "metadata": {},
   "outputs": [],
   "source": [
    "class class3(class1,class2):\n",
    "    pass"
   ]
  },
  {
   "cell_type": "code",
   "execution_count": 18,
   "id": "d87d954e-83d3-4850-b278-8fcb023ca1e7",
   "metadata": {},
   "outputs": [],
   "source": [
    "obj_class3=class1()"
   ]
  },
  {
   "cell_type": "code",
   "execution_count": 20,
   "id": "7fcda6e9-1054-49a4-9d8b-1e0ccd05c327",
   "metadata": {},
   "outputs": [
    {
     "data": {
      "text/plain": [
       "'this is my class1'"
      ]
     },
     "execution_count": 20,
     "metadata": {},
     "output_type": "execute_result"
    }
   ],
   "source": [
    "obj_class3.test_class1()"
   ]
  },
  {
   "cell_type": "code",
   "execution_count": 22,
   "id": "0f170ec2-c1a4-483b-bbc8-07cf8ae21eb4",
   "metadata": {},
   "outputs": [],
   "source": [
    "obj_class3=class2()"
   ]
  },
  {
   "cell_type": "code",
   "execution_count": 28,
   "id": "9628b6a6-e1d0-49eb-a57a-11dee8b24d1c",
   "metadata": {},
   "outputs": [
    {
     "data": {
      "text/plain": [
       "'this is class2'"
      ]
     },
     "execution_count": 28,
     "metadata": {},
     "output_type": "execute_result"
    }
   ],
   "source": [
    "obj_class3.test_class2()"
   ]
  },
  {
   "cell_type": "code",
   "execution_count": null,
   "id": "3420bbfd-0666-470c-8151-07478d4976dc",
   "metadata": {},
   "outputs": [],
   "source": []
  }
 ],
 "metadata": {
  "kernelspec": {
   "display_name": "Python 3 (ipykernel)",
   "language": "python",
   "name": "python3"
  },
  "language_info": {
   "codemirror_mode": {
    "name": "ipython",
    "version": 3
   },
   "file_extension": ".py",
   "mimetype": "text/x-python",
   "name": "python",
   "nbconvert_exporter": "python",
   "pygments_lexer": "ipython3",
   "version": "3.11.7"
  }
 },
 "nbformat": 4,
 "nbformat_minor": 5
}
