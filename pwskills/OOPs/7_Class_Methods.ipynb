{
 "cells": [
  {
   "cell_type": "markdown",
   "id": "6923c949-0d28-47ad-a1d3-21d096190d0b",
   "metadata": {},
   "source": [
    "# Class methods \n",
    "## we are able to achieve the overloading here"
   ]
  },
  {
   "cell_type": "code",
   "execution_count": 3,
   "id": "dac2dca2-d27d-41c5-afa5-a23cea04e2a0",
   "metadata": {},
   "outputs": [],
   "source": [
    "class pwskills:\n",
    "\n",
    "    def __init__(self,name,email):\n",
    "\n",
    "        self.name=name\n",
    "        self.email=email\n",
    "\n",
    "    def students_details(self):\n",
    "        print(self.name,self.email)"
   ]
  },
  {
   "cell_type": "code",
   "execution_count": 5,
   "id": "745ef632-d19c-417c-b1e3-059d54678734",
   "metadata": {},
   "outputs": [],
   "source": [
    "pw=pwskills(\"mohan\",\"mohan@gmail.com\")"
   ]
  },
  {
   "cell_type": "code",
   "execution_count": 7,
   "id": "24a79c8c-7f3e-4e7b-8d83-45d5f1f05336",
   "metadata": {},
   "outputs": [
    {
     "data": {
      "text/plain": [
       "'mohan'"
      ]
     },
     "execution_count": 7,
     "metadata": {},
     "output_type": "execute_result"
    }
   ],
   "source": [
    "pw.name"
   ]
  },
  {
   "cell_type": "code",
   "execution_count": 9,
   "id": "08a25f67-03ad-4e42-bd14-00e144c91a3b",
   "metadata": {},
   "outputs": [
    {
     "data": {
      "text/plain": [
       "'mohan@gmail.com'"
      ]
     },
     "execution_count": 9,
     "metadata": {},
     "output_type": "execute_result"
    }
   ],
   "source": [
    "pw.email"
   ]
  },
  {
   "cell_type": "code",
   "execution_count": 11,
   "id": "9d196b9e-842c-43ba-97f7-f7fb6a3e03dd",
   "metadata": {},
   "outputs": [
    {
     "name": "stdout",
     "output_type": "stream",
     "text": [
      "mohan mohan@gmail.com\n"
     ]
    }
   ],
   "source": [
    "pw.students_details()"
   ]
  },
  {
   "cell_type": "code",
   "execution_count": 13,
   "id": "c086ac32-b035-443b-97e0-a0144e91d6c6",
   "metadata": {},
   "outputs": [],
   "source": [
    "class pwskills1:\n",
    "\n",
    "    def __init__(self,name,email):\n",
    "\n",
    "        self.name=name\n",
    "        self.email=email\n",
    "\n",
    "    @classmethod\n",
    "    #if we want to pass the students details then we declared this function as details.\n",
    "    #here we are not going to put 1st argument as self instead we ae using the cls as the the different referent or pointer we made,which is going to directly bind to the class pwskills\n",
    "    #as init also does the same thing,but it required 1st object to be made.\n",
    "    #decorator is a special type of method/function which is used to decorate.\n",
    "    #using this decorator we dont need to call the __init__() as this parameters are being passed in the details ,so this name and email is also accessible there.\n",
    "   \n",
    "    def details(cls,name,email):\n",
    "        return cls(name,email)\n",
    "\n",
    "    def students_details(self):\n",
    "        print(self.name,self.email)"
   ]
  },
  {
   "cell_type": "code",
   "execution_count": 15,
   "id": "321ea82d-bd0e-4b92-8094-f54d3b9bad56",
   "metadata": {},
   "outputs": [],
   "source": [
    "#without creating the objects we will be able to get the details \n",
    "# to the details function"
   ]
  },
  {
   "cell_type": "code",
   "execution_count": 19,
   "id": "b44ad045-b551-432b-a5af-c44349a366ac",
   "metadata": {},
   "outputs": [
    {
     "ename": "TypeError",
     "evalue": "pwskills1.details() missing 2 required positional arguments: 'name' and 'email'",
     "output_type": "error",
     "traceback": [
      "\u001b[1;31m----------------------------------------------------------------\u001b[0m",
      "\u001b[1;31mTypeError\u001b[0m                      Traceback (most recent call last)",
      "Cell \u001b[1;32mIn[19], line 1\u001b[0m\n\u001b[1;32m----> 1\u001b[0m pwskills1\u001b[38;5;241m.\u001b[39mdetails()\n",
      "\u001b[1;31mTypeError\u001b[0m: pwskills1.details() missing 2 required positional arguments: 'name' and 'email'"
     ]
    }
   ],
   "source": [
    "pwskills1.details()"
   ]
  },
  {
   "cell_type": "markdown",
   "id": "f1773f74-ad54-4d38-b017-0e1ea4140b35",
   "metadata": {},
   "source": [
    "it gives us the error as we have not passed the arguements .so we nedd the 2 parameters"
   ]
  },
  {
   "cell_type": "code",
   "execution_count": 22,
   "id": "3abaa507-5924-47a8-8557-2a8eb18ddd5a",
   "metadata": {},
   "outputs": [
    {
     "data": {
      "text/plain": [
       "<__main__.pwskills1 at 0x20361c935c0>"
      ]
     },
     "execution_count": 22,
     "metadata": {},
     "output_type": "execute_result"
    }
   ],
   "source": [
    "pwskills1.details(\"sudh\",\"sudh@gmail.com\")"
   ]
  },
  {
   "cell_type": "markdown",
   "id": "a7b670c3-a3c4-4b78-8d9a-d69acb51e1f9",
   "metadata": {},
   "source": [
    "#as we have passed the name and email to this details.it will be now available with the class also ie pwskills1 will also have this details"
   ]
  },
  {
   "cell_type": "code",
   "execution_count": 27,
   "id": "fb33702d-a2c5-49ed-b17a-8c63897d20bc",
   "metadata": {},
   "outputs": [],
   "source": [
    "pw1=pwskills1.details(\"sudh\",\"sudh@gmail.com\")"
   ]
  },
  {
   "cell_type": "code",
   "execution_count": 29,
   "id": "68349983-975b-4987-ae0e-415ffe5bc790",
   "metadata": {},
   "outputs": [
    {
     "data": {
      "text/plain": [
       "'sudh'"
      ]
     },
     "execution_count": 29,
     "metadata": {},
     "output_type": "execute_result"
    }
   ],
   "source": [
    "pw1.name"
   ]
  },
  {
   "cell_type": "code",
   "execution_count": 31,
   "id": "d94dae15-48c6-4fb9-b8cd-89670d122eb7",
   "metadata": {},
   "outputs": [
    {
     "data": {
      "text/plain": [
       "'sudh@gmail.com'"
      ]
     },
     "execution_count": 31,
     "metadata": {},
     "output_type": "execute_result"
    }
   ],
   "source": [
    "pw1.email"
   ]
  },
  {
   "cell_type": "markdown",
   "id": "38d5c843-fe83-44fb-aa33-10626a1fc399",
   "metadata": {},
   "source": [
    "so without creating the object we are able to pass the arguments .we overloaded the classmethod here using which we are  able to do that"
   ]
  },
  {
   "cell_type": "code",
   "execution_count": 38,
   "id": "186df985-82f1-4de9-a447-7814c88c29e3",
   "metadata": {},
   "outputs": [
    {
     "name": "stdout",
     "output_type": "stream",
     "text": [
      "sudh sudh@gmail.com\n"
     ]
    }
   ],
   "source": [
    "pw1.students_details()"
   ]
  },
  {
   "cell_type": "code",
   "execution_count": 40,
   "id": "098911fc-0ba4-4676-8957-45a61d7f14b6",
   "metadata": {},
   "outputs": [],
   "source": [
    "class pwskills2:\n",
    "\n",
    "    mobild_num=9423576879\n",
    "    #this mobile number is not present in any init or function\n",
    "    #but yes in the class it is present\n",
    "\n",
    "    def __init__(self,name,email):\n",
    "\n",
    "        self.name=name\n",
    "        self.email=email\n",
    "\n",
    "    @classmethod\n",
    "    def details(cls,name,email):\n",
    "        return cls(name,email)\n",
    "\n",
    "    def students_details(self):\n",
    "        print(self.name,self.email)"
   ]
  },
  {
   "cell_type": "code",
   "execution_count": 42,
   "id": "d9843d07-bbd4-4e45-9b2e-7717bb3097c5",
   "metadata": {},
   "outputs": [
    {
     "data": {
      "text/plain": [
       "9423576879"
      ]
     },
     "execution_count": 42,
     "metadata": {},
     "output_type": "execute_result"
    }
   ],
   "source": [
    "pwskills2.mobild_num"
   ]
  },
  {
   "cell_type": "markdown",
   "id": "5ddf4e57-78e8-41c4-9f29-a14a5b3af4f9",
   "metadata": {},
   "source": [
    "so without creating the object we are able to access this variable"
   ]
  },
  {
   "cell_type": "code",
   "execution_count": 46,
   "id": "6daafa70-eff6-4418-9415-ec7e1a9e8985",
   "metadata": {},
   "outputs": [],
   "source": [
    "class pwskills2:\n",
    "\n",
    "    mobild_num=9423576879\n",
    "   \n",
    "    def __init__(self,name,email):\n",
    "\n",
    "        self.name=name\n",
    "        self.email=email\n",
    "\n",
    "    @classmethod\n",
    "    def change_number(cls,mobile):\n",
    "        pwskills2.mobild_num=mobile\n",
    "\n",
    "    @classmethod\n",
    "    def details(cls,name,email):\n",
    "        return cls(name,email)\n",
    "\n",
    "    def students_details(self):\n",
    "        print(self.name,self.email)"
   ]
  },
  {
   "cell_type": "code",
   "execution_count": 50,
   "id": "113f1090-e25c-4bf7-9c65-18ddd24406b9",
   "metadata": {},
   "outputs": [
    {
     "data": {
      "text/plain": [
       "9423576879"
      ]
     },
     "execution_count": 50,
     "metadata": {},
     "output_type": "execute_result"
    }
   ],
   "source": [
    "pwskills2.mobild_num"
   ]
  },
  {
   "cell_type": "code",
   "execution_count": 52,
   "id": "283f0d75-b3f0-4c99-ad3e-bfd52fcb09d1",
   "metadata": {},
   "outputs": [],
   "source": [
    "pwskills2.change_number(9893593694)"
   ]
  },
  {
   "cell_type": "code",
   "execution_count": 54,
   "id": "49ffc6f4-f906-42c0-8518-b7f652161811",
   "metadata": {},
   "outputs": [
    {
     "data": {
      "text/plain": [
       "9893593694"
      ]
     },
     "execution_count": 54,
     "metadata": {},
     "output_type": "execute_result"
    }
   ],
   "source": [
    "pwskills2.mobild_num"
   ]
  },
  {
   "cell_type": "code",
   "execution_count": 78,
   "id": "2dd0b701-cb18-483d-a332-734285da5faf",
   "metadata": {},
   "outputs": [],
   "source": [
    "class pwskills2:\n",
    "\n",
    "    mobild_num=9423576879\n",
    "   \n",
    "    def __init__(self,name,email):\n",
    "\n",
    "        self.name=name\n",
    "        self.email=email\n",
    "\n",
    "    @classmethod\n",
    "    def change_number(cls,mobile):\n",
    "        pwskills2.mobild_num=mobile\n",
    "\n",
    "    @classmethod\n",
    "    def details(cls,name,email):\n",
    "        return cls(name,email)\n",
    "\n",
    "    def students_details(self):\n",
    "        print(self.name,self.email,pwskills2.mobild_num)\n",
    "        "
   ]
  },
  {
   "cell_type": "code",
   "execution_count": 80,
   "id": "8897e875-ea33-4e8e-92fd-58967eebeff7",
   "metadata": {},
   "outputs": [],
   "source": [
    "pw_obj=pwskills2(\"sudh\",\"sudh@gmail.com\")"
   ]
  },
  {
   "cell_type": "code",
   "execution_count": 82,
   "id": "508a153b-b8d3-4ac4-a742-266ab6908f71",
   "metadata": {},
   "outputs": [
    {
     "name": "stdout",
     "output_type": "stream",
     "text": [
      "sudh sudh@gmail.com 9423576879\n"
     ]
    }
   ],
   "source": [
    "pw_obj.students_details()"
   ]
  },
  {
   "cell_type": "code",
   "execution_count": 84,
   "id": "8890e164-0e29-425a-a753-e9b5ed52924d",
   "metadata": {},
   "outputs": [],
   "source": [
    "pw=pwskills2.details(\"rohan\",\"rohan@gmail.com\")"
   ]
  },
  {
   "cell_type": "code",
   "execution_count": 86,
   "id": "22541bf6-7e21-4b52-83e3-6d495aa11135",
   "metadata": {},
   "outputs": [
    {
     "name": "stdout",
     "output_type": "stream",
     "text": [
      "rohan rohan@gmail.com 9423576879\n"
     ]
    }
   ],
   "source": [
    "pw.students_details()"
   ]
  },
  {
   "cell_type": "code",
   "execution_count": 146,
   "id": "3e8c3f56-3c96-440e-8834-777a5cfe6d4b",
   "metadata": {},
   "outputs": [],
   "source": [
    "class pwskills3:\n",
    "\n",
    "    mobile_num=9423576879\n",
    "   \n",
    "    def __init__(self,name,email):\n",
    "\n",
    "        self.name=name\n",
    "        self.email=email\n",
    "\n",
    "    @classmethod\n",
    "    def change_number(cls,mobile):\n",
    "        pwskills2.mobile_num=mobile\n",
    "\n",
    "    @classmethod\n",
    "    def details(cls,name,email):\n",
    "        return cls(name,email)\n",
    "\n",
    "    def students_details(self):\n",
    "        print(self.name,self.email,pwskills2.mobile_num)\n",
    "        "
   ]
  },
  {
   "cell_type": "code",
   "execution_count": 148,
   "id": "2a61a4db-1ea9-4775-967b-b3e97807676a",
   "metadata": {},
   "outputs": [],
   "source": [
    "#external function of the class which we want to make a part of the classmethod\n",
    "def course_details(cls,course_name):\n",
    "    print(\"course name is :\",course_name)"
   ]
  },
  {
   "cell_type": "code",
   "execution_count": 150,
   "id": "88506ed4-298f-41da-9915-412834c544dc",
   "metadata": {},
   "outputs": [],
   "source": [
    "pwskills3.course_details=classmethod(course_details)\n",
    "#using this we are able to make the external function as the part of the class"
   ]
  },
  {
   "cell_type": "code",
   "execution_count": 152,
   "id": "37ead8d8-dac2-4555-892c-caa5a6bea664",
   "metadata": {},
   "outputs": [
    {
     "name": "stdout",
     "output_type": "stream",
     "text": [
      "course name is : data science masters\n"
     ]
    }
   ],
   "source": [
    "pwskills3.course_details(\"data science masters\")"
   ]
  },
  {
   "cell_type": "code",
   "execution_count": 154,
   "id": "86accb92-00f9-41a3-921d-838a32c517ab",
   "metadata": {},
   "outputs": [],
   "source": [
    "def mentor(cls,list_of_mentors):\n",
    "    print(list_of_mentors)"
   ]
  },
  {
   "cell_type": "code",
   "execution_count": 156,
   "id": "d6327c5f-daf7-4eba-92eb-8940aa3e7184",
   "metadata": {},
   "outputs": [],
   "source": [
    "pwskills3.mentor=classmethod(mentor)"
   ]
  },
  {
   "cell_type": "code",
   "execution_count": 158,
   "id": "0c720d2d-ee27-461c-bb4d-d7843f03c732",
   "metadata": {},
   "outputs": [
    {
     "name": "stdout",
     "output_type": "stream",
     "text": [
      "['sudh', 'milind', 'ravi']\n"
     ]
    }
   ],
   "source": [
    "pwskills3.mentor([\"sudh\",\"milind\",\"ravi\"])"
   ]
  },
  {
   "cell_type": "code",
   "execution_count": 160,
   "id": "c7ea21d7-4c5a-4c6b-914c-6aaaf96cea34",
   "metadata": {},
   "outputs": [],
   "source": [
    "class pwskills4:\n",
    "\n",
    "    mobile_num=9423576879\n",
    "   \n",
    "    def __init__(self,name,email):\n",
    "\n",
    "        self.name=name\n",
    "        self.email=email\n",
    "\n",
    "    @classmethod\n",
    "    def change_number(cls,mobile):\n",
    "        pwskills2.mobile_num=mobile\n",
    "\n",
    "    @classmethod\n",
    "    def details(cls,name,email):\n",
    "        return cls(name,email)\n",
    "\n",
    "    def students_details(self):\n",
    "        print(self.name,self.email,pwskills2.mobile_num)\n",
    "        "
   ]
  },
  {
   "cell_type": "code",
   "execution_count": 162,
   "id": "8cb514f6-95b3-4104-a3e4-d51013b2f8bd",
   "metadata": {},
   "outputs": [],
   "source": [
    "#now I dont want that function to be the part o the class.\n",
    "#we want to deactivate that function\n",
    "#now when we type pwskills4. then tab we are able to see that what are the things we are having in the class\n",
    "del pwskills4.change_number"
   ]
  },
  {
   "cell_type": "code",
   "execution_count": 164,
   "id": "948770ed-b0fb-4d55-b699-f5c20168d56e",
   "metadata": {},
   "outputs": [
    {
     "ename": "AttributeError",
     "evalue": "type object 'pwskills4' has no attribute 'change_number'",
     "output_type": "error",
     "traceback": [
      "\u001b[1;31m----------------------------------------------------------------\u001b[0m",
      "\u001b[1;31mAttributeError\u001b[0m                 Traceback (most recent call last)",
      "Cell \u001b[1;32mIn[164], line 1\u001b[0m\n\u001b[1;32m----> 1\u001b[0m pwskills4\u001b[38;5;241m.\u001b[39mchange_number\n",
      "\u001b[1;31mAttributeError\u001b[0m: type object 'pwskills4' has no attribute 'change_number'"
     ]
    }
   ],
   "source": [
    "pwskills4.change_number"
   ]
  },
  {
   "cell_type": "code",
   "execution_count": 166,
   "id": "df0d230c-c1e9-4e47-8e10-7da57d767536",
   "metadata": {},
   "outputs": [],
   "source": [
    "#so we have successfully deleted the change_number() from the class"
   ]
  },
  {
   "cell_type": "code",
   "execution_count": 168,
   "id": "0cece193-8a6d-4cfb-8741-b895ea1c9307",
   "metadata": {},
   "outputs": [],
   "source": [
    "#another method is #delattr()"
   ]
  },
  {
   "cell_type": "code",
   "execution_count": 170,
   "id": "f6a8f238-8ecf-407d-847b-2caa023e9975",
   "metadata": {},
   "outputs": [],
   "source": [
    "delattr(pwskills4,\"details\")"
   ]
  },
  {
   "cell_type": "code",
   "execution_count": 172,
   "id": "bc3e6b74-8fee-4798-b5f4-4e1460e29dd7",
   "metadata": {},
   "outputs": [],
   "source": [
    "#we have successfully deleted the details()\n",
    "#now lets check whether we are able to delete the external function also of the class"
   ]
  },
  {
   "cell_type": "code",
   "execution_count": 174,
   "id": "1297dac2-7190-4fe5-b4a4-12d5f35daddd",
   "metadata": {},
   "outputs": [],
   "source": [
    "delattr(pwskills4,\"students_details\")"
   ]
  },
  {
   "cell_type": "code",
   "execution_count": 176,
   "id": "d3363b69-1f9a-4086-b3b6-b429343f02fc",
   "metadata": {},
   "outputs": [],
   "source": [
    "delattr(pwskills4,\"mobile_num\")#we are also able to delete the variables"
   ]
  }
 ],
 "metadata": {
  "kernelspec": {
   "display_name": "Python [conda env:base] *",
   "language": "python",
   "name": "conda-base-py"
  },
  "language_info": {
   "codemirror_mode": {
    "name": "ipython",
    "version": 3
   },
   "file_extension": ".py",
   "mimetype": "text/x-python",
   "name": "python",
   "nbconvert_exporter": "python",
   "pygments_lexer": "ipython3",
   "version": "3.12.7"
  }
 },
 "nbformat": 4,
 "nbformat_minor": 5
}
