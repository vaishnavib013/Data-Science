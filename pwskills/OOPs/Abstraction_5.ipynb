{
 "cells": [
  {
   "cell_type": "markdown",
   "id": "aa0e382f-7996-466f-b501-2429f1e9ba9e",
   "metadata": {},
   "source": [
    "# abstraction\n",
    "#so it is basically used to create skeleton or blueprint"
   ]
  },
  {
   "cell_type": "code",
   "execution_count": 3,
   "id": "cf9e802f-dc9d-4bae-ac02-a73a70360dd9",
   "metadata": {},
   "outputs": [],
   "source": [
    "import abc\n",
    "class pwskills:\n",
    "    @abc.abstractmethod#decorate with abstract method\n",
    "    def students_details(self):\n",
    "        pass\n",
    "    @abc.abstractmethod  \n",
    "    def student_assignment(self):\n",
    "        pass\n",
    "    @abc.abstractmethod  \n",
    "    def student_marks(self):\n",
    "        pass"
   ]
  },
  {
   "cell_type": "code",
   "execution_count": 4,
   "id": "4f62f4d4-8f22-4058-874f-50210d944aad",
   "metadata": {},
   "outputs": [],
   "source": [
    "class student_details(pwskills):\n",
    "    def student_details(self):\n",
    "        return \"this is details for taking students details\"\n",
    "\n",
    "    def student_assignment(self):\n",
    "        return \"this os a math for assing deails for a partivular student\"\n",
    "    "
   ]
  },
  {
   "cell_type": "code",
   "execution_count": 5,
   "id": "2bee5f5b-2ab4-4ce4-9c85-bb74e82ce2c5",
   "metadata": {},
   "outputs": [],
   "source": [
    "class data_science_masters(pwskills):\n",
    "\n",
    "    def student_details(self):\n",
    "        return \"this will return a student details for data science masters\"\n",
    "\n",
    "\n",
    "    def student_assignment(self):\n",
    "        return \"this will give you detsils of students assgnments for dsm\""
   ]
  },
  {
   "cell_type": "code",
   "execution_count": 7,
   "id": "537c4419-aa90-4620-a9fc-571b43ec82c0",
   "metadata": {},
   "outputs": [
    {
     "data": {
      "text/plain": [
       "'this will return a student details for data science masters'"
      ]
     },
     "execution_count": 7,
     "metadata": {},
     "output_type": "execute_result"
    }
   ],
   "source": [
    "dsm=data_science_masters()\n",
    "dsm.student_details()"
   ]
  },
  {
   "cell_type": "code",
   "execution_count": 8,
   "id": "a5e87c2a-75f1-454b-ad2f-a2b9acac9a82",
   "metadata": {},
   "outputs": [
    {
     "data": {
      "text/plain": [
       "'this is details for taking students details'"
      ]
     },
     "execution_count": 8,
     "metadata": {},
     "output_type": "execute_result"
    }
   ],
   "source": [
    "sd=student_details()\n",
    "sd.student_details()"
   ]
  },
  {
   "cell_type": "code",
   "execution_count": null,
   "id": "ffa813e6-0178-4430-8588-332e947012a3",
   "metadata": {},
   "outputs": [],
   "source": []
  }
 ],
 "metadata": {
  "kernelspec": {
   "display_name": "Python 3 (ipykernel)",
   "language": "python",
   "name": "python3"
  },
  "language_info": {
   "codemirror_mode": {
    "name": "ipython",
    "version": 3
   },
   "file_extension": ".py",
   "mimetype": "text/x-python",
   "name": "python",
   "nbconvert_exporter": "python",
   "pygments_lexer": "ipython3",
   "version": "3.11.7"
  }
 },
 "nbformat": 4,
 "nbformat_minor": 5
}
