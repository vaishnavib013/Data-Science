{
 "cells": [
  {
   "cell_type": "markdown",
   "id": "5626c044-4c37-454f-99f5-23be6977791f",
   "metadata": {},
   "source": [
    "# Special (Magic or Dunder) Method\n",
    "whatever the operations we perform in python(eg,string addition operation ,integer operations )so internally it calls the functions which is already defined by someone.\n",
    "init() is also the dunder or magic function.\n",
    "all this functions are the Dundr or magic functions"
   ]
  },
  {
   "cell_type": "code",
   "execution_count": 6,
   "id": "53859042-d800-4cc4-9f8c-21c6f461cec0",
   "metadata": {},
   "outputs": [
    {
     "data": {
      "text/plain": [
       "['__abs__',\n",
       " '__add__',\n",
       " '__and__',\n",
       " '__bool__',\n",
       " '__ceil__',\n",
       " '__class__',\n",
       " '__delattr__',\n",
       " '__dir__',\n",
       " '__divmod__',\n",
       " '__doc__',\n",
       " '__eq__',\n",
       " '__float__',\n",
       " '__floor__',\n",
       " '__floordiv__',\n",
       " '__format__',\n",
       " '__ge__',\n",
       " '__getattribute__',\n",
       " '__getnewargs__',\n",
       " '__getstate__',\n",
       " '__gt__',\n",
       " '__hash__',\n",
       " '__index__',\n",
       " '__init__',\n",
       " '__init_subclass__',\n",
       " '__int__',\n",
       " '__invert__',\n",
       " '__le__',\n",
       " '__lshift__',\n",
       " '__lt__',\n",
       " '__mod__',\n",
       " '__mul__',\n",
       " '__ne__',\n",
       " '__neg__',\n",
       " '__new__',\n",
       " '__or__',\n",
       " '__pos__',\n",
       " '__pow__',\n",
       " '__radd__',\n",
       " '__rand__',\n",
       " '__rdivmod__',\n",
       " '__reduce__',\n",
       " '__reduce_ex__',\n",
       " '__repr__',\n",
       " '__rfloordiv__',\n",
       " '__rlshift__',\n",
       " '__rmod__',\n",
       " '__rmul__',\n",
       " '__ror__',\n",
       " '__round__',\n",
       " '__rpow__',\n",
       " '__rrshift__',\n",
       " '__rshift__',\n",
       " '__rsub__',\n",
       " '__rtruediv__',\n",
       " '__rxor__',\n",
       " '__setattr__',\n",
       " '__sizeof__',\n",
       " '__str__',\n",
       " '__sub__',\n",
       " '__subclasshook__',\n",
       " '__truediv__',\n",
       " '__trunc__',\n",
       " '__xor__',\n",
       " 'as_integer_ratio',\n",
       " 'bit_count',\n",
       " 'bit_length',\n",
       " 'conjugate',\n",
       " 'denominator',\n",
       " 'from_bytes',\n",
       " 'imag',\n",
       " 'is_integer',\n",
       " 'numerator',\n",
       " 'real',\n",
       " 'to_bytes']"
      ]
     },
     "execution_count": 6,
     "metadata": {},
     "output_type": "execute_result"
    }
   ],
   "source": [
    "dir(int) \n",
    "#this functions tells what operations can be used with thw integer "
   ]
  },
  {
   "cell_type": "code",
   "execution_count": 8,
   "id": "dd1d0ef6-94f8-4bdc-b10d-666394266434",
   "metadata": {},
   "outputs": [
    {
     "data": {
      "text/plain": [
       "['__add__',\n",
       " '__class__',\n",
       " '__contains__',\n",
       " '__delattr__',\n",
       " '__dir__',\n",
       " '__doc__',\n",
       " '__eq__',\n",
       " '__format__',\n",
       " '__ge__',\n",
       " '__getattribute__',\n",
       " '__getitem__',\n",
       " '__getnewargs__',\n",
       " '__getstate__',\n",
       " '__gt__',\n",
       " '__hash__',\n",
       " '__init__',\n",
       " '__init_subclass__',\n",
       " '__iter__',\n",
       " '__le__',\n",
       " '__len__',\n",
       " '__lt__',\n",
       " '__mod__',\n",
       " '__mul__',\n",
       " '__ne__',\n",
       " '__new__',\n",
       " '__reduce__',\n",
       " '__reduce_ex__',\n",
       " '__repr__',\n",
       " '__rmod__',\n",
       " '__rmul__',\n",
       " '__setattr__',\n",
       " '__sizeof__',\n",
       " '__str__',\n",
       " '__subclasshook__',\n",
       " 'capitalize',\n",
       " 'casefold',\n",
       " 'center',\n",
       " 'count',\n",
       " 'encode',\n",
       " 'endswith',\n",
       " 'expandtabs',\n",
       " 'find',\n",
       " 'format',\n",
       " 'format_map',\n",
       " 'index',\n",
       " 'isalnum',\n",
       " 'isalpha',\n",
       " 'isascii',\n",
       " 'isdecimal',\n",
       " 'isdigit',\n",
       " 'isidentifier',\n",
       " 'islower',\n",
       " 'isnumeric',\n",
       " 'isprintable',\n",
       " 'isspace',\n",
       " 'istitle',\n",
       " 'isupper',\n",
       " 'join',\n",
       " 'ljust',\n",
       " 'lower',\n",
       " 'lstrip',\n",
       " 'maketrans',\n",
       " 'partition',\n",
       " 'removeprefix',\n",
       " 'removesuffix',\n",
       " 'replace',\n",
       " 'rfind',\n",
       " 'rindex',\n",
       " 'rjust',\n",
       " 'rpartition',\n",
       " 'rsplit',\n",
       " 'rstrip',\n",
       " 'split',\n",
       " 'splitlines',\n",
       " 'startswith',\n",
       " 'strip',\n",
       " 'swapcase',\n",
       " 'title',\n",
       " 'translate',\n",
       " 'upper',\n",
       " 'zfill']"
      ]
     },
     "execution_count": 8,
     "metadata": {},
     "output_type": "execute_result"
    }
   ],
   "source": [
    "dir(str)"
   ]
  },
  {
   "cell_type": "code",
   "execution_count": 16,
   "id": "c6e72f09-dc6f-49e6-80bb-0a7df091b424",
   "metadata": {},
   "outputs": [],
   "source": [
    "a=100"
   ]
  },
  {
   "cell_type": "code",
   "execution_count": 18,
   "id": "b0882a4e-34f7-4190-b576-b6cbddd7d87c",
   "metadata": {},
   "outputs": [],
   "source": [
    "a+=5 #this function is also going to call the a.__add__() "
   ]
  },
  {
   "cell_type": "code",
   "execution_count": 20,
   "id": "b1477ec7-8b92-4990-97d3-68f821c09490",
   "metadata": {},
   "outputs": [
    {
     "data": {
      "text/plain": [
       "110"
      ]
     },
     "execution_count": 20,
     "metadata": {},
     "output_type": "execute_result"
    }
   ],
   "source": [
    "a.__add__(5)\n",
    "#so this is calling the dunder function\n",
    "# dunder is __frontside and backside __() ->this is dunder"
   ]
  },
  {
   "cell_type": "markdown",
   "id": "83d468ae-815f-4920-a0d5-33c14598b53f",
   "metadata": {},
   "source": [
    "#this function is also called as magic function\n",
    "#at any point of time this magic function is called so it called as magic function"
   ]
  },
  {
   "cell_type": "code",
   "execution_count": 29,
   "id": "f3679b09-e11e-4403-ab91-7600b41f617b",
   "metadata": {},
   "outputs": [],
   "source": [
    "class pwskills:\n",
    "    def __init__(self):\n",
    "        self.mobile_number=839847309"
   ]
  },
  {
   "cell_type": "code",
   "execution_count": 31,
   "id": "ecd06716-fd56-42e5-83ae-161ae915c03a",
   "metadata": {},
   "outputs": [],
   "source": [
    "pw=pwskills()"
   ]
  },
  {
   "cell_type": "code",
   "execution_count": 33,
   "id": "a5daddaf-7a26-4f3b-823f-dd1e8acbe80c",
   "metadata": {},
   "outputs": [
    {
     "data": {
      "text/plain": [
       "839847309"
      ]
     },
     "execution_count": 33,
     "metadata": {},
     "output_type": "execute_result"
    }
   ],
   "source": [
    "pw.mobile_number"
   ]
  },
  {
   "cell_type": "code",
   "execution_count": 51,
   "id": "b9d8b3db-f4f8-4fb9-a336-22ef470497ae",
   "metadata": {},
   "outputs": [],
   "source": [
    "class pwskills:\n",
    "\n",
    "    def __new__(cls):\n",
    "        print(\"this is my new\")\n",
    "        \n",
    "    #here init() calls before the other function na dthen it executs itself\n",
    "    def __init__(self):\n",
    "        print(\"this is my init\")\n",
    "        #internally in terms of python function init function directly dont calls,it first calls the __new__() then init() is executes\n",
    "        self.mobile_number=839847309"
   ]
  },
  {
   "cell_type": "code",
   "execution_count": 47,
   "id": "e019226a-6752-4d44-bb9c-9ec6d0cf1917",
   "metadata": {},
   "outputs": [
    {
     "name": "stdout",
     "output_type": "stream",
     "text": [
      "this is my new\n"
     ]
    }
   ],
   "source": [
    "pw=pwskills()"
   ]
  },
  {
   "cell_type": "code",
   "execution_count": 55,
   "id": "0b612351-2ceb-4825-a184-aeb90bda265c",
   "metadata": {},
   "outputs": [],
   "source": [
    "class pwskills1:\n",
    "        \n",
    "    def __init__(self):\n",
    "        self.mobile_number=839847309"
   ]
  },
  {
   "cell_type": "code",
   "execution_count": 57,
   "id": "4308f52a-38d3-40b4-9604-65cc7ace6a36",
   "metadata": {},
   "outputs": [],
   "source": [
    "pw1=pwskills1()"
   ]
  },
  {
   "cell_type": "code",
   "execution_count": 59,
   "id": "eca771c5-cd4e-451c-a7bf-3a48a840902f",
   "metadata": {},
   "outputs": [
    {
     "data": {
      "text/plain": [
       "<__main__.pwskills1 at 0x2d1e0b23860>"
      ]
     },
     "execution_count": 59,
     "metadata": {},
     "output_type": "execute_result"
    }
   ],
   "source": [
    "pw1"
   ]
  },
  {
   "cell_type": "markdown",
   "id": "0d78ac55-11c7-455a-b8f4-bb83e7c41c30",
   "metadata": {},
   "source": [
    "we get the object that is created when we call the pw1 in the form of hexadecimals\n",
    "bbut if we dont want this nmber and something comes writeup there when we call that pw1"
   ]
  },
  {
   "cell_type": "code",
   "execution_count": 72,
   "id": "19cae52b-7eac-402c-88f1-6ee38efaae19",
   "metadata": {},
   "outputs": [],
   "source": [
    "class pwskills1:\n",
    "        \n",
    "    def __init__(self):\n",
    "        self.mobile_number=839847309\n",
    "\n",
    "    def __str__(self):\n",
    "        return \"this is my magic call of str\""
   ]
  },
  {
   "cell_type": "code",
   "execution_count": 76,
   "id": "a6c3af0e-5529-4444-ae30-4c978ea921dd",
   "metadata": {},
   "outputs": [],
   "source": [
    "pw1=pwskills1()"
   ]
  },
  {
   "cell_type": "code",
   "execution_count": 79,
   "id": "d4260281-3d7f-41f0-9fa4-c0de7c085209",
   "metadata": {},
   "outputs": [
    {
     "data": {
      "text/plain": [
       "<__main__.pwskills1 at 0x2d1e0b23830>"
      ]
     },
     "execution_count": 79,
     "metadata": {},
     "output_type": "execute_result"
    }
   ],
   "source": [
    "pw1"
   ]
  },
  {
   "cell_type": "code",
   "execution_count": 81,
   "id": "080c904e-cac9-4242-b860-70af22296f03",
   "metadata": {},
   "outputs": [
    {
     "name": "stdout",
     "output_type": "stream",
     "text": [
      "this is my magic call of str\n"
     ]
    }
   ],
   "source": [
    "print(pw1)"
   ]
  },
  {
   "cell_type": "markdown",
   "id": "14852077-89aa-4b77-bd9f-c5313e6c74fc",
   "metadata": {},
   "source": [
    "# avoid using dunder functions directly as this is used by the python internally"
   ]
  },
  {
   "cell_type": "code",
   "execution_count": null,
   "id": "b1d23567-113d-4533-8d21-09a0ce29319d",
   "metadata": {},
   "outputs": [],
   "source": []
  }
 ],
 "metadata": {
  "kernelspec": {
   "display_name": "Python [conda env:base] *",
   "language": "python",
   "name": "conda-base-py"
  },
  "language_info": {
   "codemirror_mode": {
    "name": "ipython",
    "version": 3
   },
   "file_extension": ".py",
   "mimetype": "text/x-python",
   "name": "python",
   "nbconvert_exporter": "python",
   "pygments_lexer": "ipython3",
   "version": "3.12.7"
  }
 },
 "nbformat": 4,
 "nbformat_minor": 5
}
