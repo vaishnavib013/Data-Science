{
 "cells": [
  {
   "cell_type": "markdown",
   "id": "35d84d9b-f1c5-4b4b-97c5-600ad5ff072e",
   "metadata": {},
   "source": [
    "# Decorators\n",
    "As for a birthday party or wedding,we decorate our house with the balloons,lights or with flowers.After the decoration, the house remains same just we are decorating our house,so beauty is enhanced of it.\n",
    "\n",
    "similarly,functions are the same but for decorating the functions we use the decorators,to enhance the beauty of it."
   ]
  },
  {
   "cell_type": "code",
   "execution_count": 1,
   "id": "d1783fbe-36ba-4745-9290-532a16829f99",
   "metadata": {},
   "outputs": [],
   "source": [
    "def test():\n",
    "    print(\"this is my fun to test\")"
   ]
  },
  {
   "cell_type": "code",
   "execution_count": 2,
   "id": "5e399302-e77f-42ac-99f0-b1982f5e5c8a",
   "metadata": {},
   "outputs": [
    {
     "name": "stdout",
     "output_type": "stream",
     "text": [
      "this is my fun to test\n"
     ]
    }
   ],
   "source": [
    "test()"
   ]
  },
  {
   "cell_type": "markdown",
   "id": "726b8568-6ee1-4f12-957e-0b2809919c0c",
   "metadata": {},
   "source": [
    "#to describe about this function we want to tell that that when the function is starting and ending.\n",
    "#so we will directly add in that function thats also possible"
   ]
  },
  {
   "cell_type": "code",
   "execution_count": 3,
   "id": "59649abc-f77c-44e0-a3f5-5c457681857c",
   "metadata": {},
   "outputs": [],
   "source": [
    "def test():\n",
    "    print(\"this is the start of my fun\")\n",
    "    print(\"this is my fun to test\")\n",
    "    print(4+5)\n",
    "    print(\"this is end of my fun\")"
   ]
  },
  {
   "cell_type": "code",
   "execution_count": 5,
   "id": "d6b60540-c374-44f9-b0ac-2713c2498e1f",
   "metadata": {},
   "outputs": [
    {
     "name": "stdout",
     "output_type": "stream",
     "text": [
      "this is the start of my fun\n",
      "this is my fun to test\n",
      "9\n",
      "this is end of my fun\n"
     ]
    }
   ],
   "source": [
    "test()"
   ]
  },
  {
   "cell_type": "markdown",
   "id": "0ac80c89-104d-4bee-b7fc-f10733ee1057",
   "metadata": {},
   "source": [
    "#so to call this function we have to again  and again describe the start end .\n",
    "#so for that we will be using the decorators\n",
    "#it would be avoiding to write again and again"
   ]
  },
  {
   "cell_type": "code",
   "execution_count": 15,
   "id": "51d32aba-51a4-4767-8108-289f663965e4",
   "metadata": {},
   "outputs": [],
   "source": [
    "def deco(func):\n",
    "    def inner_dec():\n",
    "        print(\"this is the start of my fun\")\n",
    "        func()\n",
    "        print(\"this is the end of my fun\")\n",
    "    return inner_dec"
   ]
  },
  {
   "cell_type": "code",
   "execution_count": 16,
   "id": "ac3951a4-4e27-4665-baf8-5ba254e16e17",
   "metadata": {},
   "outputs": [],
   "source": [
    "def test1():\n",
    "    print(4+5)"
   ]
  },
  {
   "cell_type": "code",
   "execution_count": 17,
   "id": "527dba7d-18cd-466d-9fbb-86dd914ee511",
   "metadata": {},
   "outputs": [
    {
     "name": "stdout",
     "output_type": "stream",
     "text": [
      "9\n"
     ]
    }
   ],
   "source": [
    "test1()"
   ]
  },
  {
   "cell_type": "markdown",
   "id": "b506b4df-238f-43bb-a028-c7f8611bdce1",
   "metadata": {},
   "source": [
    "#now when we are calling this test1() then it is only giving us the result as 9.but we also want start and end statements to be printed.for that we have already created the deco function.so we will make that deco() as the decorator.\n",
    "\n",
    "#by giving this @deco before this test (),that will act as a decorator.so whenever it sees like @deco ...so the function mentiooned below(ie the test1()) this will be passed as a argument to that @deco ie deco().and give only the output of that function .ie in this case it will return only inner_dec ."
   ]
  },
  {
   "cell_type": "code",
   "execution_count": 18,
   "id": "818a2766-b2c1-47e6-834c-92e5b3055367",
   "metadata": {},
   "outputs": [],
   "source": [
    "@deco\n",
    "def test1():\n",
    "    print(4+5)"
   ]
  },
  {
   "cell_type": "code",
   "execution_count": 19,
   "id": "d73635df-22bb-47b4-af3b-35f1524dd751",
   "metadata": {},
   "outputs": [
    {
     "name": "stdout",
     "output_type": "stream",
     "text": [
      "this is the start of my fun\n",
      "9\n",
      "this is the end of my fun\n"
     ]
    }
   ],
   "source": [
    "test1()"
   ]
  },
  {
   "cell_type": "markdown",
   "id": "4b1e3d48-134f-4666-9cec-1d94c27fc144",
   "metadata": {},
   "source": [
    "#so whenever this test1() is called ,it will first call the decorator ie the deco(). and then that test() is called inside that deco().then it will execute the inner_dec()->the start->then test1()->end->then the result of the inner_dec() it will print"
   ]
  },
  {
   "cell_type": "code",
   "execution_count": 21,
   "id": "8665fd19-9eb8-4109-aaa7-eba49fc7c7ba",
   "metadata": {},
   "outputs": [],
   "source": [
    "#to print how much time the function will take to execute\n",
    "import time\n",
    "\n",
    "def timer_test(func):\n",
    "    def timer_test_inner(): \n",
    "        start=time.time()\n",
    "        func() \n",
    "        end=time.time()\n",
    "        print(end-start)\n",
    "    return timer_test_inner"
   ]
  },
  {
   "cell_type": "code",
   "execution_count": 22,
   "id": "34985e0f-7698-447e-9a8f-69b35bf4f531",
   "metadata": {},
   "outputs": [],
   "source": [
    "def test2():\n",
    "    print(45+78)"
   ]
  },
  {
   "cell_type": "code",
   "execution_count": 23,
   "id": "3af963d1-fb71-4079-8ffd-6bb58088fc49",
   "metadata": {},
   "outputs": [
    {
     "name": "stdout",
     "output_type": "stream",
     "text": [
      "123\n"
     ]
    }
   ],
   "source": [
    "test2()"
   ]
  },
  {
   "cell_type": "code",
   "execution_count": 24,
   "id": "fffcc882-d3d9-49e7-bca3-9e1eb960b577",
   "metadata": {},
   "outputs": [],
   "source": [
    "@timer_test\n",
    "def test2(): \n",
    "    print(45+78)"
   ]
  },
  {
   "cell_type": "code",
   "execution_count": 25,
   "id": "d7bc874b-f444-4913-9b22-e682ff1aef1a",
   "metadata": {},
   "outputs": [
    {
     "name": "stdout",
     "output_type": "stream",
     "text": [
      "123\n",
      "0.0\n"
     ]
    }
   ],
   "source": [
    "test2()"
   ]
  },
  {
   "cell_type": "code",
   "execution_count": null,
   "id": "2d7273b8-0bc2-4bc4-bf15-9a5ab3157d80",
   "metadata": {},
   "outputs": [],
   "source": [
    "@timer_test\n",
    "def test():\n",
    "    for i in range(10000000000):\n",
    "        pass"
   ]
  },
  {
   "cell_type": "code",
   "execution_count": null,
   "id": "0e5636b4-bcf9-4887-ba13-a240126c10f6",
   "metadata": {},
   "outputs": [],
   "source": [
    "test()"
   ]
  },
  {
   "cell_type": "code",
   "execution_count": null,
   "id": "7f66e578-910d-42a1-b253-01917b08b4f7",
   "metadata": {},
   "outputs": [],
   "source": []
  }
 ],
 "metadata": {
  "kernelspec": {
   "display_name": "Python 3 (ipykernel)",
   "language": "python",
   "name": "python3"
  },
  "language_info": {
   "codemirror_mode": {
    "name": "ipython",
    "version": 3
   },
   "file_extension": ".py",
   "mimetype": "text/x-python",
   "name": "python",
   "nbconvert_exporter": "python",
   "pygments_lexer": "ipython3",
   "version": "3.11.7"
  }
 },
 "nbformat": 4,
 "nbformat_minor": 5
}
