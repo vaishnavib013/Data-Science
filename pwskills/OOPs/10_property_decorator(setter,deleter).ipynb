{
 "cells": [
  {
   "cell_type": "markdown",
   "id": "56341d4e-d3c9-436d-9e48-ea5e2d415f03",
   "metadata": {},
   "source": [
    "# Property Decorator"
   ]
  },
  {
   "cell_type": "code",
   "execution_count": 2,
   "id": "c11d4a1f-7e76-42ed-93e0-80881a6747b1",
   "metadata": {},
   "outputs": [],
   "source": [
    "class pwskills:\n",
    "    def __init__(self,course_price,course_name):\n",
    "        self.__course_price=course_price\n",
    "        self.course_name=course_name"
   ]
  },
  {
   "cell_type": "code",
   "execution_count": 4,
   "id": "a7155f0a-634d-4ea8-bcaf-b4c6ce3e5cf9",
   "metadata": {},
   "outputs": [],
   "source": [
    "pw=pwskills(3500,\"data science masters\")"
   ]
  },
  {
   "cell_type": "code",
   "execution_count": 8,
   "id": "fd4c1ce3-103f-4f1e-8b0f-3015cf93f1ef",
   "metadata": {},
   "outputs": [
    {
     "data": {
      "text/plain": [
       "3500"
      ]
     },
     "execution_count": 8,
     "metadata": {},
     "output_type": "execute_result"
    }
   ],
   "source": [
    "pw._pwskills__course_price"
   ]
  },
  {
   "cell_type": "code",
   "execution_count": 10,
   "id": "c0d24b51-503e-4072-8174-d286d61ba841",
   "metadata": {},
   "outputs": [
    {
     "data": {
      "text/plain": [
       "'data science masters'"
      ]
     },
     "execution_count": 10,
     "metadata": {},
     "output_type": "execute_result"
    }
   ],
   "source": [
    "pw.course_name"
   ]
  },
  {
   "cell_type": "code",
   "execution_count": 12,
   "id": "ee7857c6-c78f-41da-ac74-b0a6a33a10fe",
   "metadata": {},
   "outputs": [],
   "source": [
    "#now if i want to give the access to the user for the variables to be modified we will use this property decorators\n",
    "class pwskills:\n",
    "    def __init__(self,course_price,course_name):\n",
    "        self.__course_price=course_price\n",
    "        self.course_name=course_name\n",
    "\n",
    "    @property\n",
    "    def course_price_access(self):\n",
    "        return self.__course_price"
   ]
  },
  {
   "cell_type": "code",
   "execution_count": 14,
   "id": "2a3bf1a0-beab-45fe-8ba5-1a1deeda50c5",
   "metadata": {},
   "outputs": [],
   "source": [
    "pw=pwskills(3500,\"data science masters\")"
   ]
  },
  {
   "cell_type": "code",
   "execution_count": 18,
   "id": "9a0401f5-29c4-4d1d-8ccd-8bee62adf78f",
   "metadata": {},
   "outputs": [
    {
     "data": {
      "text/plain": [
       "3500"
      ]
     },
     "execution_count": 18,
     "metadata": {},
     "output_type": "execute_result"
    }
   ],
   "source": [
    "pw.course_price_access"
   ]
  },
  {
   "cell_type": "code",
   "execution_count": 20,
   "id": "e21348c6-cf31-4e80-ba7e-338f04bcf034",
   "metadata": {},
   "outputs": [],
   "source": [
    "class pwskills:\n",
    "    def __init__(self,course_price,course_name):\n",
    "        self.__course_price=course_price\n",
    "        self.course_name=course_name\n",
    "\n",
    "    @property\n",
    "    def course_price_access(self):\n",
    "        return self.__course_price\n",
    "\n",
    "    @course_price_access.setter #is for modifdying the function directly to the user\n",
    "    def course_price_set(self,price):\n",
    "        #in this we can applythe condition,that if the condition occurs then only modify\n",
    "        #else not to modify \n",
    "        if price<=3500:\n",
    "            pass\n",
    "        else:\n",
    "            self.__course_price=price\n",
    "            \n",
    "        \n",
    "        "
   ]
  },
  {
   "cell_type": "code",
   "execution_count": 24,
   "id": "4484780f-2d2e-47df-9b70-d2d7645e868e",
   "metadata": {},
   "outputs": [
    {
     "data": {
      "text/plain": [
       "3500"
      ]
     },
     "execution_count": 24,
     "metadata": {},
     "output_type": "execute_result"
    }
   ],
   "source": [
    "#pw is the object\n",
    "pw=pwskills(3500,\"data science masters\")\n",
    "pw.course_price_access\n",
    "#now here we are able to access this course_price"
   ]
  },
  {
   "cell_type": "code",
   "execution_count": 26,
   "id": "62295205-9b64-44f3-b7b8-e52f50b5b521",
   "metadata": {},
   "outputs": [
    {
     "data": {
      "text/plain": [
       "4500"
      ]
     },
     "execution_count": 26,
     "metadata": {},
     "output_type": "execute_result"
    }
   ],
   "source": [
    "#now we have to modify it \n",
    "pw.course_price_set=4500\n",
    "pw.course_price_access"
   ]
  },
  {
   "cell_type": "code",
   "execution_count": 36,
   "id": "cea9fa42-b4b0-4765-a006-e81aa921c180",
   "metadata": {},
   "outputs": [],
   "source": [
    "#to delete give the access to the user\n",
    "class pwskills:\n",
    "    def __init__(self,course_price,course_name):\n",
    "        self.__course_price=course_price\n",
    "        self.course_name=course_name\n",
    "\n",
    "    @property\n",
    "    def course_price_access(self):\n",
    "        return self.__course_price\n",
    "\n",
    "    @course_price_access.setter #is for modifdying the function directly to the user\n",
    "    def course_price_set(self,price):\n",
    "        if price<=3500:\n",
    "            pass\n",
    "        else:\n",
    "            self.__course_price=price\n",
    "\n",
    "    @course_price_access.deleter\n",
    "    def delete_course_price(self):\n",
    "        del self.__course_price\n",
    "            "
   ]
  },
  {
   "cell_type": "code",
   "execution_count": 38,
   "id": "9e294207-8215-4fce-ba87-041dc9959e56",
   "metadata": {},
   "outputs": [],
   "source": [
    "#lets create the instance\n",
    "pw=pwskills(3500,\"data science skills\")"
   ]
  },
  {
   "cell_type": "code",
   "execution_count": 40,
   "id": "35aabb8d-79e3-4f86-866c-b7bf81fa67e3",
   "metadata": {},
   "outputs": [
    {
     "data": {
      "text/plain": [
       "3500"
      ]
     },
     "execution_count": 40,
     "metadata": {},
     "output_type": "execute_result"
    }
   ],
   "source": [
    "pw.course_price_access"
   ]
  },
  {
   "cell_type": "code",
   "execution_count": 45,
   "id": "276bcd27-42d5-4108-a05b-082d917d46f2",
   "metadata": {},
   "outputs": [],
   "source": [
    "del pw.delete_course_price"
   ]
  },
  {
   "cell_type": "code",
   "execution_count": 47,
   "id": "5009b33f-ff16-41c5-8cc5-b69c55d7d81d",
   "metadata": {},
   "outputs": [
    {
     "ename": "AttributeError",
     "evalue": "'pwskills' object has no attribute '_pwskills__course_price'",
     "output_type": "error",
     "traceback": [
      "\u001b[1;31m----------------------------------------------------------------\u001b[0m",
      "\u001b[1;31mAttributeError\u001b[0m                 Traceback (most recent call last)",
      "Cell \u001b[1;32mIn[47], line 1\u001b[0m\n\u001b[1;32m----> 1\u001b[0m pw\u001b[38;5;241m.\u001b[39mcourse_price_access\n",
      "Cell \u001b[1;32mIn[36], line 9\u001b[0m, in \u001b[0;36mpwskills.course_price_access\u001b[1;34m(self)\u001b[0m\n\u001b[0;32m      7\u001b[0m \u001b[38;5;129m@property\u001b[39m\n\u001b[0;32m      8\u001b[0m \u001b[38;5;28;01mdef\u001b[39;00m \u001b[38;5;21mcourse_price_access\u001b[39m(\u001b[38;5;28mself\u001b[39m):\n\u001b[1;32m----> 9\u001b[0m     \u001b[38;5;28;01mreturn\u001b[39;00m \u001b[38;5;28mself\u001b[39m\u001b[38;5;241m.\u001b[39m__course_price\n",
      "\u001b[1;31mAttributeError\u001b[0m: 'pwskills' object has no attribute '_pwskills__course_price'"
     ]
    }
   ],
   "source": [
    "pw.course_price_access"
   ]
  },
  {
   "cell_type": "markdown",
   "id": "b95fc013-e7e8-4a36-9c23-3bb92311a305",
   "metadata": {},
   "source": [
    "# this shows us the function is being deleted"
   ]
  },
  {
   "cell_type": "code",
   "execution_count": null,
   "id": "de34d51c-f3a6-449b-99a3-fc47c13413c9",
   "metadata": {},
   "outputs": [],
   "source": []
  }
 ],
 "metadata": {
  "kernelspec": {
   "display_name": "Python [conda env:base] *",
   "language": "python",
   "name": "conda-base-py"
  },
  "language_info": {
   "codemirror_mode": {
    "name": "ipython",
    "version": 3
   },
   "file_extension": ".py",
   "mimetype": "text/x-python",
   "name": "python",
   "nbconvert_exporter": "python",
   "pygments_lexer": "ipython3",
   "version": "3.12.7"
  }
 },
 "nbformat": 4,
 "nbformat_minor": 5
}
