{
 "cells": [
  {
   "cell_type": "markdown",
   "id": "83ac9dd8-48e7-46f9-a5ad-333a253121f1",
   "metadata": {},
   "source": [
    "# Variable Declaration"
   ]
  },
  {
   "cell_type": "code",
   "execution_count": 2,
   "id": "cbe46a60-0dcd-4e69-8a26-5afa620169dc",
   "metadata": {},
   "outputs": [],
   "source": [
    "a=10 \n",
    "#here for 10, a memory gets located where 10 will be stored in a system.\n",
    "#for that a reference variable name 'a' will be created .\n",
    "#1 space will be created in a memory /system ie may be main memory (ram)\n",
    "#so 10 is stored in a variable"
   ]
  },
  {
   "cell_type": "code",
   "execution_count": 3,
   "id": "238403af-f31a-4e09-8063-3797a4bf1d47",
   "metadata": {},
   "outputs": [
    {
     "data": {
      "text/plain": [
       "10"
      ]
     },
     "execution_count": 3,
     "metadata": {},
     "output_type": "execute_result"
    }
   ],
   "source": [
    "a"
   ]
  },
  {
   "cell_type": "code",
   "execution_count": 5,
   "id": "6762840d-ef8b-4050-acab-7bdd8e5589c3",
   "metadata": {},
   "outputs": [],
   "source": [
    "sudh=20 # here 2nd variable is declared"
   ]
  },
  {
   "cell_type": "code",
   "execution_count": 7,
   "id": "568a03b1-5d9e-4d42-b5ed-553ab70c9444",
   "metadata": {},
   "outputs": [
    {
     "data": {
      "text/plain": [
       "30"
      ]
     },
     "execution_count": 7,
     "metadata": {},
     "output_type": "execute_result"
    }
   ],
   "source": [
    "a+sudh #both the variables are numeric type so it is getting added"
   ]
  },
  {
   "cell_type": "markdown",
   "id": "1b079acf-588a-48cb-8c8b-43dcd28ae5ec",
   "metadata": {},
   "source": [
    "Python is self typed language which helps the system to understand what kind of data is stored in the variable ie what is the datatype of the variable\n",
    "\n",
    "# DataTypes \n",
    "### check the datatypes of the variable \n",
    "#### int , float , str, bool"
   ]
  },
  {
   "cell_type": "markdown",
   "id": "9db13aa5-f7db-4432-b19f-2e24b59ef02d",
   "metadata": {},
   "source": [
    "## Integer datatype"
   ]
  },
  {
   "cell_type": "code",
   "execution_count": 8,
   "id": "6a30b9c0-f374-49f5-9c6b-284b79f50666",
   "metadata": {},
   "outputs": [
    {
     "data": {
      "text/plain": [
       "int"
      ]
     },
     "execution_count": 8,
     "metadata": {},
     "output_type": "execute_result"
    }
   ],
   "source": [
    "type(a) #to check the datatype of the variable"
   ]
  },
  {
   "cell_type": "code",
   "execution_count": 9,
   "id": "aea15fcb-eac9-4d17-a6e8-5523ba4e873f",
   "metadata": {},
   "outputs": [
    {
     "data": {
      "text/plain": [
       "int"
      ]
     },
     "execution_count": 9,
     "metadata": {},
     "output_type": "execute_result"
    }
   ],
   "source": [
    "type(sudh)"
   ]
  },
  {
   "cell_type": "markdown",
   "id": "9c09969b-e0d5-43f3-a69f-58644c6cd36c",
   "metadata": {},
   "source": [
    "## Float datatype"
   ]
  },
  {
   "cell_type": "code",
   "execution_count": 11,
   "id": "b2cde1cd-9a07-4c68-b489-8d3085cc5c2f",
   "metadata": {},
   "outputs": [
    {
     "data": {
      "text/plain": [
       "float"
      ]
     },
     "execution_count": 11,
     "metadata": {},
     "output_type": "execute_result"
    }
   ],
   "source": [
    "b=2.09\n",
    "type(b) #it is floating type of number"
   ]
  },
  {
   "cell_type": "code",
   "execution_count": 12,
   "id": "aed5e442-e373-4876-88f6-4311603f4a74",
   "metadata": {},
   "outputs": [
    {
     "data": {
      "text/plain": [
       "float"
      ]
     },
     "execution_count": 12,
     "metadata": {},
     "output_type": "execute_result"
    }
   ],
   "source": [
    "c=45.2423535\n",
    "type(c)"
   ]
  },
  {
   "cell_type": "markdown",
   "id": "066cb19b-4567-4417-8652-15e14cdc42f3",
   "metadata": {},
   "source": [
    "## String datatype"
   ]
  },
  {
   "cell_type": "code",
   "execution_count": 16,
   "id": "3c535f00-6978-4922-9465-a7fabd62b76a",
   "metadata": {},
   "outputs": [
    {
     "data": {
      "text/plain": [
       "str"
      ]
     },
     "execution_count": 16,
     "metadata": {},
     "output_type": "execute_result"
    }
   ],
   "source": [
    "d=\"vaishnavi\" #whatever we give in a double or single quotes is considered as string\n",
    "type(d) #the datatype of the variable is string"
   ]
  },
  {
   "cell_type": "code",
   "execution_count": 17,
   "id": "3875568d-fec7-4b55-9fd9-8a0abec4b2eb",
   "metadata": {},
   "outputs": [
    {
     "data": {
      "text/plain": [
       "str"
      ]
     },
     "execution_count": 17,
     "metadata": {},
     "output_type": "execute_result"
    }
   ],
   "source": [
    "e=\"jbdsvd kneskfnsk jbkfckfjs\" \n",
    "type(e)"
   ]
  },
  {
   "cell_type": "markdown",
   "id": "a14aac7f-e6f5-4f1d-8258-1b0198e865b8",
   "metadata": {},
   "source": [
    "## Boolean Datatype"
   ]
  },
  {
   "cell_type": "code",
   "execution_count": 18,
   "id": "054debd6-2d70-4057-b4f0-5a559a25a77c",
   "metadata": {},
   "outputs": [
    {
     "data": {
      "text/plain": [
       "bool"
      ]
     },
     "execution_count": 18,
     "metadata": {},
     "output_type": "execute_result"
    }
   ],
   "source": [
    "n=True \n",
    "type(n)"
   ]
  },
  {
   "cell_type": "code",
   "execution_count": 19,
   "id": "c778bfb2-d83f-4c56-bcdf-bcef025b2f38",
   "metadata": {},
   "outputs": [
    {
     "data": {
      "text/plain": [
       "bool"
      ]
     },
     "execution_count": 19,
     "metadata": {},
     "output_type": "execute_result"
    }
   ],
   "source": [
    "m=False\n",
    "type(n)"
   ]
  },
  {
   "cell_type": "code",
   "execution_count": 21,
   "id": "ffe9db48-b874-457f-9320-013e7e7c6d9f",
   "metadata": {},
   "outputs": [
    {
     "data": {
      "text/plain": [
       "1"
      ]
     },
     "execution_count": 21,
     "metadata": {},
     "output_type": "execute_result"
    }
   ],
   "source": [
    "n+m #(1+0) ie true +false"
   ]
  },
  {
   "cell_type": "code",
   "execution_count": 22,
   "id": "b9e8fe87-108f-46fa-bdca-b5c654a6ba1a",
   "metadata": {},
   "outputs": [
    {
     "data": {
      "text/plain": [
       "1"
      ]
     },
     "execution_count": 22,
     "metadata": {},
     "output_type": "execute_result"
    }
   ],
   "source": [
    "True * True"
   ]
  },
  {
   "cell_type": "code",
   "execution_count": 23,
   "id": "327b2f97-378f-4a56-ae9b-f8b1f813c441",
   "metadata": {},
   "outputs": [
    {
     "data": {
      "text/plain": [
       "0"
      ]
     },
     "execution_count": 23,
     "metadata": {},
     "output_type": "execute_result"
    }
   ],
   "source": [
    "False*True"
   ]
  },
  {
   "cell_type": "code",
   "execution_count": 24,
   "id": "6d0b0bde-2026-40f5-9380-e28550faa315",
   "metadata": {},
   "outputs": [
    {
     "data": {
      "text/plain": [
       "0"
      ]
     },
     "execution_count": 24,
     "metadata": {},
     "output_type": "execute_result"
    }
   ],
   "source": [
    "False * False"
   ]
  },
  {
   "cell_type": "code",
   "execution_count": 25,
   "id": "362736f8-b282-4ada-9206-ae5e145fae77",
   "metadata": {},
   "outputs": [
    {
     "data": {
      "text/plain": [
       "-1"
      ]
     },
     "execution_count": 25,
     "metadata": {},
     "output_type": "execute_result"
    }
   ],
   "source": [
    "False - True"
   ]
  },
  {
   "cell_type": "code",
   "execution_count": 26,
   "id": "8653f18e-8aa5-4cb2-ad5a-b37b1001cdcc",
   "metadata": {},
   "outputs": [
    {
     "data": {
      "text/plain": [
       "0.0"
      ]
     },
     "execution_count": 26,
     "metadata": {},
     "output_type": "execute_result"
    }
   ],
   "source": [
    "False /True"
   ]
  },
  {
   "cell_type": "markdown",
   "id": "83167adc-804b-4591-9986-f3a4f3588dc7",
   "metadata": {},
   "source": [
    "## Complex Datatype"
   ]
  },
  {
   "cell_type": "code",
   "execution_count": 29,
   "id": "70cf7bf7-1cfa-495f-b2b0-908c73ad344c",
   "metadata": {},
   "outputs": [
    {
     "data": {
      "text/plain": [
       "complex"
      ]
     },
     "execution_count": 29,
     "metadata": {},
     "output_type": "execute_result"
    }
   ],
   "source": [
    "v=5+8j\n",
    "type(v)"
   ]
  },
  {
   "cell_type": "code",
   "execution_count": 30,
   "id": "6f470b9d-5725-4eda-af7b-4f3a3967ab11",
   "metadata": {},
   "outputs": [
    {
     "data": {
      "text/plain": [
       "5.0"
      ]
     },
     "execution_count": 30,
     "metadata": {},
     "output_type": "execute_result"
    }
   ],
   "source": [
    "v.real"
   ]
  },
  {
   "cell_type": "code",
   "execution_count": 31,
   "id": "708294c6-9937-4ebd-ac0e-5c4f8c078329",
   "metadata": {},
   "outputs": [
    {
     "data": {
      "text/plain": [
       "8.0"
      ]
     },
     "execution_count": 31,
     "metadata": {},
     "output_type": "execute_result"
    }
   ],
   "source": [
    "v.imag"
   ]
  },
  {
   "cell_type": "markdown",
   "id": "4e2493c6-2b40-4536-9622-c502c6252f9b",
   "metadata": {},
   "source": [
    "# Print()\n",
    "print() is used to print on console"
   ]
  },
  {
   "cell_type": "code",
   "execution_count": 32,
   "id": "e554504f-4db7-47e2-a504-832c8cb38c2e",
   "metadata": {},
   "outputs": [
    {
     "name": "stdout",
     "output_type": "stream",
     "text": [
      "my name is vaishnavi\n"
     ]
    }
   ],
   "source": [
    "print(\"my name is vaishnavi\")"
   ]
  },
  {
   "cell_type": "code",
   "execution_count": 33,
   "id": "a312c124-f6c8-4a01-aac9-08ba6849d545",
   "metadata": {},
   "outputs": [
    {
     "name": "stdout",
     "output_type": "stream",
     "text": [
      "10 20\n"
     ]
    }
   ],
   "source": [
    "print(a,sudh)"
   ]
  },
  {
   "cell_type": "markdown",
   "id": "61264d44-1677-4b05-bcd4-94072ec0221e",
   "metadata": {},
   "source": [
    "# Indexing\n",
    "\n",
    "### Positive Indexing"
   ]
  },
  {
   "cell_type": "code",
   "execution_count": 1,
   "id": "2bff9bfc-b1a4-4190-8dda-32e8c31295f7",
   "metadata": {},
   "outputs": [
    {
     "data": {
      "text/plain": [
       "str"
      ]
     },
     "execution_count": 1,
     "metadata": {},
     "output_type": "execute_result"
    }
   ],
   "source": [
    "s=\"pwskills\" \n",
    "type(s)"
   ]
  },
  {
   "cell_type": "code",
   "execution_count": 2,
   "id": "8f75fa4a-c741-46d6-8a58-e45bbb40637e",
   "metadata": {},
   "outputs": [
    {
     "data": {
      "text/plain": [
       "'p'"
      ]
     },
     "execution_count": 2,
     "metadata": {},
     "output_type": "execute_result"
    }
   ],
   "source": [
    "s[0]"
   ]
  },
  {
   "cell_type": "code",
   "execution_count": 3,
   "id": "d0408464-32d3-4753-93f0-fb558f661ab6",
   "metadata": {},
   "outputs": [
    {
     "data": {
      "text/plain": [
       "'w'"
      ]
     },
     "execution_count": 3,
     "metadata": {},
     "output_type": "execute_result"
    }
   ],
   "source": [
    "s[1]"
   ]
  },
  {
   "cell_type": "code",
   "execution_count": 4,
   "id": "389c38bc-197b-4753-9fe7-09a6829a78b9",
   "metadata": {},
   "outputs": [
    {
     "data": {
      "text/plain": [
       "'s'"
      ]
     },
     "execution_count": 4,
     "metadata": {},
     "output_type": "execute_result"
    }
   ],
   "source": [
    "s[2]"
   ]
  },
  {
   "cell_type": "code",
   "execution_count": 5,
   "id": "c689e4b5-2bb5-4402-8be8-7357d14dc86f",
   "metadata": {},
   "outputs": [
    {
     "data": {
      "text/plain": [
       "'k'"
      ]
     },
     "execution_count": 5,
     "metadata": {},
     "output_type": "execute_result"
    }
   ],
   "source": [
    "s[3]"
   ]
  },
  {
   "cell_type": "code",
   "execution_count": 6,
   "id": "acee84c8-5736-4cb4-b57b-af57825a6760",
   "metadata": {},
   "outputs": [
    {
     "data": {
      "text/plain": [
       "'i'"
      ]
     },
     "execution_count": 6,
     "metadata": {},
     "output_type": "execute_result"
    }
   ],
   "source": [
    "s[4]"
   ]
  },
  {
   "cell_type": "code",
   "execution_count": 7,
   "id": "49953067-3040-4b4e-9d7d-ab262b1e0499",
   "metadata": {},
   "outputs": [
    {
     "data": {
      "text/plain": [
       "'l'"
      ]
     },
     "execution_count": 7,
     "metadata": {},
     "output_type": "execute_result"
    }
   ],
   "source": [
    "s[5]"
   ]
  },
  {
   "cell_type": "code",
   "execution_count": 8,
   "id": "0fa088f1-3a5f-44a6-84dc-664c49a22314",
   "metadata": {},
   "outputs": [
    {
     "data": {
      "text/plain": [
       "'l'"
      ]
     },
     "execution_count": 8,
     "metadata": {},
     "output_type": "execute_result"
    }
   ],
   "source": [
    "s[6]"
   ]
  },
  {
   "cell_type": "code",
   "execution_count": 9,
   "id": "187b2323-7e87-4513-95cf-22e403c19219",
   "metadata": {},
   "outputs": [
    {
     "data": {
      "text/plain": [
       "'s'"
      ]
     },
     "execution_count": 9,
     "metadata": {},
     "output_type": "execute_result"
    }
   ],
   "source": [
    "s[7]"
   ]
  },
  {
   "cell_type": "markdown",
   "id": "036b5bb4-2f40-4c15-99ce-df341de7b80a",
   "metadata": {},
   "source": [
    "### Negative indexing"
   ]
  },
  {
   "cell_type": "code",
   "execution_count": 11,
   "id": "bea1c478-dab3-4d96-b881-8d1f79bbfe8c",
   "metadata": {},
   "outputs": [
    {
     "data": {
      "text/plain": [
       "'s'"
      ]
     },
     "execution_count": 11,
     "metadata": {},
     "output_type": "execute_result"
    }
   ],
   "source": [
    "s[-1]"
   ]
  },
  {
   "cell_type": "code",
   "execution_count": 12,
   "id": "bb67245e-9c83-4477-aab9-6bff476cbca5",
   "metadata": {},
   "outputs": [
    {
     "data": {
      "text/plain": [
       "'l'"
      ]
     },
     "execution_count": 12,
     "metadata": {},
     "output_type": "execute_result"
    }
   ],
   "source": [
    "s[-2]"
   ]
  },
  {
   "cell_type": "code",
   "execution_count": 14,
   "id": "8a3bdf55-9686-4356-82b6-26fbae098c94",
   "metadata": {},
   "outputs": [
    {
     "data": {
      "text/plain": [
       "'p'"
      ]
     },
     "execution_count": 14,
     "metadata": {},
     "output_type": "execute_result"
    }
   ],
   "source": [
    "s[-8]"
   ]
  },
  {
   "cell_type": "markdown",
   "id": "2b737ccb-0e6f-4d19-98c6-1c052ecf5afd",
   "metadata": {},
   "source": [
    "# Slicing"
   ]
  },
  {
   "cell_type": "code",
   "execution_count": 15,
   "id": "93e9c76b-d65a-42af-b74a-8cd596b8efee",
   "metadata": {},
   "outputs": [
    {
     "data": {
      "text/plain": [
       "'pws'"
      ]
     },
     "execution_count": 15,
     "metadata": {},
     "output_type": "execute_result"
    }
   ],
   "source": [
    "s[0:3] #variable[start:end-1:step]"
   ]
  },
  {
   "cell_type": "code",
   "execution_count": 16,
   "id": "ce48a8ac-30eb-4a3a-977b-ab0ae8143493",
   "metadata": {},
   "outputs": [
    {
     "data": {
      "text/plain": [
       "'psil'"
      ]
     },
     "execution_count": 16,
     "metadata": {},
     "output_type": "execute_result"
    }
   ],
   "source": [
    "s[0:9:2]"
   ]
  },
  {
   "cell_type": "code",
   "execution_count": 17,
   "id": "7bb65aed-e6ff-4d2a-bac1-a58d8c47f4d0",
   "metadata": {},
   "outputs": [
    {
     "data": {
      "text/plain": [
       "'psil'"
      ]
     },
     "execution_count": 17,
     "metadata": {},
     "output_type": "execute_result"
    }
   ],
   "source": [
    "s[::2]"
   ]
  },
  {
   "cell_type": "code",
   "execution_count": 18,
   "id": "f6e72f2e-a9e4-4c0b-ac72-63da1c39502f",
   "metadata": {},
   "outputs": [
    {
     "data": {
      "text/plain": [
       "'pwski'"
      ]
     },
     "execution_count": 18,
     "metadata": {},
     "output_type": "execute_result"
    }
   ],
   "source": [
    "s[:5]"
   ]
  },
  {
   "cell_type": "code",
   "execution_count": 19,
   "id": "c885a2ee-2e7a-436c-8ba4-3a311085233d",
   "metadata": {},
   "outputs": [
    {
     "data": {
      "text/plain": [
       "'lls'"
      ]
     },
     "execution_count": 19,
     "metadata": {},
     "output_type": "execute_result"
    }
   ],
   "source": [
    "s[5:]"
   ]
  },
  {
   "cell_type": "code",
   "execution_count": 21,
   "id": "9534e7e1-cf23-4f13-bc78-cbc513149d95",
   "metadata": {},
   "outputs": [
    {
     "ename": "ValueError",
     "evalue": "slice step cannot be zero",
     "output_type": "error",
     "traceback": [
      "\u001b[1;31m---------------------------------------------------------------------------\u001b[0m",
      "\u001b[1;31mValueError\u001b[0m                                Traceback (most recent call last)",
      "Cell \u001b[1;32mIn[21], line 1\u001b[0m\n\u001b[1;32m----> 1\u001b[0m s[\u001b[38;5;241m2\u001b[39m::\u001b[38;5;241m0\u001b[39m]\n",
      "\u001b[1;31mValueError\u001b[0m: slice step cannot be zero"
     ]
    }
   ],
   "source": [
    "s[2::0]#slicing step cant be 0"
   ]
  },
  {
   "cell_type": "code",
   "execution_count": 22,
   "id": "34e78001-68ca-4941-89f9-ceb327e9d2bc",
   "metadata": {},
   "outputs": [
    {
     "data": {
      "text/plain": [
       "'wis'"
      ]
     },
     "execution_count": 22,
     "metadata": {},
     "output_type": "execute_result"
    }
   ],
   "source": [
    "s[1:8:3]"
   ]
  },
  {
   "cell_type": "code",
   "execution_count": 23,
   "id": "263f2a95-39ff-4ef9-8904-a6b64f81fbe9",
   "metadata": {},
   "outputs": [
    {
     "data": {
      "text/plain": [
       "'s'"
      ]
     },
     "execution_count": 23,
     "metadata": {},
     "output_type": "execute_result"
    }
   ],
   "source": [
    "s[-1::]"
   ]
  },
  {
   "cell_type": "code",
   "execution_count": 24,
   "id": "197e57c5-1bcd-43bf-96bc-edd4b969e163",
   "metadata": {},
   "outputs": [
    {
     "data": {
      "text/plain": [
       "'sllikswp'"
      ]
     },
     "execution_count": 24,
     "metadata": {},
     "output_type": "execute_result"
    }
   ],
   "source": [
    "s[::-1]"
   ]
  },
  {
   "cell_type": "markdown",
   "id": "24d69c63-2a08-45ed-8913-46c4c4d002be",
   "metadata": {},
   "source": [
    "# Reverse the string"
   ]
  },
  {
   "cell_type": "code",
   "execution_count": 25,
   "id": "f4e8dbe0-ceb0-43c2-a80e-a50fdf0fd7e7",
   "metadata": {},
   "outputs": [
    {
     "data": {
      "text/plain": [
       "'sllikswp'"
      ]
     },
     "execution_count": 25,
     "metadata": {},
     "output_type": "execute_result"
    }
   ],
   "source": [
    "s[::-1]"
   ]
  },
  {
   "cell_type": "code",
   "execution_count": 26,
   "id": "c4561b0b-1cd0-4c53-97b0-f814ecd4c97e",
   "metadata": {},
   "outputs": [
    {
     "data": {
      "text/plain": [
       "'sil'"
      ]
     },
     "execution_count": 26,
     "metadata": {},
     "output_type": "execute_result"
    }
   ],
   "source": [
    "s[2::2]"
   ]
  },
  {
   "cell_type": "code",
   "execution_count": 27,
   "id": "135c172a-abb3-43b4-88ec-098bace72ffc",
   "metadata": {},
   "outputs": [
    {
     "data": {
      "text/plain": [
       "'psil'"
      ]
     },
     "execution_count": 27,
     "metadata": {},
     "output_type": "execute_result"
    }
   ],
   "source": [
    "s[0::2]"
   ]
  },
  {
   "cell_type": "code",
   "execution_count": 28,
   "id": "d2d09dd8-e9fd-4524-a66c-a351d4dc1e6f",
   "metadata": {},
   "outputs": [
    {
     "data": {
      "text/plain": [
       "''"
      ]
     },
     "execution_count": 28,
     "metadata": {},
     "output_type": "execute_result"
    }
   ],
   "source": [
    "s[2:7:-1]"
   ]
  },
  {
   "cell_type": "code",
   "execution_count": 29,
   "id": "e85351c5-70d4-4220-8793-ab96456463d5",
   "metadata": {},
   "outputs": [
    {
     "data": {
      "text/plain": [
       "'pwskills'"
      ]
     },
     "execution_count": 29,
     "metadata": {},
     "output_type": "execute_result"
    }
   ],
   "source": [
    "s[0::1]"
   ]
  },
  {
   "cell_type": "code",
   "execution_count": 30,
   "id": "0ea71490-76e9-4df3-afe7-bcc2fc8624d8",
   "metadata": {},
   "outputs": [
    {
     "data": {
      "text/plain": [
       "'pwskills'"
      ]
     },
     "execution_count": 30,
     "metadata": {},
     "output_type": "execute_result"
    }
   ],
   "source": [
    "s[0:8]"
   ]
  },
  {
   "cell_type": "code",
   "execution_count": 31,
   "id": "49b569a8-0c7a-44c0-b533-a39100a61e56",
   "metadata": {},
   "outputs": [
    {
     "data": {
      "text/plain": [
       "''"
      ]
     },
     "execution_count": 31,
     "metadata": {},
     "output_type": "execute_result"
    }
   ],
   "source": [
    "s[8:0:1]"
   ]
  },
  {
   "cell_type": "code",
   "execution_count": 32,
   "id": "e3803c89-2cb1-4030-b82e-e4fb297f1fbf",
   "metadata": {},
   "outputs": [
    {
     "data": {
      "text/plain": [
       "'lliksw'"
      ]
     },
     "execution_count": 32,
     "metadata": {},
     "output_type": "execute_result"
    }
   ],
   "source": [
    "s[-2:-8:-1]"
   ]
  },
  {
   "cell_type": "code",
   "execution_count": 33,
   "id": "9d7b4a8e-8ede-4c28-b4bc-d252ea97dd5f",
   "metadata": {},
   "outputs": [
    {
     "data": {
      "text/plain": [
       "'slliksw'"
      ]
     },
     "execution_count": 33,
     "metadata": {},
     "output_type": "execute_result"
    }
   ],
   "source": [
    "s[8:0:-1]"
   ]
  },
  {
   "cell_type": "code",
   "execution_count": 34,
   "id": "06a943c6-9bb3-4b4b-bcbf-9d446ac0602d",
   "metadata": {},
   "outputs": [
    {
     "data": {
      "text/plain": [
       "'l'"
      ]
     },
     "execution_count": 34,
     "metadata": {},
     "output_type": "execute_result"
    }
   ],
   "source": [
    "s[-2:-1:1]"
   ]
  },
  {
   "cell_type": "code",
   "execution_count": 35,
   "id": "cdd6cec2-6516-4efb-a335-571fd5926cfa",
   "metadata": {},
   "outputs": [
    {
     "data": {
      "text/plain": [
       "'llikswp'"
      ]
     },
     "execution_count": 35,
     "metadata": {},
     "output_type": "execute_result"
    }
   ],
   "source": [
    "s[-2::-1]"
   ]
  },
  {
   "cell_type": "code",
   "execution_count": 36,
   "id": "354703f0-1a8c-453e-88cd-5604c4e92c47",
   "metadata": {},
   "outputs": [
    {
     "data": {
      "text/plain": [
       "'pwskills'"
      ]
     },
     "execution_count": 36,
     "metadata": {},
     "output_type": "execute_result"
    }
   ],
   "source": [
    "s[::1]"
   ]
  },
  {
   "cell_type": "code",
   "execution_count": 37,
   "id": "732eda1a-f8bd-4e15-b73f-34b95e9dfd67",
   "metadata": {},
   "outputs": [
    {
     "data": {
      "text/plain": [
       "'pwskills'"
      ]
     },
     "execution_count": 37,
     "metadata": {},
     "output_type": "execute_result"
    }
   ],
   "source": [
    "s[::]"
   ]
  },
  {
   "cell_type": "code",
   "execution_count": 38,
   "id": "479b1719-d384-4643-b75b-2c38d48a412b",
   "metadata": {},
   "outputs": [
    {
     "data": {
      "text/plain": [
       "''"
      ]
     },
     "execution_count": 38,
     "metadata": {},
     "output_type": "execute_result"
    }
   ],
   "source": [
    "s[:-90:]"
   ]
  },
  {
   "cell_type": "code",
   "execution_count": 39,
   "id": "108ca7c7-f685-40e9-a42c-6e79baee934d",
   "metadata": {},
   "outputs": [
    {
     "data": {
      "text/plain": [
       "'pwskills'"
      ]
     },
     "execution_count": 39,
     "metadata": {},
     "output_type": "execute_result"
    }
   ],
   "source": [
    "s[:90:]"
   ]
  },
  {
   "cell_type": "code",
   "execution_count": 40,
   "id": "1750fd6c-dd10-435c-881a-91ce228b4838",
   "metadata": {},
   "outputs": [
    {
     "data": {
      "text/plain": [
       "'sllikswp'"
      ]
     },
     "execution_count": 40,
     "metadata": {},
     "output_type": "execute_result"
    }
   ],
   "source": [
    "s[:-90:-1]"
   ]
  },
  {
   "cell_type": "code",
   "execution_count": 43,
   "id": "bdc0a8a8-ce46-4461-9d54-a29c0ea0407e",
   "metadata": {},
   "outputs": [
    {
     "ename": "IndexError",
     "evalue": "string index out of range",
     "output_type": "error",
     "traceback": [
      "\u001b[1;31m---------------------------------------------------------------------------\u001b[0m",
      "\u001b[1;31mIndexError\u001b[0m                                Traceback (most recent call last)",
      "Cell \u001b[1;32mIn[43], line 1\u001b[0m\n\u001b[1;32m----> 1\u001b[0m s[\u001b[38;5;241m90\u001b[39m]\n",
      "\u001b[1;31mIndexError\u001b[0m: string index out of range"
     ]
    }
   ],
   "source": [
    "s[90] #index out of bound"
   ]
  },
  {
   "cell_type": "code",
   "execution_count": 44,
   "id": "2f3cf43d-ffaa-42ac-8802-91b501426525",
   "metadata": {},
   "outputs": [
    {
     "data": {
      "text/plain": [
       "'pwskills'"
      ]
     },
     "execution_count": 44,
     "metadata": {},
     "output_type": "execute_result"
    }
   ],
   "source": [
    "s[-90:]"
   ]
  },
  {
   "cell_type": "code",
   "execution_count": 45,
   "id": "9b3af0d4-0cf9-4e40-a531-36b68ed1b82f",
   "metadata": {},
   "outputs": [
    {
     "data": {
      "text/plain": [
       "'l'"
      ]
     },
     "execution_count": 45,
     "metadata": {},
     "output_type": "execute_result"
    }
   ],
   "source": [
    "s[6:-1:1]"
   ]
  },
  {
   "cell_type": "code",
   "execution_count": 46,
   "id": "60d4e15a-6985-4307-b0de-762b475d958a",
   "metadata": {},
   "outputs": [
    {
     "data": {
      "text/plain": [
       "''"
      ]
     },
     "execution_count": 46,
     "metadata": {},
     "output_type": "execute_result"
    }
   ],
   "source": [
    "s[-6:-1:-1]"
   ]
  },
  {
   "cell_type": "code",
   "execution_count": null,
   "id": "f7c9c542-fca8-4c66-9f20-c6ac62f40914",
   "metadata": {},
   "outputs": [],
   "source": []
  }
 ],
 "metadata": {
  "kernelspec": {
   "display_name": "Python 3 (ipykernel)",
   "language": "python",
   "name": "python3"
  },
  "language_info": {
   "codemirror_mode": {
    "name": "ipython",
    "version": 3
   },
   "file_extension": ".py",
   "mimetype": "text/x-python",
   "name": "python",
   "nbconvert_exporter": "python",
   "pygments_lexer": "ipython3",
   "version": "3.11.7"
  }
 },
 "nbformat": 4,
 "nbformat_minor": 5
}
