{
 "cells": [
  {
   "cell_type": "code",
   "execution_count": 6,
   "id": "179c577a-a36a-4dca-b233-4dd52ecd358d",
   "metadata": {},
   "outputs": [
    {
     "name": "stdin",
     "output_type": "stream",
     "text": [
      "enter your test marks 83\n"
     ]
    },
    {
     "name": "stdout",
     "output_type": "stream",
     "text": [
      "you will be a part of AO batch\n"
     ]
    }
   ],
   "source": [
    "#control flow statements\n",
    "\"\"\"we take the decisions in our daily basis like if today it will rain we will not go\n",
    "outside.\n",
    "In another case like if students gets 80% mrks then he will be able to attend \n",
    "extra classes .\n",
    "if Im free today then i'll plan with friends or do my class at evening.if i click \n",
    "on mute button it will not allow me to hear or speak.and many similar kinds of \n",
    "examples we need to take the decisions.\"\"\"\n",
    "#########################################\n",
    "\"\"\"if in this DATASCIENCE CLASSES,in the test if the students scores more than 80% then \n",
    "he will be in AO batch,if more than 70% and less than 80% then in A1 batch ,or if the\n",
    "students scores less than 70 % then in A2 batch.\"\"\"\n",
    "marks=int(input(\"enter your test marks\"))#by taking the input from the user\n",
    "if marks>=80:\n",
    "    print(\"you will be a part of AO batch\")\n",
    "elif marks<=70 and marks>80:\n",
    "    print(\"you will be the part of A1 batch\")\n",
    "else:\n",
    "    print(\"you are in A2 batch\")\n",
    "    "
   ]
  },
  {
   "cell_type": "code",
   "execution_count": 12,
   "id": "b3e626b1-2cad-48e1-a27d-7757b7e084f2",
   "metadata": {},
   "outputs": [
    {
     "name": "stdout",
     "output_type": "stream",
     "text": [
      "you will be the part of A1 batch\n"
     ]
    }
   ],
   "source": [
    "marks=72#assigning the value to the marks as marks value is already known\n",
    "\"\"\"here we ar using the comparison operators and if the if block conditions get false\n",
    "then it will skip the block of that if statement and as well for the other.if not of \n",
    "if not of elif conditions get satisfied ie it gives us the result as false then we \n",
    "directly execute the else block\"\"\"\n",
    "\n",
    "if marks>=80:\n",
    "    print(\"you will be a part of AO batch\")\n",
    "elif marks>=70 and marks<80:\n",
    "    print(\"you will be the part of A1 batch\")\n",
    "else:\n",
    "    print(\"you are in A2 batch\")\n",
    "    "
   ]
  },
  {
   "cell_type": "code",
   "execution_count": 13,
   "id": "958cb61d-0ac9-43db-9783-cb102b12965f",
   "metadata": {},
   "outputs": [
    {
     "name": "stdin",
     "output_type": "stream",
     "text": [
      "enter the number -241\n"
     ]
    },
    {
     "name": "stdout",
     "output_type": "stream",
     "text": [
      "you are in A2 batch\n"
     ]
    }
   ],
   "source": [
    "marks=int(input(\"enter the number\"))#taking the negative number will give else condition\n",
    "if marks>=80:\n",
    "    print(\"you will be a part of AO batch\")\n",
    "elif marks<=70 and marks>80:#here we need both the conditions to be true\n",
    "    \n",
    "    print(\"you will be the part of A1 batch\")\n",
    "else:\n",
    "    print(\"you are in A2 batch\")\n",
    "    "
   ]
  },
  {
   "cell_type": "code",
   "execution_count": 17,
   "id": "49b4ff1e-b98a-4e98-83d3-be441503d9ad",
   "metadata": {},
   "outputs": [
    {
     "name": "stdin",
     "output_type": "stream",
     "text": [
      "enter price 500\n"
     ]
    },
    {
     "name": "stdout",
     "output_type": "stream",
     "text": [
      "I will purchase\n"
     ]
    }
   ],
   "source": [
    "#if else\n",
    "price=int(input('enter price'))\n",
    "if price>1000:\n",
    "    print(\"I will not purchase\")\n",
    "else:\n",
    "    print(\"I will purchase\")"
   ]
  },
  {
   "cell_type": "code",
   "execution_count": 23,
   "id": "dfdae209-8e65-4ade-8f38-94f9d0917ce2",
   "metadata": {},
   "outputs": [
    {
     "name": "stdin",
     "output_type": "stream",
     "text": [
      "enter price 2000\n"
     ]
    },
    {
     "name": "stdout",
     "output_type": "stream",
     "text": [
      "I will not purchase\n"
     ]
    }
   ],
   "source": [
    "#only the if condition will also be executed\n",
    "price=int(input('enter price'))\n",
    "if price>1000:\n",
    "    print(\"I will not purchase\")\n"
   ]
  },
  {
   "cell_type": "code",
   "execution_count": 22,
   "id": "dfb2b7bc-c33f-4edb-9a2d-8ac6ee218841",
   "metadata": {},
   "outputs": [
    {
     "name": "stdin",
     "output_type": "stream",
     "text": [
      "enter price 7000\n"
     ]
    },
    {
     "name": "stdout",
     "output_type": "stream",
     "text": [
      "I will not purchase\n",
      "the price is too high\n"
     ]
    }
   ],
   "source": [
    "#nested if\n",
    "price=int(input('enter price'))\n",
    "if price>1000:\n",
    "    print(\"I will not purchase\")\n",
    "    if price>5000:\n",
    "        print(\"the price is too high\")\n"
   ]
  },
  {
   "cell_type": "code",
   "execution_count": 26,
   "id": "b6216078-c66b-4621-8f07-ec2c42f73c1f",
   "metadata": {},
   "outputs": [
    {
     "name": "stdin",
     "output_type": "stream",
     "text": [
      "enter price 1999\n"
     ]
    },
    {
     "name": "stdout",
     "output_type": "stream",
     "text": [
      "I will not purchase\n",
      "Its ohk\n"
     ]
    }
   ],
   "source": [
    "#if inside if-else:\n",
    "price=int(input('enter price'))\n",
    "if price>1000:\n",
    "    print(\"I will not purchase\")\n",
    "    if price>5000:\n",
    "        print(\"the price is too high\")\n",
    "    elif price<2000:\n",
    "        print(\"Its ohk\")"
   ]
  },
  {
   "cell_type": "code",
   "execution_count": 27,
   "id": "66cf24cb-17ef-496b-b2e1-5b66ec799a9b",
   "metadata": {},
   "outputs": [
    {
     "name": "stdin",
     "output_type": "stream",
     "text": [
      "enter price 999\n"
     ]
    },
    {
     "name": "stdout",
     "output_type": "stream",
     "text": [
      "I will purchase\n"
     ]
    }
   ],
   "source": [
    "#if-else inside if else:\n",
    "price=int(input('enter price'))\n",
    "if price>1000:\n",
    "    print(\"I will not purchase\")\n",
    "    if price>5000:\n",
    "        print(\"the price is too high\")\n",
    "    elif price<2000:\n",
    "        print(\"Its ohk\")\n",
    "elif price<1000:\n",
    "    print(\"I will purchase\")\n",
    "else:\n",
    "    print(\"not interested\")\n",
    "    "
   ]
  },
  {
   "cell_type": "code",
   "execution_count": 30,
   "id": "3d781645-96e2-4090-a44b-c84101e3d378",
   "metadata": {},
   "outputs": [
    {
     "name": "stdin",
     "output_type": "stream",
     "text": [
      "enter price 3000\n"
     ]
    },
    {
     "name": "stdout",
     "output_type": "stream",
     "text": [
      "I will not purchase\n"
     ]
    }
   ],
   "source": [
    "#if-else inside if-else:\n",
    "price=int(input('enter price'))\n",
    "if price>1000:\n",
    "    print(\"I will not purchase\")\n",
    "    if price>5000:\n",
    "        print(\"the price is too high\")\n",
    "    elif price<2000:\n",
    "        print(\"Its ohk\")\n",
    "elif price<1000:\n",
    "    print(\"I will purchase\")\n",
    "    if price>5000:\n",
    "        print(\"the price is too high\")\n",
    "    elif price<2000:\n",
    "        print(\"Its ohk\")\n",
    "else:\n",
    "    print(\"not interested\")\n",
    "    if price>5000:\n",
    "        print(\"the price is too high\")\n",
    "    elif price<2000:\n",
    "        print(\"Its ohk\")\n",
    "    \n",
    "    "
   ]
  },
  {
   "cell_type": "code",
   "execution_count": 32,
   "id": "5e0d7710-a8af-4254-b112-718bf7c805dd",
   "metadata": {},
   "outputs": [
    {
     "data": {
      "text/plain": [
       "2"
      ]
     },
     "execution_count": 32,
     "metadata": {},
     "output_type": "execute_result"
    }
   ],
   "source": [
    "#suppose this is the given list and we want  to add 1 to each element in the list\n",
    "l=[1,2,3,4,5,6,7,8]\n",
    "l[0]+1"
   ]
  },
  {
   "cell_type": "code",
   "execution_count": 37,
   "id": "446d63da-b6ac-46fb-834d-6848201b8c65",
   "metadata": {},
   "outputs": [
    {
     "data": {
      "text/plain": [
       "[2]"
      ]
     },
     "execution_count": 37,
     "metadata": {},
     "output_type": "execute_result"
    }
   ],
   "source": [
    "l1=[]\n",
    "l1.append(l[0]+1)\n",
    "l1\n",
    "#so similar we have to do with all the elements so  we have to do for all the elements\n",
    "#which will be very lengthy process\n",
    "#so  here we can  use the loop"
   ]
  },
  {
   "cell_type": "code",
   "execution_count": 41,
   "id": "91ed5372-d18c-449a-b86a-6c40358fa538",
   "metadata": {},
   "outputs": [
    {
     "name": "stdout",
     "output_type": "stream",
     "text": [
      "1\n",
      "2\n",
      "3\n",
      "4\n",
      "5\n",
      "6\n",
      "7\n",
      "8\n"
     ]
    }
   ],
   "source": [
    "#we will extract all the eleemnts from the list\n",
    "for i in l:#here i is the temporary variable\n",
    "    print(i)\n",
    "#it will execute uptill it is true when the elements are finished it will then  stop"
   ]
  },
  {
   "cell_type": "code",
   "execution_count": 42,
   "id": "4bb1627e-c427-44ce-b2dc-86385732ba3c",
   "metadata": {},
   "outputs": [
    {
     "name": "stdout",
     "output_type": "stream",
     "text": [
      "2\n",
      "3\n",
      "4\n",
      "5\n",
      "6\n",
      "7\n",
      "8\n",
      "9\n"
     ]
    }
   ],
   "source": [
    "#now we will add 1 to all the elements of list l.\n",
    "for i in l:\n",
    "    print(i+1)\n",
    "#but still they are not in list so we will append it into the list l1 in the next step"
   ]
  },
  {
   "cell_type": "code",
   "execution_count": 45,
   "id": "519e4e13-deea-4297-9afe-a96660551136",
   "metadata": {},
   "outputs": [
    {
     "name": "stdout",
     "output_type": "stream",
     "text": [
      "[2, 3, 4, 5, 6, 7, 8, 9]\n"
     ]
    }
   ],
   "source": [
    "l1=[]#for that we will declare the empty list and then insert one by one elements init\n",
    "for i in l:\n",
    "    l1.append(i+1)\n",
    "print(l1)"
   ]
  },
  {
   "cell_type": "code",
   "execution_count": 51,
   "id": "953b31cd-df59-44ea-9c6a-66d14b25132b",
   "metadata": {},
   "outputs": [
    {
     "name": "stdout",
     "output_type": "stream",
     "text": [
      "['sudh', 'kumar', 'pwskills', 'courses']\n",
      "sudh\n",
      "kumar\n",
      "pwskills\n",
      "courses\n",
      "['SUDH', 'KUMAR', 'PWSKILLS', 'COURSES']\n"
     ]
    }
   ],
   "source": [
    "#convert the below list in uppercase\n",
    "l=[\"sudh\",\"kumar\",\"pwskills\",\"courses\"]\n",
    "print(l)\n",
    "l1=[]\n",
    "for i in l:#extract all the elements from the list\n",
    "    print(i)\n",
    "#######################################\n",
    "for i in l:\n",
    "    #to do all elements in uppercase by upper() and then append them in l1 list\n",
    "    #one by one\n",
    "    l1.append(i.upper())\n",
    "print(l1)\n",
    "    \n"
   ]
  },
  {
   "cell_type": "code",
   "execution_count": 57,
   "id": "3b36bcfd-5844-4141-9cd4-f33b2d317888",
   "metadata": {},
   "outputs": [
    {
     "name": "stdout",
     "output_type": "stream",
     "text": [
      "[1, 2, 3, 4, 4, 'sudh', 'kumar', 324, 34.456, 'abc']\n",
      "[1, 2, 3, 4, 4, 324, 34.456]\n",
      "['sudh', 'kumar', 'abc']\n"
     ]
    }
   ],
   "source": [
    "l=[1,2,3,4,4,\"sudh\",\"kumar\",324,34.456,\"abc\"]\n",
    "print(l)\n",
    "l1_num=[]\n",
    "l2_str=[]\n",
    "#####################\n",
    "for i in l:\n",
    "    if type(i)==int or type(i)==float :\n",
    "        l1_num.append(i)\n",
    "    else:\n",
    "        l2_str.append(i)\n",
    "#########################\n",
    "print(l1_num)\n",
    "print(l2_str)"
   ]
  }
 ],
 "metadata": {
  "kernelspec": {
   "display_name": "Python 3 (ipykernel)",
   "language": "python",
   "name": "python3"
  },
  "language_info": {
   "codemirror_mode": {
    "name": "ipython",
    "version": 3
   },
   "file_extension": ".py",
   "mimetype": "text/x-python",
   "name": "python",
   "nbconvert_exporter": "python",
   "pygments_lexer": "ipython3",
   "version": "3.11.7"
  }
 },
 "nbformat": 4,
 "nbformat_minor": 5
}
