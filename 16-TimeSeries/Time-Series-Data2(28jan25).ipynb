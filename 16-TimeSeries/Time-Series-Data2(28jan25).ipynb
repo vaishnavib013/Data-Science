{
 "cells": [
  {
   "cell_type": "code",
   "execution_count": 7,
   "id": "807de1f9-2c08-4c7c-adab-f07dbd6d43b0",
   "metadata": {},
   "outputs": [],
   "source": [
    "from datetime import datetime"
   ]
  },
  {
   "cell_type": "code",
   "execution_count": 8,
   "id": "ff3d0a6e-53bb-455c-8d29-6948e6911916",
   "metadata": {},
   "outputs": [],
   "source": [
    "#to illustrate the order of arguments\n",
    "my_year=2017\n",
    "my_month=1\n",
    "my_day=2\n",
    "my_hour=13\n",
    "my_minute=30\n",
    "my_second=15"
   ]
  },
  {
   "cell_type": "code",
   "execution_count": 9,
   "id": "0492ae8f-89a2-4414-a4b6-631423d8a5b5",
   "metadata": {},
   "outputs": [],
   "source": [
    "#January 2nd,2017\n",
    "my_date = datetime(my_year,my_month,my_day)"
   ]
  },
  {
   "cell_type": "code",
   "execution_count": 10,
   "id": "26814fbe-9804-47a3-bbe6-512a728451d7",
   "metadata": {},
   "outputs": [
    {
     "data": {
      "text/plain": [
       "datetime.datetime(2017, 1, 2, 0, 0)"
      ]
     },
     "execution_count": 10,
     "metadata": {},
     "output_type": "execute_result"
    }
   ],
   "source": [
    "#Defaults to 0:00\n",
    "my_date"
   ]
  },
  {
   "cell_type": "code",
   "execution_count": 11,
   "id": "0d465802-ad3e-430d-b8f7-95db2e0a864e",
   "metadata": {},
   "outputs": [],
   "source": [
    "#january 2nd, 2017 at 13:30:15\n",
    "my_date_time=datetime(my_year,my_month,my_day,my_hour,my_minute,my_second)"
   ]
  },
  {
   "cell_type": "code",
   "execution_count": 12,
   "id": "0d275f45-5061-438f-9c6a-4101ea791f8a",
   "metadata": {},
   "outputs": [
    {
     "data": {
      "text/plain": [
       "datetime.datetime(2017, 1, 2, 13, 30, 15)"
      ]
     },
     "execution_count": 12,
     "metadata": {},
     "output_type": "execute_result"
    }
   ],
   "source": [
    "my_date_time"
   ]
  },
  {
   "cell_type": "code",
   "execution_count": 13,
   "id": "b54ef2c5-6433-4606-83f8-245a90a98bf6",
   "metadata": {},
   "outputs": [
    {
     "data": {
      "text/plain": [
       "2"
      ]
     },
     "execution_count": 13,
     "metadata": {},
     "output_type": "execute_result"
    }
   ],
   "source": [
    "my_date.day"
   ]
  },
  {
   "cell_type": "code",
   "execution_count": 14,
   "id": "3c06f22d-b6a5-4de4-b301-5efadc5f5cf8",
   "metadata": {},
   "outputs": [
    {
     "data": {
      "text/plain": [
       "13"
      ]
     },
     "execution_count": 14,
     "metadata": {},
     "output_type": "execute_result"
    }
   ],
   "source": [
    "my_date_time.hour"
   ]
  },
  {
   "cell_type": "markdown",
   "id": "12366f8e-0e72-42ef-b34a-8e150e4d5ea6",
   "metadata": {},
   "source": [
    "## Numpy Datetime Arrays"
   ]
  },
  {
   "cell_type": "code",
   "execution_count": null,
   "id": "2cd28ab2-5b39-442f-a47f-551471d7212d",
   "metadata": {},
   "outputs": [],
   "source": [
    "We mention that numpy handdles dates more efficiently than Python"
   ]
  },
  {
   "cell_type": "code",
   "execution_count": 15,
   "id": "8623336f-a211-40fc-853b-df12fe3cd78c",
   "metadata": {},
   "outputs": [],
   "source": [
    "import numpy as np\n"
   ]
  },
  {
   "cell_type": "code",
   "execution_count": 19,
   "id": "34b82d5b-51ec-4a32-a532-e3925b9a1c2e",
   "metadata": {},
   "outputs": [
    {
     "data": {
      "text/plain": [
       "array(['2016-03-15', '2017-05-24', '2018-08-09'], dtype='datetime64[D]')"
      ]
     },
     "execution_count": 19,
     "metadata": {},
     "output_type": "execute_result"
    }
   ],
   "source": [
    "#CREATE AN ARRAY FROM THREE DATES\n",
    "np.array(['2016-03-15','2017-05-24','2018-08-09'],dtype='datetime64')"
   ]
  },
  {
   "cell_type": "code",
   "execution_count": null,
   "id": "8337e3be-bde1-4db7-ba14-28adbce1fac5",
   "metadata": {},
   "outputs": [],
   "source": [
    "#Note: We see the dytype listed as'datetime64[D]."
   ]
  },
  {
   "cell_type": "code",
   "execution_count": 17,
   "id": "8cf5cfb2-1c2f-4bb9-9fc4-aca1493f36a7",
   "metadata": {},
   "outputs": [
    {
     "data": {
      "text/plain": [
       "array(['2016-03-15T00', '2017-05-24T00', '2018-08-09T00'],\n",
       "      dtype='datetime64[h]')"
      ]
     },
     "execution_count": 17,
     "metadata": {},
     "output_type": "execute_result"
    }
   ],
   "source": [
    "np.array(['2016-03-15','2017-05-24','2018-08-09'],dtype='datetime64[h]')"
   ]
  },
  {
   "cell_type": "code",
   "execution_count": 18,
   "id": "85941a85-99cc-4302-a223-c21ce75f0e02",
   "metadata": {},
   "outputs": [
    {
     "data": {
      "text/plain": [
       "array(['2016', '2017', '2018'], dtype='datetime64[Y]')"
      ]
     },
     "execution_count": 18,
     "metadata": {},
     "output_type": "execute_result"
    }
   ],
   "source": [
    "np.array(['2016-03-15','2017-05-24','2018-08-09'],dtype='datetime64[Y]')"
   ]
  },
  {
   "cell_type": "markdown",
   "id": "d35eaa04-f6c8-43f5-a523-14e06067a7f0",
   "metadata": {},
   "source": [
    "## Numpy Date Range"
   ]
  },
  {
   "cell_type": "markdown",
   "id": "3798bbe5-148b-4477-aa1c-b2dc8d9bfcd2",
   "metadata": {},
   "source": [
    "Just as np.arange(start,stop,step)can be used to produced an array of evenly-spaced integer, we can pass a dtype argument to obtain an array of dates.Remember that the step date is exclusive."
   ]
  },
  {
   "cell_type": "code",
   "execution_count": 21,
   "id": "674c965d-ccf0-40a4-b6a6-71034808dc25",
   "metadata": {},
   "outputs": [
    {
     "data": {
      "text/plain": [
       "array(['2018-06-01', '2018-06-08', '2018-06-15', '2018-06-22'],\n",
       "      dtype='datetime64[D]')"
      ]
     },
     "execution_count": 21,
     "metadata": {},
     "output_type": "execute_result"
    }
   ],
   "source": [
    "#AN ARRAY OF DATES FROM 6/1/18 TO 6/22/18 SPACED ONE WEEK APART\n",
    "np.arange('2018-06-01','2018-06-23',7,dtype='datetime64[D]')"
   ]
  },
  {
   "cell_type": "markdown",
   "id": "aeaa7882-5923-4468-9a45-5ca24fa76a8c",
   "metadata": {},
   "source": [
    "by omoting the step value we can obtain every value based on the precision"
   ]
  },
  {
   "cell_type": "code",
   "execution_count": 22,
   "id": "8a804db0-a424-475d-811a-9712055401c5",
   "metadata": {},
   "outputs": [
    {
     "data": {
      "text/plain": [
       "array([], dtype='datetime64[Y]')"
      ]
     },
     "execution_count": 22,
     "metadata": {},
     "output_type": "execute_result"
    }
   ],
   "source": [
    "#AN ARRAY OF DATES FOR EVERY YEAR FROM 1968 TO 1975\n",
    "np.arange('2018-06-01','2018-06-23',7,dtype='datetime64[Y]')"
   ]
  },
  {
   "cell_type": "markdown",
   "id": "421f8416-1865-4a7f-a3d3-9d84368ff95f",
   "metadata": {},
   "source": [
    "## Pandas Datetime Index"
   ]
  },
  {
   "cell_type": "markdown",
   "id": "2b184e3f-db8a-40b2-8e5a-804e114461b6",
   "metadata": {},
   "source": [
    "We'll usually deal with time series as a datetime index when working with pandas dataframes.Foetunately pandas has lots of functiona and methods to work with time series.\n"
   ]
  },
  {
   "cell_type": "code",
   "execution_count": 23,
   "id": "b157f7e4-1735-4d0b-929d-6ba2ac8a7464",
   "metadata": {},
   "outputs": [],
   "source": [
    "import pandas as pd"
   ]
  },
  {
   "cell_type": "markdown",
   "id": "1bcaf81d-ff87-4851-a927-0c15128c0219",
   "metadata": {},
   "source": [
    "The simplest way to build a Datetimeindex is with the pd.date_range() method:"
   ]
  },
  {
   "cell_type": "code",
   "execution_count": 26,
   "id": "15896130-aa1f-4777-a62a-24ad9f1e4b9c",
   "metadata": {},
   "outputs": [
    {
     "data": {
      "text/plain": [
       "DatetimeIndex(['2018-07-08', '2018-07-09', '2018-07-10', '2018-07-11',\n",
       "               '2018-07-12', '2018-07-13', '2018-07-14'],\n",
       "              dtype='datetime64[ns]', freq='D')"
      ]
     },
     "execution_count": 26,
     "metadata": {},
     "output_type": "execute_result"
    }
   ],
   "source": [
    "#THE WEEK OF JULY 8TH,2018\n",
    "idx = pd.date_range('7/8/2018',periods=7,freq='D')\n",
    "idx"
   ]
  },
  {
   "cell_type": "markdown",
   "id": "85fa89ff-e4bf-4436-97fc-8104f8c8a5e8",
   "metadata": {},
   "source": [
    "Anather way is to convert incoming test with the pd.to_datetime() method:"
   ]
  },
  {
   "cell_type": "code",
   "execution_count": 31,
   "id": "3f96cd31-f628-4d5b-8b48-e6101cdcdab5",
   "metadata": {},
   "outputs": [
    {
     "data": {
      "text/plain": [
       "DatetimeIndex(['2018-01-01', '2018-01-02', '2018-01-03', 'NaT'], dtype='datetime64[ns]', freq=None)"
      ]
     },
     "execution_count": 31,
     "metadata": {},
     "output_type": "execute_result"
    }
   ],
   "source": [
    "idx = pd.to_datetime(['Jan 01, 2018','1/2/18','03-Jan-2018',None])\n",
    "idx"
   ]
  },
  {
   "cell_type": "markdown",
   "id": "3b13a0a5-7267-4aa4-96cb-edec9518e6c9",
   "metadata": {},
   "source": [
    "A third way to pass a list or an array of datetime objects into the pd.DatetimeIndex() method:\n"
   ]
  },
  {
   "cell_type": "code",
   "execution_count": 33,
   "id": "da38a664-0aa8-410b-82f2-6cf4aa4a178d",
   "metadata": {},
   "outputs": [
    {
     "data": {
      "text/plain": [
       "array(['2016-03-15', '2017-05-24', '2018-08-09'], dtype='datetime64[D]')"
      ]
     },
     "execution_count": 33,
     "metadata": {},
     "output_type": "execute_result"
    }
   ],
   "source": [
    "#Create a numpy datetime array\n",
    "some_dates=np.array(['2016-03-15','2017-05-24','2018-08-09'],dtype='datetime64[D]')\n",
    "some_dates"
   ]
  },
  {
   "cell_type": "code",
   "execution_count": 34,
   "id": "c5557e07-bfe3-4f53-a921-d3e31db59ff4",
   "metadata": {},
   "outputs": [
    {
     "data": {
      "text/plain": [
       "DatetimeIndex(['2016-03-15', '2017-05-24', '2018-08-09'], dtype='datetime64[ns]', freq=None)"
      ]
     },
     "execution_count": 34,
     "metadata": {},
     "output_type": "execute_result"
    }
   ],
   "source": [
    "#Convert to an index\n",
    "idx=pd.DatetimeIndex(some_dates)\n",
    "idx"
   ]
  },
  {
   "cell_type": "markdown",
   "id": "aee528c6-bb1f-4616-9f39-56b0ded17601",
   "metadata": {},
   "source": [
    "Notic that even though the dated come into pandas with a day-level precision,pandas assign a nonosecond-level precesion with the"
   ]
  },
  {
   "cell_type": "markdown",
   "id": "e329dd29-29b1-488b-8e47-503a299fe81c",
   "metadata": {},
   "source": [
    "## Pandas Datetime Analysis"
   ]
  },
  {
   "cell_type": "code",
   "execution_count": 35,
   "id": "d56a0bb5-88e9-4d3f-8670-ec991d957b4b",
   "metadata": {},
   "outputs": [
    {
     "name": "stdout",
     "output_type": "stream",
     "text": [
      "[[-0.24530199 -0.59837702]\n",
      " [ 0.19074496  0.66502339]\n",
      " [-0.52870369 -1.04167517]]\n"
     ]
    }
   ],
   "source": [
    "#Create some random data\n",
    "data=np.random.randn(3,2)\n",
    "cols=['A','B']\n",
    "print(data)"
   ]
  },
  {
   "cell_type": "code",
   "execution_count": 37,
   "id": "5ca40c67-fb6f-40b1-ad45-19d5858a5bdc",
   "metadata": {},
   "outputs": [
    {
     "data": {
      "text/html": [
       "<div>\n",
       "<style scoped>\n",
       "    .dataframe tbody tr th:only-of-type {\n",
       "        vertical-align: middle;\n",
       "    }\n",
       "\n",
       "    .dataframe tbody tr th {\n",
       "        vertical-align: top;\n",
       "    }\n",
       "\n",
       "    .dataframe thead th {\n",
       "        text-align: right;\n",
       "    }\n",
       "</style>\n",
       "<table border=\"1\" class=\"dataframe\">\n",
       "  <thead>\n",
       "    <tr style=\"text-align: right;\">\n",
       "      <th></th>\n",
       "      <th>A</th>\n",
       "      <th>B</th>\n",
       "    </tr>\n",
       "  </thead>\n",
       "  <tbody>\n",
       "    <tr>\n",
       "      <th>2016-03-15</th>\n",
       "      <td>-0.245302</td>\n",
       "      <td>-0.598377</td>\n",
       "    </tr>\n",
       "    <tr>\n",
       "      <th>2017-05-24</th>\n",
       "      <td>0.190745</td>\n",
       "      <td>0.665023</td>\n",
       "    </tr>\n",
       "    <tr>\n",
       "      <th>2018-08-09</th>\n",
       "      <td>-0.528704</td>\n",
       "      <td>-1.041675</td>\n",
       "    </tr>\n",
       "  </tbody>\n",
       "</table>\n",
       "</div>"
      ],
      "text/plain": [
       "                   A         B\n",
       "2016-03-15 -0.245302 -0.598377\n",
       "2017-05-24  0.190745  0.665023\n",
       "2018-08-09 -0.528704 -1.041675"
      ]
     },
     "execution_count": 37,
     "metadata": {},
     "output_type": "execute_result"
    }
   ],
   "source": [
    "#Create a DataFrame with our random data,our date index,and our column \n",
    "df=pd.DataFrame(data,idx,cols)\n",
    "df"
   ]
  },
  {
   "cell_type": "markdown",
   "id": "3f633e23-2eaf-4152-b96d-966c356ae3d0",
   "metadata": {},
   "source": [
    "Now we can perform a typical analysis of our DataFrame"
   ]
  },
  {
   "cell_type": "code",
   "execution_count": 39,
   "id": "82a12bd3-b134-4c19-a9cf-5faed82e1134",
   "metadata": {},
   "outputs": [
    {
     "data": {
      "text/plain": [
       "DatetimeIndex(['2016-03-15', '2017-05-24', '2018-08-09'], dtype='datetime64[ns]', freq=None)"
      ]
     },
     "execution_count": 39,
     "metadata": {},
     "output_type": "execute_result"
    }
   ],
   "source": [
    "df.index"
   ]
  },
  {
   "cell_type": "code",
   "execution_count": 40,
   "id": "b1b3b093-8bd6-4fd6-b887-682166c0ba63",
   "metadata": {},
   "outputs": [
    {
     "data": {
      "text/plain": [
       "Timestamp('2018-08-09 00:00:00')"
      ]
     },
     "execution_count": 40,
     "metadata": {},
     "output_type": "execute_result"
    }
   ],
   "source": [
    "#Latest Date Value\n",
    "df.index.max()"
   ]
  },
  {
   "cell_type": "code",
   "execution_count": 42,
   "id": "de0094fb-d1be-4d88-98db-10759e512bf5",
   "metadata": {},
   "outputs": [
    {
     "data": {
      "text/plain": [
       "0"
      ]
     },
     "execution_count": 42,
     "metadata": {},
     "output_type": "execute_result"
    }
   ],
   "source": [
    "#Earliest Date Index Location\n",
    "df.index.argmin()"
   ]
  },
  {
   "cell_type": "code",
   "execution_count": 43,
   "id": "ccfb141b-a5ac-4feb-b105-93e36a86a9cf",
   "metadata": {},
   "outputs": [
    {
     "data": {
      "text/plain": [
       "Timestamp('2016-03-15 00:00:00')"
      ]
     },
     "execution_count": 43,
     "metadata": {},
     "output_type": "execute_result"
    }
   ],
   "source": [
    "#Earliest Date Value\n",
    "df.index.min()"
   ]
  },
  {
   "cell_type": "code",
   "execution_count": 41,
   "id": "eb4be1fb-d90e-42fe-9802-1f4a525c4f25",
   "metadata": {},
   "outputs": [
    {
     "data": {
      "text/plain": [
       "2"
      ]
     },
     "execution_count": 41,
     "metadata": {},
     "output_type": "execute_result"
    }
   ],
   "source": [
    "#Latest Date Index Location\n",
    "df.index.argmax()"
   ]
  },
  {
   "cell_type": "code",
   "execution_count": null,
   "id": "99160037-2d94-45b1-b2db-1f9df928d9eb",
   "metadata": {},
   "outputs": [],
   "source": []
  }
 ],
 "metadata": {
  "kernelspec": {
   "display_name": "Python 3 (ipykernel)",
   "language": "python",
   "name": "python3"
  },
  "language_info": {
   "codemirror_mode": {
    "name": "ipython",
    "version": 3
   },
   "file_extension": ".py",
   "mimetype": "text/x-python",
   "name": "python",
   "nbconvert_exporter": "python",
   "pygments_lexer": "ipython3",
   "version": "3.11.4"
  }
 },
 "nbformat": 4,
 "nbformat_minor": 5
}
