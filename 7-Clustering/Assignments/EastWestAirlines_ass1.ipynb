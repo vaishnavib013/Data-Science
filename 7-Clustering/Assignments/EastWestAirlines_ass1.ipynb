{
 "cells": [
  {
   "cell_type": "code",
   "execution_count": 2,
   "id": "e6424dbe-abf1-460c-b404-3577a967e9da",
   "metadata": {},
   "outputs": [],
   "source": [
    "import numpy as np\n",
    "import pandas as pd\n",
    "import matplotlib.pyplot as plt\n",
    "import seaborn as sns"
   ]
  },
  {
   "cell_type": "code",
   "execution_count": 3,
   "id": "0ea0834d-421a-4609-8143-d331cd5f1e29",
   "metadata": {},
   "outputs": [],
   "source": [
    "#read the file\n",
    "df=pd.read_csv(\"C:/7-clustering/Assignments/EastWestAirlines.csv\")"
   ]
  },
  {
   "cell_type": "code",
   "execution_count": 4,
   "id": "63225591-aa07-4cf8-93aa-e8dfce7f59b5",
   "metadata": {},
   "outputs": [
    {
     "data": {
      "text/html": [
       "<div>\n",
       "<style scoped>\n",
       "    .dataframe tbody tr th:only-of-type {\n",
       "        vertical-align: middle;\n",
       "    }\n",
       "\n",
       "    .dataframe tbody tr th {\n",
       "        vertical-align: top;\n",
       "    }\n",
       "\n",
       "    .dataframe thead th {\n",
       "        text-align: right;\n",
       "    }\n",
       "</style>\n",
       "<table border=\"1\" class=\"dataframe\">\n",
       "  <thead>\n",
       "    <tr style=\"text-align: right;\">\n",
       "      <th></th>\n",
       "      <th>ID#</th>\n",
       "      <th>Balance</th>\n",
       "      <th>Qual_miles</th>\n",
       "      <th>cc1_miles</th>\n",
       "      <th>cc2_miles</th>\n",
       "      <th>cc3_miles</th>\n",
       "      <th>Bonus_miles</th>\n",
       "      <th>Bonus_trans</th>\n",
       "      <th>Flight_miles_12mo</th>\n",
       "      <th>Flight_trans_12</th>\n",
       "      <th>Days_since_enroll</th>\n",
       "      <th>Award?</th>\n",
       "    </tr>\n",
       "  </thead>\n",
       "  <tbody>\n",
       "    <tr>\n",
       "      <th>0</th>\n",
       "      <td>1</td>\n",
       "      <td>28143</td>\n",
       "      <td>0</td>\n",
       "      <td>1</td>\n",
       "      <td>1</td>\n",
       "      <td>1</td>\n",
       "      <td>174</td>\n",
       "      <td>1</td>\n",
       "      <td>0</td>\n",
       "      <td>0</td>\n",
       "      <td>7000</td>\n",
       "      <td>0</td>\n",
       "    </tr>\n",
       "    <tr>\n",
       "      <th>1</th>\n",
       "      <td>2</td>\n",
       "      <td>19244</td>\n",
       "      <td>0</td>\n",
       "      <td>1</td>\n",
       "      <td>1</td>\n",
       "      <td>1</td>\n",
       "      <td>215</td>\n",
       "      <td>2</td>\n",
       "      <td>0</td>\n",
       "      <td>0</td>\n",
       "      <td>6968</td>\n",
       "      <td>0</td>\n",
       "    </tr>\n",
       "    <tr>\n",
       "      <th>2</th>\n",
       "      <td>3</td>\n",
       "      <td>41354</td>\n",
       "      <td>0</td>\n",
       "      <td>1</td>\n",
       "      <td>1</td>\n",
       "      <td>1</td>\n",
       "      <td>4123</td>\n",
       "      <td>4</td>\n",
       "      <td>0</td>\n",
       "      <td>0</td>\n",
       "      <td>7034</td>\n",
       "      <td>0</td>\n",
       "    </tr>\n",
       "    <tr>\n",
       "      <th>3</th>\n",
       "      <td>4</td>\n",
       "      <td>14776</td>\n",
       "      <td>0</td>\n",
       "      <td>1</td>\n",
       "      <td>1</td>\n",
       "      <td>1</td>\n",
       "      <td>500</td>\n",
       "      <td>1</td>\n",
       "      <td>0</td>\n",
       "      <td>0</td>\n",
       "      <td>6952</td>\n",
       "      <td>0</td>\n",
       "    </tr>\n",
       "    <tr>\n",
       "      <th>4</th>\n",
       "      <td>5</td>\n",
       "      <td>97752</td>\n",
       "      <td>0</td>\n",
       "      <td>4</td>\n",
       "      <td>1</td>\n",
       "      <td>1</td>\n",
       "      <td>43300</td>\n",
       "      <td>26</td>\n",
       "      <td>2077</td>\n",
       "      <td>4</td>\n",
       "      <td>6935</td>\n",
       "      <td>1</td>\n",
       "    </tr>\n",
       "    <tr>\n",
       "      <th>...</th>\n",
       "      <td>...</td>\n",
       "      <td>...</td>\n",
       "      <td>...</td>\n",
       "      <td>...</td>\n",
       "      <td>...</td>\n",
       "      <td>...</td>\n",
       "      <td>...</td>\n",
       "      <td>...</td>\n",
       "      <td>...</td>\n",
       "      <td>...</td>\n",
       "      <td>...</td>\n",
       "      <td>...</td>\n",
       "    </tr>\n",
       "    <tr>\n",
       "      <th>3994</th>\n",
       "      <td>4017</td>\n",
       "      <td>18476</td>\n",
       "      <td>0</td>\n",
       "      <td>1</td>\n",
       "      <td>1</td>\n",
       "      <td>1</td>\n",
       "      <td>8525</td>\n",
       "      <td>4</td>\n",
       "      <td>200</td>\n",
       "      <td>1</td>\n",
       "      <td>1403</td>\n",
       "      <td>1</td>\n",
       "    </tr>\n",
       "    <tr>\n",
       "      <th>3995</th>\n",
       "      <td>4018</td>\n",
       "      <td>64385</td>\n",
       "      <td>0</td>\n",
       "      <td>1</td>\n",
       "      <td>1</td>\n",
       "      <td>1</td>\n",
       "      <td>981</td>\n",
       "      <td>5</td>\n",
       "      <td>0</td>\n",
       "      <td>0</td>\n",
       "      <td>1395</td>\n",
       "      <td>1</td>\n",
       "    </tr>\n",
       "    <tr>\n",
       "      <th>3996</th>\n",
       "      <td>4019</td>\n",
       "      <td>73597</td>\n",
       "      <td>0</td>\n",
       "      <td>3</td>\n",
       "      <td>1</td>\n",
       "      <td>1</td>\n",
       "      <td>25447</td>\n",
       "      <td>8</td>\n",
       "      <td>0</td>\n",
       "      <td>0</td>\n",
       "      <td>1402</td>\n",
       "      <td>1</td>\n",
       "    </tr>\n",
       "    <tr>\n",
       "      <th>3997</th>\n",
       "      <td>4020</td>\n",
       "      <td>54899</td>\n",
       "      <td>0</td>\n",
       "      <td>1</td>\n",
       "      <td>1</td>\n",
       "      <td>1</td>\n",
       "      <td>500</td>\n",
       "      <td>1</td>\n",
       "      <td>500</td>\n",
       "      <td>1</td>\n",
       "      <td>1401</td>\n",
       "      <td>0</td>\n",
       "    </tr>\n",
       "    <tr>\n",
       "      <th>3998</th>\n",
       "      <td>4021</td>\n",
       "      <td>3016</td>\n",
       "      <td>0</td>\n",
       "      <td>1</td>\n",
       "      <td>1</td>\n",
       "      <td>1</td>\n",
       "      <td>0</td>\n",
       "      <td>0</td>\n",
       "      <td>0</td>\n",
       "      <td>0</td>\n",
       "      <td>1398</td>\n",
       "      <td>0</td>\n",
       "    </tr>\n",
       "  </tbody>\n",
       "</table>\n",
       "<p>3999 rows × 12 columns</p>\n",
       "</div>"
      ],
      "text/plain": [
       "       ID#  Balance  Qual_miles  cc1_miles  cc2_miles  cc3_miles  Bonus_miles  \\\n",
       "0        1    28143           0          1          1          1          174   \n",
       "1        2    19244           0          1          1          1          215   \n",
       "2        3    41354           0          1          1          1         4123   \n",
       "3        4    14776           0          1          1          1          500   \n",
       "4        5    97752           0          4          1          1        43300   \n",
       "...    ...      ...         ...        ...        ...        ...          ...   \n",
       "3994  4017    18476           0          1          1          1         8525   \n",
       "3995  4018    64385           0          1          1          1          981   \n",
       "3996  4019    73597           0          3          1          1        25447   \n",
       "3997  4020    54899           0          1          1          1          500   \n",
       "3998  4021     3016           0          1          1          1            0   \n",
       "\n",
       "      Bonus_trans  Flight_miles_12mo  Flight_trans_12  Days_since_enroll  \\\n",
       "0               1                  0                0               7000   \n",
       "1               2                  0                0               6968   \n",
       "2               4                  0                0               7034   \n",
       "3               1                  0                0               6952   \n",
       "4              26               2077                4               6935   \n",
       "...           ...                ...              ...                ...   \n",
       "3994            4                200                1               1403   \n",
       "3995            5                  0                0               1395   \n",
       "3996            8                  0                0               1402   \n",
       "3997            1                500                1               1401   \n",
       "3998            0                  0                0               1398   \n",
       "\n",
       "      Award?  \n",
       "0          0  \n",
       "1          0  \n",
       "2          0  \n",
       "3          0  \n",
       "4          1  \n",
       "...      ...  \n",
       "3994       1  \n",
       "3995       1  \n",
       "3996       1  \n",
       "3997       0  \n",
       "3998       0  \n",
       "\n",
       "[3999 rows x 12 columns]"
      ]
     },
     "execution_count": 4,
     "metadata": {},
     "output_type": "execute_result"
    }
   ],
   "source": [
    "df"
   ]
  },
  {
   "cell_type": "code",
   "execution_count": 5,
   "id": "bd8c2a18-864b-42fe-9d5e-02c598d89880",
   "metadata": {},
   "outputs": [
    {
     "data": {
      "text/html": [
       "<div>\n",
       "<style scoped>\n",
       "    .dataframe tbody tr th:only-of-type {\n",
       "        vertical-align: middle;\n",
       "    }\n",
       "\n",
       "    .dataframe tbody tr th {\n",
       "        vertical-align: top;\n",
       "    }\n",
       "\n",
       "    .dataframe thead th {\n",
       "        text-align: right;\n",
       "    }\n",
       "</style>\n",
       "<table border=\"1\" class=\"dataframe\">\n",
       "  <thead>\n",
       "    <tr style=\"text-align: right;\">\n",
       "      <th></th>\n",
       "      <th>ID#</th>\n",
       "      <th>Balance</th>\n",
       "      <th>Qual_miles</th>\n",
       "      <th>cc1_miles</th>\n",
       "      <th>cc2_miles</th>\n",
       "      <th>cc3_miles</th>\n",
       "      <th>Bonus_miles</th>\n",
       "      <th>Bonus_trans</th>\n",
       "      <th>Flight_miles_12mo</th>\n",
       "      <th>Flight_trans_12</th>\n",
       "      <th>Days_since_enroll</th>\n",
       "      <th>Award?</th>\n",
       "    </tr>\n",
       "  </thead>\n",
       "  <tbody>\n",
       "    <tr>\n",
       "      <th>0</th>\n",
       "      <td>1</td>\n",
       "      <td>28143</td>\n",
       "      <td>0</td>\n",
       "      <td>1</td>\n",
       "      <td>1</td>\n",
       "      <td>1</td>\n",
       "      <td>174</td>\n",
       "      <td>1</td>\n",
       "      <td>0</td>\n",
       "      <td>0</td>\n",
       "      <td>7000</td>\n",
       "      <td>0</td>\n",
       "    </tr>\n",
       "    <tr>\n",
       "      <th>1</th>\n",
       "      <td>2</td>\n",
       "      <td>19244</td>\n",
       "      <td>0</td>\n",
       "      <td>1</td>\n",
       "      <td>1</td>\n",
       "      <td>1</td>\n",
       "      <td>215</td>\n",
       "      <td>2</td>\n",
       "      <td>0</td>\n",
       "      <td>0</td>\n",
       "      <td>6968</td>\n",
       "      <td>0</td>\n",
       "    </tr>\n",
       "    <tr>\n",
       "      <th>2</th>\n",
       "      <td>3</td>\n",
       "      <td>41354</td>\n",
       "      <td>0</td>\n",
       "      <td>1</td>\n",
       "      <td>1</td>\n",
       "      <td>1</td>\n",
       "      <td>4123</td>\n",
       "      <td>4</td>\n",
       "      <td>0</td>\n",
       "      <td>0</td>\n",
       "      <td>7034</td>\n",
       "      <td>0</td>\n",
       "    </tr>\n",
       "    <tr>\n",
       "      <th>3</th>\n",
       "      <td>4</td>\n",
       "      <td>14776</td>\n",
       "      <td>0</td>\n",
       "      <td>1</td>\n",
       "      <td>1</td>\n",
       "      <td>1</td>\n",
       "      <td>500</td>\n",
       "      <td>1</td>\n",
       "      <td>0</td>\n",
       "      <td>0</td>\n",
       "      <td>6952</td>\n",
       "      <td>0</td>\n",
       "    </tr>\n",
       "    <tr>\n",
       "      <th>4</th>\n",
       "      <td>5</td>\n",
       "      <td>97752</td>\n",
       "      <td>0</td>\n",
       "      <td>4</td>\n",
       "      <td>1</td>\n",
       "      <td>1</td>\n",
       "      <td>43300</td>\n",
       "      <td>26</td>\n",
       "      <td>2077</td>\n",
       "      <td>4</td>\n",
       "      <td>6935</td>\n",
       "      <td>1</td>\n",
       "    </tr>\n",
       "  </tbody>\n",
       "</table>\n",
       "</div>"
      ],
      "text/plain": [
       "   ID#  Balance  Qual_miles  cc1_miles  cc2_miles  cc3_miles  Bonus_miles  \\\n",
       "0    1    28143           0          1          1          1          174   \n",
       "1    2    19244           0          1          1          1          215   \n",
       "2    3    41354           0          1          1          1         4123   \n",
       "3    4    14776           0          1          1          1          500   \n",
       "4    5    97752           0          4          1          1        43300   \n",
       "\n",
       "   Bonus_trans  Flight_miles_12mo  Flight_trans_12  Days_since_enroll  Award?  \n",
       "0            1                  0                0               7000       0  \n",
       "1            2                  0                0               6968       0  \n",
       "2            4                  0                0               7034       0  \n",
       "3            1                  0                0               6952       0  \n",
       "4           26               2077                4               6935       1  "
      ]
     },
     "execution_count": 5,
     "metadata": {},
     "output_type": "execute_result"
    }
   ],
   "source": [
    "#step 1:Basic OVerview and Data Inspection\n",
    "#take starting 5 rows and all columns so that to understand what kind of data each column has\n",
    "df.head()"
   ]
  },
  {
   "cell_type": "code",
   "execution_count": 6,
   "id": "0733f5eb-cb6d-49c6-8ae0-a8a4057e2828",
   "metadata": {},
   "outputs": [
    {
     "data": {
      "text/html": [
       "<div>\n",
       "<style scoped>\n",
       "    .dataframe tbody tr th:only-of-type {\n",
       "        vertical-align: middle;\n",
       "    }\n",
       "\n",
       "    .dataframe tbody tr th {\n",
       "        vertical-align: top;\n",
       "    }\n",
       "\n",
       "    .dataframe thead th {\n",
       "        text-align: right;\n",
       "    }\n",
       "</style>\n",
       "<table border=\"1\" class=\"dataframe\">\n",
       "  <thead>\n",
       "    <tr style=\"text-align: right;\">\n",
       "      <th></th>\n",
       "      <th>ID#</th>\n",
       "      <th>Balance</th>\n",
       "      <th>Qual_miles</th>\n",
       "      <th>cc1_miles</th>\n",
       "      <th>cc2_miles</th>\n",
       "      <th>cc3_miles</th>\n",
       "      <th>Bonus_miles</th>\n",
       "      <th>Bonus_trans</th>\n",
       "      <th>Flight_miles_12mo</th>\n",
       "      <th>Flight_trans_12</th>\n",
       "      <th>Days_since_enroll</th>\n",
       "      <th>Award?</th>\n",
       "    </tr>\n",
       "  </thead>\n",
       "  <tbody>\n",
       "    <tr>\n",
       "      <th>3994</th>\n",
       "      <td>4017</td>\n",
       "      <td>18476</td>\n",
       "      <td>0</td>\n",
       "      <td>1</td>\n",
       "      <td>1</td>\n",
       "      <td>1</td>\n",
       "      <td>8525</td>\n",
       "      <td>4</td>\n",
       "      <td>200</td>\n",
       "      <td>1</td>\n",
       "      <td>1403</td>\n",
       "      <td>1</td>\n",
       "    </tr>\n",
       "    <tr>\n",
       "      <th>3995</th>\n",
       "      <td>4018</td>\n",
       "      <td>64385</td>\n",
       "      <td>0</td>\n",
       "      <td>1</td>\n",
       "      <td>1</td>\n",
       "      <td>1</td>\n",
       "      <td>981</td>\n",
       "      <td>5</td>\n",
       "      <td>0</td>\n",
       "      <td>0</td>\n",
       "      <td>1395</td>\n",
       "      <td>1</td>\n",
       "    </tr>\n",
       "    <tr>\n",
       "      <th>3996</th>\n",
       "      <td>4019</td>\n",
       "      <td>73597</td>\n",
       "      <td>0</td>\n",
       "      <td>3</td>\n",
       "      <td>1</td>\n",
       "      <td>1</td>\n",
       "      <td>25447</td>\n",
       "      <td>8</td>\n",
       "      <td>0</td>\n",
       "      <td>0</td>\n",
       "      <td>1402</td>\n",
       "      <td>1</td>\n",
       "    </tr>\n",
       "    <tr>\n",
       "      <th>3997</th>\n",
       "      <td>4020</td>\n",
       "      <td>54899</td>\n",
       "      <td>0</td>\n",
       "      <td>1</td>\n",
       "      <td>1</td>\n",
       "      <td>1</td>\n",
       "      <td>500</td>\n",
       "      <td>1</td>\n",
       "      <td>500</td>\n",
       "      <td>1</td>\n",
       "      <td>1401</td>\n",
       "      <td>0</td>\n",
       "    </tr>\n",
       "    <tr>\n",
       "      <th>3998</th>\n",
       "      <td>4021</td>\n",
       "      <td>3016</td>\n",
       "      <td>0</td>\n",
       "      <td>1</td>\n",
       "      <td>1</td>\n",
       "      <td>1</td>\n",
       "      <td>0</td>\n",
       "      <td>0</td>\n",
       "      <td>0</td>\n",
       "      <td>0</td>\n",
       "      <td>1398</td>\n",
       "      <td>0</td>\n",
       "    </tr>\n",
       "  </tbody>\n",
       "</table>\n",
       "</div>"
      ],
      "text/plain": [
       "       ID#  Balance  Qual_miles  cc1_miles  cc2_miles  cc3_miles  Bonus_miles  \\\n",
       "3994  4017    18476           0          1          1          1         8525   \n",
       "3995  4018    64385           0          1          1          1          981   \n",
       "3996  4019    73597           0          3          1          1        25447   \n",
       "3997  4020    54899           0          1          1          1          500   \n",
       "3998  4021     3016           0          1          1          1            0   \n",
       "\n",
       "      Bonus_trans  Flight_miles_12mo  Flight_trans_12  Days_since_enroll  \\\n",
       "3994            4                200                1               1403   \n",
       "3995            5                  0                0               1395   \n",
       "3996            8                  0                0               1402   \n",
       "3997            1                500                1               1401   \n",
       "3998            0                  0                0               1398   \n",
       "\n",
       "      Award?  \n",
       "3994       1  \n",
       "3995       1  \n",
       "3996       1  \n",
       "3997       0  \n",
       "3998       0  "
      ]
     },
     "execution_count": 6,
     "metadata": {},
     "output_type": "execute_result"
    }
   ],
   "source": [
    "df.tail()#it gives the last 5 rows data "
   ]
  },
  {
   "cell_type": "code",
   "execution_count": 7,
   "id": "72340acd-17ec-4c9f-87ad-d295d9b91860",
   "metadata": {},
   "outputs": [
    {
     "data": {
      "text/plain": [
       "Index(['ID#', 'Balance', 'Qual_miles', 'cc1_miles', 'cc2_miles', 'cc3_miles',\n",
       "       'Bonus_miles', 'Bonus_trans', 'Flight_miles_12mo', 'Flight_trans_12',\n",
       "       'Days_since_enroll', 'Award?'],\n",
       "      dtype='object')"
      ]
     },
     "execution_count": 7,
     "metadata": {},
     "output_type": "execute_result"
    }
   ],
   "source": [
    "#see all the labels of all the columns\n",
    "df.columns"
   ]
  },
  {
   "cell_type": "markdown",
   "id": "18e44a87-6d32-4ddf-bcb6-7aabe9a6311f",
   "metadata": {},
   "source": [
    "so the above data is about the customer's in eastwestairlines.\n",
    "\n",
    "### 1. Business Problem \n",
    "#### 1.1.\tWhat is the business objective?\n",
    "the business approach of this problem is to study the customers taking the flights or they having the loyalty towards this airlines,to group or cluster the customers on the basis of their behaviour of spending the money ,customers who can afford this ,or who keeps on frequently using this airlines.Also this will help to understand the measure to be taken to increase the customers aligned more with this airlines.\n",
    "#### 1.2.\tAre there any constraints?\n",
    "COnstaints maybe the nullvalues which cannot be deleted completely as some of the details are very crucial or sometimes the incomplete data also can act constraints.\n",
    "\n",
    "#### 2. Work on each feature of the dataset to create a data dictionary as displayed in the below image:\n",
    "~all the data here is in integer form \n",
    "~ID# - Customen's UNique Identity number. -Useful for tracking particular one\n",
    "~Balance-Total miles travelled-useful for checking the distance travelled by each"
   ]
  },
  {
   "cell_type": "code",
   "execution_count": 8,
   "id": "ea2e4099-d47b-4359-ac4d-bc09f70cec40",
   "metadata": {},
   "outputs": [
    {
     "data": {
      "text/plain": [
       "(3999, 12)"
      ]
     },
     "execution_count": 8,
     "metadata": {},
     "output_type": "execute_result"
    }
   ],
   "source": [
    "#will check the shape of the dataset we have ie \n",
    "#the total number of rows and columns we have\n",
    "df.shape"
   ]
  },
  {
   "cell_type": "code",
   "execution_count": 9,
   "id": "3b3be69f-3dc3-47a3-9922-a0a0121a0f79",
   "metadata": {},
   "outputs": [
    {
     "name": "stdout",
     "output_type": "stream",
     "text": [
      "<class 'pandas.core.frame.DataFrame'>\n",
      "RangeIndex: 3999 entries, 0 to 3998\n",
      "Data columns (total 12 columns):\n",
      " #   Column             Non-Null Count  Dtype\n",
      "---  ------             --------------  -----\n",
      " 0   ID#                3999 non-null   int64\n",
      " 1   Balance            3999 non-null   int64\n",
      " 2   Qual_miles         3999 non-null   int64\n",
      " 3   cc1_miles          3999 non-null   int64\n",
      " 4   cc2_miles          3999 non-null   int64\n",
      " 5   cc3_miles          3999 non-null   int64\n",
      " 6   Bonus_miles        3999 non-null   int64\n",
      " 7   Bonus_trans        3999 non-null   int64\n",
      " 8   Flight_miles_12mo  3999 non-null   int64\n",
      " 9   Flight_trans_12    3999 non-null   int64\n",
      " 10  Days_since_enroll  3999 non-null   int64\n",
      " 11  Award?             3999 non-null   int64\n",
      "dtypes: int64(12)\n",
      "memory usage: 375.0 KB\n"
     ]
    }
   ],
   "source": [
    "df.info()#it gives us the number of non-null values,datatype for each column \n",
    "#also how many records are there in the dataset ie no of rows & columns"
   ]
  },
  {
   "cell_type": "markdown",
   "id": "6326dfe8-4dde-4078-b1bb-78903cd0757a",
   "metadata": {},
   "source": [
    "Here we get all the data as integer type"
   ]
  },
  {
   "cell_type": "markdown",
   "id": "93ff39b3-2bf8-40d8-87e6-2f07fda4376b",
   "metadata": {},
   "source": [
    "to get all the count, mean, standard deviation, min, 25th percentile, 50th percentile (median), 75th percentile, and max for each numerical column. \n",
    "# Summary statistics"
   ]
  },
  {
   "cell_type": "code",
   "execution_count": 10,
   "id": "5823bff2-7b80-496e-b15d-90c50005dd71",
   "metadata": {},
   "outputs": [
    {
     "data": {
      "text/html": [
       "<div>\n",
       "<style scoped>\n",
       "    .dataframe tbody tr th:only-of-type {\n",
       "        vertical-align: middle;\n",
       "    }\n",
       "\n",
       "    .dataframe tbody tr th {\n",
       "        vertical-align: top;\n",
       "    }\n",
       "\n",
       "    .dataframe thead th {\n",
       "        text-align: right;\n",
       "    }\n",
       "</style>\n",
       "<table border=\"1\" class=\"dataframe\">\n",
       "  <thead>\n",
       "    <tr style=\"text-align: right;\">\n",
       "      <th></th>\n",
       "      <th>ID#</th>\n",
       "      <th>Balance</th>\n",
       "      <th>Qual_miles</th>\n",
       "      <th>cc1_miles</th>\n",
       "      <th>cc2_miles</th>\n",
       "      <th>cc3_miles</th>\n",
       "      <th>Bonus_miles</th>\n",
       "      <th>Bonus_trans</th>\n",
       "      <th>Flight_miles_12mo</th>\n",
       "      <th>Flight_trans_12</th>\n",
       "      <th>Days_since_enroll</th>\n",
       "      <th>Award?</th>\n",
       "    </tr>\n",
       "  </thead>\n",
       "  <tbody>\n",
       "    <tr>\n",
       "      <th>count</th>\n",
       "      <td>3999.000000</td>\n",
       "      <td>3.999000e+03</td>\n",
       "      <td>3999.000000</td>\n",
       "      <td>3999.000000</td>\n",
       "      <td>3999.000000</td>\n",
       "      <td>3999.000000</td>\n",
       "      <td>3999.000000</td>\n",
       "      <td>3999.00000</td>\n",
       "      <td>3999.000000</td>\n",
       "      <td>3999.000000</td>\n",
       "      <td>3999.00000</td>\n",
       "      <td>3999.000000</td>\n",
       "    </tr>\n",
       "    <tr>\n",
       "      <th>mean</th>\n",
       "      <td>2014.819455</td>\n",
       "      <td>7.360133e+04</td>\n",
       "      <td>144.114529</td>\n",
       "      <td>2.059515</td>\n",
       "      <td>1.014504</td>\n",
       "      <td>1.012253</td>\n",
       "      <td>17144.846212</td>\n",
       "      <td>11.60190</td>\n",
       "      <td>460.055764</td>\n",
       "      <td>1.373593</td>\n",
       "      <td>4118.55939</td>\n",
       "      <td>0.370343</td>\n",
       "    </tr>\n",
       "    <tr>\n",
       "      <th>std</th>\n",
       "      <td>1160.764358</td>\n",
       "      <td>1.007757e+05</td>\n",
       "      <td>773.663804</td>\n",
       "      <td>1.376919</td>\n",
       "      <td>0.147650</td>\n",
       "      <td>0.195241</td>\n",
       "      <td>24150.967826</td>\n",
       "      <td>9.60381</td>\n",
       "      <td>1400.209171</td>\n",
       "      <td>3.793172</td>\n",
       "      <td>2065.13454</td>\n",
       "      <td>0.482957</td>\n",
       "    </tr>\n",
       "    <tr>\n",
       "      <th>min</th>\n",
       "      <td>1.000000</td>\n",
       "      <td>0.000000e+00</td>\n",
       "      <td>0.000000</td>\n",
       "      <td>1.000000</td>\n",
       "      <td>1.000000</td>\n",
       "      <td>1.000000</td>\n",
       "      <td>0.000000</td>\n",
       "      <td>0.00000</td>\n",
       "      <td>0.000000</td>\n",
       "      <td>0.000000</td>\n",
       "      <td>2.00000</td>\n",
       "      <td>0.000000</td>\n",
       "    </tr>\n",
       "    <tr>\n",
       "      <th>25%</th>\n",
       "      <td>1010.500000</td>\n",
       "      <td>1.852750e+04</td>\n",
       "      <td>0.000000</td>\n",
       "      <td>1.000000</td>\n",
       "      <td>1.000000</td>\n",
       "      <td>1.000000</td>\n",
       "      <td>1250.000000</td>\n",
       "      <td>3.00000</td>\n",
       "      <td>0.000000</td>\n",
       "      <td>0.000000</td>\n",
       "      <td>2330.00000</td>\n",
       "      <td>0.000000</td>\n",
       "    </tr>\n",
       "    <tr>\n",
       "      <th>50%</th>\n",
       "      <td>2016.000000</td>\n",
       "      <td>4.309700e+04</td>\n",
       "      <td>0.000000</td>\n",
       "      <td>1.000000</td>\n",
       "      <td>1.000000</td>\n",
       "      <td>1.000000</td>\n",
       "      <td>7171.000000</td>\n",
       "      <td>12.00000</td>\n",
       "      <td>0.000000</td>\n",
       "      <td>0.000000</td>\n",
       "      <td>4096.00000</td>\n",
       "      <td>0.000000</td>\n",
       "    </tr>\n",
       "    <tr>\n",
       "      <th>75%</th>\n",
       "      <td>3020.500000</td>\n",
       "      <td>9.240400e+04</td>\n",
       "      <td>0.000000</td>\n",
       "      <td>3.000000</td>\n",
       "      <td>1.000000</td>\n",
       "      <td>1.000000</td>\n",
       "      <td>23800.500000</td>\n",
       "      <td>17.00000</td>\n",
       "      <td>311.000000</td>\n",
       "      <td>1.000000</td>\n",
       "      <td>5790.50000</td>\n",
       "      <td>1.000000</td>\n",
       "    </tr>\n",
       "    <tr>\n",
       "      <th>max</th>\n",
       "      <td>4021.000000</td>\n",
       "      <td>1.704838e+06</td>\n",
       "      <td>11148.000000</td>\n",
       "      <td>5.000000</td>\n",
       "      <td>3.000000</td>\n",
       "      <td>5.000000</td>\n",
       "      <td>263685.000000</td>\n",
       "      <td>86.00000</td>\n",
       "      <td>30817.000000</td>\n",
       "      <td>53.000000</td>\n",
       "      <td>8296.00000</td>\n",
       "      <td>1.000000</td>\n",
       "    </tr>\n",
       "  </tbody>\n",
       "</table>\n",
       "</div>"
      ],
      "text/plain": [
       "               ID#       Balance    Qual_miles    cc1_miles    cc2_miles  \\\n",
       "count  3999.000000  3.999000e+03   3999.000000  3999.000000  3999.000000   \n",
       "mean   2014.819455  7.360133e+04    144.114529     2.059515     1.014504   \n",
       "std    1160.764358  1.007757e+05    773.663804     1.376919     0.147650   \n",
       "min       1.000000  0.000000e+00      0.000000     1.000000     1.000000   \n",
       "25%    1010.500000  1.852750e+04      0.000000     1.000000     1.000000   \n",
       "50%    2016.000000  4.309700e+04      0.000000     1.000000     1.000000   \n",
       "75%    3020.500000  9.240400e+04      0.000000     3.000000     1.000000   \n",
       "max    4021.000000  1.704838e+06  11148.000000     5.000000     3.000000   \n",
       "\n",
       "         cc3_miles    Bonus_miles  Bonus_trans  Flight_miles_12mo  \\\n",
       "count  3999.000000    3999.000000   3999.00000        3999.000000   \n",
       "mean      1.012253   17144.846212     11.60190         460.055764   \n",
       "std       0.195241   24150.967826      9.60381        1400.209171   \n",
       "min       1.000000       0.000000      0.00000           0.000000   \n",
       "25%       1.000000    1250.000000      3.00000           0.000000   \n",
       "50%       1.000000    7171.000000     12.00000           0.000000   \n",
       "75%       1.000000   23800.500000     17.00000         311.000000   \n",
       "max       5.000000  263685.000000     86.00000       30817.000000   \n",
       "\n",
       "       Flight_trans_12  Days_since_enroll       Award?  \n",
       "count      3999.000000         3999.00000  3999.000000  \n",
       "mean          1.373593         4118.55939     0.370343  \n",
       "std           3.793172         2065.13454     0.482957  \n",
       "min           0.000000            2.00000     0.000000  \n",
       "25%           0.000000         2330.00000     0.000000  \n",
       "50%           0.000000         4096.00000     0.000000  \n",
       "75%           1.000000         5790.50000     1.000000  \n",
       "max          53.000000         8296.00000     1.000000  "
      ]
     },
     "execution_count": 10,
     "metadata": {},
     "output_type": "execute_result"
    }
   ],
   "source": [
    "df.describe()"
   ]
  },
  {
   "cell_type": "markdown",
   "id": "edf772ce-d6d4-48dd-818a-974e26d121d2",
   "metadata": {},
   "source": [
    "here we can conclude that there is the huge difference between min max mean median .so the data need to be normalized.\n",
    "\n",
    " df.describe() in pandas, it provides a summary of various statistics of your data, including count, mean, standard deviation (std), min, 25th percentile (Q1), median (50th percentile), 75th percentile (Q3), and max.\n",
    "\n",
    " # Mean vs. Median:\n",
    "If the mean and median are significantly different, this suggests that the data may be skewed (either left or right skewed) and not normally distributed. For a normal distribution, the mean and median should be close to each other.\n",
    "\n",
    "# Skewness (Indirectly Observed):\n",
    "If the min and max values are far from the mean in an uneven way (e.g., the difference between the mean and min is much greater than the difference between the mean and max, or vice versa), this suggests skewness in the data. A highly skewed dataset is not normally distributed.\n",
    "\n",
    "# Range and Percentiles:\n",
    "If the difference between Q1 and Q3 (interquartile range) is small compared to the overall range (min to max), or if the range is very wide, this could indicate the presence of outliers or skewness.\n",
    "\n",
    "\n",
    "# Normalizing the Data\n",
    "To address the large differences between min, max, median, and mode, and to normalize the data, you can consider the following techniques:\n",
    "\n",
    "Log Transformation: Apply a logarithmic transformation to reduce the skewness of the data. This is especially useful for data with a right skew.\n",
    "\n",
    "df['log_values'] = np.log1p(df['values'])\n",
    "Z-Score Normalization (Standardization): This method transforms the data to have a mean of 0 and a standard deviation of 1. It’s useful when you want to compare data on the same scale.\n",
    "\n",
    "from scipy.stats import zscore\n",
    "df['zscore_values'] = zscore(df['values'])\n",
    "Min-Max Scaling: Rescale the data to a fixed range, typically [0, 1].\n",
    "\n",
    "from sklearn.preprocessing import MinMaxScaler\n",
    "scaler = MinMaxScaler()\n",
    "df['minmax_values'] = scaler.fit_transform(df[['values']])\n",
    "These methods help to reduce the impact of outliers, minimize skewness, and make the data more suitable for further analysis or modeling.\n",
    "\n",
    "# Summary of When to Use Each:\n",
    "Min-Max Scaling: Use when you need a uniform scale for your data within a fixed range and there aren’t extreme outliers. Ideal for algorithms that are sensitive to the absolute differences in magnitude.\n",
    "Z-Score Normalization: Use when you need to normalize data with different means and variances, especially for distance-based algorithms or when outliers are present.\n",
    "Log Transformation: Use when your data is highly skewed, and you need to reduce the influence of large outliers or compress a wide range of values."
   ]
  },
  {
   "cell_type": "code",
   "execution_count": 11,
   "id": "f6bda422-56b3-49b5-be9e-2bdac59496b6",
   "metadata": {},
   "outputs": [
    {
     "data": {
      "text/plain": [
       "ID#\n",
       "1       1\n",
       "2691    1\n",
       "2678    1\n",
       "2679    1\n",
       "2680    1\n",
       "       ..\n",
       "1351    1\n",
       "1352    1\n",
       "1353    1\n",
       "1354    1\n",
       "4021    1\n",
       "Name: count, Length: 3999, dtype: int64"
      ]
     },
     "execution_count": 11,
     "metadata": {},
     "output_type": "execute_result"
    }
   ],
   "source": [
    "df['ID#'].value_counts()#checkwhat kind of data each column has.It hasall the unique values"
   ]
  },
  {
   "cell_type": "code",
   "execution_count": 12,
   "id": "7effab8a-1fa7-471e-bb83-02d63bd2ac64",
   "metadata": {},
   "outputs": [
    {
     "data": {
      "text/plain": [
       "Balance\n",
       "1000     10\n",
       "500       5\n",
       "2000      5\n",
       "1500      4\n",
       "5000      3\n",
       "         ..\n",
       "9554      1\n",
       "30130     1\n",
       "12665     1\n",
       "9860      1\n",
       "3016      1\n",
       "Name: count, Length: 3904, dtype: int64"
      ]
     },
     "execution_count": 12,
     "metadata": {},
     "output_type": "execute_result"
    }
   ],
   "source": [
    "df['Balance'].value_counts()"
   ]
  },
  {
   "cell_type": "code",
   "execution_count": 13,
   "id": "49ce177b-4f50-4294-868a-c12edbe6457d",
   "metadata": {},
   "outputs": [
    {
     "data": {
      "text/plain": [
       "Qual_miles\n",
       "0       3773\n",
       "1000      17\n",
       "500       15\n",
       "967        4\n",
       "888        4\n",
       "        ... \n",
       "4116       1\n",
       "1388       1\n",
       "1896       1\n",
       "3692       1\n",
       "1005       1\n",
       "Name: count, Length: 164, dtype: int64"
      ]
     },
     "execution_count": 13,
     "metadata": {},
     "output_type": "execute_result"
    }
   ],
   "source": [
    "df['Qual_miles'].value_counts()"
   ]
  },
  {
   "cell_type": "code",
   "execution_count": 14,
   "id": "c0e78101-94bb-44b3-b166-5754109600ac",
   "metadata": {},
   "outputs": [
    {
     "data": {
      "text/plain": [
       "cc1_miles\n",
       "1    2289\n",
       "3     613\n",
       "4     525\n",
       "5     288\n",
       "2     284\n",
       "Name: count, dtype: int64"
      ]
     },
     "execution_count": 14,
     "metadata": {},
     "output_type": "execute_result"
    }
   ],
   "source": [
    "df['cc1_miles'].value_counts()"
   ]
  },
  {
   "cell_type": "code",
   "execution_count": 15,
   "id": "b44f0304-acc1-4ccf-af91-b6b7589fe393",
   "metadata": {},
   "outputs": [
    {
     "data": {
      "text/plain": [
       "array([1, 4, 3, 2, 5], dtype=int64)"
      ]
     },
     "execution_count": 15,
     "metadata": {},
     "output_type": "execute_result"
    }
   ],
   "source": [
    "df['cc1_miles'].unique()#it gives us unique values in the form of list "
   ]
  },
  {
   "cell_type": "code",
   "execution_count": 16,
   "id": "74412149-ead8-4756-9b12-a50addecc9b4",
   "metadata": {},
   "outputs": [
    {
     "data": {
      "text/plain": [
       "5"
      ]
     },
     "execution_count": 16,
     "metadata": {},
     "output_type": "execute_result"
    }
   ],
   "source": [
    "df['cc1_miles'].nunique()"
   ]
  },
  {
   "cell_type": "code",
   "execution_count": 17,
   "id": "73d3509d-d929-4ec1-9b79-44cbd8c9b0d4",
   "metadata": {},
   "outputs": [
    {
     "data": {
      "text/plain": [
       "cc2_miles\n",
       "1    3956\n",
       "2      28\n",
       "3      15\n",
       "Name: count, dtype: int64"
      ]
     },
     "execution_count": 17,
     "metadata": {},
     "output_type": "execute_result"
    }
   ],
   "source": [
    "df['cc2_miles'].value_counts()"
   ]
  },
  {
   "cell_type": "code",
   "execution_count": 18,
   "id": "958831fe-b1f3-40c8-ba1e-d20485630151",
   "metadata": {},
   "outputs": [
    {
     "data": {
      "text/plain": [
       "cc3_miles\n",
       "1    3981\n",
       "4       6\n",
       "5       5\n",
       "3       4\n",
       "2       3\n",
       "Name: count, dtype: int64"
      ]
     },
     "execution_count": 18,
     "metadata": {},
     "output_type": "execute_result"
    }
   ],
   "source": [
    "df['cc3_miles'].value_counts()"
   ]
  },
  {
   "cell_type": "code",
   "execution_count": 19,
   "id": "ace3f694-6030-4b79-81ac-4bb3a74ac8d8",
   "metadata": {},
   "outputs": [
    {
     "data": {
      "text/plain": [
       "Bonus_miles\n",
       "0        475\n",
       "500       66\n",
       "1000      42\n",
       "100       27\n",
       "1500      25\n",
       "        ... \n",
       "11981      1\n",
       "28904      1\n",
       "9850       1\n",
       "52449      1\n",
       "25447      1\n",
       "Name: count, Length: 2734, dtype: int64"
      ]
     },
     "execution_count": 19,
     "metadata": {},
     "output_type": "execute_result"
    }
   ],
   "source": [
    "df['Bonus_miles'].value_counts()"
   ]
  },
  {
   "cell_type": "code",
   "execution_count": 20,
   "id": "e221a873-0ae6-4bb0-b7ff-bab41cdf9220",
   "metadata": {},
   "outputs": [
    {
     "data": {
      "text/plain": [
       "Bonus_trans\n",
       "0     475\n",
       "14    262\n",
       "3     250\n",
       "13    231\n",
       "15    212\n",
       "1     212\n",
       "4     190\n",
       "16    189\n",
       "12    148\n",
       "17    140\n",
       "5     126\n",
       "18    125\n",
       "6     115\n",
       "11    108\n",
       "2     104\n",
       "8     100\n",
       "10     97\n",
       "19     97\n",
       "9      91\n",
       "7      88\n",
       "20     85\n",
       "21     69\n",
       "22     63\n",
       "24     41\n",
       "26     41\n",
       "23     35\n",
       "25     34\n",
       "27     32\n",
       "28     28\n",
       "32     26\n",
       "29     23\n",
       "31     21\n",
       "30     17\n",
       "34     15\n",
       "39     12\n",
       "35     11\n",
       "37     11\n",
       "38     10\n",
       "33      8\n",
       "41      7\n",
       "43      7\n",
       "36      6\n",
       "45      5\n",
       "40      4\n",
       "53      4\n",
       "51      4\n",
       "44      3\n",
       "50      3\n",
       "47      3\n",
       "46      2\n",
       "65      2\n",
       "49      2\n",
       "55      1\n",
       "52      1\n",
       "58      1\n",
       "86      1\n",
       "68      1\n",
       "Name: count, dtype: int64"
      ]
     },
     "execution_count": 20,
     "metadata": {},
     "output_type": "execute_result"
    }
   ],
   "source": [
    "df['Bonus_trans'].value_counts()"
   ]
  },
  {
   "cell_type": "code",
   "execution_count": 21,
   "id": "c5e9cb53-b080-45cb-aa61-46bb38af2966",
   "metadata": {},
   "outputs": [
    {
     "data": {
      "text/plain": [
       "Flight_trans_12\n",
       "0     2723\n",
       "1      469\n",
       "2      242\n",
       "3      132\n",
       "4       97\n",
       "5       58\n",
       "6       43\n",
       "9       32\n",
       "8       31\n",
       "7       30\n",
       "11      19\n",
       "12      16\n",
       "10      16\n",
       "16      11\n",
       "15       9\n",
       "18       8\n",
       "17       8\n",
       "23       7\n",
       "14       7\n",
       "13       7\n",
       "29       5\n",
       "26       5\n",
       "28       4\n",
       "20       4\n",
       "24       4\n",
       "53       2\n",
       "19       2\n",
       "36       1\n",
       "45       1\n",
       "27       1\n",
       "31       1\n",
       "21       1\n",
       "25       1\n",
       "22       1\n",
       "46       1\n",
       "Name: count, dtype: int64"
      ]
     },
     "execution_count": 21,
     "metadata": {},
     "output_type": "execute_result"
    }
   ],
   "source": [
    "df['Flight_trans_12'].value_counts()"
   ]
  },
  {
   "cell_type": "code",
   "execution_count": 22,
   "id": "de411d88-493b-4205-95cc-e194ff595445",
   "metadata": {},
   "outputs": [
    {
     "data": {
      "text/plain": [
       "Flight_miles_12mo\n",
       "0        2723\n",
       "500       195\n",
       "1000       53\n",
       "150        51\n",
       "100        49\n",
       "         ... \n",
       "12400       1\n",
       "2729        1\n",
       "4309        1\n",
       "683         1\n",
       "79          1\n",
       "Name: count, Length: 343, dtype: int64"
      ]
     },
     "execution_count": 22,
     "metadata": {},
     "output_type": "execute_result"
    }
   ],
   "source": [
    "df['Flight_miles_12mo'].value_counts()"
   ]
  },
  {
   "cell_type": "code",
   "execution_count": 23,
   "id": "df46dd77-0b53-4ffb-8ba7-cddd9381d032",
   "metadata": {},
   "outputs": [
    {
     "data": {
      "text/plain": [
       "Days_since_enroll\n",
       "8296    38\n",
       "8289    33\n",
       "8228    15\n",
       "7467     7\n",
       "1597     7\n",
       "        ..\n",
       "4770     1\n",
       "4672     1\n",
       "4615     1\n",
       "4566     1\n",
       "1398     1\n",
       "Name: count, Length: 2820, dtype: int64"
      ]
     },
     "execution_count": 23,
     "metadata": {},
     "output_type": "execute_result"
    }
   ],
   "source": [
    "df['Days_since_enroll'].value_counts()"
   ]
  },
  {
   "cell_type": "code",
   "execution_count": 24,
   "id": "b2f1a7ae-6d05-4e6f-aa4b-4cb697cffbeb",
   "metadata": {},
   "outputs": [
    {
     "data": {
      "text/plain": [
       "Award?\n",
       "0    2518\n",
       "1    1481\n",
       "Name: count, dtype: int64"
      ]
     },
     "execution_count": 24,
     "metadata": {},
     "output_type": "execute_result"
    }
   ],
   "source": [
    "df['Award?'].value_counts()"
   ]
  },
  {
   "cell_type": "markdown",
   "id": "3dc7c5ad-f0f2-4238-a812-894e507ae19e",
   "metadata": {},
   "source": [
    "# 3.Missing values"
   ]
  },
  {
   "cell_type": "code",
   "execution_count": 25,
   "id": "83b12ea0-323b-408c-a9d7-0f03c485c71a",
   "metadata": {},
   "outputs": [
    {
     "data": {
      "text/plain": [
       "ID#                  0\n",
       "Balance              0\n",
       "Qual_miles           0\n",
       "cc1_miles            0\n",
       "cc2_miles            0\n",
       "cc3_miles            0\n",
       "Bonus_miles          0\n",
       "Bonus_trans          0\n",
       "Flight_miles_12mo    0\n",
       "Flight_trans_12      0\n",
       "Days_since_enroll    0\n",
       "Award?               0\n",
       "dtype: int64"
      ]
     },
     "execution_count": 25,
     "metadata": {},
     "output_type": "execute_result"
    }
   ],
   "source": [
    "#now lets check for the null value data in the given dataset\n",
    "\n",
    "\"\"\"it will  return the count of null values in each column but if the column \n",
    "contains 0 then it is not considered in null value if the data is empty or\n",
    "NULL then only its count will be considered \"\"\"\n",
    "df.isnull().sum()\n",
    "#in this case no missing values are there so it returns 0"
   ]
  },
  {
   "cell_type": "code",
   "execution_count": 26,
   "id": "357e1176-1d2e-4aae-bf3c-820b30a4e613",
   "metadata": {},
   "outputs": [
    {
     "data": {
      "text/html": [
       "<div>\n",
       "<style scoped>\n",
       "    .dataframe tbody tr th:only-of-type {\n",
       "        vertical-align: middle;\n",
       "    }\n",
       "\n",
       "    .dataframe tbody tr th {\n",
       "        vertical-align: top;\n",
       "    }\n",
       "\n",
       "    .dataframe thead th {\n",
       "        text-align: right;\n",
       "    }\n",
       "</style>\n",
       "<table border=\"1\" class=\"dataframe\">\n",
       "  <thead>\n",
       "    <tr style=\"text-align: right;\">\n",
       "      <th></th>\n",
       "      <th>ID#</th>\n",
       "      <th>Balance</th>\n",
       "      <th>Qual_miles</th>\n",
       "      <th>cc1_miles</th>\n",
       "      <th>cc2_miles</th>\n",
       "      <th>cc3_miles</th>\n",
       "      <th>Bonus_miles</th>\n",
       "      <th>Bonus_trans</th>\n",
       "      <th>Flight_miles_12mo</th>\n",
       "      <th>Flight_trans_12</th>\n",
       "      <th>Days_since_enroll</th>\n",
       "      <th>Award?</th>\n",
       "    </tr>\n",
       "  </thead>\n",
       "  <tbody>\n",
       "    <tr>\n",
       "      <th>0</th>\n",
       "      <td>1</td>\n",
       "      <td>28143</td>\n",
       "      <td>0</td>\n",
       "      <td>1</td>\n",
       "      <td>1</td>\n",
       "      <td>1</td>\n",
       "      <td>174</td>\n",
       "      <td>1</td>\n",
       "      <td>0</td>\n",
       "      <td>0</td>\n",
       "      <td>7000</td>\n",
       "      <td>0</td>\n",
       "    </tr>\n",
       "    <tr>\n",
       "      <th>1</th>\n",
       "      <td>2</td>\n",
       "      <td>19244</td>\n",
       "      <td>0</td>\n",
       "      <td>1</td>\n",
       "      <td>1</td>\n",
       "      <td>1</td>\n",
       "      <td>215</td>\n",
       "      <td>2</td>\n",
       "      <td>0</td>\n",
       "      <td>0</td>\n",
       "      <td>6968</td>\n",
       "      <td>0</td>\n",
       "    </tr>\n",
       "    <tr>\n",
       "      <th>2</th>\n",
       "      <td>3</td>\n",
       "      <td>41354</td>\n",
       "      <td>0</td>\n",
       "      <td>1</td>\n",
       "      <td>1</td>\n",
       "      <td>1</td>\n",
       "      <td>4123</td>\n",
       "      <td>4</td>\n",
       "      <td>0</td>\n",
       "      <td>0</td>\n",
       "      <td>7034</td>\n",
       "      <td>0</td>\n",
       "    </tr>\n",
       "    <tr>\n",
       "      <th>3</th>\n",
       "      <td>4</td>\n",
       "      <td>14776</td>\n",
       "      <td>0</td>\n",
       "      <td>1</td>\n",
       "      <td>1</td>\n",
       "      <td>1</td>\n",
       "      <td>500</td>\n",
       "      <td>1</td>\n",
       "      <td>0</td>\n",
       "      <td>0</td>\n",
       "      <td>6952</td>\n",
       "      <td>0</td>\n",
       "    </tr>\n",
       "    <tr>\n",
       "      <th>4</th>\n",
       "      <td>5</td>\n",
       "      <td>97752</td>\n",
       "      <td>0</td>\n",
       "      <td>4</td>\n",
       "      <td>1</td>\n",
       "      <td>1</td>\n",
       "      <td>43300</td>\n",
       "      <td>26</td>\n",
       "      <td>2077</td>\n",
       "      <td>4</td>\n",
       "      <td>6935</td>\n",
       "      <td>1</td>\n",
       "    </tr>\n",
       "    <tr>\n",
       "      <th>...</th>\n",
       "      <td>...</td>\n",
       "      <td>...</td>\n",
       "      <td>...</td>\n",
       "      <td>...</td>\n",
       "      <td>...</td>\n",
       "      <td>...</td>\n",
       "      <td>...</td>\n",
       "      <td>...</td>\n",
       "      <td>...</td>\n",
       "      <td>...</td>\n",
       "      <td>...</td>\n",
       "      <td>...</td>\n",
       "    </tr>\n",
       "    <tr>\n",
       "      <th>3994</th>\n",
       "      <td>4017</td>\n",
       "      <td>18476</td>\n",
       "      <td>0</td>\n",
       "      <td>1</td>\n",
       "      <td>1</td>\n",
       "      <td>1</td>\n",
       "      <td>8525</td>\n",
       "      <td>4</td>\n",
       "      <td>200</td>\n",
       "      <td>1</td>\n",
       "      <td>1403</td>\n",
       "      <td>1</td>\n",
       "    </tr>\n",
       "    <tr>\n",
       "      <th>3995</th>\n",
       "      <td>4018</td>\n",
       "      <td>64385</td>\n",
       "      <td>0</td>\n",
       "      <td>1</td>\n",
       "      <td>1</td>\n",
       "      <td>1</td>\n",
       "      <td>981</td>\n",
       "      <td>5</td>\n",
       "      <td>0</td>\n",
       "      <td>0</td>\n",
       "      <td>1395</td>\n",
       "      <td>1</td>\n",
       "    </tr>\n",
       "    <tr>\n",
       "      <th>3996</th>\n",
       "      <td>4019</td>\n",
       "      <td>73597</td>\n",
       "      <td>0</td>\n",
       "      <td>3</td>\n",
       "      <td>1</td>\n",
       "      <td>1</td>\n",
       "      <td>25447</td>\n",
       "      <td>8</td>\n",
       "      <td>0</td>\n",
       "      <td>0</td>\n",
       "      <td>1402</td>\n",
       "      <td>1</td>\n",
       "    </tr>\n",
       "    <tr>\n",
       "      <th>3997</th>\n",
       "      <td>4020</td>\n",
       "      <td>54899</td>\n",
       "      <td>0</td>\n",
       "      <td>1</td>\n",
       "      <td>1</td>\n",
       "      <td>1</td>\n",
       "      <td>500</td>\n",
       "      <td>1</td>\n",
       "      <td>500</td>\n",
       "      <td>1</td>\n",
       "      <td>1401</td>\n",
       "      <td>0</td>\n",
       "    </tr>\n",
       "    <tr>\n",
       "      <th>3998</th>\n",
       "      <td>4021</td>\n",
       "      <td>3016</td>\n",
       "      <td>0</td>\n",
       "      <td>1</td>\n",
       "      <td>1</td>\n",
       "      <td>1</td>\n",
       "      <td>0</td>\n",
       "      <td>0</td>\n",
       "      <td>0</td>\n",
       "      <td>0</td>\n",
       "      <td>1398</td>\n",
       "      <td>0</td>\n",
       "    </tr>\n",
       "  </tbody>\n",
       "</table>\n",
       "<p>3999 rows × 12 columns</p>\n",
       "</div>"
      ],
      "text/plain": [
       "       ID#  Balance  Qual_miles  cc1_miles  cc2_miles  cc3_miles  Bonus_miles  \\\n",
       "0        1    28143           0          1          1          1          174   \n",
       "1        2    19244           0          1          1          1          215   \n",
       "2        3    41354           0          1          1          1         4123   \n",
       "3        4    14776           0          1          1          1          500   \n",
       "4        5    97752           0          4          1          1        43300   \n",
       "...    ...      ...         ...        ...        ...        ...          ...   \n",
       "3994  4017    18476           0          1          1          1         8525   \n",
       "3995  4018    64385           0          1          1          1          981   \n",
       "3996  4019    73597           0          3          1          1        25447   \n",
       "3997  4020    54899           0          1          1          1          500   \n",
       "3998  4021     3016           0          1          1          1            0   \n",
       "\n",
       "      Bonus_trans  Flight_miles_12mo  Flight_trans_12  Days_since_enroll  \\\n",
       "0               1                  0                0               7000   \n",
       "1               2                  0                0               6968   \n",
       "2               4                  0                0               7034   \n",
       "3               1                  0                0               6952   \n",
       "4              26               2077                4               6935   \n",
       "...           ...                ...              ...                ...   \n",
       "3994            4                200                1               1403   \n",
       "3995            5                  0                0               1395   \n",
       "3996            8                  0                0               1402   \n",
       "3997            1                500                1               1401   \n",
       "3998            0                  0                0               1398   \n",
       "\n",
       "      Award?  \n",
       "0          0  \n",
       "1          0  \n",
       "2          0  \n",
       "3          0  \n",
       "4          1  \n",
       "...      ...  \n",
       "3994       1  \n",
       "3995       1  \n",
       "3996       1  \n",
       "3997       0  \n",
       "3998       0  \n",
       "\n",
       "[3999 rows x 12 columns]"
      ]
     },
     "execution_count": 26,
     "metadata": {},
     "output_type": "execute_result"
    }
   ],
   "source": [
    "#if any null or missing values are there we will drop that row .\n",
    "df.dropna()\n",
    "#also we can store this value bcoz we will be using there after a new data \n",
    "#so df_new=df.dropna() we can use this aswell "
   ]
  },
  {
   "cell_type": "code",
   "execution_count": 27,
   "id": "a00f8109-9e72-4129-9127-0d06d40ff4ef",
   "metadata": {},
   "outputs": [
    {
     "name": "stderr",
     "output_type": "stream",
     "text": [
      "C:\\Users\\Vaishnavi\\AppData\\Local\\Temp\\ipykernel_10996\\4155522569.py:3: FutureWarning: A value is trying to be set on a copy of a DataFrame or Series through chained assignment using an inplace method.\n",
      "The behavior will change in pandas 3.0. This inplace method will never work because the intermediate object on which we are setting values always behaves as a copy.\n",
      "\n",
      "For example, when doing 'df[col].method(value, inplace=True)', try using 'df.method({col: value}, inplace=True)' or df[col] = df[col].method(value) instead, to perform the operation inplace on the original object.\n",
      "\n",
      "\n",
      "  df['Balance'].fillna(0, inplace=True)\n"
     ]
    }
   ],
   "source": [
    "#if missing values are there we can either drop that rows or fill that value according to you\n",
    "#in general ,we fill the missing values with 0\n",
    "df['Balance'].fillna(0, inplace=True)\n",
    "#in this case there are no null values present "
   ]
  },
  {
   "cell_type": "code",
   "execution_count": 28,
   "id": "c724bc5a-2df3-4718-b0b5-561357e6a539",
   "metadata": {},
   "outputs": [
    {
     "name": "stderr",
     "output_type": "stream",
     "text": [
      "C:\\Users\\Vaishnavi\\AppData\\Local\\Temp\\ipykernel_10996\\595913372.py:2: FutureWarning: A value is trying to be set on a copy of a DataFrame or Series through chained assignment using an inplace method.\n",
      "The behavior will change in pandas 3.0. This inplace method will never work because the intermediate object on which we are setting values always behaves as a copy.\n",
      "\n",
      "For example, when doing 'df[col].method(value, inplace=True)', try using 'df.method({col: value}, inplace=True)' or df[col] = df[col].method(value) instead, to perform the operation inplace on the original object.\n",
      "\n",
      "\n",
      "  df['Balance'].fillna(df['Balance'].mean(), inplace=True)  # Example for mean imputation\n"
     ]
    }
   ],
   "source": [
    "# Option 2: Fill missing values with mean/median/mode or a specific value\n",
    "df['Balance'].fillna(df['Balance'].mean(), inplace=True)  # Example for mean imputation"
   ]
  },
  {
   "cell_type": "markdown",
   "id": "8e1bfa91-4eab-4a33-a8bf-364132623c2f",
   "metadata": {},
   "source": [
    "# Data VIsualization for EDA"
   ]
  },
  {
   "cell_type": "code",
   "execution_count": 79,
   "id": "a135dfa8-f6d6-4c38-98c6-986949ff2b5b",
   "metadata": {},
   "outputs": [
    {
     "data": {
      "image/png": "[encoded data removed]",
      "text/plain": [
       "<Figure size 640x480 with 1 Axes>"
      ]
     },
     "metadata": {},
     "output_type": "display_data"
    }
   ],
   "source": [
    "# 2. Univariate Analysis\n",
    "df['Balance'].hist()\n",
    "plt.title('Distribution of Balance')\n",
    "plt.show()#lets check the histogram of the given data\n",
    "#it visualizes the distribution of a numerical feature.\n",
    "#on y-axis it the number of total data ie the rows 3999\n",
    "#on x-axis is the values at each row of balance data"
   ]
  },
  {
   "cell_type": "code",
   "execution_count": 30,
   "id": "cf97b687-d122-4fbc-94c1-4d3e16be6b5a",
   "metadata": {},
   "outputs": [
    {
     "data": {
      "text/plain": [
       "<Axes: >"
      ]
     },
     "execution_count": 30,
     "metadata": {},
     "output_type": "execute_result"
    },
    {
     "data": {
      "image/png": "[encoded data removed]",
      "text/plain": [
       "<Figure size 640x480 with 1 Axes>"
      ]
     },
     "metadata": {},
     "output_type": "display_data"
    }
   ],
   "source": [
    "#check for the box plot.\n",
    "#this will let us know that if any outlier is present there or not\n",
    "df['Balance'].plot(kind='box')\n"
   ]
  },
  {
   "cell_type": "markdown",
   "id": "76e57269-d0f4-49d0-9c70-e172bffa3957",
   "metadata": {},
   "source": [
    "there are many outliers present here"
   ]
  },
  {
   "cell_type": "code",
   "execution_count": 31,
   "id": "e5104e30-c6eb-457e-bbd8-ba9085438f27",
   "metadata": {},
   "outputs": [
    {
     "data": {
      "text/html": [
       "<div>\n",
       "<style scoped>\n",
       "    .dataframe tbody tr th:only-of-type {\n",
       "        vertical-align: middle;\n",
       "    }\n",
       "\n",
       "    .dataframe tbody tr th {\n",
       "        vertical-align: top;\n",
       "    }\n",
       "\n",
       "    .dataframe thead th {\n",
       "        text-align: right;\n",
       "    }\n",
       "</style>\n",
       "<table border=\"1\" class=\"dataframe\">\n",
       "  <thead>\n",
       "    <tr style=\"text-align: right;\">\n",
       "      <th></th>\n",
       "      <th>ID#</th>\n",
       "      <th>Balance</th>\n",
       "      <th>Qual_miles</th>\n",
       "      <th>cc1_miles</th>\n",
       "      <th>cc2_miles</th>\n",
       "      <th>cc3_miles</th>\n",
       "      <th>Bonus_miles</th>\n",
       "      <th>Bonus_trans</th>\n",
       "      <th>Flight_miles_12mo</th>\n",
       "      <th>Flight_trans_12</th>\n",
       "      <th>Days_since_enroll</th>\n",
       "      <th>Award?</th>\n",
       "    </tr>\n",
       "  </thead>\n",
       "  <tbody>\n",
       "    <tr>\n",
       "      <th>0</th>\n",
       "      <td>1</td>\n",
       "      <td>28143</td>\n",
       "      <td>0</td>\n",
       "      <td>1</td>\n",
       "      <td>1</td>\n",
       "      <td>1</td>\n",
       "      <td>174</td>\n",
       "      <td>1</td>\n",
       "      <td>0</td>\n",
       "      <td>0</td>\n",
       "      <td>7000</td>\n",
       "      <td>0</td>\n",
       "    </tr>\n",
       "    <tr>\n",
       "      <th>1</th>\n",
       "      <td>2</td>\n",
       "      <td>19244</td>\n",
       "      <td>0</td>\n",
       "      <td>1</td>\n",
       "      <td>1</td>\n",
       "      <td>1</td>\n",
       "      <td>215</td>\n",
       "      <td>2</td>\n",
       "      <td>0</td>\n",
       "      <td>0</td>\n",
       "      <td>6968</td>\n",
       "      <td>0</td>\n",
       "    </tr>\n",
       "    <tr>\n",
       "      <th>2</th>\n",
       "      <td>3</td>\n",
       "      <td>41354</td>\n",
       "      <td>0</td>\n",
       "      <td>1</td>\n",
       "      <td>1</td>\n",
       "      <td>1</td>\n",
       "      <td>4123</td>\n",
       "      <td>4</td>\n",
       "      <td>0</td>\n",
       "      <td>0</td>\n",
       "      <td>7034</td>\n",
       "      <td>0</td>\n",
       "    </tr>\n",
       "    <tr>\n",
       "      <th>3</th>\n",
       "      <td>4</td>\n",
       "      <td>14776</td>\n",
       "      <td>0</td>\n",
       "      <td>1</td>\n",
       "      <td>1</td>\n",
       "      <td>1</td>\n",
       "      <td>500</td>\n",
       "      <td>1</td>\n",
       "      <td>0</td>\n",
       "      <td>0</td>\n",
       "      <td>6952</td>\n",
       "      <td>0</td>\n",
       "    </tr>\n",
       "    <tr>\n",
       "      <th>4</th>\n",
       "      <td>5</td>\n",
       "      <td>97752</td>\n",
       "      <td>0</td>\n",
       "      <td>4</td>\n",
       "      <td>1</td>\n",
       "      <td>1</td>\n",
       "      <td>43300</td>\n",
       "      <td>26</td>\n",
       "      <td>2077</td>\n",
       "      <td>4</td>\n",
       "      <td>6935</td>\n",
       "      <td>1</td>\n",
       "    </tr>\n",
       "    <tr>\n",
       "      <th>...</th>\n",
       "      <td>...</td>\n",
       "      <td>...</td>\n",
       "      <td>...</td>\n",
       "      <td>...</td>\n",
       "      <td>...</td>\n",
       "      <td>...</td>\n",
       "      <td>...</td>\n",
       "      <td>...</td>\n",
       "      <td>...</td>\n",
       "      <td>...</td>\n",
       "      <td>...</td>\n",
       "      <td>...</td>\n",
       "    </tr>\n",
       "    <tr>\n",
       "      <th>3994</th>\n",
       "      <td>4017</td>\n",
       "      <td>18476</td>\n",
       "      <td>0</td>\n",
       "      <td>1</td>\n",
       "      <td>1</td>\n",
       "      <td>1</td>\n",
       "      <td>8525</td>\n",
       "      <td>4</td>\n",
       "      <td>200</td>\n",
       "      <td>1</td>\n",
       "      <td>1403</td>\n",
       "      <td>1</td>\n",
       "    </tr>\n",
       "    <tr>\n",
       "      <th>3995</th>\n",
       "      <td>4018</td>\n",
       "      <td>64385</td>\n",
       "      <td>0</td>\n",
       "      <td>1</td>\n",
       "      <td>1</td>\n",
       "      <td>1</td>\n",
       "      <td>981</td>\n",
       "      <td>5</td>\n",
       "      <td>0</td>\n",
       "      <td>0</td>\n",
       "      <td>1395</td>\n",
       "      <td>1</td>\n",
       "    </tr>\n",
       "    <tr>\n",
       "      <th>3996</th>\n",
       "      <td>4019</td>\n",
       "      <td>73597</td>\n",
       "      <td>0</td>\n",
       "      <td>3</td>\n",
       "      <td>1</td>\n",
       "      <td>1</td>\n",
       "      <td>25447</td>\n",
       "      <td>8</td>\n",
       "      <td>0</td>\n",
       "      <td>0</td>\n",
       "      <td>1402</td>\n",
       "      <td>1</td>\n",
       "    </tr>\n",
       "    <tr>\n",
       "      <th>3997</th>\n",
       "      <td>4020</td>\n",
       "      <td>54899</td>\n",
       "      <td>0</td>\n",
       "      <td>1</td>\n",
       "      <td>1</td>\n",
       "      <td>1</td>\n",
       "      <td>500</td>\n",
       "      <td>1</td>\n",
       "      <td>500</td>\n",
       "      <td>1</td>\n",
       "      <td>1401</td>\n",
       "      <td>0</td>\n",
       "    </tr>\n",
       "    <tr>\n",
       "      <th>3998</th>\n",
       "      <td>4021</td>\n",
       "      <td>3016</td>\n",
       "      <td>0</td>\n",
       "      <td>1</td>\n",
       "      <td>1</td>\n",
       "      <td>1</td>\n",
       "      <td>0</td>\n",
       "      <td>0</td>\n",
       "      <td>0</td>\n",
       "      <td>0</td>\n",
       "      <td>1398</td>\n",
       "      <td>0</td>\n",
       "    </tr>\n",
       "  </tbody>\n",
       "</table>\n",
       "<p>3733 rows × 12 columns</p>\n",
       "</div>"
      ],
      "text/plain": [
       "       ID#  Balance  Qual_miles  cc1_miles  cc2_miles  cc3_miles  Bonus_miles  \\\n",
       "0        1    28143           0          1          1          1          174   \n",
       "1        2    19244           0          1          1          1          215   \n",
       "2        3    41354           0          1          1          1         4123   \n",
       "3        4    14776           0          1          1          1          500   \n",
       "4        5    97752           0          4          1          1        43300   \n",
       "...    ...      ...         ...        ...        ...        ...          ...   \n",
       "3994  4017    18476           0          1          1          1         8525   \n",
       "3995  4018    64385           0          1          1          1          981   \n",
       "3996  4019    73597           0          3          1          1        25447   \n",
       "3997  4020    54899           0          1          1          1          500   \n",
       "3998  4021     3016           0          1          1          1            0   \n",
       "\n",
       "      Bonus_trans  Flight_miles_12mo  Flight_trans_12  Days_since_enroll  \\\n",
       "0               1                  0                0               7000   \n",
       "1               2                  0                0               6968   \n",
       "2               4                  0                0               7034   \n",
       "3               1                  0                0               6952   \n",
       "4              26               2077                4               6935   \n",
       "...           ...                ...              ...                ...   \n",
       "3994            4                200                1               1403   \n",
       "3995            5                  0                0               1395   \n",
       "3996            8                  0                0               1402   \n",
       "3997            1                500                1               1401   \n",
       "3998            0                  0                0               1398   \n",
       "\n",
       "      Award?  \n",
       "0          0  \n",
       "1          0  \n",
       "2          0  \n",
       "3          0  \n",
       "4          1  \n",
       "...      ...  \n",
       "3994       1  \n",
       "3995       1  \n",
       "3996       1  \n",
       "3997       0  \n",
       "3998       0  \n",
       "\n",
       "[3733 rows x 12 columns]"
      ]
     },
     "execution_count": 31,
     "metadata": {},
     "output_type": "execute_result"
    }
   ],
   "source": [
    "# Identify outliers using IQR\n",
    "Q1 = df['Balance'].quantile(0.25)\n",
    "Q3 = df['Balance'].quantile(0.75)\n",
    "IQR = Q3 - Q1\n",
    "\n",
    "# Define outliers as those outside 1.5 * IQR\n",
    "lower_bound = Q1 - 1.5 * IQR\n",
    "upper_bound = Q3 + 1.5 * IQR\n",
    "\n",
    "# Filter out outliers\n",
    "df_filtered = df[(df['Balance'] >= lower_bound) & (df['Balance'] <= upper_bound)]\n",
    "df_filtered"
   ]
  },
  {
   "cell_type": "code",
   "execution_count": 32,
   "id": "41c0c1da-e449-4266-9dc6-881259289a5f",
   "metadata": {},
   "outputs": [
    {
     "data": {
      "text/plain": [
       "<Axes: >"
      ]
     },
     "execution_count": 32,
     "metadata": {},
     "output_type": "execute_result"
    },
    {
     "data": {
      "image/png": "[encoded data removed]",
      "text/plain": [
       "<Figure size 640x480 with 1 Axes>"
      ]
     },
     "metadata": {},
     "output_type": "display_data"
    }
   ],
   "source": [
    "df_filtered['Balance'].plot(kind='box')\n",
    "#we are able to see that outliers are not removed so we will go for minmaxscaler"
   ]
  },
  {
   "cell_type": "code",
   "execution_count": 33,
   "id": "3ba122bc-017b-4a76-894b-b5e6ed6e3768",
   "metadata": {},
   "outputs": [
    {
     "data": {
      "text/plain": [
       "<Axes: xlabel='Flight_miles_12mo', ylabel='Balance'>"
      ]
     },
     "execution_count": 33,
     "metadata": {},
     "output_type": "execute_result"
    },
    {
     "data": {
      "image/png": "[encoded data removed]",
      "text/plain": [
       "<Figure size 640x480 with 1 Axes>"
      ]
     },
     "metadata": {},
     "output_type": "display_data"
    }
   ],
   "source": [
    "df.plot(kind='scatter', x='Flight_miles_12mo', y='Balance')\n",
    "#this will help us to understand how data is being scatters and what is the relation between the two columns\n",
    "#relationship between them will help us to understand that\n",
    "#balance- the customer's current balance, which can be crucial for understanding their financial status \n",
    "#Flight_miles_12mo-This column represents the number of flight miles accumulated by the customer in the past 12 months. "
   ]
  },
  {
   "cell_type": "code",
   "execution_count": 34,
   "id": "05d283a2-a7dc-46ad-b1c8-a83be6fe78d5",
   "metadata": {},
   "outputs": [
    {
     "data": {
      "text/plain": [
       "<Axes: xlabel='Balance', ylabel='Bonus_miles'>"
      ]
     },
     "execution_count": 34,
     "metadata": {},
     "output_type": "execute_result"
    },
    {
     "data": {
      "image/png": "[encoded data removed]",
      "text/plain": [
       "<Figure size 640x480 with 1 Axes>"
      ]
     },
     "metadata": {},
     "output_type": "display_data"
    }
   ],
   "source": [
    "df.plot(kind='scatter', x='Balance', y='Bonus_miles')"
   ]
  },
  {
   "cell_type": "code",
   "execution_count": 35,
   "id": "9056f979-a00d-4ecd-abe9-9dd0b8194c06",
   "metadata": {},
   "outputs": [
    {
     "data": {
      "image/png": "[encoded data removed]",
      "text/plain": [
       "<Figure size 640x480 with 1 Axes>"
      ]
     },
     "metadata": {},
     "output_type": "display_data"
    }
   ],
   "source": [
    "df['Qual_miles'].plot(kind='box')\n",
    "plt.title('Box Plot of Qual_miles')\n",
    "plt.show()"
   ]
  },
  {
   "cell_type": "code",
   "execution_count": 36,
   "id": "39e9892a-efb7-4f31-b638-0f81522ed742",
   "metadata": {},
   "outputs": [
    {
     "data": {
      "image/png": "[encoded data removed]",
      "text/plain": [
       "<Figure size 640x480 with 1 Axes>"
      ]
     },
     "metadata": {},
     "output_type": "display_data"
    }
   ],
   "source": [
    "# 3. Bivariate Analysis\n",
    "sns.scatterplot(x='Flight_miles_12mo', y='Balance', data=df,color='green')\n",
    "plt.title('Scatter Plot: Flight_miles_12mo vs Balance')\n",
    "plt.show()\n"
   ]
  },
  {
   "cell_type": "code",
   "execution_count": 37,
   "id": "dc4d593a-c052-4837-868a-9ef33a1975d8",
   "metadata": {},
   "outputs": [
    {
     "data": {
      "text/html": [
       "<div>\n",
       "<style scoped>\n",
       "    .dataframe tbody tr th:only-of-type {\n",
       "        vertical-align: middle;\n",
       "    }\n",
       "\n",
       "    .dataframe tbody tr th {\n",
       "        vertical-align: top;\n",
       "    }\n",
       "\n",
       "    .dataframe thead th {\n",
       "        text-align: right;\n",
       "    }\n",
       "</style>\n",
       "<table border=\"1\" class=\"dataframe\">\n",
       "  <thead>\n",
       "    <tr style=\"text-align: right;\">\n",
       "      <th></th>\n",
       "      <th>ID#</th>\n",
       "      <th>Balance</th>\n",
       "      <th>Qual_miles</th>\n",
       "      <th>cc1_miles</th>\n",
       "      <th>cc2_miles</th>\n",
       "      <th>cc3_miles</th>\n",
       "      <th>Bonus_miles</th>\n",
       "      <th>Bonus_trans</th>\n",
       "      <th>Flight_miles_12mo</th>\n",
       "      <th>Flight_trans_12</th>\n",
       "      <th>Days_since_enroll</th>\n",
       "      <th>Award?</th>\n",
       "    </tr>\n",
       "  </thead>\n",
       "  <tbody>\n",
       "    <tr>\n",
       "      <th>ID#</th>\n",
       "      <td>1.000000</td>\n",
       "      <td>-0.243737</td>\n",
       "      <td>-0.019374</td>\n",
       "      <td>-0.224465</td>\n",
       "      <td>0.020291</td>\n",
       "      <td>-0.014707</td>\n",
       "      <td>-0.203012</td>\n",
       "      <td>-0.146915</td>\n",
       "      <td>-0.031013</td>\n",
       "      <td>-0.052096</td>\n",
       "      <td>-0.964988</td>\n",
       "      <td>-0.177901</td>\n",
       "    </tr>\n",
       "    <tr>\n",
       "      <th>Balance</th>\n",
       "      <td>-0.243737</td>\n",
       "      <td>1.000000</td>\n",
       "      <td>0.108722</td>\n",
       "      <td>0.338344</td>\n",
       "      <td>-0.008804</td>\n",
       "      <td>0.035243</td>\n",
       "      <td>0.403487</td>\n",
       "      <td>0.324935</td>\n",
       "      <td>0.217551</td>\n",
       "      <td>0.255700</td>\n",
       "      <td>0.263129</td>\n",
       "      <td>0.178494</td>\n",
       "    </tr>\n",
       "    <tr>\n",
       "      <th>Qual_miles</th>\n",
       "      <td>-0.019374</td>\n",
       "      <td>0.108722</td>\n",
       "      <td>1.000000</td>\n",
       "      <td>0.007931</td>\n",
       "      <td>-0.013923</td>\n",
       "      <td>-0.007779</td>\n",
       "      <td>0.031021</td>\n",
       "      <td>0.050725</td>\n",
       "      <td>0.126774</td>\n",
       "      <td>0.144004</td>\n",
       "      <td>0.017312</td>\n",
       "      <td>0.095256</td>\n",
       "    </tr>\n",
       "    <tr>\n",
       "      <th>cc1_miles</th>\n",
       "      <td>-0.224465</td>\n",
       "      <td>0.338344</td>\n",
       "      <td>0.007931</td>\n",
       "      <td>1.000000</td>\n",
       "      <td>-0.068223</td>\n",
       "      <td>0.060555</td>\n",
       "      <td>0.825200</td>\n",
       "      <td>0.608943</td>\n",
       "      <td>0.037370</td>\n",
       "      <td>0.041333</td>\n",
       "      <td>0.230849</td>\n",
       "      <td>0.335457</td>\n",
       "    </tr>\n",
       "    <tr>\n",
       "      <th>cc2_miles</th>\n",
       "      <td>0.020291</td>\n",
       "      <td>-0.008804</td>\n",
       "      <td>-0.013923</td>\n",
       "      <td>-0.068223</td>\n",
       "      <td>1.000000</td>\n",
       "      <td>-0.006166</td>\n",
       "      <td>-0.003969</td>\n",
       "      <td>0.064399</td>\n",
       "      <td>0.010598</td>\n",
       "      <td>0.028284</td>\n",
       "      <td>-0.005807</td>\n",
       "      <td>0.005332</td>\n",
       "    </tr>\n",
       "    <tr>\n",
       "      <th>cc3_miles</th>\n",
       "      <td>-0.014707</td>\n",
       "      <td>0.035243</td>\n",
       "      <td>-0.007779</td>\n",
       "      <td>0.060555</td>\n",
       "      <td>-0.006166</td>\n",
       "      <td>1.000000</td>\n",
       "      <td>0.204134</td>\n",
       "      <td>0.097313</td>\n",
       "      <td>-0.001777</td>\n",
       "      <td>-0.001117</td>\n",
       "      <td>0.010832</td>\n",
       "      <td>0.023484</td>\n",
       "    </tr>\n",
       "    <tr>\n",
       "      <th>Bonus_miles</th>\n",
       "      <td>-0.203012</td>\n",
       "      <td>0.403487</td>\n",
       "      <td>0.031021</td>\n",
       "      <td>0.825200</td>\n",
       "      <td>-0.003969</td>\n",
       "      <td>0.204134</td>\n",
       "      <td>1.000000</td>\n",
       "      <td>0.603180</td>\n",
       "      <td>0.183536</td>\n",
       "      <td>0.185261</td>\n",
       "      <td>0.210397</td>\n",
       "      <td>0.373506</td>\n",
       "    </tr>\n",
       "    <tr>\n",
       "      <th>Bonus_trans</th>\n",
       "      <td>-0.146915</td>\n",
       "      <td>0.324935</td>\n",
       "      <td>0.050725</td>\n",
       "      <td>0.608943</td>\n",
       "      <td>0.064399</td>\n",
       "      <td>0.097313</td>\n",
       "      <td>0.603180</td>\n",
       "      <td>1.000000</td>\n",
       "      <td>0.377216</td>\n",
       "      <td>0.432364</td>\n",
       "      <td>0.161262</td>\n",
       "      <td>0.333893</td>\n",
       "    </tr>\n",
       "    <tr>\n",
       "      <th>Flight_miles_12mo</th>\n",
       "      <td>-0.031013</td>\n",
       "      <td>0.217551</td>\n",
       "      <td>0.126774</td>\n",
       "      <td>0.037370</td>\n",
       "      <td>0.010598</td>\n",
       "      <td>-0.001777</td>\n",
       "      <td>0.183536</td>\n",
       "      <td>0.377216</td>\n",
       "      <td>1.000000</td>\n",
       "      <td>0.869193</td>\n",
       "      <td>0.037271</td>\n",
       "      <td>0.217715</td>\n",
       "    </tr>\n",
       "    <tr>\n",
       "      <th>Flight_trans_12</th>\n",
       "      <td>-0.052096</td>\n",
       "      <td>0.255700</td>\n",
       "      <td>0.144004</td>\n",
       "      <td>0.041333</td>\n",
       "      <td>0.028284</td>\n",
       "      <td>-0.001117</td>\n",
       "      <td>0.185261</td>\n",
       "      <td>0.432364</td>\n",
       "      <td>0.869193</td>\n",
       "      <td>1.000000</td>\n",
       "      <td>0.059260</td>\n",
       "      <td>0.247909</td>\n",
       "    </tr>\n",
       "    <tr>\n",
       "      <th>Days_since_enroll</th>\n",
       "      <td>-0.964988</td>\n",
       "      <td>0.263129</td>\n",
       "      <td>0.017312</td>\n",
       "      <td>0.230849</td>\n",
       "      <td>-0.005807</td>\n",
       "      <td>0.010832</td>\n",
       "      <td>0.210397</td>\n",
       "      <td>0.161262</td>\n",
       "      <td>0.037271</td>\n",
       "      <td>0.059260</td>\n",
       "      <td>1.000000</td>\n",
       "      <td>0.188121</td>\n",
       "    </tr>\n",
       "    <tr>\n",
       "      <th>Award?</th>\n",
       "      <td>-0.177901</td>\n",
       "      <td>0.178494</td>\n",
       "      <td>0.095256</td>\n",
       "      <td>0.335457</td>\n",
       "      <td>0.005332</td>\n",
       "      <td>0.023484</td>\n",
       "      <td>0.373506</td>\n",
       "      <td>0.333893</td>\n",
       "      <td>0.217715</td>\n",
       "      <td>0.247909</td>\n",
       "      <td>0.188121</td>\n",
       "      <td>1.000000</td>\n",
       "    </tr>\n",
       "  </tbody>\n",
       "</table>\n",
       "</div>"
      ],
      "text/plain": [
       "                        ID#   Balance  Qual_miles  cc1_miles  cc2_miles  \\\n",
       "ID#                1.000000 -0.243737   -0.019374  -0.224465   0.020291   \n",
       "Balance           -0.243737  1.000000    0.108722   0.338344  -0.008804   \n",
       "Qual_miles        -0.019374  0.108722    1.000000   0.007931  -0.013923   \n",
       "cc1_miles         -0.224465  0.338344    0.007931   1.000000  -0.068223   \n",
       "cc2_miles          0.020291 -0.008804   -0.013923  -0.068223   1.000000   \n",
       "cc3_miles         -0.014707  0.035243   -0.007779   0.060555  -0.006166   \n",
       "Bonus_miles       -0.203012  0.403487    0.031021   0.825200  -0.003969   \n",
       "Bonus_trans       -0.146915  0.324935    0.050725   0.608943   0.064399   \n",
       "Flight_miles_12mo -0.031013  0.217551    0.126774   0.037370   0.010598   \n",
       "Flight_trans_12   -0.052096  0.255700    0.144004   0.041333   0.028284   \n",
       "Days_since_enroll -0.964988  0.263129    0.017312   0.230849  -0.005807   \n",
       "Award?            -0.177901  0.178494    0.095256   0.335457   0.005332   \n",
       "\n",
       "                   cc3_miles  Bonus_miles  Bonus_trans  Flight_miles_12mo  \\\n",
       "ID#                -0.014707    -0.203012    -0.146915          -0.031013   \n",
       "Balance             0.035243     0.403487     0.324935           0.217551   \n",
       "Qual_miles         -0.007779     0.031021     0.050725           0.126774   \n",
       "cc1_miles           0.060555     0.825200     0.608943           0.037370   \n",
       "cc2_miles          -0.006166    -0.003969     0.064399           0.010598   \n",
       "cc3_miles           1.000000     0.204134     0.097313          -0.001777   \n",
       "Bonus_miles         0.204134     1.000000     0.603180           0.183536   \n",
       "Bonus_trans         0.097313     0.603180     1.000000           0.377216   \n",
       "Flight_miles_12mo  -0.001777     0.183536     0.377216           1.000000   \n",
       "Flight_trans_12    -0.001117     0.185261     0.432364           0.869193   \n",
       "Days_since_enroll   0.010832     0.210397     0.161262           0.037271   \n",
       "Award?              0.023484     0.373506     0.333893           0.217715   \n",
       "\n",
       "                   Flight_trans_12  Days_since_enroll    Award?  \n",
       "ID#                      -0.052096          -0.964988 -0.177901  \n",
       "Balance                   0.255700           0.263129  0.178494  \n",
       "Qual_miles                0.144004           0.017312  0.095256  \n",
       "cc1_miles                 0.041333           0.230849  0.335457  \n",
       "cc2_miles                 0.028284          -0.005807  0.005332  \n",
       "cc3_miles                -0.001117           0.010832  0.023484  \n",
       "Bonus_miles               0.185261           0.210397  0.373506  \n",
       "Bonus_trans               0.432364           0.161262  0.333893  \n",
       "Flight_miles_12mo         0.869193           0.037271  0.217715  \n",
       "Flight_trans_12           1.000000           0.059260  0.247909  \n",
       "Days_since_enroll         0.059260           1.000000  0.188121  \n",
       "Award?                    0.247909           0.188121  1.000000  "
      ]
     },
     "execution_count": 37,
     "metadata": {},
     "output_type": "execute_result"
    }
   ],
   "source": [
    "df.corr()"
   ]
  },
  {
   "cell_type": "code",
   "execution_count": 38,
   "id": "b26e3677-8ce0-4b42-81a1-afcf83a8aa05",
   "metadata": {},
   "outputs": [
    {
     "data": {
      "image/png": "[encoded data removed]",
      "text/plain": [
       "<Figure size 457.986x400 with 1 Axes>"
      ]
     },
     "metadata": {},
     "output_type": "display_data"
    }
   ],
   "source": [
    "sns.set_style(\"whitegrid\");\n",
    "sns.FacetGrid(df,hue=\"Award?\",height=4)\\\n",
    "    .map(plt.scatter,'Balance','Flight_miles_12mo')\\\n",
    "    .add_legend()\n",
    "plt.show()"
   ]
  },
  {
   "cell_type": "code",
   "execution_count": 39,
   "id": "9033c761-8974-40e2-a648-50c14ab493f8",
   "metadata": {},
   "outputs": [
    {
     "data": {
      "text/plain": [
       "<Axes: >"
      ]
     },
     "execution_count": 39,
     "metadata": {},
     "output_type": "execute_result"
    },
    {
     "data": {
      "image/png": "[encoded data removed]",
      "text/plain": [
       "<Figure size 640x480 with 2 Axes>"
      ]
     },
     "metadata": {},
     "output_type": "display_data"
    }
   ],
   "source": [
    "import seaborn as sns\n",
    "sns.heatmap(df.corr(), annot=True)\n"
   ]
  },
  {
   "cell_type": "markdown",
   "id": "f7ffc33a-5656-41ef-b700-2ebd4b13f5da",
   "metadata": {},
   "source": [
    "# 4. Data Pre-processing\n",
    "# 4.1 Data Cleaning:\n",
    "Ensure that the dataset is clean and free from any inconsistencies that could affect the model's performance.\n",
    "Handling Missing Values:\n",
    "we can use the mean/median/mode imputation here.\n",
    "\n",
    "#so we also tried for IQR to remove the outliers t=but they were not that effective so we will go for minmaxscaler()"
   ]
  },
  {
   "cell_type": "code",
   "execution_count": 47,
   "id": "fe0c8278-e324-4124-b1db-f266d83ad788",
   "metadata": {},
   "outputs": [
    {
     "name": "stderr",
     "output_type": "stream",
     "text": [
      "C:\\Users\\Vaishnavi\\anaconda3\\Lib\\site-packages\\seaborn\\_oldcore.py:1119: FutureWarning: use_inf_as_na option is deprecated and will be removed in a future version. Convert inf values to NaN before operating instead.\n",
      "  with pd.option_context('mode.use_inf_as_na', True):\n",
      "C:\\Users\\Vaishnavi\\anaconda3\\Lib\\site-packages\\seaborn\\_oldcore.py:1075: FutureWarning: When grouping with a length-1 list-like, you will need to pass a length-1 tuple to get_group in a future version of pandas. Pass `(name,)` instead of `name` to silence this warning.\n",
      "  data_subset = grouped_data.get_group(pd_key)\n",
      "C:\\Users\\Vaishnavi\\anaconda3\\Lib\\site-packages\\seaborn\\_oldcore.py:1075: FutureWarning: When grouping with a length-1 list-like, you will need to pass a length-1 tuple to get_group in a future version of pandas. Pass `(name,)` instead of `name` to silence this warning.\n",
      "  data_subset = grouped_data.get_group(pd_key)\n",
      "C:\\Users\\Vaishnavi\\anaconda3\\Lib\\site-packages\\seaborn\\_oldcore.py:1119: FutureWarning: use_inf_as_na option is deprecated and will be removed in a future version. Convert inf values to NaN before operating instead.\n",
      "  with pd.option_context('mode.use_inf_as_na', True):\n",
      "C:\\Users\\Vaishnavi\\anaconda3\\Lib\\site-packages\\seaborn\\_oldcore.py:1075: FutureWarning: When grouping with a length-1 list-like, you will need to pass a length-1 tuple to get_group in a future version of pandas. Pass `(name,)` instead of `name` to silence this warning.\n",
      "  data_subset = grouped_data.get_group(pd_key)\n",
      "C:\\Users\\Vaishnavi\\anaconda3\\Lib\\site-packages\\seaborn\\_oldcore.py:1075: FutureWarning: When grouping with a length-1 list-like, you will need to pass a length-1 tuple to get_group in a future version of pandas. Pass `(name,)` instead of `name` to silence this warning.\n",
      "  data_subset = grouped_data.get_group(pd_key)\n",
      "C:\\Users\\Vaishnavi\\anaconda3\\Lib\\site-packages\\seaborn\\_oldcore.py:1119: FutureWarning: use_inf_as_na option is deprecated and will be removed in a future version. Convert inf values to NaN before operating instead.\n",
      "  with pd.option_context('mode.use_inf_as_na', True):\n",
      "C:\\Users\\Vaishnavi\\anaconda3\\Lib\\site-packages\\seaborn\\_oldcore.py:1075: FutureWarning: When grouping with a length-1 list-like, you will need to pass a length-1 tuple to get_group in a future version of pandas. Pass `(name,)` instead of `name` to silence this warning.\n",
      "  data_subset = grouped_data.get_group(pd_key)\n",
      "C:\\Users\\Vaishnavi\\anaconda3\\Lib\\site-packages\\seaborn\\_oldcore.py:1075: FutureWarning: When grouping with a length-1 list-like, you will need to pass a length-1 tuple to get_group in a future version of pandas. Pass `(name,)` instead of `name` to silence this warning.\n",
      "  data_subset = grouped_data.get_group(pd_key)\n",
      "C:\\Users\\Vaishnavi\\anaconda3\\Lib\\site-packages\\seaborn\\_oldcore.py:1119: FutureWarning: use_inf_as_na option is deprecated and will be removed in a future version. Convert inf values to NaN before operating instead.\n",
      "  with pd.option_context('mode.use_inf_as_na', True):\n",
      "C:\\Users\\Vaishnavi\\anaconda3\\Lib\\site-packages\\seaborn\\_oldcore.py:1075: FutureWarning: When grouping with a length-1 list-like, you will need to pass a length-1 tuple to get_group in a future version of pandas. Pass `(name,)` instead of `name` to silence this warning.\n",
      "  data_subset = grouped_data.get_group(pd_key)\n",
      "C:\\Users\\Vaishnavi\\anaconda3\\Lib\\site-packages\\seaborn\\_oldcore.py:1075: FutureWarning: When grouping with a length-1 list-like, you will need to pass a length-1 tuple to get_group in a future version of pandas. Pass `(name,)` instead of `name` to silence this warning.\n",
      "  data_subset = grouped_data.get_group(pd_key)\n",
      "C:\\Users\\Vaishnavi\\anaconda3\\Lib\\site-packages\\seaborn\\_oldcore.py:1119: FutureWarning: use_inf_as_na option is deprecated and will be removed in a future version. Convert inf values to NaN before operating instead.\n",
      "  with pd.option_context('mode.use_inf_as_na', True):\n",
      "C:\\Users\\Vaishnavi\\anaconda3\\Lib\\site-packages\\seaborn\\_oldcore.py:1075: FutureWarning: When grouping with a length-1 list-like, you will need to pass a length-1 tuple to get_group in a future version of pandas. Pass `(name,)` instead of `name` to silence this warning.\n",
      "  data_subset = grouped_data.get_group(pd_key)\n",
      "C:\\Users\\Vaishnavi\\anaconda3\\Lib\\site-packages\\seaborn\\_oldcore.py:1075: FutureWarning: When grouping with a length-1 list-like, you will need to pass a length-1 tuple to get_group in a future version of pandas. Pass `(name,)` instead of `name` to silence this warning.\n",
      "  data_subset = grouped_data.get_group(pd_key)\n",
      "C:\\Users\\Vaishnavi\\anaconda3\\Lib\\site-packages\\seaborn\\_oldcore.py:1119: FutureWarning: use_inf_as_na option is deprecated and will be removed in a future version. Convert inf values to NaN before operating instead.\n",
      "  with pd.option_context('mode.use_inf_as_na', True):\n",
      "C:\\Users\\Vaishnavi\\anaconda3\\Lib\\site-packages\\seaborn\\_oldcore.py:1075: FutureWarning: When grouping with a length-1 list-like, you will need to pass a length-1 tuple to get_group in a future version of pandas. Pass `(name,)` instead of `name` to silence this warning.\n",
      "  data_subset = grouped_data.get_group(pd_key)\n",
      "C:\\Users\\Vaishnavi\\anaconda3\\Lib\\site-packages\\seaborn\\_oldcore.py:1075: FutureWarning: When grouping with a length-1 list-like, you will need to pass a length-1 tuple to get_group in a future version of pandas. Pass `(name,)` instead of `name` to silence this warning.\n",
      "  data_subset = grouped_data.get_group(pd_key)\n",
      "C:\\Users\\Vaishnavi\\anaconda3\\Lib\\site-packages\\seaborn\\_oldcore.py:1119: FutureWarning: use_inf_as_na option is deprecated and will be removed in a future version. Convert inf values to NaN before operating instead.\n",
      "  with pd.option_context('mode.use_inf_as_na', True):\n",
      "C:\\Users\\Vaishnavi\\anaconda3\\Lib\\site-packages\\seaborn\\_oldcore.py:1075: FutureWarning: When grouping with a length-1 list-like, you will need to pass a length-1 tuple to get_group in a future version of pandas. Pass `(name,)` instead of `name` to silence this warning.\n",
      "  data_subset = grouped_data.get_group(pd_key)\n",
      "C:\\Users\\Vaishnavi\\anaconda3\\Lib\\site-packages\\seaborn\\_oldcore.py:1075: FutureWarning: When grouping with a length-1 list-like, you will need to pass a length-1 tuple to get_group in a future version of pandas. Pass `(name,)` instead of `name` to silence this warning.\n",
      "  data_subset = grouped_data.get_group(pd_key)\n",
      "C:\\Users\\Vaishnavi\\anaconda3\\Lib\\site-packages\\seaborn\\_oldcore.py:1119: FutureWarning: use_inf_as_na option is deprecated and will be removed in a future version. Convert inf values to NaN before operating instead.\n",
      "  with pd.option_context('mode.use_inf_as_na', True):\n",
      "C:\\Users\\Vaishnavi\\anaconda3\\Lib\\site-packages\\seaborn\\_oldcore.py:1075: FutureWarning: When grouping with a length-1 list-like, you will need to pass a length-1 tuple to get_group in a future version of pandas. Pass `(name,)` instead of `name` to silence this warning.\n",
      "  data_subset = grouped_data.get_group(pd_key)\n",
      "C:\\Users\\Vaishnavi\\anaconda3\\Lib\\site-packages\\seaborn\\_oldcore.py:1075: FutureWarning: When grouping with a length-1 list-like, you will need to pass a length-1 tuple to get_group in a future version of pandas. Pass `(name,)` instead of `name` to silence this warning.\n",
      "  data_subset = grouped_data.get_group(pd_key)\n",
      "C:\\Users\\Vaishnavi\\anaconda3\\Lib\\site-packages\\seaborn\\_oldcore.py:1119: FutureWarning: use_inf_as_na option is deprecated and will be removed in a future version. Convert inf values to NaN before operating instead.\n",
      "  with pd.option_context('mode.use_inf_as_na', True):\n",
      "C:\\Users\\Vaishnavi\\anaconda3\\Lib\\site-packages\\seaborn\\_oldcore.py:1075: FutureWarning: When grouping with a length-1 list-like, you will need to pass a length-1 tuple to get_group in a future version of pandas. Pass `(name,)` instead of `name` to silence this warning.\n",
      "  data_subset = grouped_data.get_group(pd_key)\n",
      "C:\\Users\\Vaishnavi\\anaconda3\\Lib\\site-packages\\seaborn\\_oldcore.py:1075: FutureWarning: When grouping with a length-1 list-like, you will need to pass a length-1 tuple to get_group in a future version of pandas. Pass `(name,)` instead of `name` to silence this warning.\n",
      "  data_subset = grouped_data.get_group(pd_key)\n",
      "C:\\Users\\Vaishnavi\\anaconda3\\Lib\\site-packages\\seaborn\\_oldcore.py:1119: FutureWarning: use_inf_as_na option is deprecated and will be removed in a future version. Convert inf values to NaN before operating instead.\n",
      "  with pd.option_context('mode.use_inf_as_na', True):\n",
      "C:\\Users\\Vaishnavi\\anaconda3\\Lib\\site-packages\\seaborn\\_oldcore.py:1075: FutureWarning: When grouping with a length-1 list-like, you will need to pass a length-1 tuple to get_group in a future version of pandas. Pass `(name,)` instead of `name` to silence this warning.\n",
      "  data_subset = grouped_data.get_group(pd_key)\n",
      "C:\\Users\\Vaishnavi\\anaconda3\\Lib\\site-packages\\seaborn\\_oldcore.py:1075: FutureWarning: When grouping with a length-1 list-like, you will need to pass a length-1 tuple to get_group in a future version of pandas. Pass `(name,)` instead of `name` to silence this warning.\n",
      "  data_subset = grouped_data.get_group(pd_key)\n",
      "C:\\Users\\Vaishnavi\\anaconda3\\Lib\\site-packages\\seaborn\\_oldcore.py:1119: FutureWarning: use_inf_as_na option is deprecated and will be removed in a future version. Convert inf values to NaN before operating instead.\n",
      "  with pd.option_context('mode.use_inf_as_na', True):\n",
      "C:\\Users\\Vaishnavi\\anaconda3\\Lib\\site-packages\\seaborn\\_oldcore.py:1075: FutureWarning: When grouping with a length-1 list-like, you will need to pass a length-1 tuple to get_group in a future version of pandas. Pass `(name,)` instead of `name` to silence this warning.\n",
      "  data_subset = grouped_data.get_group(pd_key)\n",
      "C:\\Users\\Vaishnavi\\anaconda3\\Lib\\site-packages\\seaborn\\_oldcore.py:1075: FutureWarning: When grouping with a length-1 list-like, you will need to pass a length-1 tuple to get_group in a future version of pandas. Pass `(name,)` instead of `name` to silence this warning.\n",
      "  data_subset = grouped_data.get_group(pd_key)\n",
      "C:\\Users\\Vaishnavi\\anaconda3\\Lib\\site-packages\\seaborn\\_oldcore.py:1119: FutureWarning: use_inf_as_na option is deprecated and will be removed in a future version. Convert inf values to NaN before operating instead.\n",
      "  with pd.option_context('mode.use_inf_as_na', True):\n",
      "C:\\Users\\Vaishnavi\\anaconda3\\Lib\\site-packages\\seaborn\\_oldcore.py:1075: FutureWarning: When grouping with a length-1 list-like, you will need to pass a length-1 tuple to get_group in a future version of pandas. Pass `(name,)` instead of `name` to silence this warning.\n",
      "  data_subset = grouped_data.get_group(pd_key)\n",
      "\n",
      "KeyboardInterrupt\n",
      "\n"
     ]
    }
   ],
   "source": [
    "#initially we will perform EDA to analyse the data\n",
    "\n",
    "#pairplot\n",
    "import seaborn as sns\n",
    "plt.close();\n",
    "sns.set_style(\"whitegrid\");\n",
    "sns.pairplot(df, hue=\"Award?\", height=3);\n",
    "plt.show()\n",
    "\n",
    "#pdf and cdf\n",
    "\n",
    "counts, bin_edges = np.histogram(df['Balance'], bins=10, \n",
    "                                 density = True)\n",
    "pdf = counts/(sum(counts))\n",
    "print(pdf);\n",
    "print(bin_edges)\n",
    "\n",
    "#compute CDF\n",
    "cdf = np.cumsum(pdf)\n",
    "plt.plot(bin_edges[1:],pdf)\n",
    "'''\n",
    "from pdf we can say that approx 90% of data have balance 20000\n",
    "'''\n",
    "plt.plot(bin_edges[1:], cdf)\n",
    "plt.show();\n"
   ]
  },
  {
   "cell_type": "code",
   "execution_count": 41,
   "id": "4e4b458c-60e2-4e51-9944-7cbee12fa72b",
   "metadata": {},
   "outputs": [],
   "source": [
    "#initially normalize the dataset\n",
    "def norm_fun(i):\n",
    "    x = (i-i.min())/(i.max()-i.min())\n",
    "    return x\n"
   ]
  },
  {
   "cell_type": "code",
   "execution_count": 42,
   "id": "1e7ebd06-b2ce-467d-bc01-79af4c3f1e4e",
   "metadata": {},
   "outputs": [
    {
     "data": {
      "text/html": [
       "<div>\n",
       "<style scoped>\n",
       "    .dataframe tbody tr th:only-of-type {\n",
       "        vertical-align: middle;\n",
       "    }\n",
       "\n",
       "    .dataframe tbody tr th {\n",
       "        vertical-align: top;\n",
       "    }\n",
       "\n",
       "    .dataframe thead th {\n",
       "        text-align: right;\n",
       "    }\n",
       "</style>\n",
       "<table border=\"1\" class=\"dataframe\">\n",
       "  <thead>\n",
       "    <tr style=\"text-align: right;\">\n",
       "      <th></th>\n",
       "      <th>ID#</th>\n",
       "      <th>Balance</th>\n",
       "      <th>Qual_miles</th>\n",
       "      <th>cc1_miles</th>\n",
       "      <th>cc2_miles</th>\n",
       "      <th>cc3_miles</th>\n",
       "      <th>Bonus_miles</th>\n",
       "      <th>Bonus_trans</th>\n",
       "      <th>Flight_miles_12mo</th>\n",
       "      <th>Flight_trans_12</th>\n",
       "      <th>Days_since_enroll</th>\n",
       "      <th>Award?</th>\n",
       "    </tr>\n",
       "  </thead>\n",
       "  <tbody>\n",
       "    <tr>\n",
       "      <th>count</th>\n",
       "      <td>3999.000000</td>\n",
       "      <td>3999.000000</td>\n",
       "      <td>3999.000000</td>\n",
       "      <td>3999.000000</td>\n",
       "      <td>3999.000000</td>\n",
       "      <td>3999.000000</td>\n",
       "      <td>3999.000000</td>\n",
       "      <td>3999.000000</td>\n",
       "      <td>3999.000000</td>\n",
       "      <td>3999.000000</td>\n",
       "      <td>3999.000000</td>\n",
       "      <td>3999.000000</td>\n",
       "    </tr>\n",
       "    <tr>\n",
       "      <th>mean</th>\n",
       "      <td>0.500950</td>\n",
       "      <td>0.043172</td>\n",
       "      <td>0.012927</td>\n",
       "      <td>0.264879</td>\n",
       "      <td>0.007252</td>\n",
       "      <td>0.003063</td>\n",
       "      <td>0.065020</td>\n",
       "      <td>0.134906</td>\n",
       "      <td>0.014929</td>\n",
       "      <td>0.025917</td>\n",
       "      <td>0.496330</td>\n",
       "      <td>0.370343</td>\n",
       "    </tr>\n",
       "    <tr>\n",
       "      <th>std</th>\n",
       "      <td>0.288747</td>\n",
       "      <td>0.059112</td>\n",
       "      <td>0.069399</td>\n",
       "      <td>0.344230</td>\n",
       "      <td>0.073825</td>\n",
       "      <td>0.048810</td>\n",
       "      <td>0.091590</td>\n",
       "      <td>0.111672</td>\n",
       "      <td>0.045436</td>\n",
       "      <td>0.071569</td>\n",
       "      <td>0.248991</td>\n",
       "      <td>0.482957</td>\n",
       "    </tr>\n",
       "    <tr>\n",
       "      <th>min</th>\n",
       "      <td>0.000000</td>\n",
       "      <td>0.000000</td>\n",
       "      <td>0.000000</td>\n",
       "      <td>0.000000</td>\n",
       "      <td>0.000000</td>\n",
       "      <td>0.000000</td>\n",
       "      <td>0.000000</td>\n",
       "      <td>0.000000</td>\n",
       "      <td>0.000000</td>\n",
       "      <td>0.000000</td>\n",
       "      <td>0.000000</td>\n",
       "      <td>0.000000</td>\n",
       "    </tr>\n",
       "    <tr>\n",
       "      <th>25%</th>\n",
       "      <td>0.251119</td>\n",
       "      <td>0.010868</td>\n",
       "      <td>0.000000</td>\n",
       "      <td>0.000000</td>\n",
       "      <td>0.000000</td>\n",
       "      <td>0.000000</td>\n",
       "      <td>0.004741</td>\n",
       "      <td>0.034884</td>\n",
       "      <td>0.000000</td>\n",
       "      <td>0.000000</td>\n",
       "      <td>0.280685</td>\n",
       "      <td>0.000000</td>\n",
       "    </tr>\n",
       "    <tr>\n",
       "      <th>50%</th>\n",
       "      <td>0.501244</td>\n",
       "      <td>0.025279</td>\n",
       "      <td>0.000000</td>\n",
       "      <td>0.000000</td>\n",
       "      <td>0.000000</td>\n",
       "      <td>0.000000</td>\n",
       "      <td>0.027195</td>\n",
       "      <td>0.139535</td>\n",
       "      <td>0.000000</td>\n",
       "      <td>0.000000</td>\n",
       "      <td>0.493610</td>\n",
       "      <td>0.000000</td>\n",
       "    </tr>\n",
       "    <tr>\n",
       "      <th>75%</th>\n",
       "      <td>0.751119</td>\n",
       "      <td>0.054201</td>\n",
       "      <td>0.000000</td>\n",
       "      <td>0.500000</td>\n",
       "      <td>0.000000</td>\n",
       "      <td>0.000000</td>\n",
       "      <td>0.090261</td>\n",
       "      <td>0.197674</td>\n",
       "      <td>0.010092</td>\n",
       "      <td>0.018868</td>\n",
       "      <td>0.697914</td>\n",
       "      <td>1.000000</td>\n",
       "    </tr>\n",
       "    <tr>\n",
       "      <th>max</th>\n",
       "      <td>1.000000</td>\n",
       "      <td>1.000000</td>\n",
       "      <td>1.000000</td>\n",
       "      <td>1.000000</td>\n",
       "      <td>1.000000</td>\n",
       "      <td>1.000000</td>\n",
       "      <td>1.000000</td>\n",
       "      <td>1.000000</td>\n",
       "      <td>1.000000</td>\n",
       "      <td>1.000000</td>\n",
       "      <td>1.000000</td>\n",
       "      <td>1.000000</td>\n",
       "    </tr>\n",
       "  </tbody>\n",
       "</table>\n",
       "</div>"
      ],
      "text/plain": [
       "               ID#      Balance   Qual_miles    cc1_miles    cc2_miles  \\\n",
       "count  3999.000000  3999.000000  3999.000000  3999.000000  3999.000000   \n",
       "mean      0.500950     0.043172     0.012927     0.264879     0.007252   \n",
       "std       0.288747     0.059112     0.069399     0.344230     0.073825   \n",
       "min       0.000000     0.000000     0.000000     0.000000     0.000000   \n",
       "25%       0.251119     0.010868     0.000000     0.000000     0.000000   \n",
       "50%       0.501244     0.025279     0.000000     0.000000     0.000000   \n",
       "75%       0.751119     0.054201     0.000000     0.500000     0.000000   \n",
       "max       1.000000     1.000000     1.000000     1.000000     1.000000   \n",
       "\n",
       "         cc3_miles  Bonus_miles  Bonus_trans  Flight_miles_12mo  \\\n",
       "count  3999.000000  3999.000000  3999.000000        3999.000000   \n",
       "mean      0.003063     0.065020     0.134906           0.014929   \n",
       "std       0.048810     0.091590     0.111672           0.045436   \n",
       "min       0.000000     0.000000     0.000000           0.000000   \n",
       "25%       0.000000     0.004741     0.034884           0.000000   \n",
       "50%       0.000000     0.027195     0.139535           0.000000   \n",
       "75%       0.000000     0.090261     0.197674           0.010092   \n",
       "max       1.000000     1.000000     1.000000           1.000000   \n",
       "\n",
       "       Flight_trans_12  Days_since_enroll       Award?  \n",
       "count      3999.000000        3999.000000  3999.000000  \n",
       "mean          0.025917           0.496330     0.370343  \n",
       "std           0.071569           0.248991     0.482957  \n",
       "min           0.000000           0.000000     0.000000  \n",
       "25%           0.000000           0.280685     0.000000  \n",
       "50%           0.000000           0.493610     0.000000  \n",
       "75%           0.018868           0.697914     1.000000  \n",
       "max           1.000000           1.000000     1.000000  "
      ]
     },
     "execution_count": 42,
     "metadata": {},
     "output_type": "execute_result"
    }
   ],
   "source": [
    "#apply this func on airlines dataset\n",
    "df_new = norm_fun(df)\n",
    "b = df_new.describe()\n",
    "b\n",
    "#as qual miles is containing NAN values so we will drop it\n",
    "#df_new.drop(['Qual_miles'],axis=1,inplace=True)\n",
    "\n",
    "#now all the data is normalized"
   ]
  },
  {
   "cell_type": "markdown",
   "id": "8a931da1-f4b3-40a3-ac2c-9bece6dc4432",
   "metadata": {},
   "source": [
    "# 4.2 Feature Engineering\n",
    "Create new features to improve the performance of the model.\n",
    "#we can have the customers which are joined from when and what is there ratio .\n",
    "this will tell there Loyaltyratio\n",
    "\n",
    "Example of creating a new feature\n",
    "#df['Loyalty_Ratio'] = df['Balance'] / df['Days_since_enroll']\n",
    " here ist is not necessary to do that\n",
    "\n",
    "\n",
    " # Scaling/Normalization:\n",
    " Scaling ensures that all features contribute equally to the model, especially important for algorithms like K-means clustering.\n"
   ]
  },
  {
   "cell_type": "code",
   "execution_count": 48,
   "id": "4312271e-c2fd-4537-bf4c-17fc30b6ec2b",
   "metadata": {},
   "outputs": [
    {
     "data": {
      "text/html": [
       "<div>\n",
       "<style scoped>\n",
       "    .dataframe tbody tr th:only-of-type {\n",
       "        vertical-align: middle;\n",
       "    }\n",
       "\n",
       "    .dataframe tbody tr th {\n",
       "        vertical-align: top;\n",
       "    }\n",
       "\n",
       "    .dataframe thead th {\n",
       "        text-align: right;\n",
       "    }\n",
       "</style>\n",
       "<table border=\"1\" class=\"dataframe\">\n",
       "  <thead>\n",
       "    <tr style=\"text-align: right;\">\n",
       "      <th></th>\n",
       "      <th>Balance</th>\n",
       "      <th>Qual_miles</th>\n",
       "      <th>Flight_miles_12mo</th>\n",
       "      <th>Bonus_miles</th>\n",
       "      <th>Bonus_trans</th>\n",
       "      <th>Flight_trans_12</th>\n",
       "      <th>Days_since_enroll</th>\n",
       "    </tr>\n",
       "  </thead>\n",
       "  <tbody>\n",
       "    <tr>\n",
       "      <th>0</th>\n",
       "      <td>-0.451141</td>\n",
       "      <td>-0.186299</td>\n",
       "      <td>-0.328603</td>\n",
       "      <td>-0.702786</td>\n",
       "      <td>-1.104065</td>\n",
       "      <td>-0.362168</td>\n",
       "      <td>1.395454</td>\n",
       "    </tr>\n",
       "    <tr>\n",
       "      <th>1</th>\n",
       "      <td>-0.539457</td>\n",
       "      <td>-0.186299</td>\n",
       "      <td>-0.328603</td>\n",
       "      <td>-0.701088</td>\n",
       "      <td>-0.999926</td>\n",
       "      <td>-0.362168</td>\n",
       "      <td>1.379957</td>\n",
       "    </tr>\n",
       "    <tr>\n",
       "      <th>2</th>\n",
       "      <td>-0.320031</td>\n",
       "      <td>-0.186299</td>\n",
       "      <td>-0.328603</td>\n",
       "      <td>-0.539253</td>\n",
       "      <td>-0.791649</td>\n",
       "      <td>-0.362168</td>\n",
       "      <td>1.411920</td>\n",
       "    </tr>\n",
       "    <tr>\n",
       "      <th>3</th>\n",
       "      <td>-0.583799</td>\n",
       "      <td>-0.186299</td>\n",
       "      <td>-0.328603</td>\n",
       "      <td>-0.689286</td>\n",
       "      <td>-1.104065</td>\n",
       "      <td>-0.362168</td>\n",
       "      <td>1.372208</td>\n",
       "    </tr>\n",
       "    <tr>\n",
       "      <th>4</th>\n",
       "      <td>0.239678</td>\n",
       "      <td>-0.186299</td>\n",
       "      <td>1.154932</td>\n",
       "      <td>1.083121</td>\n",
       "      <td>1.499394</td>\n",
       "      <td>0.692490</td>\n",
       "      <td>1.363975</td>\n",
       "    </tr>\n",
       "    <tr>\n",
       "      <th>...</th>\n",
       "      <td>...</td>\n",
       "      <td>...</td>\n",
       "      <td>...</td>\n",
       "      <td>...</td>\n",
       "      <td>...</td>\n",
       "      <td>...</td>\n",
       "      <td>...</td>\n",
       "    </tr>\n",
       "    <tr>\n",
       "      <th>3994</th>\n",
       "      <td>-0.547079</td>\n",
       "      <td>-0.186299</td>\n",
       "      <td>-0.185750</td>\n",
       "      <td>-0.356960</td>\n",
       "      <td>-0.791649</td>\n",
       "      <td>-0.098503</td>\n",
       "      <td>-1.315120</td>\n",
       "    </tr>\n",
       "    <tr>\n",
       "      <th>3995</th>\n",
       "      <td>-0.091465</td>\n",
       "      <td>-0.186299</td>\n",
       "      <td>-0.328603</td>\n",
       "      <td>-0.669367</td>\n",
       "      <td>-0.687511</td>\n",
       "      <td>-0.362168</td>\n",
       "      <td>-1.318994</td>\n",
       "    </tr>\n",
       "    <tr>\n",
       "      <th>3996</th>\n",
       "      <td>-0.000043</td>\n",
       "      <td>-0.186299</td>\n",
       "      <td>-0.328603</td>\n",
       "      <td>0.343804</td>\n",
       "      <td>-0.375096</td>\n",
       "      <td>-0.362168</td>\n",
       "      <td>-1.315604</td>\n",
       "    </tr>\n",
       "    <tr>\n",
       "      <th>3997</th>\n",
       "      <td>-0.185607</td>\n",
       "      <td>-0.186299</td>\n",
       "      <td>0.028531</td>\n",
       "      <td>-0.689286</td>\n",
       "      <td>-1.104065</td>\n",
       "      <td>-0.098503</td>\n",
       "      <td>-1.316088</td>\n",
       "    </tr>\n",
       "    <tr>\n",
       "      <th>3998</th>\n",
       "      <td>-0.700508</td>\n",
       "      <td>-0.186299</td>\n",
       "      <td>-0.328603</td>\n",
       "      <td>-0.709992</td>\n",
       "      <td>-1.208203</td>\n",
       "      <td>-0.362168</td>\n",
       "      <td>-1.317541</td>\n",
       "    </tr>\n",
       "  </tbody>\n",
       "</table>\n",
       "<p>3999 rows × 7 columns</p>\n",
       "</div>"
      ],
      "text/plain": [
       "       Balance  Qual_miles  Flight_miles_12mo  Bonus_miles  Bonus_trans  \\\n",
       "0    -0.451141   -0.186299          -0.328603    -0.702786    -1.104065   \n",
       "1    -0.539457   -0.186299          -0.328603    -0.701088    -0.999926   \n",
       "2    -0.320031   -0.186299          -0.328603    -0.539253    -0.791649   \n",
       "3    -0.583799   -0.186299          -0.328603    -0.689286    -1.104065   \n",
       "4     0.239678   -0.186299           1.154932     1.083121     1.499394   \n",
       "...        ...         ...                ...          ...          ...   \n",
       "3994 -0.547079   -0.186299          -0.185750    -0.356960    -0.791649   \n",
       "3995 -0.091465   -0.186299          -0.328603    -0.669367    -0.687511   \n",
       "3996 -0.000043   -0.186299          -0.328603     0.343804    -0.375096   \n",
       "3997 -0.185607   -0.186299           0.028531    -0.689286    -1.104065   \n",
       "3998 -0.700508   -0.186299          -0.328603    -0.709992    -1.208203   \n",
       "\n",
       "      Flight_trans_12  Days_since_enroll  \n",
       "0           -0.362168           1.395454  \n",
       "1           -0.362168           1.379957  \n",
       "2           -0.362168           1.411920  \n",
       "3           -0.362168           1.372208  \n",
       "4            0.692490           1.363975  \n",
       "...               ...                ...  \n",
       "3994        -0.098503          -1.315120  \n",
       "3995        -0.362168          -1.318994  \n",
       "3996        -0.362168          -1.315604  \n",
       "3997        -0.098503          -1.316088  \n",
       "3998        -0.362168          -1.317541  \n",
       "\n",
       "[3999 rows x 7 columns]"
      ]
     },
     "execution_count": 48,
     "metadata": {},
     "output_type": "execute_result"
    }
   ],
   "source": [
    "from sklearn.preprocessing import StandardScaler\n",
    "\n",
    "scaler = StandardScaler()\n",
    "scaled_features = scaler.fit_transform(df[['Balance', 'Qual_miles', 'Flight_miles_12mo','Bonus_miles','Bonus_trans','Flight_trans_12','Days_since_enroll']])\n",
    "\n",
    "# Convert back to DataFrame\n",
    "df_scaled = pd.DataFrame(scaled_features, columns=['Balance', 'Qual_miles', 'Flight_miles_12mo','Bonus_miles','Bonus_trans','Flight_trans_12','Days_since_enroll'])\n",
    "df_scaled"
   ]
  },
  {
   "cell_type": "code",
   "execution_count": 52,
   "id": "52836d4b-cde9-4fa5-a2bd-a7c14fb130c3",
   "metadata": {},
   "outputs": [
    {
     "data": {
      "text/plain": [
       "array([[ 1.51935361e+03,  1.88000250e+05,  2.85322489e+02,\n",
       "         3.05516266e+00,  1.00990099e+00,  1.02970297e+00,\n",
       "         3.60351358e+04,  1.76506365e+01,  9.97294201e+02,\n",
       "         2.87835926e+00,  5.03298303e+03,  5.04950495e-01,\n",
       "        -2.33146835e-15],\n",
       "       [ 2.13938248e+03,  3.94621468e+04,  1.06846700e+02,\n",
       "         1.82541641e+00,  1.01542258e+00,  1.00771129e+00,\n",
       "         1.25122036e+04,  1.01483652e+01,  3.24614744e+02,\n",
       "         9.79642196e-01,  3.88614374e+03,  3.34053054e-01,\n",
       "         1.00000000e+00],\n",
       "       [ 9.44040000e+02,  6.69585040e+05,  5.63880000e+02,\n",
       "         3.16000000e+00,  1.02000000e+00,  1.06000000e+00,\n",
       "         5.04167000e+04,  2.03200000e+01,  1.64550000e+03,\n",
       "         5.64000000e+00,  6.25844000e+03,  8.20000000e-01,\n",
       "         2.00000000e+00]])"
      ]
     },
     "execution_count": 52,
     "metadata": {},
     "output_type": "execute_result"
    }
   ],
   "source": [
    "from sklearn.cluster import KMeans\n",
    "km=KMeans(n_clusters=3,random_state=42)\n",
    "y_predicted=km.fit_predict(df)\n",
    "y_predicted\n",
    "df['clusters']=y_predicted\n",
    "km.cluster_centers_"
   ]
  },
  {
   "cell_type": "code",
   "execution_count": 58,
   "id": "50ca901f-3978-4c5d-a785-c5f565963c0d",
   "metadata": {},
   "outputs": [
    {
     "name": "stdout",
     "output_type": "stream",
     "text": [
      "Cluster Centers (original scale):\n",
      "[[ 5.90879303e+04  1.05339931e+02  3.72513769e+02  2.02699733e+04\n",
      "   1.28485370e+01  4.43407745e+03  1.00000000e+00]\n",
      " [ 5.20906596e+04  6.35280899e+01  1.78856846e+02  8.35862880e+03\n",
      "   8.46317104e+00  3.75914524e+03 -2.60902411e-15]\n",
      " [ 2.31561472e+05  6.94126728e+02  2.25140323e+03  5.74256820e+04\n",
      "   2.56428571e+01  5.26381336e+03  7.35023041e-01]]\n"
     ]
    }
   ],
   "source": [
    "from sklearn.preprocessing import StandardScaler\n",
    "from sklearn.cluster import KMeans\n",
    "\n",
    "# Example: Selecting specific columns for scaling and clustering\n",
    "columns_to_scale = ['Balance', 'Qual_miles', 'Flight_miles_12mo', 'Bonus_miles', 'Bonus_trans', 'Days_since_enroll', 'Award?']\n",
    "\n",
    "# Scale the selected features\n",
    "scaler = StandardScaler()\n",
    "df_scaled = scaler.fit_transform(df[columns_to_scale])\n",
    "\n",
    "# Fit K-means clustering on the scaled data\n",
    "km = KMeans(n_clusters=3, random_state=42)\n",
    "km.fit(df_scaled)\n",
    "\n",
    "# Inverse transform the cluster centers to the original scale (make sure you use the same columns)\n",
    "centroids_original = scaler.inverse_transform(km.cluster_centers_)\n",
    "print(\"Cluster Centers (original scale):\")\n",
    "print(centroids_original)\n"
   ]
  },
  {
   "cell_type": "code",
   "execution_count": 59,
   "id": "8fe13833-6449-4b24-a990-cc939c3f790b",
   "metadata": {},
   "outputs": [],
   "source": [
    "#dataframes for the clusters\n",
    "df1 = df[df.clusters == 0]\n",
    "df2 = df[df.clusters == 1]\n",
    "df3 = df[df.clusters == 2]"
   ]
  },
  {
   "cell_type": "code",
   "execution_count": 60,
   "id": "07562208-2ca4-4f4e-af53-3f8874fecdea",
   "metadata": {},
   "outputs": [
    {
     "data": {
      "image/png": "[encoded data removed]",
      "text/plain": [
       "<Figure size 640x480 with 1 Axes>"
      ]
     },
     "metadata": {},
     "output_type": "display_data"
    }
   ],
   "source": [
    "#plot them\n",
    "#balance and bonus miles\n",
    "plt.scatter(df1['Balance'], df1['Bonus_miles'], color='green', label='Cluster 1', s=10)\n",
    "plt.scatter(df2['Balance'], df2['Bonus_miles'], color='red', label='Cluster 2',s=10)\n",
    "plt.scatter(df3['Balance'], df3['Bonus_miles'], color='blue', label='Cluster 3',s=10)\n",
    "plt.scatter(centroids_original[:, 0], centroids_original[:, 2], color='white', marker='*', s=20, label='Centroid')\n",
    "plt.xlabel('Balance')\n",
    "plt.ylabel('Bonus_miles')\n",
    "plt.legend()\n",
    "plt.show()"
   ]
  },
  {
   "cell_type": "code",
   "execution_count": 61,
   "id": "c7b4d38c-c230-4388-b893-3e97d0aee774",
   "metadata": {},
   "outputs": [
    {
     "data": {
      "image/png": "[encoded data removed]",
      "text/plain": [
       "<Figure size 640x480 with 1 Axes>"
      ]
     },
     "metadata": {},
     "output_type": "display_data"
    }
   ],
   "source": [
    "#show cluster centers\n",
    "plt.scatter(centroids_original[:, 0], centroids_original[:, 2], color='orange', marker='*', s=50, label='Centroid')\n",
    "plt.xlabel('Balance')\n",
    "plt.ylabel('Bonus_miles')\n",
    "plt.legend()\n",
    "plt.show()"
   ]
  },
  {
   "cell_type": "markdown",
   "id": "2bf332ce-a7d5-40de-957f-83f1987273e1",
   "metadata": {},
   "source": [
    "# Elbow curve"
   ]
  },
  {
   "cell_type": "code",
   "execution_count": 62,
   "id": "a22d36e9-7464-4794-b93f-68c862e41c45",
   "metadata": {},
   "outputs": [],
   "source": [
    "#find number of clusters\n",
    "TWSS=[]\n",
    "k = list(range(2, 8))\n",
    "for i in k:\n",
    "    kmeans = KMeans(n_clusters=i, random_state=42)\n",
    "    kmeans.fit(df_new)\n",
    "    TWSS.append(kmeans.inertia_)"
   ]
  },
  {
   "cell_type": "code",
   "execution_count": 63,
   "id": "221ae7e2-35ac-4f80-86b8-29f1b22bda86",
   "metadata": {},
   "outputs": [
    {
     "name": "stderr",
     "output_type": "stream",
     "text": [
      "C:\\Users\\Vaishnavi\\AppData\\Local\\Temp\\ipykernel_10996\\1625205585.py:2: UserWarning: color is redundantly defined by the 'color' keyword argument and the fmt string \"ro-\" (-> color='r'). The keyword argument will take precedence.\n",
      "  plt.plot(k, TWSS, 'ro-',color='blue')\n"
     ]
    },
    {
     "data": {
      "image/png": "[encoded data removed]",
      "text/plain": [
       "<Figure size 640x480 with 1 Axes>"
      ]
     },
     "metadata": {},
     "output_type": "display_data"
    }
   ],
   "source": [
    "#plot the elbow curve\n",
    "plt.plot(k, TWSS, 'ro-',color='blue')\n",
    "plt.xlabel(\"Number of Clusters\")\n",
    "plt.ylabel(\"Total Within-Cluster Sum of Squares (TWSS)\")\n",
    "plt.title(\"Elbow Curve for Number of Clusters\")\n",
    "plt.show()"
   ]
  },
  {
   "cell_type": "code",
   "execution_count": 64,
   "id": "d092a55b-f02e-4140-ab25-a1bfb9d311f7",
   "metadata": {},
   "outputs": [
    {
     "data": {
      "image/png": "[encoded data removed]",
      "text/plain": [
       "<Figure size 640x480 with 1 Axes>"
      ]
     },
     "metadata": {},
     "output_type": "display_data"
    }
   ],
   "source": [
    "####lets calculate this again\n",
    "cols = ['Balance', 'Qual_miles', 'Bonus_miles', 'Bonus_trans','Flight_miles_12mo', 'Flight_trans_12', 'Days_since_enroll']\n",
    "#scatter plot\n",
    "plt.scatter(df['Balance'], df['Bonus_miles'],s=20,color='purple')\n",
    "plt.xlabel('Balance')\n",
    "plt.ylabel('Bonus_miles')\n",
    "plt.show()"
   ]
  },
  {
   "cell_type": "code",
   "execution_count": 66,
   "id": "cc1fc153-a0bd-4357-a49f-6bc38a943e3a",
   "metadata": {},
   "outputs": [],
   "source": [
    "#data is not scaled, so lets just scale the data\n",
    "from sklearn.preprocessing import MinMaxScaler\n",
    "scaler=MinMaxScaler()\n",
    "df_scaled = scaler.fit_transform(df[cols])"
   ]
  },
  {
   "cell_type": "code",
   "execution_count": 67,
   "id": "8cce984c-38da-426f-bef1-470ca1a2d288",
   "metadata": {},
   "outputs": [],
   "source": [
    "#convert back to dataframe\n",
    "df_scaled = pd.DataFrame(df_scaled, columns=cols)"
   ]
  },
  {
   "cell_type": "code",
   "execution_count": 68,
   "id": "13e17523-1c7f-4e52-aafc-d450e2b274d6",
   "metadata": {},
   "outputs": [],
   "source": [
    "#apply k-means clustering\n",
    "km = KMeans(n_clusters=3, random_state=42)\n",
    "y_predicted = km.fit_predict(df_scaled)"
   ]
  },
  {
   "cell_type": "code",
   "execution_count": 69,
   "id": "0a817030-ec09-4797-ad84-dfcb3c9fbe1c",
   "metadata": {},
   "outputs": [],
   "source": [
    "df['cluster'] = y_predicted"
   ]
  },
  {
   "cell_type": "code",
   "execution_count": 70,
   "id": "d373df04-2a72-4027-b82c-9f9f7be40cac",
   "metadata": {},
   "outputs": [
    {
     "name": "stdout",
     "output_type": "stream",
     "text": [
      "Cluster Centers (scaled):\n",
      "[[0.04222259 0.01349726 0.06544022 0.13639873 0.01463364 0.02457006\n",
      "  0.51444269]\n",
      " [0.02686567 0.01082712 0.04051472 0.11121839 0.01322386 0.02214989\n",
      "  0.22205537]\n",
      " [0.06406554 0.01475267 0.09410907 0.16166412 0.01735782 0.03215382\n",
      "  0.8051275 ]]\n"
     ]
    }
   ],
   "source": [
    "#clustercenters\n",
    "print(\"Cluster Centers (scaled):\")\n",
    "print(km.cluster_centers_)"
   ]
  },
  {
   "cell_type": "code",
   "execution_count": 71,
   "id": "e3e095d4-66a1-4371-a4f9-5349ee0622ab",
   "metadata": {},
   "outputs": [
    {
     "name": "stdout",
     "output_type": "stream",
     "text": [
      "Cluster Centers (original scale):\n",
      "[[7.19826729e+04 1.50467497e+02 1.72556037e+04 1.17302905e+01\n",
      "  4.50964730e+02 1.30221300e+00 4.26878769e+03]\n",
      " [4.58016156e+04 1.20700787e+02 1.06831238e+04 9.56478168e+00\n",
      "  4.07519685e+02 1.17394417e+00 1.84372727e+03]\n",
      " [1.09221373e+05 1.64462803e+02 2.48151497e+04 1.39031142e+01\n",
      "  5.34916090e+02 1.70415225e+00 6.67972751e+03]]\n"
     ]
    }
   ],
   "source": [
    "# Inverse transform the cluster centers back to the original scale\n",
    "centroids_original = scaler.inverse_transform(km.cluster_centers_)\n",
    "print(\"Cluster Centers (original scale):\")\n",
    "print(centroids_original)"
   ]
  },
  {
   "cell_type": "code",
   "execution_count": 72,
   "id": "c261f403-8b3d-44c9-93ce-98ab17583ada",
   "metadata": {},
   "outputs": [],
   "source": [
    "#dataframes for the clusters\n",
    "df1 = df[df.cluster == 0]\n",
    "df2 = df[df.cluster == 1]\n",
    "df3 = df[df.cluster == 2]"
   ]
  },
  {
   "cell_type": "code",
   "execution_count": 73,
   "id": "42b61173-04c8-4284-a843-1c1b6ffab32e",
   "metadata": {},
   "outputs": [
    {
     "data": {
      "image/png": "[encoded data removed]",
      "text/plain": [
       "<Figure size 640x480 with 1 Axes>"
      ]
     },
     "metadata": {},
     "output_type": "display_data"
    }
   ],
   "source": [
    "#plot them\n",
    "#balance and bonus miles\n",
    "plt.scatter(df1['Balance'], df1['Bonus_miles'], color='green', label='Cluster 1', s=10)\n",
    "plt.scatter(df2['Balance'], df2['Bonus_miles'], color='red', label='Cluster 2',s=10)\n",
    "plt.scatter(df3['Balance'], df3['Bonus_miles'], color='blue', label='Cluster 3',s=10)\n",
    "plt.scatter(centroids_original[:, 0], centroids_original[:, 2], color='white', marker='*', s=20, label='Centroid')\n",
    "plt.xlabel('Balance')\n",
    "plt.ylabel('Bonus_miles')\n",
    "plt.legend()\n",
    "plt.show()"
   ]
  },
  {
   "cell_type": "code",
   "execution_count": 74,
   "id": "630d5eca-403e-473f-95f4-1dd641d7fe19",
   "metadata": {},
   "outputs": [
    {
     "data": {
      "image/png": "[encoded data removed]",
      "text/plain": [
       "<Figure size 640x480 with 1 Axes>"
      ]
     },
     "metadata": {},
     "output_type": "display_data"
    }
   ],
   "source": [
    "#show cluster centers\n",
    "plt.scatter(centroids_original[:, 0], centroids_original[:, 2], color='orange', marker='*', s=50, label='Centroid')\n",
    "plt.xlabel('Balance')\n",
    "plt.ylabel('Bonus_miles')\n",
    "plt.legend()\n",
    "plt.show()"
   ]
  },
  {
   "cell_type": "code",
   "execution_count": 77,
   "id": "6bbb54e1-7905-49b9-a300-9c0f3fd692e3",
   "metadata": {},
   "outputs": [],
   "source": [
    "#Elbow Curve\n",
    "def normalization(column):\n",
    "    return (column - column.min()) / (column.max() - column.min())\n",
    "\n",
    "df_norm = normalization(df[cols])\n",
    "\n",
    "#find number of clusters\n",
    "TWSS=[]\n",
    "k = list(range(2, 8))\n",
    "for i in k:\n",
    "    kmeans = KMeans(n_clusters=i, random_state=42)\n",
    "    kmeans.fit(df_norm)\n",
    "    TWSS.append(kmeans.inertia_)\n"
   ]
  },
  {
   "cell_type": "code",
   "execution_count": 78,
   "id": "5e164085-6a2d-41be-9863-70fe6eacffa4",
   "metadata": {},
   "outputs": [
    {
     "name": "stderr",
     "output_type": "stream",
     "text": [
      "C:\\Users\\Vaishnavi\\AppData\\Local\\Temp\\ipykernel_10996\\1625205585.py:2: UserWarning: color is redundantly defined by the 'color' keyword argument and the fmt string \"ro-\" (-> color='r'). The keyword argument will take precedence.\n",
      "  plt.plot(k, TWSS, 'ro-',color='blue')\n"
     ]
    },
    {
     "data": {
      "image/png": "[encoded data removed]",
      "text/plain": [
       "<Figure size 640x480 with 1 Axes>"
      ]
     },
     "metadata": {},
     "output_type": "display_data"
    }
   ],
   "source": [
    "#plot the elbow curve\n",
    "plt.plot(k, TWSS, 'ro-',color='blue')\n",
    "plt.xlabel(\"Number of Clusters\")\n",
    "plt.ylabel(\"Total Within-Cluster Sum of Squares (TWSS)\")\n",
    "plt.title(\"Elbow Curve for Number of Clusters\")\n",
    "plt.show()"
   ]
  },
  {
   "cell_type": "code",
   "execution_count": null,
   "id": "f901370f-d0b8-4653-b021-282356ce8aa5",
   "metadata": {},
   "outputs": [],
   "source": []
  }
 ],
 "metadata": {
  "kernelspec": {
   "display_name": "Python 3 (ipykernel)",
   "language": "python",
   "name": "python3"
  },
  "language_info": {
   "codemirror_mode": {
    "name": "ipython",
    "version": 3
   },
   "file_extension": ".py",
   "mimetype": "text/x-python",
   "name": "python",
   "nbconvert_exporter": "python",
   "pygments_lexer": "ipython3",
   "version": "3.11.7"
  }
 },
 "nbformat": 4,
 "nbformat_minor": 5
}
