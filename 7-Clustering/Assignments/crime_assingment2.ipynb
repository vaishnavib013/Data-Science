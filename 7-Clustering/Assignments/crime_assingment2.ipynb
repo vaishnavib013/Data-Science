{
 "cells": [
  {
   "cell_type": "code",
   "execution_count": 2,
   "id": "0745ed5a-dc8e-4871-99f1-c66b2df7a3bf",
   "metadata": {},
   "outputs": [],
   "source": [
    "import numpy as np\n",
    "import pandas as pd\n",
    "import matplotlib.pyplot as plt\n",
    "import seaborn as sns"
   ]
  },
  {
   "cell_type": "code",
   "execution_count": 3,
   "id": "1de08eec-d8a5-4680-b495-0992b270e44c",
   "metadata": {},
   "outputs": [],
   "source": [
    "#read the file\n",
    "df=pd.read_csv(\"C:/7-clustering/Assignments/crime_data.csv\")"
   ]
  },
  {
   "cell_type": "code",
   "execution_count": 4,
   "id": "43e04773-a6f0-4e1a-a0e6-581adb6dbdda",
   "metadata": {},
   "outputs": [
    {
     "data": {
      "text/html": [
       "<div>\n",
       "<style scoped>\n",
       "    .dataframe tbody tr th:only-of-type {\n",
       "        vertical-align: middle;\n",
       "    }\n",
       "\n",
       "    .dataframe tbody tr th {\n",
       "        vertical-align: top;\n",
       "    }\n",
       "\n",
       "    .dataframe thead th {\n",
       "        text-align: right;\n",
       "    }\n",
       "</style>\n",
       "<table border=\"1\" class=\"dataframe\">\n",
       "  <thead>\n",
       "    <tr style=\"text-align: right;\">\n",
       "      <th></th>\n",
       "      <th>Unnamed: 0</th>\n",
       "      <th>Murder</th>\n",
       "      <th>Assault</th>\n",
       "      <th>UrbanPop</th>\n",
       "      <th>Rape</th>\n",
       "    </tr>\n",
       "  </thead>\n",
       "  <tbody>\n",
       "    <tr>\n",
       "      <th>0</th>\n",
       "      <td>Alabama</td>\n",
       "      <td>13.2</td>\n",
       "      <td>236</td>\n",
       "      <td>58</td>\n",
       "      <td>21.2</td>\n",
       "    </tr>\n",
       "    <tr>\n",
       "      <th>1</th>\n",
       "      <td>Alaska</td>\n",
       "      <td>10.0</td>\n",
       "      <td>263</td>\n",
       "      <td>48</td>\n",
       "      <td>44.5</td>\n",
       "    </tr>\n",
       "    <tr>\n",
       "      <th>2</th>\n",
       "      <td>Arizona</td>\n",
       "      <td>8.1</td>\n",
       "      <td>294</td>\n",
       "      <td>80</td>\n",
       "      <td>31.0</td>\n",
       "    </tr>\n",
       "    <tr>\n",
       "      <th>3</th>\n",
       "      <td>Arkansas</td>\n",
       "      <td>8.8</td>\n",
       "      <td>190</td>\n",
       "      <td>50</td>\n",
       "      <td>19.5</td>\n",
       "    </tr>\n",
       "    <tr>\n",
       "      <th>4</th>\n",
       "      <td>California</td>\n",
       "      <td>9.0</td>\n",
       "      <td>276</td>\n",
       "      <td>91</td>\n",
       "      <td>40.6</td>\n",
       "    </tr>\n",
       "  </tbody>\n",
       "</table>\n",
       "</div>"
      ],
      "text/plain": [
       "   Unnamed: 0  Murder  Assault  UrbanPop  Rape\n",
       "0     Alabama    13.2      236        58  21.2\n",
       "1      Alaska    10.0      263        48  44.5\n",
       "2     Arizona     8.1      294        80  31.0\n",
       "3    Arkansas     8.8      190        50  19.5\n",
       "4  California     9.0      276        91  40.6"
      ]
     },
     "execution_count": 4,
     "metadata": {},
     "output_type": "execute_result"
    }
   ],
   "source": [
    "#step 1:Basic OVerview and Data Inspection\n",
    "#take starting 5 rows and all columns so that to understand what kind of data each column has\n",
    "df.head()"
   ]
  },
  {
   "cell_type": "code",
   "execution_count": 5,
   "id": "1ac6c366-d51c-4f20-8da2-517bedd2135e",
   "metadata": {},
   "outputs": [
    {
     "data": {
      "text/html": [
       "<div>\n",
       "<style scoped>\n",
       "    .dataframe tbody tr th:only-of-type {\n",
       "        vertical-align: middle;\n",
       "    }\n",
       "\n",
       "    .dataframe tbody tr th {\n",
       "        vertical-align: top;\n",
       "    }\n",
       "\n",
       "    .dataframe thead th {\n",
       "        text-align: right;\n",
       "    }\n",
       "</style>\n",
       "<table border=\"1\" class=\"dataframe\">\n",
       "  <thead>\n",
       "    <tr style=\"text-align: right;\">\n",
       "      <th></th>\n",
       "      <th>Unnamed: 0</th>\n",
       "      <th>Murder</th>\n",
       "      <th>Assault</th>\n",
       "      <th>UrbanPop</th>\n",
       "      <th>Rape</th>\n",
       "    </tr>\n",
       "  </thead>\n",
       "  <tbody>\n",
       "    <tr>\n",
       "      <th>45</th>\n",
       "      <td>Virginia</td>\n",
       "      <td>8.5</td>\n",
       "      <td>156</td>\n",
       "      <td>63</td>\n",
       "      <td>20.7</td>\n",
       "    </tr>\n",
       "    <tr>\n",
       "      <th>46</th>\n",
       "      <td>Washington</td>\n",
       "      <td>4.0</td>\n",
       "      <td>145</td>\n",
       "      <td>73</td>\n",
       "      <td>26.2</td>\n",
       "    </tr>\n",
       "    <tr>\n",
       "      <th>47</th>\n",
       "      <td>West Virginia</td>\n",
       "      <td>5.7</td>\n",
       "      <td>81</td>\n",
       "      <td>39</td>\n",
       "      <td>9.3</td>\n",
       "    </tr>\n",
       "    <tr>\n",
       "      <th>48</th>\n",
       "      <td>Wisconsin</td>\n",
       "      <td>2.6</td>\n",
       "      <td>53</td>\n",
       "      <td>66</td>\n",
       "      <td>10.8</td>\n",
       "    </tr>\n",
       "    <tr>\n",
       "      <th>49</th>\n",
       "      <td>Wyoming</td>\n",
       "      <td>6.8</td>\n",
       "      <td>161</td>\n",
       "      <td>60</td>\n",
       "      <td>15.6</td>\n",
       "    </tr>\n",
       "  </tbody>\n",
       "</table>\n",
       "</div>"
      ],
      "text/plain": [
       "       Unnamed: 0  Murder  Assault  UrbanPop  Rape\n",
       "45       Virginia     8.5      156        63  20.7\n",
       "46     Washington     4.0      145        73  26.2\n",
       "47  West Virginia     5.7       81        39   9.3\n",
       "48      Wisconsin     2.6       53        66  10.8\n",
       "49        Wyoming     6.8      161        60  15.6"
      ]
     },
     "execution_count": 5,
     "metadata": {},
     "output_type": "execute_result"
    }
   ],
   "source": [
    "df.tail()#it gives the last 5 rows data "
   ]
  },
  {
   "cell_type": "code",
   "execution_count": 6,
   "id": "bbfa6c4a-7539-4a8e-8851-52f1e0f476a0",
   "metadata": {},
   "outputs": [
    {
     "data": {
      "text/plain": [
       "Index(['Unnamed: 0', 'Murder', 'Assault', 'UrbanPop', 'Rape'], dtype='object')"
      ]
     },
     "execution_count": 6,
     "metadata": {},
     "output_type": "execute_result"
    }
   ],
   "source": [
    "#see all the labels of all the columns\n",
    "df.columns"
   ]
  },
  {
   "cell_type": "markdown",
   "id": "cfd1ee7b-5899-4de3-bb05-62f5e17b8d25",
   "metadata": {},
   "source": [
    "so the above data is about the customer's in eastwestairlines.\n",
    "\n",
    "1. Business Problem\n",
    "1.1. What is the business objective?\n",
    "the business approach of this problem is to study the customers taking the flights or they having the loyalty towards this airlines,to group or cluster the customers on the basis of their behaviour of spending the money ,customers who can afford this ,or who keeps on frequently using this airlines.Also this will help to understand the measure to be taken to increase the customers aligned more with this airlines.\n",
    "\n",
    "1.2. Are there any constraints?\n",
    "COnstaints maybe the nullvalues which cannot be deleted completely as some of the details are very crucial or sometimes the incomplete data also can act constraints.\n",
    "\n",
    "2. Work on each feature of the dataset to create a data dictionary as displayed in the below image:\n",
    "~all the data here is in integer form ~ID# - Customen's UNique Identity number. -Useful for tracking particular one ~Balance-Total miles travelled-useful for checking the distance travelled by each"
   ]
  },
  {
   "cell_type": "code",
   "execution_count": 7,
   "id": "eb919dad-d50d-4d69-b7fb-e704d7bcb74c",
   "metadata": {},
   "outputs": [
    {
     "data": {
      "text/plain": [
       "(50, 5)"
      ]
     },
     "execution_count": 7,
     "metadata": {},
     "output_type": "execute_result"
    }
   ],
   "source": [
    "#will check the shape of the dataset we have ie \n",
    "#the total number of rows and columns we have\n",
    "df.shape"
   ]
  },
  {
   "cell_type": "code",
   "execution_count": 8,
   "id": "9b7175c2-75fc-44a5-b336-2c0cd3b7ada5",
   "metadata": {},
   "outputs": [
    {
     "name": "stdout",
     "output_type": "stream",
     "text": [
      "<class 'pandas.core.frame.DataFrame'>\n",
      "RangeIndex: 50 entries, 0 to 49\n",
      "Data columns (total 5 columns):\n",
      " #   Column      Non-Null Count  Dtype  \n",
      "---  ------      --------------  -----  \n",
      " 0   Unnamed: 0  50 non-null     object \n",
      " 1   Murder      50 non-null     float64\n",
      " 2   Assault     50 non-null     int64  \n",
      " 3   UrbanPop    50 non-null     int64  \n",
      " 4   Rape        50 non-null     float64\n",
      "dtypes: float64(2), int64(2), object(1)\n",
      "memory usage: 2.1+ KB\n"
     ]
    }
   ],
   "source": [
    "df.info()#it gives us the number of non-null values,datatype for each column \n",
    "#also how many records are there in the dataset ie no of rows & columns\""
   ]
  },
  {
   "cell_type": "code",
   "execution_count": 9,
   "id": "8aec999c-e5e5-442f-8636-867ce2273415",
   "metadata": {},
   "outputs": [
    {
     "data": {
      "text/html": [
       "<div>\n",
       "<style scoped>\n",
       "    .dataframe tbody tr th:only-of-type {\n",
       "        vertical-align: middle;\n",
       "    }\n",
       "\n",
       "    .dataframe tbody tr th {\n",
       "        vertical-align: top;\n",
       "    }\n",
       "\n",
       "    .dataframe thead th {\n",
       "        text-align: right;\n",
       "    }\n",
       "</style>\n",
       "<table border=\"1\" class=\"dataframe\">\n",
       "  <thead>\n",
       "    <tr style=\"text-align: right;\">\n",
       "      <th></th>\n",
       "      <th>Murder</th>\n",
       "      <th>Assault</th>\n",
       "      <th>UrbanPop</th>\n",
       "      <th>Rape</th>\n",
       "    </tr>\n",
       "  </thead>\n",
       "  <tbody>\n",
       "    <tr>\n",
       "      <th>count</th>\n",
       "      <td>50.00000</td>\n",
       "      <td>50.000000</td>\n",
       "      <td>50.000000</td>\n",
       "      <td>50.000000</td>\n",
       "    </tr>\n",
       "    <tr>\n",
       "      <th>mean</th>\n",
       "      <td>7.78800</td>\n",
       "      <td>170.760000</td>\n",
       "      <td>65.540000</td>\n",
       "      <td>21.232000</td>\n",
       "    </tr>\n",
       "    <tr>\n",
       "      <th>std</th>\n",
       "      <td>4.35551</td>\n",
       "      <td>83.337661</td>\n",
       "      <td>14.474763</td>\n",
       "      <td>9.366385</td>\n",
       "    </tr>\n",
       "    <tr>\n",
       "      <th>min</th>\n",
       "      <td>0.80000</td>\n",
       "      <td>45.000000</td>\n",
       "      <td>32.000000</td>\n",
       "      <td>7.300000</td>\n",
       "    </tr>\n",
       "    <tr>\n",
       "      <th>25%</th>\n",
       "      <td>4.07500</td>\n",
       "      <td>109.000000</td>\n",
       "      <td>54.500000</td>\n",
       "      <td>15.075000</td>\n",
       "    </tr>\n",
       "    <tr>\n",
       "      <th>50%</th>\n",
       "      <td>7.25000</td>\n",
       "      <td>159.000000</td>\n",
       "      <td>66.000000</td>\n",
       "      <td>20.100000</td>\n",
       "    </tr>\n",
       "    <tr>\n",
       "      <th>75%</th>\n",
       "      <td>11.25000</td>\n",
       "      <td>249.000000</td>\n",
       "      <td>77.750000</td>\n",
       "      <td>26.175000</td>\n",
       "    </tr>\n",
       "    <tr>\n",
       "      <th>max</th>\n",
       "      <td>17.40000</td>\n",
       "      <td>337.000000</td>\n",
       "      <td>91.000000</td>\n",
       "      <td>46.000000</td>\n",
       "    </tr>\n",
       "  </tbody>\n",
       "</table>\n",
       "</div>"
      ],
      "text/plain": [
       "         Murder     Assault   UrbanPop       Rape\n",
       "count  50.00000   50.000000  50.000000  50.000000\n",
       "mean    7.78800  170.760000  65.540000  21.232000\n",
       "std     4.35551   83.337661  14.474763   9.366385\n",
       "min     0.80000   45.000000  32.000000   7.300000\n",
       "25%     4.07500  109.000000  54.500000  15.075000\n",
       "50%     7.25000  159.000000  66.000000  20.100000\n",
       "75%    11.25000  249.000000  77.750000  26.175000\n",
       "max    17.40000  337.000000  91.000000  46.000000"
      ]
     },
     "execution_count": 9,
     "metadata": {},
     "output_type": "execute_result"
    }
   ],
   "source": [
    "df.describe()"
   ]
  },
  {
   "cell_type": "code",
   "execution_count": 10,
   "id": "30bb41a8-f9ec-489c-bcfb-ea65eb8a90ce",
   "metadata": {},
   "outputs": [
    {
     "data": {
      "text/plain": [
       "Murder\n",
       "13.2    2\n",
       "2.2     2\n",
       "9.0     2\n",
       "15.4    2\n",
       "2.1     2\n",
       "2.6     2\n",
       "6.0     2\n",
       "11.1    1\n",
       "13.0    1\n",
       "0.8     1\n",
       "7.3     1\n",
       "6.6     1\n",
       "4.9     1\n",
       "3.4     1\n",
       "6.3     1\n",
       "7.4     1\n",
       "14.4    1\n",
       "3.8     1\n",
       "12.7    1\n",
       "3.2     1\n",
       "8.5     1\n",
       "4.0     1\n",
       "5.7     1\n",
       "11.4    1\n",
       "2.7     1\n",
       "12.2    1\n",
       "4.3     1\n",
       "8.1     1\n",
       "8.8     1\n",
       "7.9     1\n",
       "3.3     1\n",
       "5.9     1\n",
       "17.4    1\n",
       "5.3     1\n",
       "10.4    1\n",
       "7.2     1\n",
       "9.7     1\n",
       "11.3    1\n",
       "4.4     1\n",
       "12.1    1\n",
       "10.0    1\n",
       "16.1    1\n",
       "6.8     1\n",
       "Name: count, dtype: int64"
      ]
     },
     "execution_count": 10,
     "metadata": {},
     "output_type": "execute_result"
    }
   ],
   "source": [
    "df['Murder'].value_counts()"
   ]
  },
  {
   "cell_type": "code",
   "execution_count": 11,
   "id": "cb93d3d1-261b-4247-96b9-0a6971b0044f",
   "metadata": {},
   "outputs": [
    {
     "data": {
      "text/plain": [
       "Assault\n",
       "120    3\n",
       "249    2\n",
       "159    2\n",
       "109    2\n",
       "174    1\n",
       "57     1\n",
       "285    1\n",
       "254    1\n",
       "337    1\n",
       "45     1\n",
       "151    1\n",
       "106    1\n",
       "236    1\n",
       "102    1\n",
       "279    1\n",
       "86     1\n",
       "188    1\n",
       "201    1\n",
       "48     1\n",
       "156    1\n",
       "145    1\n",
       "81     1\n",
       "53     1\n",
       "252    1\n",
       "259    1\n",
       "178    1\n",
       "263    1\n",
       "294    1\n",
       "190    1\n",
       "276    1\n",
       "204    1\n",
       "110    1\n",
       "238    1\n",
       "335    1\n",
       "211    1\n",
       "46     1\n",
       "113    1\n",
       "56     1\n",
       "115    1\n",
       "83     1\n",
       "300    1\n",
       "149    1\n",
       "255    1\n",
       "72     1\n",
       "161    1\n",
       "Name: count, dtype: int64"
      ]
     },
     "execution_count": 11,
     "metadata": {},
     "output_type": "execute_result"
    }
   ],
   "source": [
    "df['Assault'].value_counts()"
   ]
  },
  {
   "cell_type": "code",
   "execution_count": 12,
   "id": "e6fb9c98-7535-426f-a7ed-ea48a4f52efd",
   "metadata": {},
   "outputs": [
    {
     "data": {
      "text/plain": [
       "UrbanPop\n",
       "66    4\n",
       "80    4\n",
       "70    2\n",
       "44    2\n",
       "48    2\n",
       "72    2\n",
       "60    2\n",
       "83    2\n",
       "67    2\n",
       "45    2\n",
       "58    1\n",
       "89    1\n",
       "86    1\n",
       "68    1\n",
       "75    1\n",
       "81    1\n",
       "87    1\n",
       "59    1\n",
       "32    1\n",
       "63    1\n",
       "73    1\n",
       "56    1\n",
       "74    1\n",
       "62    1\n",
       "53    1\n",
       "85    1\n",
       "51    1\n",
       "52    1\n",
       "57    1\n",
       "65    1\n",
       "54    1\n",
       "77    1\n",
       "78    1\n",
       "91    1\n",
       "50    1\n",
       "39    1\n",
       "Name: count, dtype: int64"
      ]
     },
     "execution_count": 12,
     "metadata": {},
     "output_type": "execute_result"
    }
   ],
   "source": [
    "df['UrbanPop'].value_counts()"
   ]
  },
  {
   "cell_type": "code",
   "execution_count": 13,
   "id": "25898cc3-2b76-47ed-b55d-1a9d68932622",
   "metadata": {},
   "outputs": [
    {
     "data": {
      "text/plain": [
       "Rape\n",
       "14.9    2\n",
       "16.3    2\n",
       "21.2    1\n",
       "29.3    1\n",
       "9.5     1\n",
       "18.8    1\n",
       "32.1    1\n",
       "26.1    1\n",
       "16.1    1\n",
       "7.3     1\n",
       "21.4    1\n",
       "20.0    1\n",
       "8.3     1\n",
       "16.5    1\n",
       "22.5    1\n",
       "12.8    1\n",
       "26.9    1\n",
       "25.5    1\n",
       "22.9    1\n",
       "11.2    1\n",
       "20.7    1\n",
       "26.2    1\n",
       "9.3     1\n",
       "10.8    1\n",
       "46.0    1\n",
       "16.4    1\n",
       "44.5    1\n",
       "28.2    1\n",
       "31.0    1\n",
       "19.5    1\n",
       "40.6    1\n",
       "38.7    1\n",
       "11.1    1\n",
       "15.8    1\n",
       "31.9    1\n",
       "25.8    1\n",
       "20.2    1\n",
       "14.2    1\n",
       "24.0    1\n",
       "21.0    1\n",
       "11.3    1\n",
       "18.0    1\n",
       "22.2    1\n",
       "7.8     1\n",
       "27.8    1\n",
       "35.1    1\n",
       "17.1    1\n",
       "15.6    1\n",
       "Name: count, dtype: int64"
      ]
     },
     "execution_count": 13,
     "metadata": {},
     "output_type": "execute_result"
    }
   ],
   "source": [
    "df['Rape'].value_counts()"
   ]
  },
  {
   "cell_type": "markdown",
   "id": "506457bc-af56-4a26-918b-4416ea828df4",
   "metadata": {},
   "source": [
    "3.Missing values"
   ]
  },
  {
   "cell_type": "code",
   "execution_count": 14,
   "id": "9f3b8830-4f6b-4c16-96a4-69d79f6f8247",
   "metadata": {},
   "outputs": [
    {
     "name": "stdout",
     "output_type": "stream",
     "text": [
      "Unnamed: 0    0\n",
      "Murder        0\n",
      "Assault       0\n",
      "UrbanPop      0\n",
      "Rape          0\n",
      "dtype: int64\n",
      "        Unnamed: 0  Murder  Assault  UrbanPop  Rape\n",
      "0          Alabama    13.2      236        58  21.2\n",
      "1           Alaska    10.0      263        48  44.5\n",
      "2          Arizona     8.1      294        80  31.0\n",
      "3         Arkansas     8.8      190        50  19.5\n",
      "4       California     9.0      276        91  40.6\n",
      "5         Colorado     7.9      204        78  38.7\n",
      "6      Connecticut     3.3      110        77  11.1\n",
      "7         Delaware     5.9      238        72  15.8\n",
      "8          Florida    15.4      335        80  31.9\n",
      "9          Georgia    17.4      211        60  25.8\n",
      "10          Hawaii     5.3       46        83  20.2\n",
      "11           Idaho     2.6      120        54  14.2\n",
      "12        Illinois    10.4      249        83  24.0\n",
      "13         Indiana     7.2      113        65  21.0\n",
      "14            Iowa     2.2       56        57  11.3\n",
      "15          Kansas     6.0      115        66  18.0\n",
      "16        Kentucky     9.7      109        52  16.3\n",
      "17       Louisiana    15.4      249        66  22.2\n",
      "18           Maine     2.1       83        51   7.8\n",
      "19        Maryland    11.3      300        67  27.8\n",
      "20   Massachusetts     4.4      149        85  16.3\n",
      "21        Michigan    12.1      255        74  35.1\n",
      "22       Minnesota     2.7       72        66  14.9\n",
      "23     Mississippi    16.1      259        44  17.1\n",
      "24        Missouri     9.0      178        70  28.2\n",
      "25         Montana     6.0      109        53  16.4\n",
      "26        Nebraska     4.3      102        62  16.5\n",
      "27          Nevada    12.2      252        81  46.0\n",
      "28   New Hampshire     2.1       57        56   9.5\n",
      "29      New Jersey     7.4      159        89  18.8\n",
      "30      New Mexico    11.4      285        70  32.1\n",
      "31        New York    11.1      254        86  26.1\n",
      "32  North Carolina    13.0      337        45  16.1\n",
      "33    North Dakota     0.8       45        44   7.3\n",
      "34            Ohio     7.3      120        75  21.4\n",
      "35        Oklahoma     6.6      151        68  20.0\n",
      "36          Oregon     4.9      159        67  29.3\n",
      "37    Pennsylvania     6.3      106        72  14.9\n",
      "38    Rhode Island     3.4      174        87   8.3\n",
      "39  South Carolina    14.4      279        48  22.5\n",
      "40    South Dakota     3.8       86        45  12.8\n",
      "41       Tennessee    13.2      188        59  26.9\n",
      "42           Texas    12.7      201        80  25.5\n",
      "43            Utah     3.2      120        80  22.9\n",
      "44         Vermont     2.2       48        32  11.2\n",
      "45        Virginia     8.5      156        63  20.7\n",
      "46      Washington     4.0      145        73  26.2\n",
      "47   West Virginia     5.7       81        39   9.3\n",
      "48       Wisconsin     2.6       53        66  10.8\n",
      "49         Wyoming     6.8      161        60  15.6\n"
     ]
    }
   ],
   "source": [
    "#now lets check for the null value data in the given dataset\n",
    "\n",
    "\"\"\"it will  return the count of null values in each column but if the column \n",
    "contains 0 then it is not considered in null value if the data is empty or\n",
    "NULL then only its count will be considered \"\"\"\n",
    "print(df.isnull().sum())\n",
    "#in this case no missing values are there so it returns 0\n",
    "#if any null or missing values are there we will drop that row .\n",
    "print(df.dropna())\n",
    "#also we can store this value bcoz we will be using there after a new data \n",
    "#so df_new=df.dropna() we can use this aswell "
   ]
  },
  {
   "cell_type": "markdown",
   "id": "0f2635c8-d16d-476f-9072-56578b66f228",
   "metadata": {},
   "source": [
    "Data VIsualization for EDA"
   ]
  },
  {
   "cell_type": "code",
   "execution_count": 15,
   "id": "cf2ecbd4-0446-4730-98a8-f4dafff98e7a",
   "metadata": {},
   "outputs": [
    {
     "data": {
      "image/png": "[encoded data removed]",
      "text/plain": [
       "<Figure size 640x480 with 1 Axes>"
      ]
     },
     "metadata": {},
     "output_type": "display_data"
    }
   ],
   "source": [
    "# 2. Univariate Analysis\n",
    "df['Rape'].hist()\n",
    "plt.title('Distribution of Rape')\n",
    "plt.show()#lets check the histogram of the given data"
   ]
  },
  {
   "cell_type": "code",
   "execution_count": 17,
   "id": "a75f1fdd-a4d2-4f87-9c52-decfcf02a116",
   "metadata": {},
   "outputs": [
    {
     "data": {
      "image/png": "[encoded data removed]",
      "text/plain": [
       "<Figure size 640x480 with 1 Axes>"
      ]
     },
     "metadata": {},
     "output_type": "display_data"
    }
   ],
   "source": [
    "#3.bivariate \n",
    "#murder and assault\n",
    "plt.scatter(df['Murder'], df['Assault'],s=20,color='green')\n",
    "plt.xlabel('Murder')\n",
    "plt.ylabel('Assault')\n",
    "plt.show()"
   ]
  },
  {
   "cell_type": "code",
   "execution_count": 18,
   "id": "2e999a54-5c7f-4dfc-bce7-ff7f47da3f37",
   "metadata": {},
   "outputs": [
    {
     "data": {
      "image/png": "[encoded data removed]",
      "text/plain": [
       "<Figure size 640x480 with 1 Axes>"
      ]
     },
     "metadata": {},
     "output_type": "display_data"
    }
   ],
   "source": [
    "#murder and rape\n",
    "plt.scatter(df['Murder'], df['Rape'],s=20,color='red')\n",
    "plt.xlabel('Murder')\n",
    "plt.ylabel('Rape')\n",
    "plt.show()"
   ]
  },
  {
   "cell_type": "code",
   "execution_count": 19,
   "id": "ac5352db-3022-41c2-b83a-bf0a23bef957",
   "metadata": {},
   "outputs": [
    {
     "data": {
      "image/png": "[encoded data removed]",
      "text/plain": [
       "<Figure size 640x480 with 1 Axes>"
      ]
     },
     "metadata": {},
     "output_type": "display_data"
    }
   ],
   "source": [
    "#RApe and assault\n",
    "plt.scatter(df['Assault'], df['Rape'],s=20,color='blue')\n",
    "plt.xlabel('Assault')\n",
    "plt.ylabel('Rape')\n",
    "plt.show()"
   ]
  },
  {
   "cell_type": "code",
   "execution_count": 25,
   "id": "a58a09ab-280a-4b8f-990e-542c1b4f4e8b",
   "metadata": {},
   "outputs": [],
   "source": [
    "#pre process the data using min max scaler\n",
    "from sklearn.preprocessing import MinMaxScaler\n",
    "scaler = MinMaxScaler()\n",
    "cols=['Murder','Assault','UrbanPop','Rape']\n",
    "df_scaled = scaler.fit_transform(df[cols])"
   ]
  },
  {
   "cell_type": "code",
   "execution_count": 26,
   "id": "2ba1b6ec-17c5-4f1f-a53e-c3bdfcd2d376",
   "metadata": {},
   "outputs": [
    {
     "name": "stderr",
     "output_type": "stream",
     "text": [
      "C:\\Users\\Vaishnavi\\anaconda3\\Lib\\site-packages\\sklearn\\cluster\\_kmeans.py:1429: UserWarning: KMeans is known to have a memory leak on Windows with MKL, when there are less chunks than available threads. You can avoid it by setting the environment variable OMP_NUM_THREADS=1.\n",
      "  warnings.warn(\n"
     ]
    }
   ],
   "source": [
    "from sklearn.cluster import KMeans\n",
    "km = KMeans(n_clusters=3, random_state=42)\n",
    "y_predicted = km.fit_predict(df_scaled)"
   ]
  },
  {
   "cell_type": "code",
   "execution_count": 28,
   "id": "dbe79692-06ff-49df-9c66-c293e3f4fcff",
   "metadata": {},
   "outputs": [
    {
     "name": "stdout",
     "output_type": "stream",
     "text": [
      "   Unnamed: 0  Murder  Assault  UrbanPop  Rape  cluster\n",
      "0     Alabama    13.2      236        58  21.2        1\n",
      "1      Alaska    10.0      263        48  44.5        1\n",
      "2     Arizona     8.1      294        80  31.0        1\n",
      "3    Arkansas     8.8      190        50  19.5        2\n",
      "4  California     9.0      276        91  40.6        1\n"
     ]
    }
   ],
   "source": [
    "df['cluster'] = y_predicted\n",
    "print(df.head())\n",
    "#here we will get the clusters formed "
   ]
  },
  {
   "cell_type": "code",
   "execution_count": 29,
   "id": "32e10e81-74c8-412c-a221-57dbb94d2456",
   "metadata": {},
   "outputs": [
    {
     "name": "stdout",
     "output_type": "stream",
     "text": [
      "Cluster Centers (scaled):\n",
      "[[0.16516064 0.1081621  0.32627119 0.11670973]\n",
      " [0.68463855 0.72003425 0.61694915 0.56498708]\n",
      " [0.29852744 0.32420091 0.67608286 0.29443009]]\n",
      "Cluster Centers (original scale):\n",
      "[[  3.54166667  76.58333333  51.25        11.81666667]\n",
      " [ 12.165      255.25        68.4         29.165     ]\n",
      " [  5.75555556 139.66666667  71.88888889  18.69444444]]\n"
     ]
    }
   ],
   "source": [
    "#show cluster centers\n",
    "print(\"Cluster Centers (scaled):\")\n",
    "print(km.cluster_centers_)\n",
    "centroids_original = scaler.inverse_transform(km.cluster_centers_)\n",
    "print(\"Cluster Centers (original scale):\")\n",
    "print(centroids_original)"
   ]
  },
  {
   "cell_type": "code",
   "execution_count": 31,
   "id": "e3de52fb-f6d1-417b-8e24-f13fb98377fd",
   "metadata": {},
   "outputs": [
    {
     "data": {
      "image/png": "[encoded data removed]",
      "text/plain": [
       "<Figure size 640x480 with 1 Axes>"
      ]
     },
     "metadata": {},
     "output_type": "display_data"
    }
   ],
   "source": [
    "df1 = df[df.cluster == 0]\n",
    "df2 = df[df.cluster == 1]\n",
    "df3 = df[df.cluster == 2]\n",
    "plt.scatter(df1['Murder'], df1['Assault'], color='green', label='Cluster 1',s=30)\n",
    "plt.scatter(df2['Murder'], df2['Assault'], color='red', label='Cluster 2',s=30)\n",
    "plt.scatter(df3['Murder'], df3['Assault'], color='blue', label='Cluster 3',s=30)\n",
    "plt.scatter(centroids_original[:, 0], centroids_original[:, 1], color='yellow', marker='*', s=30, label='Centroid')\n",
    "plt.xlabel('Murder')\n",
    "plt.ylabel('Assault')\n",
    "plt.legend()\n",
    "plt.show()"
   ]
  },
  {
   "cell_type": "code",
   "execution_count": 32,
   "id": "61d870ff-f9ed-4d05-807c-2011982dae82",
   "metadata": {},
   "outputs": [
    {
     "data": {
      "image/png": "[encoded data removed]",
      "text/plain": [
       "<Figure size 640x480 with 1 Axes>"
      ]
     },
     "metadata": {},
     "output_type": "display_data"
    }
   ],
   "source": [
    "plt.scatter(df1['Rape'], df1['Assault'], color='green', label='Cluster 1',s=30)\n",
    "plt.scatter(df2['Rape'], df2['Assault'], color='red', label='Cluster 2',s=30)\n",
    "plt.scatter(df3['Rape'], df3['Assault'], color='blue', label='Cluster 3',s=30)\n",
    "plt.scatter(centroids_original[:, 0], centroids_original[:, 1], color='yellow', marker='*', s=30, label='Centroid')\n",
    "plt.xlabel('Rape')\n",
    "plt.ylabel('Assault')\n",
    "plt.legend()\n",
    "plt.show()"
   ]
  },
  {
   "cell_type": "code",
   "execution_count": null,
   "id": "26d37313-aad7-4d4f-bb00-b79e37ad1de9",
   "metadata": {},
   "outputs": [],
   "source": []
  }
 ],
 "metadata": {
  "kernelspec": {
   "display_name": "Python 3 (ipykernel)",
   "language": "python",
   "name": "python3"
  },
  "language_info": {
   "codemirror_mode": {
    "name": "ipython",
    "version": 3
   },
   "file_extension": ".py",
   "mimetype": "text/x-python",
   "name": "python",
   "nbconvert_exporter": "python",
   "pygments_lexer": "ipython3",
   "version": "3.11.7"
  }
 },
 "nbformat": 4,
 "nbformat_minor": 5
}
