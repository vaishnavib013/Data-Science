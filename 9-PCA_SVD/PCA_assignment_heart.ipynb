{
 "cells": [
  {
   "cell_type": "markdown",
   "id": "3282d69f-a89f-49fc-9cd7-7762db2a5721",
   "metadata": {},
   "source": [
    "Business Objective:\n",
    "\n",
    "The goal is to predict whether a patient has heart disease based on the medical attributes in the dataset. This can help healthcare providers identify at-risk patients and administer timely interventions.\n",
    "\n",
    "Constraints:\n",
    "\n",
    "Data Quality: The model's accuracy depends on the completeness and quality of the data. Missing values, noise, or outliers could impact predictions.\n",
    "\n",
    "Interpretability: Medical predictions often need to be explainable for healthcare professionals to trust the model's outputs.\n",
    "\n",
    "Accuracy: False negatives (predicting no heart disease when there is) could have serious consequences, so minimizing these errors is crucial.\n",
    "\n",
    "Computational Efficiency: The model should perform efficiently with large-scale medical data, ensuring timely results."
   ]
  },
  {
   "cell_type": "code",
   "execution_count": 15,
   "id": "0e471fc8-3521-48fd-9337-3d098608dbc1",
   "metadata": {},
   "outputs": [
    {
     "data": {
      "text/html": [
       "<div>\n",
       "<style scoped>\n",
       "    .dataframe tbody tr th:only-of-type {\n",
       "        vertical-align: middle;\n",
       "    }\n",
       "\n",
       "    .dataframe tbody tr th {\n",
       "        vertical-align: top;\n",
       "    }\n",
       "\n",
       "    .dataframe thead th {\n",
       "        text-align: right;\n",
       "    }\n",
       "</style>\n",
       "<table border=\"1\" class=\"dataframe\">\n",
       "  <thead>\n",
       "    <tr style=\"text-align: right;\">\n",
       "      <th></th>\n",
       "      <th>age</th>\n",
       "      <th>sex</th>\n",
       "      <th>cp</th>\n",
       "      <th>trestbps</th>\n",
       "      <th>chol</th>\n",
       "      <th>fbs</th>\n",
       "      <th>restecg</th>\n",
       "      <th>thalach</th>\n",
       "      <th>exang</th>\n",
       "      <th>oldpeak</th>\n",
       "      <th>slope</th>\n",
       "      <th>ca</th>\n",
       "      <th>thal</th>\n",
       "      <th>target</th>\n",
       "    </tr>\n",
       "  </thead>\n",
       "  <tbody>\n",
       "    <tr>\n",
       "      <th>0</th>\n",
       "      <td>63</td>\n",
       "      <td>1</td>\n",
       "      <td>3</td>\n",
       "      <td>145</td>\n",
       "      <td>233</td>\n",
       "      <td>1</td>\n",
       "      <td>0</td>\n",
       "      <td>150</td>\n",
       "      <td>0</td>\n",
       "      <td>2.3</td>\n",
       "      <td>0</td>\n",
       "      <td>0</td>\n",
       "      <td>1</td>\n",
       "      <td>1</td>\n",
       "    </tr>\n",
       "    <tr>\n",
       "      <th>1</th>\n",
       "      <td>37</td>\n",
       "      <td>1</td>\n",
       "      <td>2</td>\n",
       "      <td>130</td>\n",
       "      <td>250</td>\n",
       "      <td>0</td>\n",
       "      <td>1</td>\n",
       "      <td>187</td>\n",
       "      <td>0</td>\n",
       "      <td>3.5</td>\n",
       "      <td>0</td>\n",
       "      <td>0</td>\n",
       "      <td>2</td>\n",
       "      <td>1</td>\n",
       "    </tr>\n",
       "    <tr>\n",
       "      <th>2</th>\n",
       "      <td>41</td>\n",
       "      <td>0</td>\n",
       "      <td>1</td>\n",
       "      <td>130</td>\n",
       "      <td>204</td>\n",
       "      <td>0</td>\n",
       "      <td>0</td>\n",
       "      <td>172</td>\n",
       "      <td>0</td>\n",
       "      <td>1.4</td>\n",
       "      <td>2</td>\n",
       "      <td>0</td>\n",
       "      <td>2</td>\n",
       "      <td>1</td>\n",
       "    </tr>\n",
       "    <tr>\n",
       "      <th>3</th>\n",
       "      <td>56</td>\n",
       "      <td>1</td>\n",
       "      <td>1</td>\n",
       "      <td>120</td>\n",
       "      <td>236</td>\n",
       "      <td>0</td>\n",
       "      <td>1</td>\n",
       "      <td>178</td>\n",
       "      <td>0</td>\n",
       "      <td>0.8</td>\n",
       "      <td>2</td>\n",
       "      <td>0</td>\n",
       "      <td>2</td>\n",
       "      <td>1</td>\n",
       "    </tr>\n",
       "    <tr>\n",
       "      <th>4</th>\n",
       "      <td>57</td>\n",
       "      <td>0</td>\n",
       "      <td>0</td>\n",
       "      <td>120</td>\n",
       "      <td>354</td>\n",
       "      <td>0</td>\n",
       "      <td>1</td>\n",
       "      <td>163</td>\n",
       "      <td>1</td>\n",
       "      <td>0.6</td>\n",
       "      <td>2</td>\n",
       "      <td>0</td>\n",
       "      <td>2</td>\n",
       "      <td>1</td>\n",
       "    </tr>\n",
       "  </tbody>\n",
       "</table>\n",
       "</div>"
      ],
      "text/plain": [
       "   age  sex  cp  trestbps  chol  fbs  restecg  thalach  exang  oldpeak  slope  \\\n",
       "0   63    1   3       145   233    1        0      150      0      2.3      0   \n",
       "1   37    1   2       130   250    0        1      187      0      3.5      0   \n",
       "2   41    0   1       130   204    0        0      172      0      1.4      2   \n",
       "3   56    1   1       120   236    0        1      178      0      0.8      2   \n",
       "4   57    0   0       120   354    0        1      163      1      0.6      2   \n",
       "\n",
       "   ca  thal  target  \n",
       "0   0     1       1  \n",
       "1   0     2       1  \n",
       "2   0     2       1  \n",
       "3   0     2       1  \n",
       "4   0     2       1  "
      ]
     },
     "execution_count": 15,
     "metadata": {},
     "output_type": "execute_result"
    }
   ],
   "source": [
    "import pandas as pd\n",
    "import numpy as np\n",
    "import matplotlib.pyplot as plt\n",
    "df=pd.read_csv('heart disease.csv')\n",
    "df.head()"
   ]
  },
  {
   "cell_type": "code",
   "execution_count": 2,
   "id": "d370faf9-8d69-4ef1-ba38-812ae461ad5f",
   "metadata": {},
   "outputs": [
    {
     "data": {
      "text/html": [
       "<div>\n",
       "<style scoped>\n",
       "    .dataframe tbody tr th:only-of-type {\n",
       "        vertical-align: middle;\n",
       "    }\n",
       "\n",
       "    .dataframe tbody tr th {\n",
       "        vertical-align: top;\n",
       "    }\n",
       "\n",
       "    .dataframe thead th {\n",
       "        text-align: right;\n",
       "    }\n",
       "</style>\n",
       "<table border=\"1\" class=\"dataframe\">\n",
       "  <thead>\n",
       "    <tr style=\"text-align: right;\">\n",
       "      <th></th>\n",
       "      <th>age</th>\n",
       "      <th>sex</th>\n",
       "      <th>cp</th>\n",
       "      <th>trestbps</th>\n",
       "      <th>chol</th>\n",
       "      <th>fbs</th>\n",
       "      <th>restecg</th>\n",
       "      <th>thalach</th>\n",
       "      <th>exang</th>\n",
       "      <th>oldpeak</th>\n",
       "      <th>slope</th>\n",
       "      <th>ca</th>\n",
       "      <th>thal</th>\n",
       "      <th>target</th>\n",
       "    </tr>\n",
       "  </thead>\n",
       "  <tbody>\n",
       "    <tr>\n",
       "      <th>135</th>\n",
       "      <td>49</td>\n",
       "      <td>0</td>\n",
       "      <td>0</td>\n",
       "      <td>130</td>\n",
       "      <td>269</td>\n",
       "      <td>0</td>\n",
       "      <td>1</td>\n",
       "      <td>163</td>\n",
       "      <td>0</td>\n",
       "      <td>0.0</td>\n",
       "      <td>2</td>\n",
       "      <td>0</td>\n",
       "      <td>2</td>\n",
       "      <td>1</td>\n",
       "    </tr>\n",
       "    <tr>\n",
       "      <th>12</th>\n",
       "      <td>49</td>\n",
       "      <td>1</td>\n",
       "      <td>1</td>\n",
       "      <td>130</td>\n",
       "      <td>266</td>\n",
       "      <td>0</td>\n",
       "      <td>1</td>\n",
       "      <td>171</td>\n",
       "      <td>0</td>\n",
       "      <td>0.6</td>\n",
       "      <td>2</td>\n",
       "      <td>0</td>\n",
       "      <td>2</td>\n",
       "      <td>1</td>\n",
       "    </tr>\n",
       "    <tr>\n",
       "      <th>198</th>\n",
       "      <td>62</td>\n",
       "      <td>1</td>\n",
       "      <td>0</td>\n",
       "      <td>120</td>\n",
       "      <td>267</td>\n",
       "      <td>0</td>\n",
       "      <td>1</td>\n",
       "      <td>99</td>\n",
       "      <td>1</td>\n",
       "      <td>1.8</td>\n",
       "      <td>1</td>\n",
       "      <td>2</td>\n",
       "      <td>3</td>\n",
       "      <td>0</td>\n",
       "    </tr>\n",
       "    <tr>\n",
       "      <th>128</th>\n",
       "      <td>52</td>\n",
       "      <td>0</td>\n",
       "      <td>2</td>\n",
       "      <td>136</td>\n",
       "      <td>196</td>\n",
       "      <td>0</td>\n",
       "      <td>0</td>\n",
       "      <td>169</td>\n",
       "      <td>0</td>\n",
       "      <td>0.1</td>\n",
       "      <td>1</td>\n",
       "      <td>0</td>\n",
       "      <td>2</td>\n",
       "      <td>1</td>\n",
       "    </tr>\n",
       "    <tr>\n",
       "      <th>54</th>\n",
       "      <td>63</td>\n",
       "      <td>0</td>\n",
       "      <td>2</td>\n",
       "      <td>135</td>\n",
       "      <td>252</td>\n",
       "      <td>0</td>\n",
       "      <td>0</td>\n",
       "      <td>172</td>\n",
       "      <td>0</td>\n",
       "      <td>0.0</td>\n",
       "      <td>2</td>\n",
       "      <td>0</td>\n",
       "      <td>2</td>\n",
       "      <td>1</td>\n",
       "    </tr>\n",
       "  </tbody>\n",
       "</table>\n",
       "</div>"
      ],
      "text/plain": [
       "     age  sex  cp  trestbps  chol  fbs  restecg  thalach  exang  oldpeak  \\\n",
       "135   49    0   0       130   269    0        1      163      0      0.0   \n",
       "12    49    1   1       130   266    0        1      171      0      0.6   \n",
       "198   62    1   0       120   267    0        1       99      1      1.8   \n",
       "128   52    0   2       136   196    0        0      169      0      0.1   \n",
       "54    63    0   2       135   252    0        0      172      0      0.0   \n",
       "\n",
       "     slope  ca  thal  target  \n",
       "135      2   0     2       1  \n",
       "12       2   0     2       1  \n",
       "198      1   2     3       0  \n",
       "128      1   0     2       1  \n",
       "54       2   0     2       1  "
      ]
     },
     "execution_count": 2,
     "metadata": {},
     "output_type": "execute_result"
    }
   ],
   "source": [
    "df.sample(5)"
   ]
  },
  {
   "cell_type": "code",
   "execution_count": 3,
   "id": "69308032-3554-4aeb-9654-28620ddf9bbf",
   "metadata": {},
   "outputs": [
    {
     "data": {
      "text/plain": [
       "Index(['age', 'sex', 'cp', 'trestbps', 'chol', 'fbs', 'restecg', 'thalach',\n",
       "       'exang', 'oldpeak', 'slope', 'ca', 'thal', 'target'],\n",
       "      dtype='object')"
      ]
     },
     "execution_count": 3,
     "metadata": {},
     "output_type": "execute_result"
    }
   ],
   "source": [
    "df.columns"
   ]
  },
  {
   "cell_type": "code",
   "execution_count": 4,
   "id": "bbd86942-fda7-4d1f-96b1-7ab7631471fc",
   "metadata": {},
   "outputs": [
    {
     "data": {
      "text/plain": [
       "age         0\n",
       "sex         0\n",
       "cp          0\n",
       "trestbps    0\n",
       "chol        0\n",
       "fbs         0\n",
       "restecg     0\n",
       "thalach     0\n",
       "exang       0\n",
       "oldpeak     0\n",
       "slope       0\n",
       "ca          0\n",
       "thal        0\n",
       "target      0\n",
       "dtype: int64"
      ]
     },
     "execution_count": 4,
     "metadata": {},
     "output_type": "execute_result"
    }
   ],
   "source": [
    "#is there any null values present or not \n",
    "df.isnull().sum()"
   ]
  },
  {
   "cell_type": "code",
   "execution_count": 5,
   "id": "5343dceb-dad0-412b-910e-895ff61e0b5a",
   "metadata": {},
   "outputs": [
    {
     "data": {
      "text/html": [
       "<div>\n",
       "<style scoped>\n",
       "    .dataframe tbody tr th:only-of-type {\n",
       "        vertical-align: middle;\n",
       "    }\n",
       "\n",
       "    .dataframe tbody tr th {\n",
       "        vertical-align: top;\n",
       "    }\n",
       "\n",
       "    .dataframe thead th {\n",
       "        text-align: right;\n",
       "    }\n",
       "</style>\n",
       "<table border=\"1\" class=\"dataframe\">\n",
       "  <thead>\n",
       "    <tr style=\"text-align: right;\">\n",
       "      <th></th>\n",
       "      <th>age</th>\n",
       "      <th>sex</th>\n",
       "      <th>cp</th>\n",
       "      <th>trestbps</th>\n",
       "      <th>chol</th>\n",
       "      <th>fbs</th>\n",
       "      <th>restecg</th>\n",
       "      <th>thalach</th>\n",
       "      <th>exang</th>\n",
       "      <th>oldpeak</th>\n",
       "      <th>slope</th>\n",
       "      <th>ca</th>\n",
       "      <th>thal</th>\n",
       "      <th>target</th>\n",
       "    </tr>\n",
       "  </thead>\n",
       "  <tbody>\n",
       "    <tr>\n",
       "      <th>count</th>\n",
       "      <td>303.000000</td>\n",
       "      <td>303.000000</td>\n",
       "      <td>303.000000</td>\n",
       "      <td>303.000000</td>\n",
       "      <td>303.000000</td>\n",
       "      <td>303.000000</td>\n",
       "      <td>303.000000</td>\n",
       "      <td>303.000000</td>\n",
       "      <td>303.000000</td>\n",
       "      <td>303.000000</td>\n",
       "      <td>303.000000</td>\n",
       "      <td>303.000000</td>\n",
       "      <td>303.000000</td>\n",
       "      <td>303.000000</td>\n",
       "    </tr>\n",
       "    <tr>\n",
       "      <th>mean</th>\n",
       "      <td>54.366337</td>\n",
       "      <td>0.683168</td>\n",
       "      <td>0.966997</td>\n",
       "      <td>131.623762</td>\n",
       "      <td>246.264026</td>\n",
       "      <td>0.148515</td>\n",
       "      <td>0.528053</td>\n",
       "      <td>149.646865</td>\n",
       "      <td>0.326733</td>\n",
       "      <td>1.039604</td>\n",
       "      <td>1.399340</td>\n",
       "      <td>0.729373</td>\n",
       "      <td>2.313531</td>\n",
       "      <td>0.544554</td>\n",
       "    </tr>\n",
       "    <tr>\n",
       "      <th>std</th>\n",
       "      <td>9.082101</td>\n",
       "      <td>0.466011</td>\n",
       "      <td>1.032052</td>\n",
       "      <td>17.538143</td>\n",
       "      <td>51.830751</td>\n",
       "      <td>0.356198</td>\n",
       "      <td>0.525860</td>\n",
       "      <td>22.905161</td>\n",
       "      <td>0.469794</td>\n",
       "      <td>1.161075</td>\n",
       "      <td>0.616226</td>\n",
       "      <td>1.022606</td>\n",
       "      <td>0.612277</td>\n",
       "      <td>0.498835</td>\n",
       "    </tr>\n",
       "    <tr>\n",
       "      <th>min</th>\n",
       "      <td>29.000000</td>\n",
       "      <td>0.000000</td>\n",
       "      <td>0.000000</td>\n",
       "      <td>94.000000</td>\n",
       "      <td>126.000000</td>\n",
       "      <td>0.000000</td>\n",
       "      <td>0.000000</td>\n",
       "      <td>71.000000</td>\n",
       "      <td>0.000000</td>\n",
       "      <td>0.000000</td>\n",
       "      <td>0.000000</td>\n",
       "      <td>0.000000</td>\n",
       "      <td>0.000000</td>\n",
       "      <td>0.000000</td>\n",
       "    </tr>\n",
       "    <tr>\n",
       "      <th>25%</th>\n",
       "      <td>47.500000</td>\n",
       "      <td>0.000000</td>\n",
       "      <td>0.000000</td>\n",
       "      <td>120.000000</td>\n",
       "      <td>211.000000</td>\n",
       "      <td>0.000000</td>\n",
       "      <td>0.000000</td>\n",
       "      <td>133.500000</td>\n",
       "      <td>0.000000</td>\n",
       "      <td>0.000000</td>\n",
       "      <td>1.000000</td>\n",
       "      <td>0.000000</td>\n",
       "      <td>2.000000</td>\n",
       "      <td>0.000000</td>\n",
       "    </tr>\n",
       "    <tr>\n",
       "      <th>50%</th>\n",
       "      <td>55.000000</td>\n",
       "      <td>1.000000</td>\n",
       "      <td>1.000000</td>\n",
       "      <td>130.000000</td>\n",
       "      <td>240.000000</td>\n",
       "      <td>0.000000</td>\n",
       "      <td>1.000000</td>\n",
       "      <td>153.000000</td>\n",
       "      <td>0.000000</td>\n",
       "      <td>0.800000</td>\n",
       "      <td>1.000000</td>\n",
       "      <td>0.000000</td>\n",
       "      <td>2.000000</td>\n",
       "      <td>1.000000</td>\n",
       "    </tr>\n",
       "    <tr>\n",
       "      <th>75%</th>\n",
       "      <td>61.000000</td>\n",
       "      <td>1.000000</td>\n",
       "      <td>2.000000</td>\n",
       "      <td>140.000000</td>\n",
       "      <td>274.500000</td>\n",
       "      <td>0.000000</td>\n",
       "      <td>1.000000</td>\n",
       "      <td>166.000000</td>\n",
       "      <td>1.000000</td>\n",
       "      <td>1.600000</td>\n",
       "      <td>2.000000</td>\n",
       "      <td>1.000000</td>\n",
       "      <td>3.000000</td>\n",
       "      <td>1.000000</td>\n",
       "    </tr>\n",
       "    <tr>\n",
       "      <th>max</th>\n",
       "      <td>77.000000</td>\n",
       "      <td>1.000000</td>\n",
       "      <td>3.000000</td>\n",
       "      <td>200.000000</td>\n",
       "      <td>564.000000</td>\n",
       "      <td>1.000000</td>\n",
       "      <td>2.000000</td>\n",
       "      <td>202.000000</td>\n",
       "      <td>1.000000</td>\n",
       "      <td>6.200000</td>\n",
       "      <td>2.000000</td>\n",
       "      <td>4.000000</td>\n",
       "      <td>3.000000</td>\n",
       "      <td>1.000000</td>\n",
       "    </tr>\n",
       "  </tbody>\n",
       "</table>\n",
       "</div>"
      ],
      "text/plain": [
       "              age         sex          cp    trestbps        chol         fbs  \\\n",
       "count  303.000000  303.000000  303.000000  303.000000  303.000000  303.000000   \n",
       "mean    54.366337    0.683168    0.966997  131.623762  246.264026    0.148515   \n",
       "std      9.082101    0.466011    1.032052   17.538143   51.830751    0.356198   \n",
       "min     29.000000    0.000000    0.000000   94.000000  126.000000    0.000000   \n",
       "25%     47.500000    0.000000    0.000000  120.000000  211.000000    0.000000   \n",
       "50%     55.000000    1.000000    1.000000  130.000000  240.000000    0.000000   \n",
       "75%     61.000000    1.000000    2.000000  140.000000  274.500000    0.000000   \n",
       "max     77.000000    1.000000    3.000000  200.000000  564.000000    1.000000   \n",
       "\n",
       "          restecg     thalach       exang     oldpeak       slope          ca  \\\n",
       "count  303.000000  303.000000  303.000000  303.000000  303.000000  303.000000   \n",
       "mean     0.528053  149.646865    0.326733    1.039604    1.399340    0.729373   \n",
       "std      0.525860   22.905161    0.469794    1.161075    0.616226    1.022606   \n",
       "min      0.000000   71.000000    0.000000    0.000000    0.000000    0.000000   \n",
       "25%      0.000000  133.500000    0.000000    0.000000    1.000000    0.000000   \n",
       "50%      1.000000  153.000000    0.000000    0.800000    1.000000    0.000000   \n",
       "75%      1.000000  166.000000    1.000000    1.600000    2.000000    1.000000   \n",
       "max      2.000000  202.000000    1.000000    6.200000    2.000000    4.000000   \n",
       "\n",
       "             thal      target  \n",
       "count  303.000000  303.000000  \n",
       "mean     2.313531    0.544554  \n",
       "std      0.612277    0.498835  \n",
       "min      0.000000    0.000000  \n",
       "25%      2.000000    0.000000  \n",
       "50%      2.000000    1.000000  \n",
       "75%      3.000000    1.000000  \n",
       "max      3.000000    1.000000  "
      ]
     },
     "execution_count": 5,
     "metadata": {},
     "output_type": "execute_result"
    }
   ],
   "source": [
    "df.describe()"
   ]
  },
  {
   "cell_type": "code",
   "execution_count": 7,
   "id": "b940eee9-4f52-4a58-bd2d-7805280aaf85",
   "metadata": {},
   "outputs": [
    {
     "data": {
      "text/plain": [
       "<Axes: >"
      ]
     },
     "execution_count": 7,
     "metadata": {},
     "output_type": "execute_result"
    },
    {
     "data": {
      "image/png": "[encoded data removed]",
      "text/plain": [
       "<Figure size 640x480 with 1 Axes>"
      ]
     },
     "metadata": {},
     "output_type": "display_data"
    }
   ],
   "source": [
    "#to understand and check if the outliers are present or not for each of column or feature\n",
    "#use boxplot\n",
    "#Boxplot\n",
    "import seaborn as sns\n",
    "sns.boxplot(df[['age', 'sex','cp']])"
   ]
  },
  {
   "cell_type": "code",
   "execution_count": 8,
   "id": "8d66c28c-4257-4074-baf1-436ad00166fe",
   "metadata": {},
   "outputs": [
    {
     "data": {
      "text/plain": [
       "<Axes: >"
      ]
     },
     "execution_count": 8,
     "metadata": {},
     "output_type": "execute_result"
    },
    {
     "data": {
      "image/png": "[encoded data removed]",
      "text/plain": [
       "<Figure size 640x480 with 1 Axes>"
      ]
     },
     "metadata": {},
     "output_type": "display_data"
    }
   ],
   "source": [
    "sns.boxplot(df[['trestbps', 'chol']])"
   ]
  },
  {
   "cell_type": "code",
   "execution_count": 9,
   "id": "56e0c816-8785-431d-be63-5e1989f1a437",
   "metadata": {},
   "outputs": [
    {
     "data": {
      "text/plain": [
       "<Axes: >"
      ]
     },
     "execution_count": 9,
     "metadata": {},
     "output_type": "execute_result"
    },
    {
     "data": {
      "image/png": "[encoded data removed]",
      "text/plain": [
       "<Figure size 640x480 with 1 Axes>"
      ]
     },
     "metadata": {},
     "output_type": "display_data"
    }
   ],
   "source": [
    "sns.boxplot(df[['restecg', 'thalach', 'exang']])"
   ]
  },
  {
   "cell_type": "code",
   "execution_count": 10,
   "id": "a87c3c66-c49b-41e7-b915-6c4c115dbf3f",
   "metadata": {},
   "outputs": [
    {
     "data": {
      "text/plain": [
       "<Axes: >"
      ]
     },
     "execution_count": 10,
     "metadata": {},
     "output_type": "execute_result"
    },
    {
     "data": {
      "image/png": "[encoded data removed]",
      "text/plain": [
       "<Figure size 640x480 with 1 Axes>"
      ]
     },
     "metadata": {},
     "output_type": "display_data"
    }
   ],
   "source": [
    "sns.boxplot(df[['thal','target']])"
   ]
  },
  {
   "cell_type": "code",
   "execution_count": 11,
   "id": "815f0113-e9f0-4756-8e34-85baf0c409fd",
   "metadata": {},
   "outputs": [
    {
     "data": {
      "text/plain": [
       "<Axes: >"
      ]
     },
     "execution_count": 11,
     "metadata": {},
     "output_type": "execute_result"
    },
    {
     "data": {
      "image/png": "[encoded data removed]",
      "text/plain": [
       "<Figure size 640x480 with 1 Axes>"
      ]
     },
     "metadata": {},
     "output_type": "display_data"
    }
   ],
   "source": [
    "sns.boxplot(df[['oldpeak', 'slope', 'ca']])"
   ]
  },
  {
   "cell_type": "code",
   "execution_count": 12,
   "id": "63f661c1-89fc-46da-891b-e85e5d42cd23",
   "metadata": {},
   "outputs": [],
   "source": [
    "outliers_columns=['trestbps','chol','fbs','thalach','oldpeak','ca','thal']"
   ]
  },
  {
   "cell_type": "code",
   "execution_count": 16,
   "id": "c1ae9691-396d-4dc5-89ef-54dfaf9a572c",
   "metadata": {},
   "outputs": [],
   "source": [
    "# Apply log transformation to the specified columns\n",
    "for column in outliers_columns:\n",
    "    # Adding a small constant to avoid issues with log(0)\n",
    "    df[column] = np.log1p(df[column])"
   ]
  },
  {
   "cell_type": "code",
   "execution_count": 17,
   "id": "755799d4-56a0-4708-b026-bfad0c75ef02",
   "metadata": {},
   "outputs": [],
   "source": [
    "def remove_out(df, columns):\n",
    "    for col in columns:\n",
    "        Q1 = df[col].quantile(0.25)\n",
    "        Q3 = df[col].quantile(0.75)\n",
    "        IQR = Q3 - Q1\n",
    "        lower_bound = Q1 - 1.5 * IQR\n",
    "        upper_bound = Q3 + 1.5 * IQR\n",
    "\n",
    "        #Remove outliers\n",
    "        df = df[(df[col] >= lower_bound) & (df[col] <= upper_bound)]\n",
    "\n",
    "    return df\n",
    "\n",
    "df= remove_out(df,outliers_columns)"
   ]
  },
  {
   "cell_type": "code",
   "execution_count": 18,
   "id": "3f5a2a43-3628-4a19-b4fb-33c3caac25ed",
   "metadata": {},
   "outputs": [
    {
     "data": {
      "text/plain": [
       "<Axes: >"
      ]
     },
     "execution_count": 18,
     "metadata": {},
     "output_type": "execute_result"
    },
    {
     "data": {
      "image/png": "[encoded data removed]",
      "text/plain": [
       "<Figure size 640x480 with 1 Axes>"
      ]
     },
     "metadata": {},
     "output_type": "display_data"
    }
   ],
   "source": [
    "sns.boxplot(df[['oldpeak', 'slope', 'ca']])"
   ]
  },
  {
   "cell_type": "code",
   "execution_count": 19,
   "id": "ab1c4293-497a-4526-932f-2c2573048539",
   "metadata": {},
   "outputs": [],
   "source": [
    "#normalize the data\n",
    "from sklearn.preprocessing import StandardScaler\n",
    "scaler=StandardScaler()\n",
    "df_scaled=scaler.fit_transform(df)"
   ]
  },
  {
   "cell_type": "code",
   "execution_count": 21,
   "id": "fdc8eda5-1b13-4364-9986-326504466666",
   "metadata": {},
   "outputs": [
    {
     "data": {
      "text/html": [
       "<div>\n",
       "<style scoped>\n",
       "    .dataframe tbody tr th:only-of-type {\n",
       "        vertical-align: middle;\n",
       "    }\n",
       "\n",
       "    .dataframe tbody tr th {\n",
       "        vertical-align: top;\n",
       "    }\n",
       "\n",
       "    .dataframe thead th {\n",
       "        text-align: right;\n",
       "    }\n",
       "</style>\n",
       "<table border=\"1\" class=\"dataframe\">\n",
       "  <thead>\n",
       "    <tr style=\"text-align: right;\">\n",
       "      <th></th>\n",
       "      <th>age</th>\n",
       "      <th>sex</th>\n",
       "      <th>cp</th>\n",
       "      <th>trestbps</th>\n",
       "      <th>chol</th>\n",
       "      <th>fbs</th>\n",
       "      <th>restecg</th>\n",
       "      <th>thalach</th>\n",
       "      <th>exang</th>\n",
       "      <th>oldpeak</th>\n",
       "      <th>slope</th>\n",
       "      <th>ca</th>\n",
       "      <th>thal</th>\n",
       "      <th>target</th>\n",
       "    </tr>\n",
       "  </thead>\n",
       "  <tbody>\n",
       "    <tr>\n",
       "      <th>0</th>\n",
       "      <td>-1.790030</td>\n",
       "      <td>0.672593</td>\n",
       "      <td>1.065879</td>\n",
       "      <td>0.071825</td>\n",
       "      <td>0.230409</td>\n",
       "      <td>0.0</td>\n",
       "      <td>0.878654</td>\n",
       "      <td>1.485201</td>\n",
       "      <td>-0.679027</td>\n",
       "      <td>1.809708</td>\n",
       "      <td>-2.374541</td>\n",
       "      <td>-0.753607</td>\n",
       "      <td>-0.471365</td>\n",
       "      <td>0.898559</td>\n",
       "    </tr>\n",
       "    <tr>\n",
       "      <th>1</th>\n",
       "      <td>-1.363291</td>\n",
       "      <td>-1.486784</td>\n",
       "      <td>0.077003</td>\n",
       "      <td>0.071825</td>\n",
       "      <td>-0.864227</td>\n",
       "      <td>0.0</td>\n",
       "      <td>-1.035557</td>\n",
       "      <td>0.946022</td>\n",
       "      <td>-0.679027</td>\n",
       "      <td>0.605711</td>\n",
       "      <td>0.964871</td>\n",
       "      <td>-0.753607</td>\n",
       "      <td>-0.471365</td>\n",
       "      <td>0.898559</td>\n",
       "    </tr>\n",
       "    <tr>\n",
       "      <th>2</th>\n",
       "      <td>0.236980</td>\n",
       "      <td>0.672593</td>\n",
       "      <td>0.077003</td>\n",
       "      <td>-0.614029</td>\n",
       "      <td>-0.079922</td>\n",
       "      <td>0.0</td>\n",
       "      <td>0.878654</td>\n",
       "      <td>1.167102</td>\n",
       "      <td>-0.679027</td>\n",
       "      <td>0.054703</td>\n",
       "      <td>0.964871</td>\n",
       "      <td>-0.753607</td>\n",
       "      <td>-0.471365</td>\n",
       "      <td>0.898559</td>\n",
       "    </tr>\n",
       "    <tr>\n",
       "      <th>3</th>\n",
       "      <td>0.343665</td>\n",
       "      <td>-1.486784</td>\n",
       "      <td>-0.911873</td>\n",
       "      <td>-0.614029</td>\n",
       "      <td>2.104871</td>\n",
       "      <td>0.0</td>\n",
       "      <td>0.878654</td>\n",
       "      <td>0.599592</td>\n",
       "      <td>1.472695</td>\n",
       "      <td>-0.170891</td>\n",
       "      <td>0.964871</td>\n",
       "      <td>-0.753607</td>\n",
       "      <td>-0.471365</td>\n",
       "      <td>0.898559</td>\n",
       "    </tr>\n",
       "    <tr>\n",
       "      <th>4</th>\n",
       "      <td>0.343665</td>\n",
       "      <td>0.672593</td>\n",
       "      <td>-0.911873</td>\n",
       "      <td>0.707201</td>\n",
       "      <td>-1.190384</td>\n",
       "      <td>0.0</td>\n",
       "      <td>0.878654</td>\n",
       "      <td>-0.022391</td>\n",
       "      <td>-0.679027</td>\n",
       "      <td>-0.426649</td>\n",
       "      <td>-0.704835</td>\n",
       "      <td>-0.753607</td>\n",
       "      <td>-2.732907</td>\n",
       "      <td>0.898559</td>\n",
       "    </tr>\n",
       "    <tr>\n",
       "      <th>...</th>\n",
       "      <td>...</td>\n",
       "      <td>...</td>\n",
       "      <td>...</td>\n",
       "      <td>...</td>\n",
       "      <td>...</td>\n",
       "      <td>...</td>\n",
       "      <td>...</td>\n",
       "      <td>...</td>\n",
       "      <td>...</td>\n",
       "      <td>...</td>\n",
       "      <td>...</td>\n",
       "      <td>...</td>\n",
       "      <td>...</td>\n",
       "      <td>...</td>\n",
       "    </tr>\n",
       "    <tr>\n",
       "      <th>239</th>\n",
       "      <td>0.983773</td>\n",
       "      <td>0.672593</td>\n",
       "      <td>-0.911873</td>\n",
       "      <td>0.707201</td>\n",
       "      <td>-1.332312</td>\n",
       "      <td>0.0</td>\n",
       "      <td>-1.035557</td>\n",
       "      <td>-0.198848</td>\n",
       "      <td>1.472695</td>\n",
       "      <td>2.011509</td>\n",
       "      <td>0.964871</td>\n",
       "      <td>1.452930</td>\n",
       "      <td>1.133225</td>\n",
       "      <td>-1.112894</td>\n",
       "    </tr>\n",
       "    <tr>\n",
       "      <th>240</th>\n",
       "      <td>0.983773</td>\n",
       "      <td>-1.486784</td>\n",
       "      <td>-0.911873</td>\n",
       "      <td>-0.333119</td>\n",
       "      <td>-1.052087</td>\n",
       "      <td>0.0</td>\n",
       "      <td>0.878654</td>\n",
       "      <td>-0.566855</td>\n",
       "      <td>1.472695</td>\n",
       "      <td>-1.071107</td>\n",
       "      <td>-0.704835</td>\n",
       "      <td>-0.753607</td>\n",
       "      <td>-0.471365</td>\n",
       "      <td>-1.112894</td>\n",
       "    </tr>\n",
       "    <tr>\n",
       "      <th>241</th>\n",
       "      <td>0.343665</td>\n",
       "      <td>-1.486784</td>\n",
       "      <td>-0.911873</td>\n",
       "      <td>0.707201</td>\n",
       "      <td>0.032966</td>\n",
       "      <td>0.0</td>\n",
       "      <td>0.878654</td>\n",
       "      <td>-1.213345</td>\n",
       "      <td>1.472695</td>\n",
       "      <td>-0.721900</td>\n",
       "      <td>-0.704835</td>\n",
       "      <td>-0.753607</td>\n",
       "      <td>1.133225</td>\n",
       "      <td>-1.112894</td>\n",
       "    </tr>\n",
       "    <tr>\n",
       "      <th>242</th>\n",
       "      <td>-0.936552</td>\n",
       "      <td>0.672593</td>\n",
       "      <td>2.054754</td>\n",
       "      <td>-1.359079</td>\n",
       "      <td>0.523891</td>\n",
       "      <td>0.0</td>\n",
       "      <td>0.878654</td>\n",
       "      <td>-0.758999</td>\n",
       "      <td>-0.679027</td>\n",
       "      <td>0.439055</td>\n",
       "      <td>-0.704835</td>\n",
       "      <td>-0.753607</td>\n",
       "      <td>1.133225</td>\n",
       "      <td>-1.112894</td>\n",
       "    </tr>\n",
       "    <tr>\n",
       "      <th>243</th>\n",
       "      <td>0.343665</td>\n",
       "      <td>-1.486784</td>\n",
       "      <td>0.077003</td>\n",
       "      <td>0.071825</td>\n",
       "      <td>-0.079922</td>\n",
       "      <td>0.0</td>\n",
       "      <td>-1.035557</td>\n",
       "      <td>1.020556</td>\n",
       "      <td>-0.679027</td>\n",
       "      <td>-1.071107</td>\n",
       "      <td>-0.704835</td>\n",
       "      <td>0.638563</td>\n",
       "      <td>-0.471365</td>\n",
       "      <td>-1.112894</td>\n",
       "    </tr>\n",
       "  </tbody>\n",
       "</table>\n",
       "<p>244 rows × 14 columns</p>\n",
       "</div>"
      ],
      "text/plain": [
       "          age       sex        cp  trestbps      chol  fbs   restecg  \\\n",
       "0   -1.790030  0.672593  1.065879  0.071825  0.230409  0.0  0.878654   \n",
       "1   -1.363291 -1.486784  0.077003  0.071825 -0.864227  0.0 -1.035557   \n",
       "2    0.236980  0.672593  0.077003 -0.614029 -0.079922  0.0  0.878654   \n",
       "3    0.343665 -1.486784 -0.911873 -0.614029  2.104871  0.0  0.878654   \n",
       "4    0.343665  0.672593 -0.911873  0.707201 -1.190384  0.0  0.878654   \n",
       "..        ...       ...       ...       ...       ...  ...       ...   \n",
       "239  0.983773  0.672593 -0.911873  0.707201 -1.332312  0.0 -1.035557   \n",
       "240  0.983773 -1.486784 -0.911873 -0.333119 -1.052087  0.0  0.878654   \n",
       "241  0.343665 -1.486784 -0.911873  0.707201  0.032966  0.0  0.878654   \n",
       "242 -0.936552  0.672593  2.054754 -1.359079  0.523891  0.0  0.878654   \n",
       "243  0.343665 -1.486784  0.077003  0.071825 -0.079922  0.0 -1.035557   \n",
       "\n",
       "      thalach     exang   oldpeak     slope        ca      thal    target  \n",
       "0    1.485201 -0.679027  1.809708 -2.374541 -0.753607 -0.471365  0.898559  \n",
       "1    0.946022 -0.679027  0.605711  0.964871 -0.753607 -0.471365  0.898559  \n",
       "2    1.167102 -0.679027  0.054703  0.964871 -0.753607 -0.471365  0.898559  \n",
       "3    0.599592  1.472695 -0.170891  0.964871 -0.753607 -0.471365  0.898559  \n",
       "4   -0.022391 -0.679027 -0.426649 -0.704835 -0.753607 -2.732907  0.898559  \n",
       "..        ...       ...       ...       ...       ...       ...       ...  \n",
       "239 -0.198848  1.472695  2.011509  0.964871  1.452930  1.133225 -1.112894  \n",
       "240 -0.566855  1.472695 -1.071107 -0.704835 -0.753607 -0.471365 -1.112894  \n",
       "241 -1.213345  1.472695 -0.721900 -0.704835 -0.753607  1.133225 -1.112894  \n",
       "242 -0.758999 -0.679027  0.439055 -0.704835 -0.753607  1.133225 -1.112894  \n",
       "243  1.020556 -0.679027 -1.071107 -0.704835  0.638563 -0.471365 -1.112894  \n",
       "\n",
       "[244 rows x 14 columns]"
      ]
     },
     "execution_count": 21,
     "metadata": {},
     "output_type": "execute_result"
    }
   ],
   "source": [
    "df_scaled=pd.DataFrame(df_scaled, columns=df.columns)\n",
    "df_scaled"
   ]
  },
  {
   "cell_type": "code",
   "execution_count": 22,
   "id": "f9a9860e-eace-4c56-836c-91ba5306620c",
   "metadata": {},
   "outputs": [
    {
     "data": {
      "text/plain": [
       "<Axes: >"
      ]
     },
     "execution_count": 22,
     "metadata": {},
     "output_type": "execute_result"
    },
    {
     "data": {
      "image/png": "[encoded data removed]",
      "text/plain": [
       "<Figure size 640x480 with 1 Axes>"
      ]
     },
     "metadata": {},
     "output_type": "display_data"
    }
   ],
   "source": [
    "sns.boxplot(df_scaled)"
   ]
  },
  {
   "cell_type": "code",
   "execution_count": 23,
   "id": "77a6c1b4-1dba-4da8-b640-39a248138d4b",
   "metadata": {},
   "outputs": [
    {
     "name": "stderr",
     "output_type": "stream",
     "text": [
      "C:\\Users\\Vaishnavi\\anaconda3\\Lib\\site-packages\\sklearn\\cluster\\_kmeans.py:1429: UserWarning: KMeans is known to have a memory leak on Windows with MKL, when there are less chunks than available threads. You can avoid it by setting the environment variable OMP_NUM_THREADS=1.\n",
      "  warnings.warn(\n"
     ]
    },
    {
     "data": {
      "image/png": "[encoded data removed]",
      "text/plain": [
       "<Figure size 640x480 with 1 Axes>"
      ]
     },
     "metadata": {},
     "output_type": "display_data"
    }
   ],
   "source": [
    "# Perform K-means clustering based on alcohol and malic acid\n",
    "from sklearn.cluster import KMeans\n",
    "import matplotlib.pyplot as plt\n",
    "kmeans = KMeans(n_clusters=3, random_state=42)\n",
    "y_kmeans = kmeans.fit_predict(df_scaled[['age', 'trestbps']])\n",
    "\n",
    "# Get cluster centers (centroids)\n",
    "centroids = kmeans.cluster_centers_\n",
    "\n",
    "# Create dataframes for different clusters\n",
    "df_cluster1 = df_scaled[y_kmeans == 0]\n",
    "df_cluster2 = df_scaled[y_kmeans == 1]\n",
    "df_cluster3 = df_scaled[y_kmeans == 2]\n",
    "\n",
    "# Plot the clusters and centroids\n",
    "plt.scatter(df_cluster1['age'], df_cluster1['trestbps'], s=50, c='blue', label='Cluster 1')\n",
    "plt.scatter(df_cluster2['age'], df_cluster2['trestbps'], s=50, c='red', label='Cluster 2')\n",
    "plt.scatter(df_cluster3['age'], df_cluster3['trestbps'], s=50, c='yellow', label='Cluster 3')\n",
    "plt.scatter(centroids[:, 0], centroids[:, 1], marker='*', s=200, c='black', label='Centroids')\n",
    "plt.xlabel('age')\n",
    "plt.ylabel('trestbps')\n",
    "plt.title('K-means Clustering Heart(age vs trestbps)')\n",
    "plt.legend()\n",
    "plt.show()"
   ]
  },
  {
   "cell_type": "code",
   "execution_count": 24,
   "id": "6c67e2a4-abbd-43a0-b034-b237c74a1e5e",
   "metadata": {},
   "outputs": [
    {
     "name": "stderr",
     "output_type": "stream",
     "text": [
      "C:\\Users\\Vaishnavi\\anaconda3\\Lib\\site-packages\\sklearn\\cluster\\_kmeans.py:1429: UserWarning: KMeans is known to have a memory leak on Windows with MKL, when there are less chunks than available threads. You can avoid it by setting the environment variable OMP_NUM_THREADS=1.\n",
      "  warnings.warn(\n"
     ]
    },
    {
     "data": {
      "text/plain": [
       "<matplotlib.legend.Legend at 0x1ef6a6ed2d0>"
      ]
     },
     "execution_count": 24,
     "metadata": {},
     "output_type": "execute_result"
    },
    {
     "data": {
      "image/png": "[encoded data removed]",
      "text/plain": [
       "<Figure size 640x480 with 1 Axes>"
      ]
     },
     "metadata": {},
     "output_type": "display_data"
    }
   ],
   "source": [
    "# Perform K-means clustering based on alcohol and malic acid\n",
    "from sklearn.cluster import KMeans\n",
    "import matplotlib.pyplot as plt\n",
    "kmeans = KMeans(n_clusters=3, random_state=42)\n",
    "y_kmeans = kmeans.fit_predict(df_scaled[['age', 'chol']])\n",
    "\n",
    "# Get cluster centers (centroids)\n",
    "centroids = kmeans.cluster_centers_\n",
    "\n",
    "# Create dataframes for different clusters\n",
    "df_cluster1 = df_scaled[y_kmeans == 0]\n",
    "df_cluster2 = df_scaled[y_kmeans == 1]\n",
    "df_cluster3 = df_scaled[y_kmeans == 2]\n",
    "\n",
    "# Plot the clusters and centroids\n",
    "plt.scatter(df_cluster1['age'], df_cluster1['chol'], s=50, c='blue', label='Cluster 1')\n",
    "plt.scatter(df_cluster2['age'], df_cluster2['chol'], s=50, c='red', label='Cluster 2')\n",
    "plt.scatter(df_cluster3['age'], df_cluster3['chol'], s=50, c='yellow', label='Cluster 3')\n",
    "plt.scatter(centroids[:, 0], centroids[:, 1], marker='*', s=200, c='black', label='Centroids')\n",
    "plt.xlabel('age')\n",
    "plt.ylabel('chol')\n",
    "plt.title('K-means Clustering Heart(age vs chol)')\n",
    "plt.legend()"
   ]
  },
  {
   "cell_type": "code",
   "execution_count": 25,
   "id": "7b3c0111-1fcc-4597-bb44-edc5c03f88c2",
   "metadata": {},
   "outputs": [
    {
     "name": "stdout",
     "output_type": "stream",
     "text": [
      "Explained Variance Ratio: [0.2593761  0.11120794 0.09560606]\n"
     ]
    }
   ],
   "source": [
    "#PCA\n",
    "from sklearn.decomposition import PCA\n",
    "pca = PCA(n_components=3)\n",
    "principal_components = pca.fit_transform(df_scaled)\n",
    "# Create a new DataFrame with the principal components\n",
    "principal_df = pd.DataFrame(data=principal_components, columns=['PC1', 'PC2', 'PC3'])\n",
    "# Print the explained variance ratio for each component\n",
    "print('Explained Variance Ratio:', pca.explained_variance_ratio_)\n",
    "     "
   ]
  },
  {
   "cell_type": "code",
   "execution_count": 26,
   "id": "1e6b9a36-58e8-4bdc-8fde-30bdd05a4c51",
   "metadata": {},
   "outputs": [
    {
     "name": "stdout",
     "output_type": "stream",
     "text": [
      "0.13686501042348798\n"
     ]
    }
   ],
   "source": [
    "#calculate silhoutte score average\n",
    "from sklearn.metrics import silhouette_score\n",
    "sil_score=silhouette_score(df, y_kmeans)\n",
    "print(sil_score)"
   ]
  },
  {
   "cell_type": "code",
   "execution_count": 27,
   "id": "263746f7-7a16-4816-beca-44a76d70cfe3",
   "metadata": {},
   "outputs": [
    {
     "name": "stdout",
     "output_type": "stream",
     "text": [
      "Davies-Bouldin Index: 3.6184379767129387\n"
     ]
    }
   ],
   "source": [
    "from sklearn.metrics import davies_bouldin_score\n",
    "\n",
    "# Calculate Davies-Bouldin Index\n",
    "db_index = davies_bouldin_score(df_scaled, y_kmeans)\n",
    "print(f'Davies-Bouldin Index: {db_index}')"
   ]
  },
  {
   "cell_type": "code",
   "execution_count": null,
   "id": "86623922-a123-4ac4-af8a-b7bfed8baa79",
   "metadata": {},
   "outputs": [],
   "source": []
  }
 ],
 "metadata": {
  "kernelspec": {
   "display_name": "Python 3 (ipykernel)",
   "language": "python",
   "name": "python3"
  },
  "language_info": {
   "codemirror_mode": {
    "name": "ipython",
    "version": 3
   },
   "file_extension": ".py",
   "mimetype": "text/x-python",
   "name": "python",
   "nbconvert_exporter": "python",
   "pygments_lexer": "ipython3",
   "version": "3.11.7"
  }
 },
 "nbformat": 4,
 "nbformat_minor": 5
}
