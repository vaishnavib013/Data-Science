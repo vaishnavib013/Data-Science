{
 "cells": [
  {
   "cell_type": "code",
   "execution_count": 3,
   "id": "6a9530dc-22c9-48a2-b7d0-91f5961d2e42",
   "metadata": {},
   "outputs": [],
   "source": [
    "#01/08\n",
    "import tensorflow as tf\n",
    "from tensorflow.keras import Sequential\n",
    "from tensorflow.keras.layers import Dense\n",
    "from tensorflow.keras.optimizers import SGD,Adam,RMSprop,Adagrad\n",
    "import matplotlib.pyplot as plt\n"
   ]
  },
  {
   "cell_type": "code",
   "execution_count": 5,
   "id": "db65e329-29cf-4d7d-b94c-38d02fa154a2",
   "metadata": {},
   "outputs": [
    {
     "data": {
      "text/plain": [
       "\"(X_train,y_train),(X_test,y_test)=tf.keras.datasets.mnist.load_data()\\nloads the MNIST dataset,splitting it into training and testing sets.\\nX_train=X_train.reshape(X_train.shape[0],-1).astype('float32')/255:\\nREshapes them training data from 28x28 image to 784 dimensional vectors,\\nconverts them to float32 and normalize the pixel values to the range \\nX_train=X_train.reshape(X_tarin.shape[0],-1)astype('float32')/255:\\ndoes the same\""
      ]
     },
     "execution_count": 5,
     "metadata": {},
     "output_type": "execute_result"
    }
   ],
   "source": [
    "#load dataset\n",
    "(X_train,y_train),(X_test,y_test)=tf.keras.datasets.mnist.load_data()\n",
    "'''(X_train,y_train),(X_test,y_test)=tf.keras.datasets.mnist.load_data()\n",
    "loads the MNIST dataset,splitting it into training and testing sets.\n",
    "X_train=X_train.reshape(X_train.shape[0],-1).astype('float32')/255:\n",
    "REshapes them training data from 28x28 image to 784 dimensional vectors,\n",
    "converts them to float32 and normalize the pixel values to the range \n",
    "X_train=X_train.reshape(X_tarin.shape[0],-1)astype('float32')/255:\n",
    "does the same'''"
   ]
  },
  {
   "cell_type": "code",
   "execution_count": 9,
   "id": "33aea79d-cd78-43b2-9322-abd8e3fb2412",
   "metadata": {},
   "outputs": [],
   "source": [
    "X_train=X_train.reshape(X_train.shape[0],-1).astype('float32')/255\n",
    "\n",
    "'''X_trai contains 60,000 images of size 28x28,then X_train would be(60000,28,28)\n",
    "X_train.shape[0] accesses the first element of this tuples\n",
    "which represents the number of samples in the training dataset.\n",
    "inthis ex,X_train.shape[0] would be 60000'''\n",
    "\n",
    "X_test=X_test.reshape(X_test.shape[0],-1).astype('float32')/255"
   ]
  },
  {
   "cell_type": "code",
   "execution_count": 11,
   "id": "6d69c0c9-7601-4644-a446-0f9d038187df",
   "metadata": {},
   "outputs": [],
   "source": [
    "#Define the model\n",
    "#Define a simple model\n",
    "def create_model():\n",
    "    model=Sequential([\n",
    "        Dense(128,activation='relu',input_shape=(784,)),\n",
    "        Dense(64,activation='relu'),\n",
    "        Dense(10,activation='softmax')\n",
    "    ])\n",
    "    return model"
   ]
  },
  {
   "cell_type": "code",
   "execution_count": 13,
   "id": "e4209274-2268-4abb-9406-67bba2ff8a85",
   "metadata": {},
   "outputs": [],
   "source": [
    "#Define optimizers\n",
    "optimizers={\n",
    "    'SGD':SGD(),\n",
    "    'Adam':Adam(),\n",
    "    'RMSprop':RMSprop(),\n",
    "    'Adagrad':Adagrad()\n",
    "}"
   ]
  },
  {
   "cell_type": "code",
   "execution_count": null,
   "id": "20430c66-0e15-4e9e-b89c-bd188113e080",
   "metadata": {},
   "outputs": [
    {
     "name": "stdout",
     "output_type": "stream",
     "text": [
      "Training with SGD optimizer.\n"
     ]
    },
    {
     "name": "stderr",
     "output_type": "stream",
     "text": [
      "C:\\Users\\Hp\\anaconda3\\Lib\\site-packages\\keras\\src\\layers\\core\\dense.py:87: UserWarning: Do not pass an `input_shape`/`input_dim` argument to a layer. When using Sequential models, prefer using an `Input(shape)` object as the first layer in the model instead.\n",
      "  super().__init__(activity_regularizer=activity_regularizer, **kwargs)\n"
     ]
    },
    {
     "name": "stdout",
     "output_type": "stream",
     "text": [
      "Training with Adam optimizer.\n",
      "Training with RMSprop optimizer.\n",
      "Training with Adagrad optimizer.\n"
     ]
    }
   ],
   "source": [
    "#Traning the model with different optimizers\n",
    "history={}\n",
    "for optimizer_name,optimizer in optimizers.items():\n",
    "    print(f\"Training with {optimizer_name} optimizer.\")\n",
    "    model=create_model()\n",
    "    model.compile(optimizer=optimizer,loss='sparse_categorical_crossentropy',metrics=['accuracy'])\n",
    "    history[optimizer_name]=model.fit(X_train,y_train,epochs=5,batch_size=32,validation_split=0.2,verbose=0)    \n",
    "   # print(f\"Finished training with {name} loss function\\n\")"
   ]
  },
  {
   "cell_type": "code",
   "execution_count": null,
   "id": "2ec4c411-153d-4b07-81cf-f701eef5876c",
   "metadata": {},
   "outputs": [],
   "source": []
  }
 ],
 "metadata": {
  "kernelspec": {
   "display_name": "Python 3 (ipykernel)",
   "language": "python",
   "name": "python3"
  },
  "language_info": {
   "codemirror_mode": {
    "name": "ipython",
    "version": 3
   },
   "file_extension": ".py",
   "mimetype": "text/x-python",
   "name": "python",
   "nbconvert_exporter": "python",
   "pygments_lexer": "ipython3",
   "version": "3.11.7"
  }
 },
 "nbformat": 4,
 "nbformat_minor": 5
}
